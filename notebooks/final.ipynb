{
 "cells": [
  {
   "cell_type": "code",
   "execution_count": 2,
   "metadata": {},
   "outputs": [
    {
     "name": "stderr",
     "output_type": "stream",
     "text": [
      "/home/leo/.local/lib/python3.11/site-packages/dask/dataframe/_pyarrow_compat.py:17: FutureWarning: Minimal version of pyarrow will soon be increased to 14.0.1. You are using 12.0.1. Please consider upgrading.\n",
      "  warnings.warn(\n"
     ]
    }
   ],
   "source": [
    "import glob\n",
    "import multiprocessing\n",
    "import os\n",
    "import re\n",
    "import sys\n",
    "import tempfile\n",
    "from functools import lru_cache\n",
    "from pathlib import Path\n",
    "from zipfile import ZipFile\n",
    "\n",
    "from dask.diagnostics import ProgressBar\n",
    "import dask.dataframe as dd\n",
    "from rapidfuzz import fuzz, process\n",
    "from tqdm import tqdm\n",
    "\n",
    "import polars as pl\n",
    "pl.Config.set_fmt_str_lengths(100)\n",
    "\n",
    "sys.path.append('..')\n",
    "from src.read_iris import read_iris\n"
   ]
  },
  {
   "cell_type": "markdown",
   "metadata": {},
   "source": [
    "### IRIS DFs"
   ]
  },
  {
   "cell_type": "code",
   "execution_count": 3,
   "metadata": {},
   "outputs": [
    {
     "data": {
      "text/html": [
       "<div><style>\n",
       ".dataframe > thead > tr,\n",
       ".dataframe > tbody > tr {\n",
       "  text-align: right;\n",
       "  white-space: pre-wrap;\n",
       "}\n",
       "</style>\n",
       "<small>shape: (5, 4)</small><table border=\"1\" class=\"dataframe\"><thead><tr><th>ITEM_ID</th><th>IDE_DOI</th><th>IDE_ISBN</th><th>IDE_PMID</th></tr><tr><td>i32</td><td>str</td><td>str</td><td>str</td></tr></thead><tbody><tr><td>2766</td><td>&quot;10.14411/fp.2008.015&quot;</td><td>null</td><td>&quot;18666414&quot;</td></tr><tr><td>3349</td><td>&quot;10.1016/j.econlet.2011.12.096&quot;</td><td>null</td><td>null</td></tr><tr><td>3867</td><td>null</td><td>&quot;9788876655746&quot;</td><td>null</td></tr><tr><td>4342</td><td>null</td><td>&quot;8821724038&quot;</td><td>null</td></tr><tr><td>4585</td><td>null</td><td>&quot;9788861328112&quot;</td><td>null</td></tr></tbody></table></div>"
      ],
      "text/plain": [
       "shape: (5, 4)\n",
       "┌─────────┬───────────────────────────────┬───────────────┬──────────┐\n",
       "│ ITEM_ID ┆ IDE_DOI                       ┆ IDE_ISBN      ┆ IDE_PMID │\n",
       "│ ---     ┆ ---                           ┆ ---           ┆ ---      │\n",
       "│ i32     ┆ str                           ┆ str           ┆ str      │\n",
       "╞═════════╪═══════════════════════════════╪═══════════════╪══════════╡\n",
       "│ 2766    ┆ 10.14411/fp.2008.015          ┆ null          ┆ 18666414 │\n",
       "│ 3349    ┆ 10.1016/j.econlet.2011.12.096 ┆ null          ┆ null     │\n",
       "│ 3867    ┆ null                          ┆ 9788876655746 ┆ null     │\n",
       "│ 4342    ┆ null                          ┆ 8821724038    ┆ null     │\n",
       "│ 4585    ┆ null                          ┆ 9788861328112 ┆ null     │\n",
       "└─────────┴───────────────────────────────┴───────────────┴──────────┘"
      ]
     },
     "execution_count": 3,
     "metadata": {},
     "output_type": "execute_result"
    }
   ],
   "source": [
    "df_iris_master = pl.read_csv('data/iris-data-2024-03-14/ODS_L1_IR_ITEM_MASTER_ALL.csv', columns=['ITEM_ID', 'YEAR_PUBLISHED', 'TITLE'] ,dtypes={'ITEM_ID': pl.Int32, 'YEAR_PUBLISHED': pl.Utf8, 'TITLE': pl.Utf8})\n",
    "df_iris_identifier = pl.read_csv('data/iris-data-2024-03-14/ODS_L1_IR_ITEM_IDENTIFIER.csv', columns=['ITEM_ID', 'IDE_DOI', 'IDE_ISBN', 'IDE_PMID'] ,dtypes={'ITEM_ID': pl.Int32, 'IDE_DOI': pl.Utf8, 'IDE_ISBN': pl.Utf8, 'IDE_PMID': pl.Utf8})\n",
    "\n",
    "df = df_iris_identifier.join(df_iris_master, on='ITEM_ID', how='inner')\n",
    "\n",
    "\n",
    "df_filtered = df.filter(pl.col('IDE_DOI').is_not_null() | pl.col('IDE_ISBN').is_not_null() | pl.col('IDE_PMID').is_not_null())[\n",
    "    ['ITEM_ID', 'IDE_DOI', 'IDE_ISBN', 'IDE_PMID']\n",
    "]\n",
    "\n",
    "df_filtered.head()"
   ]
  },
  {
   "cell_type": "code",
   "execution_count": 11,
   "metadata": {},
   "outputs": [
    {
     "data": {
      "text/plain": [
       "201471"
      ]
     },
     "execution_count": 11,
     "metadata": {},
     "output_type": "execute_result"
    }
   ],
   "source": [
    "len(df_filtered)"
   ]
  },
  {
   "cell_type": "code",
   "execution_count": 12,
   "metadata": {},
   "outputs": [
    {
     "data": {
      "text/html": [
       "<div><style>\n",
       ".dataframe > thead > tr,\n",
       ".dataframe > tbody > tr {\n",
       "  text-align: right;\n",
       "  white-space: pre-wrap;\n",
       "}\n",
       "</style>\n",
       "<small>shape: (9, 7)</small><table border=\"1\" class=\"dataframe\"><thead><tr><th>statistic</th><th>ITEM_ID</th><th>IDE_DOI</th><th>IDE_ISBN</th><th>IDE_PMID</th><th>YEAR_PUBLISHED</th><th>TITLE</th></tr><tr><td>str</td><td>f64</td><td>str</td><td>str</td><td>str</td><td>str</td><td>str</td></tr></thead><tbody><tr><td>&quot;count&quot;</td><td>304952.0</td><td>&quot;131048&quot;</td><td>&quot;81526&quot;</td><td>&quot;45855&quot;</td><td>&quot;304950&quot;</td><td>&quot;304948&quot;</td></tr><tr><td>&quot;null_count&quot;</td><td>0.0</td><td>&quot;173904&quot;</td><td>&quot;223426&quot;</td><td>&quot;259097&quot;</td><td>&quot;2&quot;</td><td>&quot;4&quot;</td></tr><tr><td>&quot;mean&quot;</td><td>325525.479262</td><td>null</td><td>null</td><td>null</td><td>null</td><td>null</td></tr><tr><td>&quot;std&quot;</td><td>236254.328994</td><td>null</td><td>null</td><td>null</td><td>null</td><td>null</td></tr><tr><td>&quot;min&quot;</td><td>13.0</td><td>&quot;(doi: 10.1412/36459)&quot;</td><td>&quot;&quot;8883424352; 9788883424359&quot;</td><td>&quot;0002541535&quot;</td><td>&quot;1967&quot;</td><td>&quot;  Canine Diabetes Mellitus&quot;</td></tr><tr><td>&quot;25%&quot;</td><td>126416.0</td><td>null</td><td>null</td><td>null</td><td>null</td><td>null</td></tr><tr><td>&quot;50%&quot;</td><td>236823.0</td><td>null</td><td>null</td><td>null</td><td>null</td><td>null</td></tr><tr><td>&quot;75%&quot;</td><td>535059.0</td><td>null</td><td>null</td><td>null</td><td>null</td><td>null</td></tr><tr><td>&quot;max&quot;</td><td>816910.0</td><td>&quot;https://zenodo.org/communities/enti/&quot;</td><td>&quot;­&quot;</td><td>&quot;Raimondo D, Maletta M, Borghese G, Mastronardi M, Arena A, Del Forno S, Salucci P, Giaquinto I, Cas…</td><td>&quot;9999&quot;</td><td>&quot;￼￼New Trends in Databases and Information Systems&quot;</td></tr></tbody></table></div>"
      ],
      "text/plain": [
       "shape: (9, 7)\n",
       "┌────────────┬──────────────┬──────────────┬─────────────┬─────────────┬─────────────┬─────────────┐\n",
       "│ statistic  ┆ ITEM_ID      ┆ IDE_DOI      ┆ IDE_ISBN    ┆ IDE_PMID    ┆ YEAR_PUBLIS ┆ TITLE       │\n",
       "│ ---        ┆ ---          ┆ ---          ┆ ---         ┆ ---         ┆ HED         ┆ ---         │\n",
       "│ str        ┆ f64          ┆ str          ┆ str         ┆ str         ┆ ---         ┆ str         │\n",
       "│            ┆              ┆              ┆             ┆             ┆ str         ┆             │\n",
       "╞════════════╪══════════════╪══════════════╪═════════════╪═════════════╪═════════════╪═════════════╡\n",
       "│ count      ┆ 304952.0     ┆ 131048       ┆ 81526       ┆ 45855       ┆ 304950      ┆ 304948      │\n",
       "│ null_count ┆ 0.0          ┆ 173904       ┆ 223426      ┆ 259097      ┆ 2           ┆ 4           │\n",
       "│ mean       ┆ 325525.47926 ┆ null         ┆ null        ┆ null        ┆ null        ┆ null        │\n",
       "│            ┆ 2            ┆              ┆             ┆             ┆             ┆             │\n",
       "│ std        ┆ 236254.32899 ┆ null         ┆ null        ┆ null        ┆ null        ┆ null        │\n",
       "│            ┆ 4            ┆              ┆             ┆             ┆             ┆             │\n",
       "│ min        ┆ 13.0         ┆ (doi: 10.141 ┆ \"8883424352 ┆ 0002541535  ┆ 1967        ┆ Canine      │\n",
       "│            ┆              ┆ 2/36459)     ┆ ; 978888342 ┆             ┆             ┆ Diabetes    │\n",
       "│            ┆              ┆              ┆ 4359        ┆             ┆             ┆ Mellitus    │\n",
       "│ 25%        ┆ 126416.0     ┆ null         ┆ null        ┆ null        ┆ null        ┆ null        │\n",
       "│ 50%        ┆ 236823.0     ┆ null         ┆ null        ┆ null        ┆ null        ┆ null        │\n",
       "│ 75%        ┆ 535059.0     ┆ null         ┆ null        ┆ null        ┆ null        ┆ null        │\n",
       "│ max        ┆ 816910.0     ┆ https://zeno ┆ ­           ┆ Raimondo D, ┆ 9999        ┆ ￼￼New       │\n",
       "│            ┆              ┆ do.org/commu ┆             ┆ Maletta M,  ┆             ┆ Trends in   │\n",
       "│            ┆              ┆ nities/enti/ ┆             ┆ Borghese G, ┆             ┆ Databases   │\n",
       "│            ┆              ┆              ┆             ┆ Mastronardi ┆             ┆ and         │\n",
       "│            ┆              ┆              ┆             ┆ M, Arena A, ┆             ┆ Information │\n",
       "│            ┆              ┆              ┆             ┆ Del Forno   ┆             ┆ Systems     │\n",
       "│            ┆              ┆              ┆             ┆ S, Salucci  ┆             ┆             │\n",
       "│            ┆              ┆              ┆             ┆ P,          ┆             ┆             │\n",
       "│            ┆              ┆              ┆             ┆ Giaquinto   ┆             ┆             │\n",
       "│            ┆              ┆              ┆             ┆ I, Casa…    ┆             ┆             │\n",
       "└────────────┴──────────────┴──────────────┴─────────────┴─────────────┴─────────────┴─────────────┘"
      ]
     },
     "execution_count": 12,
     "metadata": {},
     "output_type": "execute_result"
    }
   ],
   "source": [
    "df.nuni"
   ]
  },
  {
   "cell_type": "markdown",
   "metadata": {},
   "source": [
    "---\n",
    "### Sanitize IRIS DOIs and ISBNs"
   ]
  },
  {
   "cell_type": "code",
   "execution_count": 12,
   "metadata": {},
   "outputs": [
    {
     "data": {
      "text/html": [
       "<div><style>\n",
       ".dataframe > thead > tr,\n",
       ".dataframe > tbody > tr {\n",
       "  text-align: right;\n",
       "  white-space: pre-wrap;\n",
       "}\n",
       "</style>\n",
       "<small>shape: (130_925, 2)</small><table border=\"1\" class=\"dataframe\"><thead><tr><th>iris_id</th><th>id</th></tr><tr><td>i32</td><td>str</td></tr></thead><tbody><tr><td>217903</td><td>&quot;doi:10.1109/eumic.2014.6997826&quot;</td></tr><tr><td>271797</td><td>&quot;doi:10.1016/j.jvolgeores.2016.11.016&quot;</td></tr><tr><td>380360</td><td>&quot;doi:10.1051/0004-6361/201832843&quot;</td></tr><tr><td>698521</td><td>&quot;doi:10.1080/14737159.2020.1699791&quot;</td></tr><tr><td>627693</td><td>&quot;doi:10.1007/s00170-021-08035-w&quot;</td></tr><tr><td>&hellip;</td><td>&hellip;</td></tr><tr><td>786885</td><td>&quot;doi:10.1007/jhep05(2023)233&quot;</td></tr><tr><td>627207</td><td>&quot;doi:10.3174/ajnr.a6892&quot;</td></tr><tr><td>252488</td><td>&quot;doi:10.1111/clr.13_12679&quot;</td></tr><tr><td>485614</td><td>&quot;doi:10.5902/21754977&quot;</td></tr><tr><td>640846</td><td>&quot;doi:10.3390/s21051876&quot;</td></tr></tbody></table></div>"
      ],
      "text/plain": [
       "shape: (130_925, 2)\n",
       "┌─────────┬──────────────────────────────────────┐\n",
       "│ iris_id ┆ id                                   │\n",
       "│ ---     ┆ ---                                  │\n",
       "│ i32     ┆ str                                  │\n",
       "╞═════════╪══════════════════════════════════════╡\n",
       "│ 217903  ┆ doi:10.1109/eumic.2014.6997826       │\n",
       "│ 271797  ┆ doi:10.1016/j.jvolgeores.2016.11.016 │\n",
       "│ 380360  ┆ doi:10.1051/0004-6361/201832843      │\n",
       "│ 698521  ┆ doi:10.1080/14737159.2020.1699791    │\n",
       "│ 627693  ┆ doi:10.1007/s00170-021-08035-w       │\n",
       "│ …       ┆ …                                    │\n",
       "│ 786885  ┆ doi:10.1007/jhep05(2023)233          │\n",
       "│ 627207  ┆ doi:10.3174/ajnr.a6892               │\n",
       "│ 252488  ┆ doi:10.1111/clr.13_12679             │\n",
       "│ 485614  ┆ doi:10.5902/21754977                 │\n",
       "│ 640846  ┆ doi:10.3390/s21051876                │\n",
       "└─────────┴──────────────────────────────────────┘"
      ]
     },
     "execution_count": 12,
     "metadata": {},
     "output_type": "execute_result"
    }
   ],
   "source": [
    "dois = df_filtered.select('ITEM_ID', 'IDE_DOI').drop_nulls('IDE_DOI').unique()\n",
    "\n",
    "filtered_dois = (\n",
    "    dois\n",
    "    .with_columns(('doi:'+pl.col('IDE_DOI').str.extract(r'(10\\.\\d{4,}\\/[^,\\s;]*)').str.to_lowercase()).alias('id'))\n",
    "    .drop_nulls('id')\n",
    "    .drop('IDE_DOI')\n",
    "    .rename({'ITEM_ID': 'iris_id'})\n",
    ")\n",
    "\n",
    "filtered_dois"
   ]
  },
  {
   "cell_type": "code",
   "execution_count": 13,
   "metadata": {},
   "outputs": [
    {
     "data": {
      "text/html": [
       "<div><style>\n",
       ".dataframe > thead > tr,\n",
       ".dataframe > tbody > tr {\n",
       "  text-align: right;\n",
       "  white-space: pre-wrap;\n",
       "}\n",
       "</style>\n",
       "<small>shape: (80_695, 2)</small><table border=\"1\" class=\"dataframe\"><thead><tr><th>iris_id</th><th>id</th></tr><tr><td>i32</td><td>str</td></tr></thead><tbody><tr><td>128597</td><td>&quot;isbn:9788861295667&quot;</td></tr><tr><td>78543</td><td>&quot;isbn:8815114254&quot;</td></tr><tr><td>181746</td><td>&quot;isbn:9788888793481&quot;</td></tr><tr><td>798185</td><td>&quot;isbn:9788893592956&quot;</td></tr><tr><td>345364</td><td>&quot;isbn:9781407316307&quot;</td></tr><tr><td>&hellip;</td><td>&hellip;</td></tr><tr><td>241284</td><td>&quot;isbn:9788867740932&quot;</td></tr><tr><td>117011</td><td>&quot;isbn:9788495886392&quot;</td></tr><tr><td>84622</td><td>&quot;isbn:8884833140&quot;</td></tr><tr><td>108662</td><td>&quot;isbn:9788885821279&quot;</td></tr><tr><td>77861</td><td>&quot;isbn:354034666x&quot;</td></tr></tbody></table></div>"
      ],
      "text/plain": [
       "shape: (80_695, 2)\n",
       "┌─────────┬────────────────────┐\n",
       "│ iris_id ┆ id                 │\n",
       "│ ---     ┆ ---                │\n",
       "│ i32     ┆ str                │\n",
       "╞═════════╪════════════════════╡\n",
       "│ 128597  ┆ isbn:9788861295667 │\n",
       "│ 78543   ┆ isbn:8815114254    │\n",
       "│ 181746  ┆ isbn:9788888793481 │\n",
       "│ 798185  ┆ isbn:9788893592956 │\n",
       "│ 345364  ┆ isbn:9781407316307 │\n",
       "│ …       ┆ …                  │\n",
       "│ 241284  ┆ isbn:9788867740932 │\n",
       "│ 117011  ┆ isbn:9788495886392 │\n",
       "│ 84622   ┆ isbn:8884833140    │\n",
       "│ 108662  ┆ isbn:9788885821279 │\n",
       "│ 77861   ┆ isbn:354034666x    │\n",
       "└─────────┴────────────────────┘"
      ]
     },
     "execution_count": 13,
     "metadata": {},
     "output_type": "execute_result"
    }
   ],
   "source": [
    "isbns = df_filtered.select('ITEM_ID', 'IDE_ISBN').drop_nulls('IDE_ISBN').unique()\n",
    "\n",
    "filtered_isbns = (\n",
    "    isbns\n",
    "    .with_columns(\n",
    "        ('isbn:'+pl.col('IDE_ISBN').str.extract_all(r'(ISBN[-]*(1[03])*[ ]*(: ){0,1})*(([0-9Xx][- ]*){13}|([0-9Xx][- ]*){10})').list.first().str.replace_all(r'[- ]', '').str.to_lowercase()).alias('id')\n",
    "        #('doi:'+pl.col('IDE_DOI')).alias('id')\n",
    "    )\n",
    "    .drop_nulls('id')\n",
    "    .drop('IDE_ISBN')\n",
    "    .rename({'ITEM_ID': 'iris_id'})\n",
    ")\n",
    "\n",
    "filtered_isbns"
   ]
  },
  {
   "cell_type": "code",
   "execution_count": 14,
   "metadata": {},
   "outputs": [
    {
     "data": {
      "text/html": [
       "<div><style>\n",
       ".dataframe > thead > tr,\n",
       ".dataframe > tbody > tr {\n",
       "  text-align: right;\n",
       "  white-space: pre-wrap;\n",
       "}\n",
       "</style>\n",
       "<small>shape: (45_851, 2)</small><table border=\"1\" class=\"dataframe\"><thead><tr><th>iris_id</th><th>id</th></tr><tr><td>i32</td><td>str</td></tr></thead><tbody><tr><td>311595</td><td>&quot;pmid:27062486&quot;</td></tr><tr><td>762705</td><td>&quot;pmid:36979644&quot;</td></tr><tr><td>323738</td><td>&quot;pmid:29172868&quot;</td></tr><tr><td>804454</td><td>&quot;pmid:37651845&quot;</td></tr><tr><td>806067</td><td>&quot;pmid:22577222&quot;</td></tr><tr><td>&hellip;</td><td>&hellip;</td></tr><tr><td>111642</td><td>&quot;pmid:19194070&quot;</td></tr><tr><td>574944</td><td>&quot;pmid:33924854&quot;</td></tr><tr><td>175443</td><td>&quot;pmid:24769871&quot;</td></tr><tr><td>186250</td><td>&quot;pmid:23777871&quot;</td></tr><tr><td>239945</td><td>&quot;pmid:26593250&quot;</td></tr></tbody></table></div>"
      ],
      "text/plain": [
       "shape: (45_851, 2)\n",
       "┌─────────┬───────────────┐\n",
       "│ iris_id ┆ id            │\n",
       "│ ---     ┆ ---           │\n",
       "│ i32     ┆ str           │\n",
       "╞═════════╪═══════════════╡\n",
       "│ 311595  ┆ pmid:27062486 │\n",
       "│ 762705  ┆ pmid:36979644 │\n",
       "│ 323738  ┆ pmid:29172868 │\n",
       "│ 804454  ┆ pmid:37651845 │\n",
       "│ 806067  ┆ pmid:22577222 │\n",
       "│ …       ┆ …             │\n",
       "│ 111642  ┆ pmid:19194070 │\n",
       "│ 574944  ┆ pmid:33924854 │\n",
       "│ 175443  ┆ pmid:24769871 │\n",
       "│ 186250  ┆ pmid:23777871 │\n",
       "│ 239945  ┆ pmid:26593250 │\n",
       "└─────────┴───────────────┘"
      ]
     },
     "execution_count": 14,
     "metadata": {},
     "output_type": "execute_result"
    }
   ],
   "source": [
    "pmids = df_filtered.select('ITEM_ID', 'IDE_PMID').drop_nulls('IDE_PMID').unique()\n",
    "\n",
    "filtered_pmids = (\n",
    "    pmids\n",
    "    .filter(\n",
    "        ~pl.col('IDE_PMID').str.contains('PMC')\n",
    "        )\n",
    "    .with_columns(('pmid:'+pl.col('IDE_PMID').str.extract(r'0*([1-9][0-9]{1,8})', 1).str.to_lowercase()).alias('id'))\n",
    "    .drop('IDE_PMID')\n",
    "    .rename({'ITEM_ID': 'iris_id'})\n",
    ")\n",
    "\n",
    "filtered_pmids"
   ]
  },
  {
   "cell_type": "code",
   "execution_count": 15,
   "metadata": {},
   "outputs": [
    {
     "data": {
      "text/html": [
       "<div><style>\n",
       ".dataframe > thead > tr,\n",
       ".dataframe > tbody > tr {\n",
       "  text-align: right;\n",
       "  white-space: pre-wrap;\n",
       "}\n",
       "</style>\n",
       "<small>shape: (257_471, 2)</small><table border=\"1\" class=\"dataframe\"><thead><tr><th>iris_id</th><th>id</th></tr><tr><td>i32</td><td>str</td></tr></thead><tbody><tr><td>217903</td><td>&quot;doi:10.1109/eumic.2014.6997826&quot;</td></tr><tr><td>271797</td><td>&quot;doi:10.1016/j.jvolgeores.2016.11.016&quot;</td></tr><tr><td>380360</td><td>&quot;doi:10.1051/0004-6361/201832843&quot;</td></tr><tr><td>698521</td><td>&quot;doi:10.1080/14737159.2020.1699791&quot;</td></tr><tr><td>627693</td><td>&quot;doi:10.1007/s00170-021-08035-w&quot;</td></tr><tr><td>&hellip;</td><td>&hellip;</td></tr><tr><td>111642</td><td>&quot;pmid:19194070&quot;</td></tr><tr><td>574944</td><td>&quot;pmid:33924854&quot;</td></tr><tr><td>175443</td><td>&quot;pmid:24769871&quot;</td></tr><tr><td>186250</td><td>&quot;pmid:23777871&quot;</td></tr><tr><td>239945</td><td>&quot;pmid:26593250&quot;</td></tr></tbody></table></div>"
      ],
      "text/plain": [
       "shape: (257_471, 2)\n",
       "┌─────────┬──────────────────────────────────────┐\n",
       "│ iris_id ┆ id                                   │\n",
       "│ ---     ┆ ---                                  │\n",
       "│ i32     ┆ str                                  │\n",
       "╞═════════╪══════════════════════════════════════╡\n",
       "│ 217903  ┆ doi:10.1109/eumic.2014.6997826       │\n",
       "│ 271797  ┆ doi:10.1016/j.jvolgeores.2016.11.016 │\n",
       "│ 380360  ┆ doi:10.1051/0004-6361/201832843      │\n",
       "│ 698521  ┆ doi:10.1080/14737159.2020.1699791    │\n",
       "│ 627693  ┆ doi:10.1007/s00170-021-08035-w       │\n",
       "│ …       ┆ …                                    │\n",
       "│ 111642  ┆ pmid:19194070                        │\n",
       "│ 574944  ┆ pmid:33924854                        │\n",
       "│ 175443  ┆ pmid:24769871                        │\n",
       "│ 186250  ┆ pmid:23777871                        │\n",
       "│ 239945  ┆ pmid:26593250                        │\n",
       "└─────────┴──────────────────────────────────────┘"
      ]
     },
     "execution_count": 15,
     "metadata": {},
     "output_type": "execute_result"
    }
   ],
   "source": [
    "dois_isbns_pmids_df = pl.concat([filtered_dois, filtered_isbns, filtered_pmids])\n",
    "\n",
    "dois_isbns_pmids_df"
   ]
  },
  {
   "cell_type": "markdown",
   "metadata": {},
   "source": [
    "##### old"
   ]
  },
  {
   "cell_type": "code",
   "execution_count": 16,
   "metadata": {},
   "outputs": [
    {
     "name": "stdout",
     "output_type": "stream",
     "text": [
      "130077 unique dois\n",
      "129954 unique dois after filtering.  123 not dois discarded\n",
      "------------------------------\n",
      "49982 unique isbns\n",
      "49405 unique isbns after filtering.  577 not isbns discarded\n",
      "------------------------------\n",
      "45687 unique pmids\n",
      "45683 unique pmids after filtering.  4 not pmids discarded\n",
      "==============================\n",
      "225042 total identifiers\n"
     ]
    }
   ],
   "source": [
    "dois = df_filtered.select('IDE_DOI').drop_nulls().unique()['IDE_DOI'].to_list()\n",
    "print(len(dois), 'unique dois')\n",
    "dois_q = df_filtered.select('ITEM_ID', 'IDE_DOI').drop_nulls('IDE_DOI').filter(pl.col('IDE_DOI').str.starts_with('10.1007/jhep02(2013)043'))\n",
    "\n",
    "#filter and normalize the dois\n",
    "doi_rule = re.compile(r'10\\.\\d{4,}\\/[^,\\s;]*')\n",
    "not_doi = []\n",
    "filtered_dois = []\n",
    "\n",
    "for doi in dois:\n",
    "    match = doi_rule.search(doi)\n",
    "    if match:\n",
    "        filtered_dois.append('doi:' + match.group())\n",
    "    else:\n",
    "        not_doi.append(doi)\n",
    "\n",
    "print(len(filtered_dois), 'unique dois after filtering. ', len(not_doi), 'not dois discarded')\n",
    "\n",
    "print('---'*10)\n",
    "\n",
    "isbns = df_filtered.select('IDE_ISBN').drop_nulls().unique()['IDE_ISBN'].to_list()\n",
    "print(len(isbns), 'unique isbns')\n",
    "\n",
    "#filter and normalize the isbns\n",
    "isbn_rule = re.compile(r'(ISBN[-]*(1[03])*[ ]*(: ){0,1})*(([0-9Xx][- ]*){13}|([0-9Xx][- ]*){10})') # ??? results to check\n",
    "not_isbn = []\n",
    "filtered_isbns = []\n",
    "\n",
    "for isbn in isbns:\n",
    "    if isbn_rule.search(isbn) is not None:\n",
    "        filtered_isbns.append('isbn:' + isbn.replace('-', '').replace(' ', ''))\n",
    "    else:\n",
    "        not_isbn.append(isbn)\n",
    "\n",
    "print(len(filtered_isbns), 'unique isbns after filtering. ', len(not_isbn), 'not isbns discarded')\n",
    "\n",
    "print('---'*10)\n",
    "\n",
    "#filter and normalize the pmids\n",
    "pmids = df_filtered.select('IDE_PMID').drop_nulls().unique()['IDE_PMID'].to_list()\n",
    "pmid_rule = re.compile(r'(?!0\\d{0,7})\\d{1,8}')\n",
    "not_pmids = []\n",
    "filtered_pmids = []\n",
    "\n",
    "for pmid in pmids:\n",
    "    match = pmid_rule.search(pmid)\n",
    "    if pmid_rule.search(pmid) is not None and 'PMC' not in pmid: # questo da sottolineare in documentazione\n",
    "        filtered_pmids.append('pmid:' + match.group())\n",
    "    else:\n",
    "        not_pmids.append(pmid)\n",
    "\n",
    "print(len(pmids), 'unique pmids')\n",
    "print(len(filtered_pmids), 'unique pmids after filtering. ', len(not_pmids), 'not pmids discarded')\n",
    "\n",
    "dois_isbns_pmids = filtered_dois + filtered_isbns + filtered_pmids\n",
    "dois_isbns_pmids = [id.lower() for id in dois_isbns_pmids]\n",
    "\n",
    "print('==='*10)\n",
    "print(len(dois_isbns_pmids), 'total identifiers')"
   ]
  },
  {
   "cell_type": "markdown",
   "metadata": {},
   "source": [
    "---\n",
    "### Meta to Parquet"
   ]
  },
  {
   "cell_type": "code",
   "execution_count": 94,
   "metadata": {},
   "outputs": [],
   "source": [
    "meta_path = Path('data/csv_openalex.zip')"
   ]
  },
  {
   "cell_type": "code",
   "execution_count": 104,
   "metadata": {},
   "outputs": [
    {
     "name": "stderr",
     "output_type": "stream",
     "text": [
      "100%|██████████| 28248/28248 [13:14<00:00, 35.55it/s]\n"
     ]
    }
   ],
   "source": [
    "def process_meta_zip(zip_path):\n",
    "    zip_file = ZipFile(zip_path)\n",
    "    files_list = [zipfile for zipfile in zip_file.namelist() if zipfile.endswith('.csv')]\n",
    "    output_dir = \"data/iris_in_meta_join\"\n",
    "\n",
    "    dois_isbns_pmids_lf = dois_isbns_pmids_df.lazy()\n",
    "\n",
    "    for csv_file in tqdm(files_list):\n",
    "        with zip_file.open(csv_file, 'r') as file:\n",
    "            with tempfile.NamedTemporaryFile() as tf:\n",
    "                tf.write(file.read()) # Write the csv file to the temporary file\n",
    "                tf.seek(0)          # Start at the beginning of the temporary file\n",
    "                os.makedirs(output_dir, exist_ok=True)\n",
    "                df = (\n",
    "                    pl.scan_csv(tf.name)\n",
    "                    .select(['id', 'title', 'type'])\n",
    "                    .with_columns(\n",
    "                        #(pl.col('id').str.extract(r\"((?:isbn):[^\\s]+)\")).alias('isbn'),\n",
    "                        (pl.col('id').str.extract(r\"(omid:[^\\s]+)\")).alias('omid'),\n",
    "                        # if it has a doi we get the doi, otherwise we get the isbn - the right approach?\n",
    "                        (pl.col('id').str.extract(r\"((?:doi):[^\\s\\\"]+)\")).alias('doi'),\n",
    "                        (pl.col('id').str.extract(r\"((?:pmid):[^\\s\\\"]+)\")).alias('pmid'),\n",
    "                        (pl.col('id').str.extract(r\"((?:isbn):[^\\s\\\"]+)\")).alias('isbn'),\n",
    "                    )\n",
    "                    .with_columns(\n",
    "                        pl.coalesce([pl.col('doi'), pl.col('isbn'), pl.col('pmid')]).alias('id')\n",
    "                    )\n",
    "                    .drop(['doi', 'pmid', 'isbn'])\n",
    "                    .drop_nulls('id')\n",
    "                    .join(dois_isbns_pmids_lf, on='id', how='inner')\n",
    "                    .collect(streaming=True)\n",
    "                )\n",
    "\n",
    "                if not df.is_empty():\n",
    "                    df.write_parquet(os.path.join(output_dir, os.path.basename(csv_file).replace('.csv', '.parquet')))\n",
    "\n",
    "\n",
    "process_meta_zip(meta_path) # 35mins"
   ]
  },
  {
   "cell_type": "markdown",
   "metadata": {},
   "source": [
    "### Title similarity"
   ]
  },
  {
   "cell_type": "markdown",
   "metadata": {},
   "source": [
    "#### sparql"
   ]
  },
  {
   "cell_type": "code",
   "execution_count": 5,
   "metadata": {},
   "outputs": [
    {
     "data": {
      "text/html": [
       "<div><style>\n",
       ".dataframe > thead > tr,\n",
       ".dataframe > tbody > tr {\n",
       "  text-align: right;\n",
       "  white-space: pre-wrap;\n",
       "}\n",
       "</style>\n",
       "<small>shape: (103_481, 2)</small><table border=\"1\" class=\"dataframe\"><thead><tr><th>ITEM_ID</th><th>TITLE</th></tr><tr><td>i32</td><td>str</td></tr></thead><tbody><tr><td>4837</td><td>&quot;Mutational spectrum of SHOX gene in 25 Italian pediatric patients with Lèri-Weill dyschondrosteosis…</td></tr><tr><td>5279</td><td>&quot;Operational Fiscal and Monetary Policy with Staggered Wage and Price Dynamics&quot;</td></tr><tr><td>6196</td><td>&quot;Olivier Agard – Kracauer: le chiffonier mélancolique&quot;</td></tr><tr><td>5444</td><td>&quot;At the time of diagnosis, Ph cells from both chronic phase chronic myeloid leukemia and acute lymph…</td></tr><tr><td>6457</td><td>&quot;A strategy to reduce the count of moment conditions in panel data GMM&quot;</td></tr><tr><td>&hellip;</td><td>&hellip;</td></tr><tr><td>724333</td><td>&quot;Dal pater familias alla multigenitorialità: cinquanta anni del diritto di famiglia italiano&quot;</td></tr><tr><td>724369</td><td>&quot;Capitolo quarantaduesimo \r\n",
       "Gli enti pubblici&quot;</td></tr><tr><td>724125</td><td>&quot;The Accelerated Access Initiative to Quality Formal Education for Syrian Refugee Children (AAI). Le…</td></tr><tr><td>724571</td><td>&quot;La Costituzione di Dobbs v. Jackson Women’s Health Organization. Un’analisi critica&quot;</td></tr><tr><td>724229</td><td>&quot;Georg W. Bertram, L’arte come prassi umana. Un’estetica, a cura di F. Vercellone, tr. it. di A. Ber…</td></tr></tbody></table></div>"
      ],
      "text/plain": [
       "shape: (103_481, 2)\n",
       "┌─────────┬────────────────────────────────────────────────────────────────────────────────────────┐\n",
       "│ ITEM_ID ┆ TITLE                                                                                  │\n",
       "│ ---     ┆ ---                                                                                    │\n",
       "│ i32     ┆ str                                                                                    │\n",
       "╞═════════╪════════════════════════════════════════════════════════════════════════════════════════╡\n",
       "│ 4837    ┆ Mutational spectrum of SHOX gene in 25 Italian pediatric patients with Lèri-Weill      │\n",
       "│         ┆ dyschondrosteosis …                                                                    │\n",
       "│ 5279    ┆ Operational Fiscal and Monetary Policy with Staggered Wage and Price Dynamics          │\n",
       "│ 6196    ┆ Olivier Agard – Kracauer: le chiffonier mélancolique                                   │\n",
       "│ 5444    ┆ At the time of diagnosis, Ph cells from both chronic phase chronic myeloid leukemia    │\n",
       "│         ┆ and acute lympho…                                                                      │\n",
       "│ 6457    ┆ A strategy to reduce the count of moment conditions in panel data GMM                  │\n",
       "│ …       ┆ …                                                                                      │\n",
       "│ 724333  ┆ Dal pater familias alla multigenitorialità: cinquanta anni del diritto di famiglia     │\n",
       "│         ┆ italiano                                                                               │\n",
       "│ 724369  ┆ Capitolo quarantaduesimo \n",
       "                                                              │\n",
       "│         ┆ Gli enti pubblici                                                                      │\n",
       "│ 724125  ┆ The Accelerated Access Initiative to Quality Formal Education for Syrian Refugee       │\n",
       "│         ┆ Children (AAI). Les…                                                                   │\n",
       "│ 724571  ┆ La Costituzione di Dobbs v. Jackson Women’s Health Organization. Un’analisi critica    │\n",
       "│ 724229  ┆ Georg W. Bertram, L’arte come prassi umana. Un’estetica, a cura di F. Vercellone, tr.  │\n",
       "│         ┆ it. di A. Bert…                                                                        │\n",
       "└─────────┴────────────────────────────────────────────────────────────────────────────────────────┘"
      ]
     },
     "execution_count": 5,
     "metadata": {},
     "output_type": "execute_result"
    }
   ],
   "source": [
    "iris_noid_titles = (\n",
    "    df\n",
    "    .select('ITEM_ID', 'IDE_DOI', 'IDE_ISBN', 'IDE_PMID', 'TITLE')\n",
    "    .filter(\n",
    "        (pl.col('IDE_DOI').is_null() & pl.col('IDE_ISBN').is_null() & pl.col('IDE_PMID').is_null()),\n",
    "    )\n",
    "    .drop('IDE_DOI', 'IDE_ISBN', 'IDE_PMID')\n",
    ")#['TITLE'].to_list()\n",
    "\n",
    "len(iris_noid_titles)\n",
    "#iris_noid_titles_clean = [tile.replace('\"', \"'\") for title in iris_noid_titles if title is not None and len(title.split()) > 3]\n",
    "#len(iris_noid_titles_clean)\n",
    "iris_noid_titles"
   ]
  },
  {
   "cell_type": "code",
   "execution_count": 11,
   "metadata": {},
   "outputs": [
    {
     "name": "stderr",
     "output_type": "stream",
     "text": [
      "  0%|          | 0/103341 [00:00<?, ?it/s]"
     ]
    },
    {
     "name": "stderr",
     "output_type": "stream",
     "text": [
      "  0%|          | 8/103341 [00:01<4:01:26,  7.13it/s]"
     ]
    },
    {
     "name": "stdout",
     "output_type": "stream",
     "text": [
      "Hybrid Modelling Of A Car Driveline For Servo-Actuated Gear Shift [{'entity': {'type': 'uri', 'value': 'https://w3id.org/oc/meta/br/061403332327'}, 'doi': {'type': 'literal', 'value': '10.1109/isie.2005.1528916'}, 'type': {'type': 'uri', 'value': 'http://purl.org/spar/fabio/ProceedingsPaper'}}]\n"
     ]
    },
    {
     "name": "stderr",
     "output_type": "stream",
     "text": [
      "  0%|          | 51/103341 [00:08<4:34:13,  6.28it/s] \n"
     ]
    },
    {
     "ename": "KeyboardInterrupt",
     "evalue": "",
     "output_type": "error",
     "traceback": [
      "\u001b[0;31m---------------------------------------------------------------------------\u001b[0m",
      "\u001b[0;31mKeyboardInterrupt\u001b[0m                         Traceback (most recent call last)",
      "Cell \u001b[0;32mIn[11], line 43\u001b[0m\n\u001b[1;32m     28\u001b[0m sparql\u001b[38;5;241m.\u001b[39msetQuery(\u001b[38;5;124mf\u001b[39m\u001b[38;5;124m\"\"\"\u001b[39m\n\u001b[1;32m     29\u001b[0m \u001b[38;5;124m                PREFIX datacite: <http://purl.org/spar/datacite/>\u001b[39m\n\u001b[1;32m     30\u001b[0m \u001b[38;5;124m                PREFIX dcterms: <http://purl.org/dc/terms/>\u001b[39m\n\u001b[0;32m   (...)\u001b[0m\n\u001b[1;32m     40\u001b[0m \u001b[38;5;124m                FILTER (?type != fabio:Expression)\u001b[39m\n\u001b[1;32m     41\u001b[0m \u001b[38;5;124m                \u001b[39m\u001b[38;5;130;01m}}\u001b[39;00m\u001b[38;5;124m\"\"\"\u001b[39m)\n\u001b[1;32m     42\u001b[0m sparql\u001b[38;5;241m.\u001b[39msetReturnFormat(JSON)\n\u001b[0;32m---> 43\u001b[0m results \u001b[38;5;241m=\u001b[39m \u001b[43msparql\u001b[49m\u001b[38;5;241;43m.\u001b[39;49m\u001b[43mquery\u001b[49m\u001b[43m(\u001b[49m\u001b[43m)\u001b[49m\u001b[38;5;241m.\u001b[39mconvert()\n\u001b[1;32m     45\u001b[0m \u001b[38;5;28;01mif\u001b[39;00m results[\u001b[38;5;124m\"\u001b[39m\u001b[38;5;124mresults\u001b[39m\u001b[38;5;124m\"\u001b[39m][\u001b[38;5;124m\"\u001b[39m\u001b[38;5;124mbindings\u001b[39m\u001b[38;5;124m\"\u001b[39m]:\n\u001b[1;32m     46\u001b[0m     \u001b[38;5;28mprint\u001b[39m(title, results[\u001b[38;5;124m\"\u001b[39m\u001b[38;5;124mresults\u001b[39m\u001b[38;5;124m\"\u001b[39m][\u001b[38;5;124m\"\u001b[39m\u001b[38;5;124mbindings\u001b[39m\u001b[38;5;124m\"\u001b[39m])\n",
      "File \u001b[0;32m~/.local/lib/python3.11/site-packages/SPARQLWrapper/Wrapper.py:960\u001b[0m, in \u001b[0;36mSPARQLWrapper.query\u001b[0;34m(self)\u001b[0m\n\u001b[1;32m    942\u001b[0m \u001b[38;5;28;01mdef\u001b[39;00m \u001b[38;5;21mquery\u001b[39m(\u001b[38;5;28mself\u001b[39m) \u001b[38;5;241m-\u001b[39m\u001b[38;5;241m>\u001b[39m \u001b[38;5;124m\"\u001b[39m\u001b[38;5;124mQueryResult\u001b[39m\u001b[38;5;124m\"\u001b[39m:\n\u001b[1;32m    943\u001b[0m \u001b[38;5;250m    \u001b[39m\u001b[38;5;124;03m\"\"\"\u001b[39;00m\n\u001b[1;32m    944\u001b[0m \u001b[38;5;124;03m    Execute the query.\u001b[39;00m\n\u001b[1;32m    945\u001b[0m \u001b[38;5;124;03m    Exceptions can be raised if either the URI is wrong or the HTTP sends back an error (this is also the\u001b[39;00m\n\u001b[0;32m   (...)\u001b[0m\n\u001b[1;32m    958\u001b[0m \u001b[38;5;124;03m    :rtype: :class:`QueryResult` instance\u001b[39;00m\n\u001b[1;32m    959\u001b[0m \u001b[38;5;124;03m    \"\"\"\u001b[39;00m\n\u001b[0;32m--> 960\u001b[0m     \u001b[38;5;28;01mreturn\u001b[39;00m QueryResult(\u001b[38;5;28;43mself\u001b[39;49m\u001b[38;5;241;43m.\u001b[39;49m\u001b[43m_query\u001b[49m\u001b[43m(\u001b[49m\u001b[43m)\u001b[49m)\n",
      "File \u001b[0;32m~/.local/lib/python3.11/site-packages/SPARQLWrapper/Wrapper.py:926\u001b[0m, in \u001b[0;36mSPARQLWrapper._query\u001b[0;34m(self)\u001b[0m\n\u001b[1;32m    924\u001b[0m         response \u001b[38;5;241m=\u001b[39m urlopener(request, timeout\u001b[38;5;241m=\u001b[39m\u001b[38;5;28mself\u001b[39m\u001b[38;5;241m.\u001b[39mtimeout)\n\u001b[1;32m    925\u001b[0m     \u001b[38;5;28;01melse\u001b[39;00m:\n\u001b[0;32m--> 926\u001b[0m         response \u001b[38;5;241m=\u001b[39m \u001b[43murlopener\u001b[49m\u001b[43m(\u001b[49m\u001b[43mrequest\u001b[49m\u001b[43m)\u001b[49m\n\u001b[1;32m    927\u001b[0m     \u001b[38;5;28;01mreturn\u001b[39;00m response, \u001b[38;5;28mself\u001b[39m\u001b[38;5;241m.\u001b[39mreturnFormat\n\u001b[1;32m    928\u001b[0m \u001b[38;5;28;01mexcept\u001b[39;00m urllib\u001b[38;5;241m.\u001b[39merror\u001b[38;5;241m.\u001b[39mHTTPError \u001b[38;5;28;01mas\u001b[39;00m e:\n",
      "File \u001b[0;32m/usr/lib64/python3.11/urllib/request.py:216\u001b[0m, in \u001b[0;36murlopen\u001b[0;34m(url, data, timeout, cafile, capath, cadefault, context)\u001b[0m\n\u001b[1;32m    214\u001b[0m \u001b[38;5;28;01melse\u001b[39;00m:\n\u001b[1;32m    215\u001b[0m     opener \u001b[38;5;241m=\u001b[39m _opener\n\u001b[0;32m--> 216\u001b[0m \u001b[38;5;28;01mreturn\u001b[39;00m \u001b[43mopener\u001b[49m\u001b[38;5;241;43m.\u001b[39;49m\u001b[43mopen\u001b[49m\u001b[43m(\u001b[49m\u001b[43murl\u001b[49m\u001b[43m,\u001b[49m\u001b[43m \u001b[49m\u001b[43mdata\u001b[49m\u001b[43m,\u001b[49m\u001b[43m \u001b[49m\u001b[43mtimeout\u001b[49m\u001b[43m)\u001b[49m\n",
      "File \u001b[0;32m/usr/lib64/python3.11/urllib/request.py:519\u001b[0m, in \u001b[0;36mOpenerDirector.open\u001b[0;34m(self, fullurl, data, timeout)\u001b[0m\n\u001b[1;32m    516\u001b[0m     req \u001b[38;5;241m=\u001b[39m meth(req)\n\u001b[1;32m    518\u001b[0m sys\u001b[38;5;241m.\u001b[39maudit(\u001b[38;5;124m'\u001b[39m\u001b[38;5;124murllib.Request\u001b[39m\u001b[38;5;124m'\u001b[39m, req\u001b[38;5;241m.\u001b[39mfull_url, req\u001b[38;5;241m.\u001b[39mdata, req\u001b[38;5;241m.\u001b[39mheaders, req\u001b[38;5;241m.\u001b[39mget_method())\n\u001b[0;32m--> 519\u001b[0m response \u001b[38;5;241m=\u001b[39m \u001b[38;5;28;43mself\u001b[39;49m\u001b[38;5;241;43m.\u001b[39;49m\u001b[43m_open\u001b[49m\u001b[43m(\u001b[49m\u001b[43mreq\u001b[49m\u001b[43m,\u001b[49m\u001b[43m \u001b[49m\u001b[43mdata\u001b[49m\u001b[43m)\u001b[49m\n\u001b[1;32m    521\u001b[0m \u001b[38;5;66;03m# post-process response\u001b[39;00m\n\u001b[1;32m    522\u001b[0m meth_name \u001b[38;5;241m=\u001b[39m protocol\u001b[38;5;241m+\u001b[39m\u001b[38;5;124m\"\u001b[39m\u001b[38;5;124m_response\u001b[39m\u001b[38;5;124m\"\u001b[39m\n",
      "File \u001b[0;32m/usr/lib64/python3.11/urllib/request.py:536\u001b[0m, in \u001b[0;36mOpenerDirector._open\u001b[0;34m(self, req, data)\u001b[0m\n\u001b[1;32m    533\u001b[0m     \u001b[38;5;28;01mreturn\u001b[39;00m result\n\u001b[1;32m    535\u001b[0m protocol \u001b[38;5;241m=\u001b[39m req\u001b[38;5;241m.\u001b[39mtype\n\u001b[0;32m--> 536\u001b[0m result \u001b[38;5;241m=\u001b[39m \u001b[38;5;28;43mself\u001b[39;49m\u001b[38;5;241;43m.\u001b[39;49m\u001b[43m_call_chain\u001b[49m\u001b[43m(\u001b[49m\u001b[38;5;28;43mself\u001b[39;49m\u001b[38;5;241;43m.\u001b[39;49m\u001b[43mhandle_open\u001b[49m\u001b[43m,\u001b[49m\u001b[43m \u001b[49m\u001b[43mprotocol\u001b[49m\u001b[43m,\u001b[49m\u001b[43m \u001b[49m\u001b[43mprotocol\u001b[49m\u001b[43m \u001b[49m\u001b[38;5;241;43m+\u001b[39;49m\n\u001b[1;32m    537\u001b[0m \u001b[43m                          \u001b[49m\u001b[38;5;124;43m'\u001b[39;49m\u001b[38;5;124;43m_open\u001b[39;49m\u001b[38;5;124;43m'\u001b[39;49m\u001b[43m,\u001b[49m\u001b[43m \u001b[49m\u001b[43mreq\u001b[49m\u001b[43m)\u001b[49m\n\u001b[1;32m    538\u001b[0m \u001b[38;5;28;01mif\u001b[39;00m result:\n\u001b[1;32m    539\u001b[0m     \u001b[38;5;28;01mreturn\u001b[39;00m result\n",
      "File \u001b[0;32m/usr/lib64/python3.11/urllib/request.py:496\u001b[0m, in \u001b[0;36mOpenerDirector._call_chain\u001b[0;34m(self, chain, kind, meth_name, *args)\u001b[0m\n\u001b[1;32m    494\u001b[0m \u001b[38;5;28;01mfor\u001b[39;00m handler \u001b[38;5;129;01min\u001b[39;00m handlers:\n\u001b[1;32m    495\u001b[0m     func \u001b[38;5;241m=\u001b[39m \u001b[38;5;28mgetattr\u001b[39m(handler, meth_name)\n\u001b[0;32m--> 496\u001b[0m     result \u001b[38;5;241m=\u001b[39m \u001b[43mfunc\u001b[49m\u001b[43m(\u001b[49m\u001b[38;5;241;43m*\u001b[39;49m\u001b[43margs\u001b[49m\u001b[43m)\u001b[49m\n\u001b[1;32m    497\u001b[0m     \u001b[38;5;28;01mif\u001b[39;00m result \u001b[38;5;129;01mis\u001b[39;00m \u001b[38;5;129;01mnot\u001b[39;00m \u001b[38;5;28;01mNone\u001b[39;00m:\n\u001b[1;32m    498\u001b[0m         \u001b[38;5;28;01mreturn\u001b[39;00m result\n",
      "File \u001b[0;32m/usr/lib64/python3.11/urllib/request.py:1391\u001b[0m, in \u001b[0;36mHTTPSHandler.https_open\u001b[0;34m(self, req)\u001b[0m\n\u001b[1;32m   1390\u001b[0m \u001b[38;5;28;01mdef\u001b[39;00m \u001b[38;5;21mhttps_open\u001b[39m(\u001b[38;5;28mself\u001b[39m, req):\n\u001b[0;32m-> 1391\u001b[0m     \u001b[38;5;28;01mreturn\u001b[39;00m \u001b[38;5;28;43mself\u001b[39;49m\u001b[38;5;241;43m.\u001b[39;49m\u001b[43mdo_open\u001b[49m\u001b[43m(\u001b[49m\u001b[43mhttp\u001b[49m\u001b[38;5;241;43m.\u001b[39;49m\u001b[43mclient\u001b[49m\u001b[38;5;241;43m.\u001b[39;49m\u001b[43mHTTPSConnection\u001b[49m\u001b[43m,\u001b[49m\u001b[43m \u001b[49m\u001b[43mreq\u001b[49m\u001b[43m,\u001b[49m\n\u001b[1;32m   1392\u001b[0m \u001b[43m        \u001b[49m\u001b[43mcontext\u001b[49m\u001b[38;5;241;43m=\u001b[39;49m\u001b[38;5;28;43mself\u001b[39;49m\u001b[38;5;241;43m.\u001b[39;49m\u001b[43m_context\u001b[49m\u001b[43m,\u001b[49m\u001b[43m \u001b[49m\u001b[43mcheck_hostname\u001b[49m\u001b[38;5;241;43m=\u001b[39;49m\u001b[38;5;28;43mself\u001b[39;49m\u001b[38;5;241;43m.\u001b[39;49m\u001b[43m_check_hostname\u001b[49m\u001b[43m)\u001b[49m\n",
      "File \u001b[0;32m/usr/lib64/python3.11/urllib/request.py:1317\u001b[0m, in \u001b[0;36mAbstractHTTPHandler.do_open\u001b[0;34m(self, http_class, req, **http_conn_args)\u001b[0m\n\u001b[1;32m   1314\u001b[0m     \u001b[38;5;28;01mraise\u001b[39;00m URLError(\u001b[38;5;124m'\u001b[39m\u001b[38;5;124mno host given\u001b[39m\u001b[38;5;124m'\u001b[39m)\n\u001b[1;32m   1316\u001b[0m \u001b[38;5;66;03m# will parse host:port\u001b[39;00m\n\u001b[0;32m-> 1317\u001b[0m h \u001b[38;5;241m=\u001b[39m \u001b[43mhttp_class\u001b[49m\u001b[43m(\u001b[49m\u001b[43mhost\u001b[49m\u001b[43m,\u001b[49m\u001b[43m \u001b[49m\u001b[43mtimeout\u001b[49m\u001b[38;5;241;43m=\u001b[39;49m\u001b[43mreq\u001b[49m\u001b[38;5;241;43m.\u001b[39;49m\u001b[43mtimeout\u001b[49m\u001b[43m,\u001b[49m\u001b[43m \u001b[49m\u001b[38;5;241;43m*\u001b[39;49m\u001b[38;5;241;43m*\u001b[39;49m\u001b[43mhttp_conn_args\u001b[49m\u001b[43m)\u001b[49m\n\u001b[1;32m   1318\u001b[0m h\u001b[38;5;241m.\u001b[39mset_debuglevel(\u001b[38;5;28mself\u001b[39m\u001b[38;5;241m.\u001b[39m_debuglevel)\n\u001b[1;32m   1320\u001b[0m headers \u001b[38;5;241m=\u001b[39m \u001b[38;5;28mdict\u001b[39m(req\u001b[38;5;241m.\u001b[39munredirected_hdrs)\n",
      "File \u001b[0;32m/usr/lib64/python3.11/http/client.py:1437\u001b[0m, in \u001b[0;36mHTTPSConnection.__init__\u001b[0;34m(self, host, port, key_file, cert_file, timeout, source_address, context, check_hostname, blocksize)\u001b[0m\n\u001b[1;32m   1435\u001b[0m \u001b[38;5;28mself\u001b[39m\u001b[38;5;241m.\u001b[39mcert_file \u001b[38;5;241m=\u001b[39m cert_file\n\u001b[1;32m   1436\u001b[0m \u001b[38;5;28;01mif\u001b[39;00m context \u001b[38;5;129;01mis\u001b[39;00m \u001b[38;5;28;01mNone\u001b[39;00m:\n\u001b[0;32m-> 1437\u001b[0m     context \u001b[38;5;241m=\u001b[39m \u001b[43mssl\u001b[49m\u001b[38;5;241;43m.\u001b[39;49m\u001b[43m_create_default_https_context\u001b[49m\u001b[43m(\u001b[49m\u001b[43m)\u001b[49m\n\u001b[1;32m   1438\u001b[0m     \u001b[38;5;66;03m# send ALPN extension to indicate HTTP/1.1 protocol\u001b[39;00m\n\u001b[1;32m   1439\u001b[0m     \u001b[38;5;28;01mif\u001b[39;00m \u001b[38;5;28mself\u001b[39m\u001b[38;5;241m.\u001b[39m_http_vsn \u001b[38;5;241m==\u001b[39m \u001b[38;5;241m11\u001b[39m:\n",
      "File \u001b[0;32m/usr/lib64/python3.11/ssl.py:775\u001b[0m, in \u001b[0;36mcreate_default_context\u001b[0;34m(purpose, cafile, capath, cadata)\u001b[0m\n\u001b[1;32m    770\u001b[0m     context\u001b[38;5;241m.\u001b[39mload_verify_locations(cafile, capath, cadata)\n\u001b[1;32m    771\u001b[0m \u001b[38;5;28;01melif\u001b[39;00m context\u001b[38;5;241m.\u001b[39mverify_mode \u001b[38;5;241m!=\u001b[39m CERT_NONE:\n\u001b[1;32m    772\u001b[0m     \u001b[38;5;66;03m# no explicit cafile, capath or cadata but the verify mode is\u001b[39;00m\n\u001b[1;32m    773\u001b[0m     \u001b[38;5;66;03m# CERT_OPTIONAL or CERT_REQUIRED. Let's try to load default system\u001b[39;00m\n\u001b[1;32m    774\u001b[0m     \u001b[38;5;66;03m# root CA certificates for the given purpose. This may fail silently.\u001b[39;00m\n\u001b[0;32m--> 775\u001b[0m     \u001b[43mcontext\u001b[49m\u001b[38;5;241;43m.\u001b[39;49m\u001b[43mload_default_certs\u001b[49m\u001b[43m(\u001b[49m\u001b[43mpurpose\u001b[49m\u001b[43m)\u001b[49m\n\u001b[1;32m    776\u001b[0m \u001b[38;5;66;03m# OpenSSL 1.1.1 keylog file\u001b[39;00m\n\u001b[1;32m    777\u001b[0m \u001b[38;5;28;01mif\u001b[39;00m \u001b[38;5;28mhasattr\u001b[39m(context, \u001b[38;5;124m'\u001b[39m\u001b[38;5;124mkeylog_filename\u001b[39m\u001b[38;5;124m'\u001b[39m):\n",
      "File \u001b[0;32m/usr/lib64/python3.11/ssl.py:597\u001b[0m, in \u001b[0;36mSSLContext.load_default_certs\u001b[0;34m(self, purpose)\u001b[0m\n\u001b[1;32m    595\u001b[0m     \u001b[38;5;28;01mfor\u001b[39;00m storename \u001b[38;5;129;01min\u001b[39;00m \u001b[38;5;28mself\u001b[39m\u001b[38;5;241m.\u001b[39m_windows_cert_stores:\n\u001b[1;32m    596\u001b[0m         \u001b[38;5;28mself\u001b[39m\u001b[38;5;241m.\u001b[39m_load_windows_store_certs(storename, purpose)\n\u001b[0;32m--> 597\u001b[0m \u001b[38;5;28;43mself\u001b[39;49m\u001b[38;5;241;43m.\u001b[39;49m\u001b[43mset_default_verify_paths\u001b[49m\u001b[43m(\u001b[49m\u001b[43m)\u001b[49m\n",
      "\u001b[0;31mKeyboardInterrupt\u001b[0m: "
     ]
    }
   ],
   "source": [
    "from string import Template\n",
    "from SPARQLWrapper import SPARQLWrapper, CSV, JSON\n",
    "from SPARQLWrapper.SPARQLExceptions import QueryBadFormed\n",
    "from urllib.error import HTTPError\n",
    "from requests import get\n",
    "\n",
    "\n",
    "sparql = SPARQLWrapper(\"https://test.opencitations.net/meta/sparql\")\n",
    "\n",
    "findings = []\n",
    "\n",
    "def get_type(doi):\n",
    "    HTTP_HEADERS = {\"authorization\": \"8c0f10ec-f033-4e81-a4ec-818a0232c1f8\"}\n",
    "    API_CALL = \"https://w3id.org/oc/meta/api/v1/metadata/{}\"\n",
    "\n",
    "    response = get(API_CALL.format('doi:'+doi), headers=HTTP_HEADERS)\n",
    "\n",
    "    return response.json()[0]['type']\n",
    "\n",
    "titles_df = pl.DataFrame()\n",
    "\n",
    "\n",
    "for iris_id, title in tqdm(iris_noid_titles[140:].iter_rows(), total=len(iris_noid_titles[140:])):\n",
    "    title = title.replace('\\r', ' ').replace('\\n', '').replace('\"', \"'\")\n",
    "    if len(title.split()) < 3:\n",
    "        continue\n",
    "    try:\n",
    "        sparql.setQuery(f\"\"\"\n",
    "                        PREFIX datacite: <http://purl.org/spar/datacite/>\n",
    "                        PREFIX dcterms: <http://purl.org/dc/terms/>\n",
    "                        PREFIX literal: <http://www.essepuntato.it/2010/06/literalreification/>\n",
    "                        PREFIX fabio: <http://purl.org/spar/fabio/>\n",
    "                        SELECT ?entity ?doi ?type\n",
    "                        WHERE {{\n",
    "                            ?entity dcterms:title \"{title}\" ;\n",
    "                                a ?type.\n",
    "                            ?entity datacite:hasIdentifier ?identifier.\n",
    "                            ?identifier datacite:usesIdentifierScheme datacite:doi.\n",
    "                            ?identifier literal:hasLiteralValue ?doi.\n",
    "                        FILTER (?type != fabio:Expression)\n",
    "                        }}\"\"\")\n",
    "        sparql.setReturnFormat(JSON)\n",
    "        results = sparql.query().convert()\n",
    "\n",
    "        if results[\"results\"][\"bindings\"]:\n",
    "            print(title, results[\"results\"][\"bindings\"])\n",
    "            for result in results[\"results\"][\"bindings\"]:\n",
    "                entity = result[\"entity\"][\"value\"]\n",
    "                doi = result[\"doi\"][\"value\"]\n",
    "                type = result[\"type\"][\"value\"]\n",
    "                findings.append({'title': title, 'omid': entity.replace(\"https://w3id.org/oc/meta/\", 'omid:'), 'id': \"doi:\"+doi, 'type': get_type(doi), 'iris_id': iris_id})\n",
    "\n",
    "    except (QueryBadFormed, HTTPError) as e:\n",
    "        continue"
   ]
  },
  {
   "cell_type": "code",
   "execution_count": 7,
   "metadata": {},
   "outputs": [
    {
     "data": {
      "text/plain": [
       "[{'title': 'Hybrid Modelling Of A Car Driveline For Servo-Actuated Gear Shift',\n",
       "  'omid': 'omid:br/061403332327',\n",
       "  'id': 'doi:10.1109/isie.2005.1528916',\n",
       "  'type': 'proceedings article',\n",
       "  'iris_id': 55620}]"
      ]
     },
     "execution_count": 7,
     "metadata": {},
     "output_type": "execute_result"
    }
   ],
   "source": [
    "findings"
   ]
  },
  {
   "cell_type": "code",
   "execution_count": 8,
   "metadata": {},
   "outputs": [
    {
     "data": {
      "text/html": [
       "<div><style>\n",
       ".dataframe > thead > tr,\n",
       ".dataframe > tbody > tr {\n",
       "  text-align: right;\n",
       "  white-space: pre-wrap;\n",
       "}\n",
       "</style>\n",
       "<small>shape: (1, 5)</small><table border=\"1\" class=\"dataframe\"><thead><tr><th>title</th><th>omid</th><th>id</th><th>type</th><th>iris_id</th></tr><tr><td>str</td><td>str</td><td>str</td><td>str</td><td>i64</td></tr></thead><tbody><tr><td>&quot;Hybrid Modelling Of A Car Driveline For Servo-Actuated Gear Shift&quot;</td><td>&quot;omid:br/061403332327&quot;</td><td>&quot;doi:10.1109/isie.2005.1528916&quot;</td><td>&quot;proceedings article&quot;</td><td>55620</td></tr></tbody></table></div>"
      ],
      "text/plain": [
       "shape: (1, 5)\n",
       "┌──────────────────────┬─────────────────────┬─────────────────────┬─────────────────────┬─────────┐\n",
       "│ title                ┆ omid                ┆ id                  ┆ type                ┆ iris_id │\n",
       "│ ---                  ┆ ---                 ┆ ---                 ┆ ---                 ┆ ---     │\n",
       "│ str                  ┆ str                 ┆ str                 ┆ str                 ┆ i64     │\n",
       "╞══════════════════════╪═════════════════════╪═════════════════════╪═════════════════════╪═════════╡\n",
       "│ Hybrid Modelling Of  ┆ omid:br/06140333232 ┆ doi:10.1109/isie.20 ┆ proceedings article ┆ 55620   │\n",
       "│ A Car Driveline For  ┆ 7                   ┆ 05.1528916          ┆                     ┆         │\n",
       "│ Servo-Actuated Gear  ┆                     ┆                     ┆                     ┆         │\n",
       "│ Shift                ┆                     ┆                     ┆                     ┆         │\n",
       "└──────────────────────┴─────────────────────┴─────────────────────┴─────────────────────┴─────────┘"
      ]
     },
     "execution_count": 8,
     "metadata": {},
     "output_type": "execute_result"
    }
   ],
   "source": [
    "findings_df = pl.DataFrame(findings)\n",
    "findings_df"
   ]
  },
  {
   "cell_type": "code",
   "execution_count": 10,
   "metadata": {},
   "outputs": [
    {
     "data": {
      "text/html": [
       "<div><style>\n",
       ".dataframe > thead > tr,\n",
       ".dataframe > tbody > tr {\n",
       "  text-align: right;\n",
       "  white-space: pre-wrap;\n",
       "}\n",
       "</style>\n",
       "<small>shape: (5, 5)</small><table border=\"1\" class=\"dataframe\"><thead><tr><th>id</th><th>title</th><th>type</th><th>omid</th><th>iris_id</th></tr><tr><td>str</td><td>str</td><td>str</td><td>str</td><td>i32</td></tr></thead><tbody><tr><td>&quot;doi:10.1002/widm.1511&quot;</td><td>&quot;A White Paper On Good Research Practices In Benchmarking: The Case Of Cluster Analysis&quot;</td><td>&quot;journal article&quot;</td><td>&quot;omid:br/06510108547&quot;</td><td>776472</td></tr><tr><td>&quot;doi:10.1093/annonc/mdx033&quot;</td><td>&quot;European Cancer Mortality Predictions For The Year 2017, With Focus On Lung Cancer&quot;</td><td>&quot;journal article&quot;</td><td>&quot;omid:br/062503328173&quot;</td><td>388298</td></tr><tr><td>&quot;doi:10.1016/j.jmatprotec.2017.10.019&quot;</td><td>&quot;High Throughput Hybrid Laser Assisted Machining Of Sintered Reaction Bonded Silicon Nitride&quot;</td><td>&quot;journal article&quot;</td><td>&quot;omid:br/062503328812&quot;</td><td>320811</td></tr><tr><td>&quot;doi:10.1093/annonc/mdw306&quot;</td><td>&quot;Global Trends And Predictions In Ovarian Cancer Mortality&quot;</td><td>&quot;journal article&quot;</td><td>&quot;omid:br/062503328364&quot;</td><td>632727</td></tr><tr><td>&quot;doi:10.1093/annonc/mdw430&quot;</td><td>&quot;Short, Full-Dose Adjuvant Chemotherapy (CT) In High-Risk Adult Soft Tissue Sarcomas (STS): Long-Ter…</td><td>&quot;journal article&quot;</td><td>&quot;omid:br/062503328314&quot;</td><td>301915</td></tr></tbody></table></div>"
      ],
      "text/plain": [
       "shape: (5, 5)\n",
       "┌───────────────────────┬───────────────────────┬─────────────────┬──────────────────────┬─────────┐\n",
       "│ id                    ┆ title                 ┆ type            ┆ omid                 ┆ iris_id │\n",
       "│ ---                   ┆ ---                   ┆ ---             ┆ ---                  ┆ ---     │\n",
       "│ str                   ┆ str                   ┆ str             ┆ str                  ┆ i32     │\n",
       "╞═══════════════════════╪═══════════════════════╪═════════════════╪══════════════════════╪═════════╡\n",
       "│ doi:10.1002/widm.1511 ┆ A White Paper On Good ┆ journal article ┆ omid:br/06510108547  ┆ 776472  │\n",
       "│                       ┆ Research Practices In ┆                 ┆                      ┆         │\n",
       "│                       ┆ Benchmarking: The     ┆                 ┆                      ┆         │\n",
       "│                       ┆ Case Of Cluster       ┆                 ┆                      ┆         │\n",
       "│                       ┆ Analysis              ┆                 ┆                      ┆         │\n",
       "│ doi:10.1093/annonc/md ┆ European Cancer       ┆ journal article ┆ omid:br/062503328173 ┆ 388298  │\n",
       "│ x033                  ┆ Mortality Predictions ┆                 ┆                      ┆         │\n",
       "│                       ┆ For The Year 2017,    ┆                 ┆                      ┆         │\n",
       "│                       ┆ With Focus On Lung    ┆                 ┆                      ┆         │\n",
       "│                       ┆ Cancer                ┆                 ┆                      ┆         │\n",
       "│ doi:10.1016/j.jmatpro ┆ High Throughput       ┆ journal article ┆ omid:br/062503328812 ┆ 320811  │\n",
       "│ tec.2017.10.019       ┆ Hybrid Laser Assisted ┆                 ┆                      ┆         │\n",
       "│                       ┆ Machining Of Sintered ┆                 ┆                      ┆         │\n",
       "│                       ┆ Reaction Bonded       ┆                 ┆                      ┆         │\n",
       "│                       ┆ Silicon Nitride       ┆                 ┆                      ┆         │\n",
       "│ doi:10.1093/annonc/md ┆ Global Trends And     ┆ journal article ┆ omid:br/062503328364 ┆ 632727  │\n",
       "│ w306                  ┆ Predictions In        ┆                 ┆                      ┆         │\n",
       "│                       ┆ Ovarian Cancer        ┆                 ┆                      ┆         │\n",
       "│                       ┆ Mortality             ┆                 ┆                      ┆         │\n",
       "│ doi:10.1093/annonc/md ┆ Short, Full-Dose      ┆ journal article ┆ omid:br/062503328314 ┆ 301915  │\n",
       "│ w430                  ┆ Adjuvant Chemotherapy ┆                 ┆                      ┆         │\n",
       "│                       ┆ (CT) In High-Risk     ┆                 ┆                      ┆         │\n",
       "│                       ┆ Adult Soft Tissue     ┆                 ┆                      ┆         │\n",
       "│                       ┆ Sarcomas (STS):       ┆                 ┆                      ┆         │\n",
       "│                       ┆ Long-Term…            ┆                 ┆                      ┆         │\n",
       "└───────────────────────┴───────────────────────┴─────────────────┴──────────────────────┴─────────┘"
      ]
     },
     "execution_count": 10,
     "metadata": {},
     "output_type": "execute_result"
    }
   ],
   "source": [
    "lf_iim = pl.scan_parquet('data/iris_in_meta/*.parquet')\n",
    "lf_iim.head().collect()"
   ]
  },
  {
   "cell_type": "markdown",
   "metadata": {},
   "source": [
    "#### dask"
   ]
  },
  {
   "cell_type": "code",
   "execution_count": 91,
   "metadata": {},
   "outputs": [],
   "source": [
    "iris_noid_titles = (\n",
    "    df[['IDE_DOI', 'IDE_ISBN', 'TITLE']]\n",
    "    .filter(\n",
    "        pl.col('IDE_DOI').is_null() & pl.col('IDE_ISBN').is_null()\n",
    "    )\n",
    ")['TITLE'].to_list()"
   ]
  },
  {
   "cell_type": "code",
   "execution_count": 45,
   "metadata": {},
   "outputs": [
    {
     "data": {
      "text/plain": [
       "105327"
      ]
     },
     "execution_count": 45,
     "metadata": {},
     "output_type": "execute_result"
    }
   ],
   "source": [
    "len(iris_noid_titles)"
   ]
  },
  {
   "cell_type": "code",
   "execution_count": 9,
   "metadata": {},
   "outputs": [],
   "source": [
    "zip_file = ZipFile('data/csv_openalex.zip')\n",
    "csvs = ['zip://'+n for n in zip_file.namelist() if n.endswith('.csv')]"
   ]
  },
  {
   "cell_type": "code",
   "execution_count": 13,
   "metadata": {},
   "outputs": [],
   "source": [
    "ddf = dd.read_csv(csvs, storage_options={'fo': zip_file.filename}, usecols=['title'])"
   ]
  },
  {
   "cell_type": "code",
   "execution_count": 30,
   "metadata": {},
   "outputs": [
    {
     "name": "stdout",
     "output_type": "stream",
     "text": [
      "[########################################] | 100% Completed | 101.88 ms\n"
     ]
    },
    {
     "data": {
      "text/html": [
       "<div>\n",
       "<style scoped>\n",
       "    .dataframe tbody tr th:only-of-type {\n",
       "        vertical-align: middle;\n",
       "    }\n",
       "\n",
       "    .dataframe tbody tr th {\n",
       "        vertical-align: top;\n",
       "    }\n",
       "\n",
       "    .dataframe thead th {\n",
       "        text-align: right;\n",
       "    }\n",
       "</style>\n",
       "<table border=\"1\" class=\"dataframe\">\n",
       "  <thead>\n",
       "    <tr style=\"text-align: right;\">\n",
       "      <th></th>\n",
       "      <th>title</th>\n",
       "    </tr>\n",
       "  </thead>\n",
       "  <tbody>\n",
       "    <tr>\n",
       "      <th>0</th>\n",
       "      <td>Expression Of Cyclin-Dependent Kinases Inhibit...</td>\n",
       "    </tr>\n",
       "    <tr>\n",
       "      <th>1</th>\n",
       "      <td>Effects Of Treatment Of Rats With Indole-3-Car...</td>\n",
       "    </tr>\n",
       "    <tr>\n",
       "      <th>2</th>\n",
       "      <td>Parathyroid Hormone-Related Peptide And Cardio...</td>\n",
       "    </tr>\n",
       "    <tr>\n",
       "      <th>3</th>\n",
       "      <td>Oral Immunisation Of Chickens Using Cholera To...</td>\n",
       "    </tr>\n",
       "    <tr>\n",
       "      <th>4</th>\n",
       "      <td>Influence Of Stage Classification, Tumor Diffe...</td>\n",
       "    </tr>\n",
       "  </tbody>\n",
       "</table>\n",
       "</div>"
      ],
      "text/plain": [
       "                                               title\n",
       "0  Expression Of Cyclin-Dependent Kinases Inhibit...\n",
       "1  Effects Of Treatment Of Rats With Indole-3-Car...\n",
       "2  Parathyroid Hormone-Related Peptide And Cardio...\n",
       "3  Oral Immunisation Of Chickens Using Cholera To...\n",
       "4  Influence Of Stage Classification, Tumor Diffe..."
      ]
     },
     "execution_count": 30,
     "metadata": {},
     "output_type": "execute_result"
    }
   ],
   "source": [
    "ddf.partitions[0].head()"
   ]
  },
  {
   "cell_type": "code",
   "execution_count": null,
   "metadata": {},
   "outputs": [],
   "source": [
    "import numpy as np\n",
    "\n",
    "\n",
    "def compare_title_similarity(title, list_):\n",
    "    res = process.extractOne(title, list_, scorer=fuzz.token_sort_ratio, score_cutoff=70)\n",
    "    return title, res\n",
    "\n",
    "\n",
    "def find_fuzzy(list_from_user, list_from_DB, score_cutoff: int):\n",
    "    score_matrix = process.cdist(\n",
    "        list_from_user,\n",
    "        list_from_DB,\n",
    "        processor=str.lower,\n",
    "        scorer=fuzz.ratio,\n",
    "        dtype=np.uint8,  # Output the score as uint8, which is faster.\n",
    "        workers=-1,  # Use multithreading. -1 means use all cores.\n",
    "        score_cutoff=score_cutoff,\n",
    "    )\n",
    "\n",
    "    results = []\n",
    "    user_indices, db_indices = np.nonzero(score_matrix)\n",
    "    for user_index_of_match, db_index_of_match in zip(user_indices, db_indices):\n",
    "        results.append(\n",
    "            {\n",
    "                \"user_index_of_match\": user_index_of_match,\n",
    "                \"db_index_of_match\": db_index_of_match,\n",
    "                \"user_item_of_match\": list_from_user[user_index_of_match],\n",
    "                \"db_item_of_match\": list_from_DB[db_index_of_match],\n",
    "                \"score_of_match\": score_matrix[user_index_of_match, db_index_of_match],\n",
    "            }\n",
    "        )\n",
    "    return results\n"
   ]
  },
  {
   "cell_type": "code",
   "execution_count": 48,
   "metadata": {},
   "outputs": [
    {
     "ename": "AttributeError",
     "evalue": "'Series' object has no attribute 'query'",
     "output_type": "error",
     "traceback": [
      "\u001b[0;31m---------------------------------------------------------------------------\u001b[0m",
      "\u001b[0;31mAttributeError\u001b[0m                            Traceback (most recent call last)",
      "File \u001b[0;32m~/.local/lib/python3.11/site-packages/dask_expr/_core.py:459\u001b[0m, in \u001b[0;36mExpr.__getattr__\u001b[0;34m(self, key)\u001b[0m\n\u001b[1;32m    458\u001b[0m \u001b[38;5;28;01mtry\u001b[39;00m:\n\u001b[0;32m--> 459\u001b[0m     \u001b[38;5;28;01mreturn\u001b[39;00m \u001b[38;5;28;43mobject\u001b[39;49m\u001b[38;5;241;43m.\u001b[39;49m\u001b[38;5;21;43m__getattribute__\u001b[39;49m\u001b[43m(\u001b[49m\u001b[38;5;28;43mself\u001b[39;49m\u001b[43m,\u001b[49m\u001b[43m \u001b[49m\u001b[43mkey\u001b[49m\u001b[43m)\u001b[49m\n\u001b[1;32m    460\u001b[0m \u001b[38;5;28;01mexcept\u001b[39;00m \u001b[38;5;167;01mAttributeError\u001b[39;00m \u001b[38;5;28;01mas\u001b[39;00m err:\n",
      "\u001b[0;31mAttributeError\u001b[0m: 'FunctionMap' object has no attribute 'query'",
      "\nDuring handling of the above exception, another exception occurred:\n",
      "\u001b[0;31mAttributeError\u001b[0m                            Traceback (most recent call last)",
      "File \u001b[0;32m~/.local/lib/python3.11/site-packages/dask_expr/_collection.py:619\u001b[0m, in \u001b[0;36mFrameBase.__getattr__\u001b[0;34m(self, key)\u001b[0m\n\u001b[1;32m    616\u001b[0m \u001b[38;5;28;01mtry\u001b[39;00m:\n\u001b[1;32m    617\u001b[0m     \u001b[38;5;66;03m# Fall back to `expr` API\u001b[39;00m\n\u001b[1;32m    618\u001b[0m     \u001b[38;5;66;03m# (Making sure to convert to/from Expr)\u001b[39;00m\n\u001b[0;32m--> 619\u001b[0m     val \u001b[38;5;241m=\u001b[39m \u001b[38;5;28mgetattr\u001b[39m(\u001b[38;5;28mself\u001b[39m\u001b[38;5;241m.\u001b[39mexpr, key)\n\u001b[1;32m    620\u001b[0m     \u001b[38;5;28;01mif\u001b[39;00m callable(val):\n",
      "File \u001b[0;32m~/.local/lib/python3.11/site-packages/dask_expr/_core.py:480\u001b[0m, in \u001b[0;36mExpr.__getattr__\u001b[0;34m(self, key)\u001b[0m\n\u001b[1;32m    479\u001b[0m link \u001b[38;5;241m=\u001b[39m \u001b[38;5;124m\"\u001b[39m\u001b[38;5;124mhttps://github.com/dask-contrib/dask-expr/blob/main/README.md#api-coverage\u001b[39m\u001b[38;5;124m\"\u001b[39m\n\u001b[0;32m--> 480\u001b[0m \u001b[38;5;28;01mraise\u001b[39;00m \u001b[38;5;167;01mAttributeError\u001b[39;00m(\n\u001b[1;32m    481\u001b[0m     \u001b[38;5;124mf\u001b[39m\u001b[38;5;124m\"\u001b[39m\u001b[38;5;132;01m{\u001b[39;00merr\u001b[38;5;132;01m}\u001b[39;00m\u001b[38;5;130;01m\\n\u001b[39;00m\u001b[38;5;130;01m\\n\u001b[39;00m\u001b[38;5;124m\"\u001b[39m\n\u001b[1;32m    482\u001b[0m     \u001b[38;5;124m\"\u001b[39m\u001b[38;5;124mThis often means that you are attempting to use an unsupported \u001b[39m\u001b[38;5;124m\"\u001b[39m\n\u001b[1;32m    483\u001b[0m     \u001b[38;5;124mf\u001b[39m\u001b[38;5;124m\"\u001b[39m\u001b[38;5;124mAPI function. Current API coverage is documented here: \u001b[39m\u001b[38;5;132;01m{\u001b[39;00mlink\u001b[38;5;132;01m}\u001b[39;00m\u001b[38;5;124m.\u001b[39m\u001b[38;5;124m\"\u001b[39m\n\u001b[1;32m    484\u001b[0m )\n",
      "\u001b[0;31mAttributeError\u001b[0m: 'FunctionMap' object has no attribute 'query'\n\nThis often means that you are attempting to use an unsupported API function. Current API coverage is documented here: https://github.com/dask-contrib/dask-expr/blob/main/README.md#api-coverage.",
      "\nDuring handling of the above exception, another exception occurred:\n",
      "\u001b[0;31mAttributeError\u001b[0m                            Traceback (most recent call last)",
      "Cell \u001b[0;32mIn[48], line 4\u001b[0m\n\u001b[1;32m      1\u001b[0m \u001b[38;5;66;03m#def starts_with(df):\u001b[39;00m\n\u001b[0;32m----> 4\u001b[0m title_ddf \u001b[38;5;241m=\u001b[39m \u001b[43mddf\u001b[49m\u001b[38;5;241;43m.\u001b[39;49m\u001b[43mpartitions\u001b[49m\u001b[43m[\u001b[49m\u001b[38;5;241;43m0\u001b[39;49m\u001b[43m]\u001b[49m\u001b[38;5;241;43m.\u001b[39;49m\u001b[43mtitle\u001b[49m\u001b[38;5;241;43m.\u001b[39;49m\u001b[43mstr\u001b[49m\u001b[38;5;241;43m.\u001b[39;49m\u001b[43mstartswith\u001b[49m\u001b[43m(\u001b[49m\u001b[38;5;124;43m'\u001b[39;49m\u001b[38;5;124;43mExpression\u001b[39;49m\u001b[38;5;124;43m'\u001b[39;49m\u001b[43m)\u001b[49m\u001b[38;5;241;43m.\u001b[39;49m\u001b[43mquery\u001b[49m(\u001b[38;5;124m'\u001b[39m\u001b[38;5;124mtitle\u001b[39m\u001b[38;5;124m'\u001b[39m)\u001b[38;5;241m.\u001b[39mcompute()\n\u001b[1;32m      5\u001b[0m title_ddf\n",
      "File \u001b[0;32m~/.local/lib/python3.11/site-packages/dask_expr/_collection.py:625\u001b[0m, in \u001b[0;36mFrameBase.__getattr__\u001b[0;34m(self, key)\u001b[0m\n\u001b[1;32m    622\u001b[0m     \u001b[38;5;28;01mreturn\u001b[39;00m val\n\u001b[1;32m    623\u001b[0m \u001b[38;5;28;01mexcept\u001b[39;00m \u001b[38;5;167;01mAttributeError\u001b[39;00m:\n\u001b[1;32m    624\u001b[0m     \u001b[38;5;66;03m# Raise original error\u001b[39;00m\n\u001b[0;32m--> 625\u001b[0m     \u001b[38;5;28;01mraise\u001b[39;00m err\n",
      "File \u001b[0;32m~/.local/lib/python3.11/site-packages/dask_expr/_collection.py:614\u001b[0m, in \u001b[0;36mFrameBase.__getattr__\u001b[0;34m(self, key)\u001b[0m\n\u001b[1;32m    611\u001b[0m \u001b[38;5;28;01mdef\u001b[39;00m \u001b[38;5;21m__getattr__\u001b[39m(\u001b[38;5;28mself\u001b[39m, key):\n\u001b[1;32m    612\u001b[0m     \u001b[38;5;28;01mtry\u001b[39;00m:\n\u001b[1;32m    613\u001b[0m         \u001b[38;5;66;03m# Prioritize `FrameBase` attributes\u001b[39;00m\n\u001b[0;32m--> 614\u001b[0m         \u001b[38;5;28;01mreturn\u001b[39;00m \u001b[38;5;28;43mobject\u001b[39;49m\u001b[38;5;241;43m.\u001b[39;49m\u001b[38;5;21;43m__getattribute__\u001b[39;49m\u001b[43m(\u001b[49m\u001b[38;5;28;43mself\u001b[39;49m\u001b[43m,\u001b[49m\u001b[43m \u001b[49m\u001b[43mkey\u001b[49m\u001b[43m)\u001b[49m\n\u001b[1;32m    615\u001b[0m     \u001b[38;5;28;01mexcept\u001b[39;00m \u001b[38;5;167;01mAttributeError\u001b[39;00m \u001b[38;5;28;01mas\u001b[39;00m err:\n\u001b[1;32m    616\u001b[0m         \u001b[38;5;28;01mtry\u001b[39;00m:\n\u001b[1;32m    617\u001b[0m             \u001b[38;5;66;03m# Fall back to `expr` API\u001b[39;00m\n\u001b[1;32m    618\u001b[0m             \u001b[38;5;66;03m# (Making sure to convert to/from Expr)\u001b[39;00m\n",
      "\u001b[0;31mAttributeError\u001b[0m: 'Series' object has no attribute 'query'"
     ]
    }
   ],
   "source": [
    "#def starts_with(df):\n",
    "\n",
    "\n",
    "title_ddf = ddf.partitions[0].title.str.startswith('Expression').compute()\n",
    "title_ddf"
   ]
  },
  {
   "cell_type": "code",
   "execution_count": 158,
   "metadata": {},
   "outputs": [
    {
     "data": {
      "text/html": [
       "<div><style>\n",
       ".dataframe > thead > tr,\n",
       ".dataframe > tbody > tr {\n",
       "  text-align: right;\n",
       "  white-space: pre-wrap;\n",
       "}\n",
       "</style>\n",
       "<small>shape: (1, 1)</small><table border=\"1\" class=\"dataframe\"><thead><tr><th>len</th></tr><tr><td>u32</td></tr></thead><tbody><tr><td>12352039</td></tr></tbody></table></div>"
      ],
      "text/plain": [
       "shape: (1, 1)\n",
       "┌──────────┐\n",
       "│ len      │\n",
       "│ ---      │\n",
       "│ u32      │\n",
       "╞══════════╡\n",
       "│ 12352039 │\n",
       "└──────────┘"
      ]
     },
     "execution_count": 158,
     "metadata": {},
     "output_type": "execute_result"
    }
   ],
   "source": [
    "lf_iim_null = pl.scan_parquet('data/iris_in_meta_no_id/*.parquet')\n",
    "\n",
    "#lf_iim_null.select(pl.len()).collect().head()\n",
    "#lf_iim_null.collect().head(20)\n",
    "\n",
    "lf_iim_null = (\n",
    "    lf_iim_null\n",
    "    .select('title')\n",
    "    .filter(\n",
    "        (pl.col('title') == \"\").not_()\n",
    "    )\n",
    ")\n",
    "\n",
    "lf_iim_null.select(pl.len()).collect()"
   ]
  },
  {
   "cell_type": "code",
   "execution_count": 177,
   "metadata": {},
   "outputs": [
    {
     "data": {
      "text/plain": [
       "12468046"
      ]
     },
     "execution_count": 177,
     "metadata": {},
     "output_type": "execute_result"
    }
   ],
   "source": [
    "116007 + 12352039"
   ]
  },
  {
   "cell_type": "code",
   "execution_count": 159,
   "metadata": {},
   "outputs": [
    {
     "ename": "TypeError",
     "evalue": "'LazyFrame' object is not subscriptable (aside from slicing)\n\nUse `select()` or `filter()` instead.",
     "output_type": "error",
     "traceback": [
      "\u001b[0;31m---------------------------------------------------------------------------\u001b[0m",
      "\u001b[0;31mTypeError\u001b[0m                                 Traceback (most recent call last)",
      "Cell \u001b[0;32mIn[159], line 2\u001b[0m\n\u001b[1;32m      1\u001b[0m \u001b[38;5;28;01mfor\u001b[39;00m title \u001b[38;5;129;01min\u001b[39;00m iris_noid_titles:\n\u001b[0;32m----> 2\u001b[0m     matches \u001b[38;5;241m=\u001b[39m process\u001b[38;5;241m.\u001b[39mextract(title, \u001b[43mlf_iim_null\u001b[49m\u001b[43m[\u001b[49m\u001b[38;5;124;43m'\u001b[39;49m\u001b[38;5;124;43mtitle\u001b[39;49m\u001b[38;5;124;43m'\u001b[39;49m\u001b[43m]\u001b[49m\u001b[38;5;241m.\u001b[39mto_list(), scorer\u001b[38;5;241m=\u001b[39mfuzz\u001b[38;5;241m.\u001b[39mtoken_sort_ratio, limit\u001b[38;5;241m=\u001b[39m\u001b[38;5;241m1\u001b[39m)\n\u001b[1;32m      3\u001b[0m     \u001b[38;5;28;01mif\u001b[39;00m matches:\n\u001b[1;32m      4\u001b[0m         \u001b[38;5;28mprint\u001b[39m(title, matches[\u001b[38;5;241m0\u001b[39m])\n",
      "File \u001b[0;32m~/.local/lib/python3.11/site-packages/polars/lazyframe/frame.py:517\u001b[0m, in \u001b[0;36mLazyFrame.__getitem__\u001b[0;34m(self, item)\u001b[0m\n\u001b[1;32m    512\u001b[0m \u001b[38;5;28;01mif\u001b[39;00m \u001b[38;5;129;01mnot\u001b[39;00m \u001b[38;5;28misinstance\u001b[39m(item, \u001b[38;5;28mslice\u001b[39m):\n\u001b[1;32m    513\u001b[0m     msg \u001b[38;5;241m=\u001b[39m (\n\u001b[1;32m    514\u001b[0m         \u001b[38;5;124m\"\u001b[39m\u001b[38;5;124m'\u001b[39m\u001b[38;5;124mLazyFrame\u001b[39m\u001b[38;5;124m'\u001b[39m\u001b[38;5;124m object is not subscriptable (aside from slicing)\u001b[39m\u001b[38;5;124m\"\u001b[39m\n\u001b[1;32m    515\u001b[0m         \u001b[38;5;124m\"\u001b[39m\u001b[38;5;130;01m\\n\u001b[39;00m\u001b[38;5;130;01m\\n\u001b[39;00m\u001b[38;5;124mUse `select()` or `filter()` instead.\u001b[39m\u001b[38;5;124m\"\u001b[39m\n\u001b[1;32m    516\u001b[0m     )\n\u001b[0;32m--> 517\u001b[0m     \u001b[38;5;28;01mraise\u001b[39;00m \u001b[38;5;167;01mTypeError\u001b[39;00m(msg)\n\u001b[1;32m    518\u001b[0m \u001b[38;5;28;01mreturn\u001b[39;00m LazyPolarsSlice(\u001b[38;5;28mself\u001b[39m)\u001b[38;5;241m.\u001b[39mapply(item)\n",
      "\u001b[0;31mTypeError\u001b[0m: 'LazyFrame' object is not subscriptable (aside from slicing)\n\nUse `select()` or `filter()` instead."
     ]
    }
   ],
   "source": [
    "for title in iris_noid_titles:\n",
    "    matches = process.extract(title, lf_iim_null['title'].to_list(), scorer=fuzz.token_sort_ratio, limit=1)\n",
    "    if matches:\n",
    "        print(title, matches[0])"
   ]
  },
  {
   "cell_type": "code",
   "execution_count": 27,
   "metadata": {},
   "outputs": [],
   "source": [
    "def compare_title_similarity(title):\n",
    "    res = process.extractOne(title, l, scorer=fuzz.token_sort_ratio, score_cutoff=70)\n",
    "    return title, res"
   ]
  },
  {
   "cell_type": "code",
   "execution_count": 5,
   "metadata": {},
   "outputs": [
    {
     "ename": "NameError",
     "evalue": "name 'lf_im_null' is not defined",
     "output_type": "error",
     "traceback": [
      "\u001b[0;31m---------------------------------------------------------------------------\u001b[0m",
      "\u001b[0;31mNameError\u001b[0m                                 Traceback (most recent call last)",
      "Cell \u001b[0;32mIn[5], line 7\u001b[0m\n\u001b[1;32m      2\u001b[0m     res \u001b[38;5;241m=\u001b[39m process\u001b[38;5;241m.\u001b[39mextractOne(title, noid_titles_list, scorer\u001b[38;5;241m=\u001b[39mfuzz\u001b[38;5;241m.\u001b[39mtoken_sort_ratio, score_cutoff\u001b[38;5;241m=\u001b[39m\u001b[38;5;241m50\u001b[39m)\n\u001b[1;32m      3\u001b[0m     \u001b[38;5;28;01mreturn\u001b[39;00m res[\u001b[38;5;241m1\u001b[39m] \u001b[38;5;28;01mif\u001b[39;00m res \u001b[38;5;28;01melse\u001b[39;00m \u001b[38;5;28;01mNone\u001b[39;00m\n\u001b[1;32m      6\u001b[0m lf_im_null_res \u001b[38;5;241m=\u001b[39m (\n\u001b[0;32m----> 7\u001b[0m     \u001b[43mlf_im_null\u001b[49m\n\u001b[1;32m      8\u001b[0m     \u001b[38;5;241m.\u001b[39mselect([\u001b[38;5;124m'\u001b[39m\u001b[38;5;124mtitle\u001b[39m\u001b[38;5;124m'\u001b[39m])\n\u001b[1;32m      9\u001b[0m     \u001b[38;5;241m.\u001b[39mwith_columns(\n\u001b[1;32m     10\u001b[0m         (pl\u001b[38;5;241m.\u001b[39mcol(\u001b[38;5;124m'\u001b[39m\u001b[38;5;124mtitle\u001b[39m\u001b[38;5;124m'\u001b[39m)\u001b[38;5;241m.\u001b[39mmap_elements(compare_title_similarity, return_dtype\u001b[38;5;241m=\u001b[39mpl\u001b[38;5;241m.\u001b[39mInt64))\u001b[38;5;241m.\u001b[39malias(\u001b[38;5;124m'\u001b[39m\u001b[38;5;124mtitle_similarity\u001b[39m\u001b[38;5;124m'\u001b[39m)\n\u001b[1;32m     11\u001b[0m     )\n\u001b[1;32m     12\u001b[0m     \u001b[38;5;241m.\u001b[39mdrop_nulls(\u001b[38;5;124m'\u001b[39m\u001b[38;5;124mtitle_similarity\u001b[39m\u001b[38;5;124m'\u001b[39m)\n\u001b[1;32m     13\u001b[0m )\n",
      "\u001b[0;31mNameError\u001b[0m: name 'lf_im_null' is not defined"
     ]
    }
   ],
   "source": [
    "\n",
    "\n",
    "lf_im_null_res = (\n",
    "    lf_im_null\n",
    "    .select(['title'])\n",
    "    .with_columns(\n",
    "        (pl.col('title').map_elements(compare_title_similarity, return_dtype=pl.Int64)).alias('title_similarity')\n",
    "    )\n",
    "    .drop_nulls('title_similarity')\n",
    ")"
   ]
  },
  {
   "cell_type": "code",
   "execution_count": 11,
   "metadata": {},
   "outputs": [],
   "source": [
    "lf_im_null_res = (\n",
    "    lf_im_null\n",
    "    .select(['title'])\n",
    "    .filter(\n",
    "        pl.col('title') != \"\"\n",
    "    )\n",
    ")\n",
    "\n",
    "#lf_im_null.select(pl.len()).collect().head()\n",
    "l = lf_im_null_res.collect()['title']"
   ]
  },
  {
   "cell_type": "code",
   "execution_count": 12,
   "metadata": {},
   "outputs": [
    {
     "data": {
      "text/plain": [
       "polars.series.series.Series"
      ]
     },
     "execution_count": 12,
     "metadata": {},
     "output_type": "execute_result"
    }
   ],
   "source": [
    "type(l)"
   ]
  },
  {
   "cell_type": "code",
   "execution_count": 17,
   "metadata": {},
   "outputs": [
    {
     "data": {
      "text/plain": [
       "105327"
      ]
     },
     "execution_count": 17,
     "metadata": {},
     "output_type": "execute_result"
    }
   ],
   "source": [
    "len(noid_titles_list)"
   ]
  },
  {
   "cell_type": "code",
   "execution_count": 22,
   "metadata": {},
   "outputs": [
    {
     "data": {
      "application/vnd.jupyter.widget-view+json": {
       "model_id": "be776960fb5a45f599dcc6ebaaafaaaa",
       "version_major": 2,
       "version_minor": 0
      },
      "text/plain": [
       "  0%|          | 0/10 [00:00<?, ?it/s]"
      ]
     },
     "metadata": {},
     "output_type": "display_data"
    },
    {
     "name": "stdout",
     "output_type": "stream",
     "text": [
      "[('Applications of CeCl3.7H2O-NaI System Towards the Formation of Heterocyclic Structures', ('[The Interferon System: Structure, Biology, Applications].', 58.33333333333333, 4574416)), ('Radioattività naturale delle materie prime ceramiche e relative condizioni di esposizione occupazionale nell’industria', None), ('Gli istituti generali di semplificazione: la conferenza di servizi e le sue trasformazioni', ('Transformation Consistent Self-ensembling Model For Semi-supervised Medical Image Segmentation', 51.08695652173913, 5867090)), (\"Commento all’art.8 d.lgs. 154/2004 - Procedimenti ai sensi dell'articolo 88 del Trattato istitutivo della Comunitaà europea\", None), ('2005: agricoltura centro o fine del mondo?', ('Agricultural Policy Monitoring And Evaluation 2020', 54.347826086956516, 5804189)), ('Aspetti emotivi e comportamentali dell’improvvisazione jazzistica: il punto di vista del musicista', None), ('Phaseguide Structures for Pipette Actuated Laminar Flow Based Selective Sample Recovery', ('A Blind Adaptive CDMA Receiver Based On State Space Structures', 56.3758389261745, 10078822)), ('Studio del ciclo biologico di Myxobolus lentisuturalis (Myxozoa, Myxobolidae), parassita di Carassius auratus auratus.', None), ('The Other Side of the Timing Equation: a Result of Clock Faults', ('Verifying Search Results Over Web Collections', 55.55555555555556, 7185721)), ('Ritratto di Augusto capite velato', ('Augusto Pinochet', 53.06122448979591, 11738565))]\n"
     ]
    }
   ],
   "source": [
    "from tqdm.contrib.concurrent import process_map\n",
    "\n",
    "\n",
    "core_num = multiprocessing.cpu_count()\n",
    "\n",
    "r = process_map(compare_title_similarity, noid_titles_list[:10], max_workers=core_num, chunksize=1)\n",
    "\n",
    "print(r)\n"
   ]
  },
  {
   "cell_type": "code",
   "execution_count": 23,
   "metadata": {},
   "outputs": [
    {
     "data": {
      "text/plain": [
       "[('Applications of CeCl3.7H2O-NaI System Towards the Formation of Heterocyclic Structures',\n",
       "  ('[The Interferon System: Structure, Biology, Applications].',\n",
       "   58.33333333333333,\n",
       "   4574416)),\n",
       " ('Radioattività naturale delle materie prime ceramiche e relative condizioni di esposizione occupazionale nell’industria',\n",
       "  None),\n",
       " ('Gli istituti generali di semplificazione: la conferenza di servizi e le sue trasformazioni',\n",
       "  ('Transformation Consistent Self-ensembling Model For Semi-supervised Medical Image Segmentation',\n",
       "   51.08695652173913,\n",
       "   5867090)),\n",
       " (\"Commento all’art.8 d.lgs. 154/2004 - Procedimenti ai sensi dell'articolo 88 del Trattato istitutivo della Comunitaà europea\",\n",
       "  None),\n",
       " ('2005: agricoltura centro o fine del mondo?',\n",
       "  ('Agricultural Policy Monitoring And Evaluation 2020',\n",
       "   54.347826086956516,\n",
       "   5804189)),\n",
       " ('Aspetti emotivi e comportamentali dell’improvvisazione jazzistica: il punto di vista del musicista',\n",
       "  None),\n",
       " ('Phaseguide Structures for Pipette Actuated Laminar Flow Based Selective Sample Recovery',\n",
       "  ('A Blind Adaptive CDMA Receiver Based On State Space Structures',\n",
       "   56.3758389261745,\n",
       "   10078822)),\n",
       " ('Studio del ciclo biologico di Myxobolus lentisuturalis (Myxozoa, Myxobolidae), parassita di Carassius auratus auratus.',\n",
       "  None),\n",
       " ('The Other Side of the Timing Equation: a Result of Clock Faults',\n",
       "  ('Verifying Search Results Over Web Collections',\n",
       "   55.55555555555556,\n",
       "   7185721)),\n",
       " ('Ritratto di Augusto capite velato',\n",
       "  ('Augusto Pinochet', 53.06122448979591, 11738565))]"
      ]
     },
     "execution_count": 23,
     "metadata": {},
     "output_type": "execute_result"
    }
   ],
   "source": [
    "r"
   ]
  },
  {
   "cell_type": "code",
   "execution_count": 20,
   "metadata": {},
   "outputs": [
    {
     "data": {
      "text/plain": [
       "['Applications of CeCl3.7H2O-NaI System Towards the Formation of Heterocyclic Structures',\n",
       " 'Radioattività naturale delle materie prime ceramiche e relative condizioni di esposizione occupazionale nell’industria',\n",
       " 'Gli istituti generali di semplificazione: la conferenza di servizi e le sue trasformazioni',\n",
       " \"Commento all’art.8 d.lgs. 154/2004 - Procedimenti ai sensi dell'articolo 88 del Trattato istitutivo della Comunitaà europea\",\n",
       " '2005: agricoltura centro o fine del mondo?',\n",
       " 'Aspetti emotivi e comportamentali dell’improvvisazione jazzistica: il punto di vista del musicista',\n",
       " 'Phaseguide Structures for Pipette Actuated Laminar Flow Based Selective Sample Recovery',\n",
       " 'Studio del ciclo biologico di Myxobolus lentisuturalis (Myxozoa, Myxobolidae), parassita di Carassius auratus auratus.',\n",
       " 'The Other Side of the Timing Equation: a Result of Clock Faults',\n",
       " 'Ritratto di Augusto capite velato']"
      ]
     },
     "execution_count": 20,
     "metadata": {},
     "output_type": "execute_result"
    }
   ],
   "source": [
    "noid_titles_list[:10]"
   ]
  },
  {
   "cell_type": "code",
   "execution_count": 19,
   "metadata": {},
   "outputs": [
    {
     "data": {
      "text/plain": [
       "'[The Interferon System: Structure, Biology, Applications].'"
      ]
     },
     "execution_count": 19,
     "metadata": {},
     "output_type": "execute_result"
    }
   ],
   "source": [
    "l[4574416]"
   ]
  },
  {
   "cell_type": "markdown",
   "metadata": {},
   "source": [
    "### RQ1. What is the coverage of the publications available in IRIS (strictly concerning research conducted within the University of Bologna) in OpenCitations Meta?"
   ]
  },
  {
   "cell_type": "code",
   "execution_count": 17,
   "metadata": {},
   "outputs": [
    {
     "name": "stdout",
     "output_type": "stream",
     "text": [
      "shape: (1, 1)\n",
      "┌────────┐\n",
      "│ len    │\n",
      "│ ---    │\n",
      "│ u32    │\n",
      "╞════════╡\n",
      "│ 117764 │\n",
      "└────────┘\n",
      "115776\n",
      "1078\n",
      "910\n"
     ]
    }
   ],
   "source": [
    "lf_iim = pl.scan_parquet('data/iris_in_meta/*.parquet')\n",
    "#lf_iim.head().collect()\n",
    "print(lf_iim.select(pl.len()).collect())\n",
    "print(lf_iim.filter(pl.col('id').str.contains('doi')).select(pl.len()).collect().item())\n",
    "print(lf_iim.filter(pl.col('id').str.contains('pmid')).select(pl.len()).collect().item())\n",
    "print(lf_iim.filter(pl.col('id').str.contains('isbn')).select(pl.len()).collect().item())"
   ]
  },
  {
   "cell_type": "code",
   "execution_count": 54,
   "metadata": {},
   "outputs": [
    {
     "data": {
      "text/html": [
       "<div><style>\n",
       ".dataframe > thead > tr,\n",
       ".dataframe > tbody > tr {\n",
       "  text-align: right;\n",
       "  white-space: pre-wrap;\n",
       "}\n",
       "</style>\n",
       "<small>shape: (5, 5)</small><table border=\"1\" class=\"dataframe\"><thead><tr><th>id</th><th>title</th><th>type</th><th>omid</th><th>iris_id</th></tr><tr><td>str</td><td>str</td><td>str</td><td>str</td><td>i32</td></tr></thead><tbody><tr><td>&quot;doi:10.1038/s41467-021-26551-x&quot;</td><td>&quot;Genome-wide Association Study Identifies Susceptibility Loci For Acut…</td><td>&quot;journal article&quot;</td><td>&quot;omid:br/061401295311&quot;</td><td>788512</td></tr><tr><td>&quot;doi:10.1109/mmm.2016.2525119&quot;</td><td>&quot;Smart Solutions In Smart Spaces: Getting The Most From Far-Field Wire…</td><td>&quot;journal article&quot;</td><td>&quot;omid:br/062602181087&quot;</td><td>263669</td></tr><tr><td>&quot;doi:10.1063/1.5007641&quot;</td><td>&quot;Results From CUORE And CUORE-0&quot;</td><td>&quot;proceedings article&quot;</td><td>&quot;omid:br/062502355373&quot;</td><td>330526</td></tr><tr><td>&quot;doi:10.1177/1362480619859350&quot;</td><td>&quot;Immigration Detention As Social Defence: Policing ‘Dangerous Mobility…</td><td>&quot;journal article&quot;</td><td>&quot;omid:br/062401318568&quot;</td><td>441872</td></tr><tr><td>&quot;doi:10.1016/j.ejso.2022.04.011&quot;</td><td>&quot;Trial Sequential Analysis Of Randomized Controlled Trials On Neoadjuv…</td><td>&quot;journal article&quot;</td><td>&quot;omid:br/061201741385&quot;</td><td>684086</td></tr></tbody></table></div>"
      ],
      "text/plain": [
       "shape: (5, 5)\n",
       "┌──────────────────────┬─────────────────────┬─────────────────────┬─────────────────────┬─────────┐\n",
       "│ id                   ┆ title               ┆ type                ┆ omid                ┆ iris_id │\n",
       "│ ---                  ┆ ---                 ┆ ---                 ┆ ---                 ┆ ---     │\n",
       "│ str                  ┆ str                 ┆ str                 ┆ str                 ┆ i32     │\n",
       "╞══════════════════════╪═════════════════════╪═════════════════════╪═════════════════════╪═════════╡\n",
       "│ doi:10.1038/s41467-0 ┆ Genome-wide         ┆ journal article     ┆ omid:br/06140129531 ┆ 788512  │\n",
       "│ 21-26551-x           ┆ Association Study   ┆                     ┆ 1                   ┆         │\n",
       "│                      ┆ Identifies          ┆                     ┆                     ┆         │\n",
       "│                      ┆ Susceptibility Loci ┆                     ┆                     ┆         │\n",
       "│                      ┆ For Acute…          ┆                     ┆                     ┆         │\n",
       "│ doi:10.1109/mmm.2016 ┆ Smart Solutions In  ┆ journal article     ┆ omid:br/06260218108 ┆ 263669  │\n",
       "│ .2525119             ┆ Smart Spaces:       ┆                     ┆ 7                   ┆         │\n",
       "│                      ┆ Getting The Most    ┆                     ┆                     ┆         │\n",
       "│                      ┆ From Far-Field      ┆                     ┆                     ┆         │\n",
       "│                      ┆ Wirel…              ┆                     ┆                     ┆         │\n",
       "│ doi:10.1063/1.500764 ┆ Results From CUORE  ┆ proceedings article ┆ omid:br/06250235537 ┆ 330526  │\n",
       "│ 1                    ┆ And CUORE-0         ┆                     ┆ 3                   ┆         │\n",
       "│ doi:10.1177/13624806 ┆ Immigration         ┆ journal article     ┆ omid:br/06240131856 ┆ 441872  │\n",
       "│ 19859350             ┆ Detention As Social ┆                     ┆ 8                   ┆         │\n",
       "│                      ┆ Defence: Policing   ┆                     ┆                     ┆         │\n",
       "│                      ┆ ‘Dangerous          ┆                     ┆                     ┆         │\n",
       "│                      ┆ Mobility’…          ┆                     ┆                     ┆         │\n",
       "│ doi:10.1016/j.ejso.2 ┆ Trial Sequential    ┆ journal article     ┆ omid:br/06120174138 ┆ 684086  │\n",
       "│ 022.04.011           ┆ Analysis Of         ┆                     ┆ 5                   ┆         │\n",
       "│                      ┆ Randomized          ┆                     ┆                     ┆         │\n",
       "│                      ┆ Controlled Trials   ┆                     ┆                     ┆         │\n",
       "│                      ┆ On Neoadjuva…       ┆                     ┆                     ┆         │\n",
       "└──────────────────────┴─────────────────────┴─────────────────────┴─────────────────────┴─────────┘"
      ]
     },
     "execution_count": 54,
     "metadata": {},
     "output_type": "execute_result"
    }
   ],
   "source": [
    "pl.Config.set_fmt_str_lengths(70)\n",
    "lf_iim.collect().sample(5)"
   ]
  },
  {
   "cell_type": "code",
   "execution_count": 29,
   "metadata": {},
   "outputs": [
    {
     "data": {
      "text/html": [
       "<div><style>\n",
       ".dataframe > thead > tr,\n",
       ".dataframe > tbody > tr {\n",
       "  text-align: right;\n",
       "  white-space: pre-wrap;\n",
       "}\n",
       "</style>\n",
       "<small>shape: (304_952, 6)</small><table border=\"1\" class=\"dataframe\"><thead><tr><th>ITEM_ID</th><th>IDE_DOI</th><th>IDE_ISBN</th><th>IDE_PMID</th><th>YEAR_PUBLISHED</th><th>TITLE</th></tr><tr><td>i32</td><td>str</td><td>str</td><td>str</td><td>str</td><td>str</td></tr></thead><tbody><tr><td>2766</td><td>&quot;10.14411/fp.2008.015&quot;</td><td>null</td><td>&quot;18666414&quot;</td><td>&quot;2008&quot;</td><td>&quot;Bothriocephalidean tapeworms (Cestoda) from the blackfish, Centrolophus niger (Perciformes: Centrol…</td></tr><tr><td>3349</td><td>&quot;10.1016/j.econlet.2011.12.096&quot;</td><td>null</td><td>null</td><td>&quot;2012&quot;</td><td>&quot;Low-Quality leadership in a vertically differentiated duopoly with Cournot competition&quot;</td></tr><tr><td>3867</td><td>null</td><td>&quot;9788876655746&quot;</td><td>null</td><td>&quot;2009&quot;</td><td>&quot;Due autografi inediti di Luigi Dallapiccola&quot;</td></tr><tr><td>4342</td><td>null</td><td>&quot;8821724038&quot;</td><td>null</td><td>&quot;2006&quot;</td><td>&quot;Il sistema informativo contabile. Dalla pianificazione alla rendicontazione dei risultati&quot;</td></tr><tr><td>4585</td><td>null</td><td>&quot;9788861328112&quot;</td><td>null</td><td>&quot;2012&quot;</td><td>&quot;Commento all&#x27;art. 1271 cod. civ.&quot;</td></tr><tr><td>&hellip;</td><td>&hellip;</td><td>&hellip;</td><td>&hellip;</td><td>&hellip;</td><td>&hellip;</td></tr><tr><td>724623</td><td>&quot;10.3390/vetsci10010045&quot;</td><td>null</td><td>&quot;36669046&quot;</td><td>&quot;2023&quot;</td><td>&quot;Detection of Necrosis in Digitised Whole-Slide Images for Better Grading of Canine Soft-Tissue Sarc…</td></tr><tr><td>724249</td><td>null</td><td>&quot;9788898392117&quot;</td><td>null</td><td>&quot;2014&quot;</td><td>&quot;The Islamic ecumene. Erbil and its region from the conquest of Islam to the present&quot;</td></tr><tr><td>724571</td><td>null</td><td>null</td><td>null</td><td>&quot;2022&quot;</td><td>&quot;La Costituzione di Dobbs v. Jackson Women’s Health Organization. Un’analisi critica&quot;</td></tr><tr><td>724483</td><td>null</td><td>&quot;9788813309626&quot;</td><td>null</td><td>&quot;2012&quot;</td><td>&quot;Commento agli articoli da 99 a 110 - Concorsi di progettazione&quot;</td></tr><tr><td>724229</td><td>null</td><td>null</td><td>null</td><td>&quot;2020&quot;</td><td>&quot;Georg W. Bertram, L’arte come prassi umana. Un’estetica, a cura di F. Vercellone, tr. it. di A. Ber…</td></tr></tbody></table></div>"
      ],
      "text/plain": [
       "shape: (304_952, 6)\n",
       "┌─────────┬──────────────────────┬───────────────┬──────────┬────────────────┬─────────────────────┐\n",
       "│ ITEM_ID ┆ IDE_DOI              ┆ IDE_ISBN      ┆ IDE_PMID ┆ YEAR_PUBLISHED ┆ TITLE               │\n",
       "│ ---     ┆ ---                  ┆ ---           ┆ ---      ┆ ---            ┆ ---                 │\n",
       "│ i32     ┆ str                  ┆ str           ┆ str      ┆ str            ┆ str                 │\n",
       "╞═════════╪══════════════════════╪═══════════════╪══════════╪════════════════╪═════════════════════╡\n",
       "│ 2766    ┆ 10.14411/fp.2008.015 ┆ null          ┆ 18666414 ┆ 2008           ┆ Bothriocephalidean  │\n",
       "│         ┆                      ┆               ┆          ┆                ┆ tapeworms (Cestoda) │\n",
       "│         ┆                      ┆               ┆          ┆                ┆ from the blackfish, │\n",
       "│         ┆                      ┆               ┆          ┆                ┆ Centrolophus niger  │\n",
       "│         ┆                      ┆               ┆          ┆                ┆ (Perciformes:       │\n",
       "│         ┆                      ┆               ┆          ┆                ┆ Centrolo…           │\n",
       "│ 3349    ┆ 10.1016/j.econlet.20 ┆ null          ┆ null     ┆ 2012           ┆ Low-Quality         │\n",
       "│         ┆ 11.12.096            ┆               ┆          ┆                ┆ leadership in a     │\n",
       "│         ┆                      ┆               ┆          ┆                ┆ vertically          │\n",
       "│         ┆                      ┆               ┆          ┆                ┆ differentiated      │\n",
       "│         ┆                      ┆               ┆          ┆                ┆ duopoly with        │\n",
       "│         ┆                      ┆               ┆          ┆                ┆ Cournot competition │\n",
       "│ 3867    ┆ null                 ┆ 9788876655746 ┆ null     ┆ 2009           ┆ Due autografi       │\n",
       "│         ┆                      ┆               ┆          ┆                ┆ inediti di Luigi    │\n",
       "│         ┆                      ┆               ┆          ┆                ┆ Dallapiccola        │\n",
       "│ 4342    ┆ null                 ┆ 8821724038    ┆ null     ┆ 2006           ┆ Il sistema          │\n",
       "│         ┆                      ┆               ┆          ┆                ┆ informativo         │\n",
       "│         ┆                      ┆               ┆          ┆                ┆ contabile. Dalla    │\n",
       "│         ┆                      ┆               ┆          ┆                ┆ pianificazione alla │\n",
       "│         ┆                      ┆               ┆          ┆                ┆ rendicontazione dei │\n",
       "│         ┆                      ┆               ┆          ┆                ┆ risultati           │\n",
       "│ 4585    ┆ null                 ┆ 9788861328112 ┆ null     ┆ 2012           ┆ Commento all'art.   │\n",
       "│         ┆                      ┆               ┆          ┆                ┆ 1271 cod. civ.      │\n",
       "│ …       ┆ …                    ┆ …             ┆ …        ┆ …              ┆ …                   │\n",
       "│ 724623  ┆ 10.3390/vetsci100100 ┆ null          ┆ 36669046 ┆ 2023           ┆ Detection of        │\n",
       "│         ┆ 45                   ┆               ┆          ┆                ┆ Necrosis in         │\n",
       "│         ┆                      ┆               ┆          ┆                ┆ Digitised           │\n",
       "│         ┆                      ┆               ┆          ┆                ┆ Whole-Slide Images  │\n",
       "│         ┆                      ┆               ┆          ┆                ┆ for Better Grading  │\n",
       "│         ┆                      ┆               ┆          ┆                ┆ of Canine           │\n",
       "│         ┆                      ┆               ┆          ┆                ┆ Soft-Tissue Sarco…  │\n",
       "│ 724249  ┆ null                 ┆ 9788898392117 ┆ null     ┆ 2014           ┆ The Islamic         │\n",
       "│         ┆                      ┆               ┆          ┆                ┆ ecumene. Erbil and  │\n",
       "│         ┆                      ┆               ┆          ┆                ┆ its region from the │\n",
       "│         ┆                      ┆               ┆          ┆                ┆ conquest of Islam   │\n",
       "│         ┆                      ┆               ┆          ┆                ┆ to the present      │\n",
       "│ 724571  ┆ null                 ┆ null          ┆ null     ┆ 2022           ┆ La Costituzione di  │\n",
       "│         ┆                      ┆               ┆          ┆                ┆ Dobbs v. Jackson    │\n",
       "│         ┆                      ┆               ┆          ┆                ┆ Women’s Health      │\n",
       "│         ┆                      ┆               ┆          ┆                ┆ Organization.       │\n",
       "│         ┆                      ┆               ┆          ┆                ┆ Un’analisi critica  │\n",
       "│ 724483  ┆ null                 ┆ 9788813309626 ┆ null     ┆ 2012           ┆ Commento agli       │\n",
       "│         ┆                      ┆               ┆          ┆                ┆ articoli da 99 a    │\n",
       "│         ┆                      ┆               ┆          ┆                ┆ 110 - Concorsi di   │\n",
       "│         ┆                      ┆               ┆          ┆                ┆ progettazione       │\n",
       "│ 724229  ┆ null                 ┆ null          ┆ null     ┆ 2020           ┆ Georg W. Bertram,   │\n",
       "│         ┆                      ┆               ┆          ┆                ┆ L’arte come prassi  │\n",
       "│         ┆                      ┆               ┆          ┆                ┆ umana. Un’estetica, │\n",
       "│         ┆                      ┆               ┆          ┆                ┆ a cura di F.        │\n",
       "│         ┆                      ┆               ┆          ┆                ┆ Vercellone, tr. it. │\n",
       "│         ┆                      ┆               ┆          ┆                ┆ di A. Bert…         │\n",
       "└─────────┴──────────────────────┴───────────────┴──────────┴────────────────┴─────────────────────┘"
      ]
     },
     "execution_count": 29,
     "metadata": {},
     "output_type": "execute_result"
    }
   ],
   "source": [
    "from src.read_iris import read_iris\n",
    "\n",
    "iris = read_iris('./data/iris-data-2024-03-14', not_filtered=True)\n",
    "iris"
   ]
  },
  {
   "cell_type": "code",
   "execution_count": 2,
   "metadata": {},
   "outputs": [],
   "source": [
    "from src.get_iris_dois_isbns import get_iris_dois_pmids_isbns\n",
    "\n",
    "dois_isbns_pmids = get_iris_dois_pmids_isbns('data/iris-data-2024-03-14')"
   ]
  },
  {
   "cell_type": "code",
   "execution_count": 18,
   "metadata": {},
   "outputs": [
    {
     "name": "stdout",
     "output_type": "stream",
     "text": [
      "117764 articoli provenienti da IRIS su 225042 sono presenti in OM\n",
      "52.3%\n"
     ]
    }
   ],
   "source": [
    "rq1 = lf_iim.select(pl.len()).collect()\n",
    "\n",
    "print(rq1.item(), 'articoli provenienti da IRIS su', len(dois_isbns_pmids), 'sono presenti in OM')\n",
    "print(\"{:.1f}%\".format(rq1.item() / len(dois_isbns_pmids) * 100))"
   ]
  },
  {
   "cell_type": "code",
   "execution_count": 103,
   "metadata": {},
   "outputs": [
    {
     "data": {
      "text/html": [
       "<div><style>\n",
       ".dataframe > thead > tr,\n",
       ".dataframe > tbody > tr {\n",
       "  text-align: right;\n",
       "  white-space: pre-wrap;\n",
       "}\n",
       "</style>\n",
       "<small>shape: (5, 1)</small><table border=\"1\" class=\"dataframe\"><thead><tr><th>id</th></tr><tr><td>str</td></tr></thead><tbody><tr><td>&quot;doi:10.1002/widm.1511&quot;</td></tr><tr><td>&quot;doi:10.1016/j.jmatprotec.2017.10.019&quot;</td></tr><tr><td>&quot;doi:10.1093/annonc/mdw618&quot;</td></tr><tr><td>&quot;doi:10.1093/annonc/mdw430&quot;</td></tr><tr><td>&quot;doi:10.1093/annonc/mdw649&quot;</td></tr></tbody></table></div>"
      ],
      "text/plain": [
       "shape: (5, 1)\n",
       "┌──────────────────────────────────────┐\n",
       "│ id                                   │\n",
       "│ ---                                  │\n",
       "│ str                                  │\n",
       "╞══════════════════════════════════════╡\n",
       "│ doi:10.1002/widm.1511                │\n",
       "│ doi:10.1016/j.jmatprotec.2017.10.019 │\n",
       "│ doi:10.1093/annonc/mdw618            │\n",
       "│ doi:10.1093/annonc/mdw430            │\n",
       "│ doi:10.1093/annonc/mdw649            │\n",
       "└──────────────────────────────────────┘"
      ]
     },
     "execution_count": 103,
     "metadata": {},
     "output_type": "execute_result"
    }
   ],
   "source": [
    "ids_list = (\n",
    "    lf_iim\n",
    "    .select('id')\n",
    ")\n",
    "\n",
    "ids_list.head().collect()"
   ]
  },
  {
   "cell_type": "markdown",
   "metadata": {},
   "source": [
    "### RQ2. Which are the types of publications that are better covered in OpenCitations Meta?"
   ]
  },
  {
   "cell_type": "code",
   "execution_count": 150,
   "metadata": {},
   "outputs": [
    {
     "name": "stdout",
     "output_type": "stream",
     "text": [
      "shape: (16, 2)\n",
      "┌─────────────────────┬────────┐\n",
      "│ type                ┆ len    │\n",
      "│ ---                 ┆ ---    │\n",
      "│ str                 ┆ u32    │\n",
      "╞═════════════════════╪════════╡\n",
      "│ journal article     ┆ 103900 │\n",
      "│ proceedings article ┆ 5584   │\n",
      "│ book chapter        ┆ 4473   │\n",
      "│ no type             ┆ 1424   │\n",
      "│ book                ┆ 917    │\n",
      "│ …                   ┆ …      │\n",
      "│ dataset             ┆ 6      │\n",
      "│ dissertation        ┆ 2      │\n",
      "│ book series         ┆ 1      │\n",
      "│ series              ┆ 1      │\n",
      "│ computer program    ┆ 1      │\n",
      "└─────────────────────┴────────┘\n"
     ]
    }
   ],
   "source": [
    "rq2 = lf_iim.group_by('type').len().sort('len', descending=True).with_columns(pl.col('type').str.replace(r\"^$\", 'no type')).collect()\n",
    "\n",
    "print(rq2)"
   ]
  },
  {
   "cell_type": "markdown",
   "metadata": {},
   "source": [
    "### Index to Parquet"
   ]
  },
  {
   "cell_type": "code",
   "execution_count": 15,
   "metadata": {},
   "outputs": [
    {
     "data": {
      "text/plain": [
       "116007"
      ]
     },
     "execution_count": 15,
     "metadata": {},
     "output_type": "execute_result"
    }
   ],
   "source": [
    "omids_list = (\n",
    "    lf_iim\n",
    "    .select('omid')\n",
    "    .collect()\n",
    ")['omid'].to_list()\n",
    "\n",
    "len(omids_list)"
   ]
  },
  {
   "cell_type": "code",
   "execution_count": 16,
   "metadata": {},
   "outputs": [],
   "source": [
    "index_path = Path('data/oc_index')\n",
    "file_names = [Path(index_path / archive) for archive in os.listdir(index_path)]"
   ]
  },
  {
   "cell_type": "code",
   "execution_count": 27,
   "metadata": {},
   "outputs": [
    {
     "name": "stderr",
     "output_type": "stream",
     "text": [
      "  0%|          | 0/25 [00:00<?, ?it/s]"
     ]
    },
    {
     "name": "stdout",
     "output_type": "stream",
     "text": [
      "data/oc_index/2023_08_03-05T_0_1.zip\n",
      "[########################################] | 100% Completed | 10m 6ss\n"
     ]
    },
    {
     "name": "stderr",
     "output_type": "stream",
     "text": [
      "  4%|▍         | 1/25 [10:06<4:02:40, 606.67s/it]"
     ]
    },
    {
     "name": "stdout",
     "output_type": "stream",
     "text": [
      "data/oc_index/2023_11_25T_0_1.zip\n",
      "[########################################] | 100% Completed | 38.91 s\n"
     ]
    },
    {
     "name": "stderr",
     "output_type": "stream",
     "text": [
      "  8%|▊         | 2/25 [10:46<1:44:40, 273.07s/it]"
     ]
    },
    {
     "name": "stdout",
     "output_type": "stream",
     "text": [
      "data/oc_index/2023_08_20-23T_0_1.zip\n",
      "[########################################] | 100% Completed | 236.61 s\n"
     ]
    },
    {
     "name": "stderr",
     "output_type": "stream",
     "text": [
      " 12%|█▏        | 3/25 [14:43<1:34:04, 256.56s/it]"
     ]
    },
    {
     "name": "stdout",
     "output_type": "stream",
     "text": [
      "data/oc_index/2023_06_05-07T_0_1.zip\n",
      "[########################################] | 100% Completed | 162.50 s\n"
     ]
    },
    {
     "name": "stderr",
     "output_type": "stream",
     "text": [
      " 16%|█▌        | 4/25 [17:26<1:16:51, 219.57s/it]"
     ]
    },
    {
     "name": "stdout",
     "output_type": "stream",
     "text": [
      "data/oc_index/2023_07_13T_0_1.zip\n",
      "[########################################] | 100% Completed | 80.52 s\n"
     ]
    },
    {
     "name": "stderr",
     "output_type": "stream",
     "text": [
      " 20%|██        | 5/25 [18:46<56:31, 169.55s/it]  "
     ]
    },
    {
     "name": "stdout",
     "output_type": "stream",
     "text": [
      "data/oc_index/2023_05_09-14T_0_1.zip\n",
      "[########################################] | 100% Completed | 10m 43s\n"
     ]
    },
    {
     "name": "stderr",
     "output_type": "stream",
     "text": [
      " 24%|██▍       | 6/25 [29:30<1:44:47, 330.90s/it]"
     ]
    },
    {
     "name": "stdout",
     "output_type": "stream",
     "text": [
      "data/oc_index/2023_08_14-16T_0_1.zip\n",
      "[########################################] | 100% Completed | 461.42 s\n"
     ]
    },
    {
     "name": "stderr",
     "output_type": "stream",
     "text": [
      " 28%|██▊       | 7/25 [37:12<1:52:06, 373.69s/it]"
     ]
    },
    {
     "name": "stdout",
     "output_type": "stream",
     "text": [
      "data/oc_index/2023_06_15-18T_0_1.zip\n",
      "[########################################] | 100% Completed | 485.30 s\n"
     ]
    },
    {
     "name": "stderr",
     "output_type": "stream",
     "text": [
      " 32%|███▏      | 8/25 [45:18<1:55:58, 409.32s/it]"
     ]
    },
    {
     "name": "stdout",
     "output_type": "stream",
     "text": [
      "data/oc_index/2023_07-08_31-02T_0_1.zip\n",
      "[########################################] | 100% Completed | 549.97 s\n"
     ]
    },
    {
     "name": "stderr",
     "output_type": "stream",
     "text": [
      " 36%|███▌      | 9/25 [54:28<2:00:54, 453.38s/it]"
     ]
    },
    {
     "name": "stdout",
     "output_type": "stream",
     "text": [
      "data/oc_index/2023_07_17-20T_0_1.zip\n",
      "[########################################] | 100% Completed | 10m 11s\n"
     ]
    },
    {
     "name": "stderr",
     "output_type": "stream",
     "text": [
      " 40%|████      | 10/25 [1:04:40<2:05:33, 502.26s/it]"
     ]
    },
    {
     "name": "stdout",
     "output_type": "stream",
     "text": [
      "data/oc_index/2023_06_04-07T_0_1.zip\n",
      "[########################################] | 100% Completed | 70.17 s\n"
     ]
    },
    {
     "name": "stderr",
     "output_type": "stream",
     "text": [
      " 44%|████▍     | 11/25 [1:05:50<1:26:21, 370.12s/it]"
     ]
    },
    {
     "name": "stdout",
     "output_type": "stream",
     "text": [
      "data/oc_index/2023_09_27T_0_1.zip\n",
      "[########################################] | 100% Completed | 103.17 ms\n"
     ]
    },
    {
     "name": "stderr",
     "output_type": "stream",
     "text": [
      " 48%|████▊     | 12/25 [1:05:51<55:49, 257.63s/it]  "
     ]
    },
    {
     "name": "stdout",
     "output_type": "stream",
     "text": [
      "data/oc_index/2023_05_18-20T_0_1.zip\n",
      "[########################################] | 100% Completed | 237.38 s\n"
     ]
    },
    {
     "name": "stderr",
     "output_type": "stream",
     "text": [
      " 52%|█████▏    | 13/25 [1:09:48<50:18, 251.58s/it]"
     ]
    },
    {
     "name": "stdout",
     "output_type": "stream",
     "text": [
      "data/oc_index/2023_08_08-11T_0_1.zip\n",
      "[########################################] | 100% Completed | 10m 5ss\n"
     ]
    },
    {
     "name": "stderr",
     "output_type": "stream",
     "text": [
      " 56%|█████▌    | 14/25 [1:19:54<1:05:44, 358.55s/it]"
     ]
    },
    {
     "name": "stdout",
     "output_type": "stream",
     "text": [
      "data/oc_index/2023_07_26-29T_0_1.zip\n",
      "[########################################] | 100% Completed | 10m 55s\n"
     ]
    },
    {
     "name": "stderr",
     "output_type": "stream",
     "text": [
      " 60%|██████    | 15/25 [1:30:50<1:14:42, 448.29s/it]"
     ]
    },
    {
     "name": "stdout",
     "output_type": "stream",
     "text": [
      "data/oc_index/2023_05_20-21T_0_1.zip\n",
      "[########################################] | 100% Completed | 57.86 s\n"
     ]
    },
    {
     "name": "stderr",
     "output_type": "stream",
     "text": [
      " 64%|██████▍   | 16/25 [1:31:49<49:37, 330.86s/it]  "
     ]
    },
    {
     "name": "stdout",
     "output_type": "stream",
     "text": [
      "data/oc_index/2023_07_05-08T_0_1.zip\n",
      "[########################################] | 100% Completed | 472.23 s\n"
     ]
    },
    {
     "name": "stderr",
     "output_type": "stream",
     "text": [
      " 68%|██████▊   | 17/25 [1:39:41<49:47, 373.47s/it]"
     ]
    },
    {
     "name": "stdout",
     "output_type": "stream",
     "text": [
      "data/oc_index/2023_08_06-08T_0_1.zip\n",
      "[########################################] | 100% Completed | 540.19 s\n"
     ]
    },
    {
     "name": "stderr",
     "output_type": "stream",
     "text": [
      " 72%|███████▏  | 18/25 [1:48:42<49:25, 423.65s/it]"
     ]
    },
    {
     "name": "stdout",
     "output_type": "stream",
     "text": [
      "data/oc_index/2023_07_24-26T_0_1.zip\n",
      "[########################################] | 100% Completed | 496.67 s\n"
     ]
    },
    {
     "name": "stderr",
     "output_type": "stream",
     "text": [
      " 76%|███████▌  | 19/25 [1:56:59<44:34, 445.69s/it]"
     ]
    },
    {
     "name": "stdout",
     "output_type": "stream",
     "text": [
      "data/oc_index/2023_10_24-28T_0_1.zip\n",
      "[########################################] | 100% Completed | 491.88 s\n"
     ]
    },
    {
     "name": "stderr",
     "output_type": "stream",
     "text": [
      " 80%|████████  | 20/25 [2:05:11<38:19, 459.86s/it]"
     ]
    },
    {
     "name": "stdout",
     "output_type": "stream",
     "text": [
      "data/oc_index/2023_05_22-31T_0_1.zip\n",
      "[########################################] | 100% Completed | 118.35 s\n"
     ]
    },
    {
     "name": "stderr",
     "output_type": "stream",
     "text": [
      " 84%|████████▍ | 21/25 [2:07:10<23:49, 357.44s/it]"
     ]
    },
    {
     "name": "stdout",
     "output_type": "stream",
     "text": [
      "data/oc_index/2023_06_19-27T_0_1.zip\n",
      "[########################################] | 100% Completed | 19m 2ss\n"
     ]
    },
    {
     "name": "stderr",
     "output_type": "stream",
     "text": [
      " 88%|████████▊ | 22/25 [2:26:12<29:39, 593.01s/it]"
     ]
    },
    {
     "name": "stdout",
     "output_type": "stream",
     "text": [
      "data/oc_index/2023_08_17-19T_0_1.zip\n",
      "[########################################] | 100% Completed | 196.92 s\n"
     ]
    },
    {
     "name": "stderr",
     "output_type": "stream",
     "text": [
      " 92%|█████████▏| 23/25 [2:29:30<15:48, 474.25s/it]"
     ]
    },
    {
     "name": "stdout",
     "output_type": "stream",
     "text": [
      "data/oc_index/2023_08_24-27T_0_1.zip\n",
      "[########################################] | 100% Completed | 37.13 s\n"
     ]
    },
    {
     "name": "stderr",
     "output_type": "stream",
     "text": [
      " 96%|█████████▌| 24/25 [2:30:07<05:43, 343.18s/it]"
     ]
    },
    {
     "name": "stdout",
     "output_type": "stream",
     "text": [
      "data/oc_index/2023_06_13-14T_0_1-10.zip\n",
      "[########################################] | 100% Completed | 248.34 s\n"
     ]
    },
    {
     "name": "stderr",
     "output_type": "stream",
     "text": [
      "100%|██████████| 25/25 [2:34:16<00:00, 370.25s/it]\n"
     ]
    }
   ],
   "source": [
    "c = 0\n",
    "for archive in tqdm(file_names):\n",
    "    print(archive)\n",
    "    zip_file = ZipFile(archive)\n",
    "\n",
    "    csvs = ['zip://'+n for n in zip_file.namelist() if n.endswith('.csv')]\n",
    "\n",
    "    c += len(csvs)\n",
    "    ddf = dd.read_csv(csvs, storage_options={'fo': zip_file.filename}, usecols=['id', 'citing', 'cited'])\n",
    "    ddf = ddf[ddf['cited'].isin(omids_list) | ddf['citing'].isin(omids_list)]\n",
    "    ddf.to_parquet('data/index_in_iris/' + zip_file.filename + '.parquet', write_index=False) # 154 mins"
   ]
  },
  {
   "cell_type": "markdown",
   "metadata": {},
   "source": [
    "### RQ 3. What is the amount of citations (according to OpenCitations Index) included in the IRIS publications that are involved in OpenCitations Meta (as citing entity and as cited entity)?"
   ]
  },
  {
   "cell_type": "code",
   "execution_count": 24,
   "metadata": {},
   "outputs": [],
   "source": [
    "iii_path = Path('data/index_in_iris/')\n",
    "\n",
    "iii_glob = glob.glob(str(iii_path / '*' / '*.parquet'))"
   ]
  },
  {
   "cell_type": "code",
   "execution_count": 25,
   "metadata": {},
   "outputs": [
    {
     "name": "stdout",
     "output_type": "stream",
     "text": [
      "shape: (1, 1)\n",
      "┌─────────┐\n",
      "│ len     │\n",
      "│ ---     │\n",
      "│ u32     │\n",
      "╞═════════╡\n",
      "│ 7859226 │\n",
      "└─────────┘\n"
     ]
    },
    {
     "data": {
      "text/html": [
       "<div><style>\n",
       ".dataframe > thead > tr,\n",
       ".dataframe > tbody > tr {\n",
       "  text-align: right;\n",
       "  white-space: pre-wrap;\n",
       "}\n",
       "</style>\n",
       "<small>shape: (5, 3)</small><table border=\"1\" class=\"dataframe\"><thead><tr><th>id</th><th>citing</th><th>cited</th></tr><tr><td>str</td><td>str</td><td>str</td></tr></thead><tbody><tr><td>&quot;oci:062102010944-06403538172&quot;</td><td>&quot;omid:br/062102010944&quot;</td><td>&quot;omid:br/06403538172&quot;</td></tr><tr><td>&quot;oci:062102010936-061901873468&quot;</td><td>&quot;omid:br/062102010936&quot;</td><td>&quot;omid:br/061901873468&quot;</td></tr><tr><td>&quot;oci:061302445980-0620582911&quot;</td><td>&quot;omid:br/061302445980&quot;</td><td>&quot;omid:br/0620582911&quot;</td></tr><tr><td>&quot;oci:062103078814-061903865447&quot;</td><td>&quot;omid:br/062103078814&quot;</td><td>&quot;omid:br/061903865447&quot;</td></tr><tr><td>&quot;oci:06403471424-06703722896&quot;</td><td>&quot;omid:br/06403471424&quot;</td><td>&quot;omid:br/06703722896&quot;</td></tr></tbody></table></div>"
      ],
      "text/plain": [
       "shape: (5, 3)\n",
       "┌───────────────────────────────┬──────────────────────┬──────────────────────┐\n",
       "│ id                            ┆ citing               ┆ cited                │\n",
       "│ ---                           ┆ ---                  ┆ ---                  │\n",
       "│ str                           ┆ str                  ┆ str                  │\n",
       "╞═══════════════════════════════╪══════════════════════╪══════════════════════╡\n",
       "│ oci:062102010944-06403538172  ┆ omid:br/062102010944 ┆ omid:br/06403538172  │\n",
       "│ oci:062102010936-061901873468 ┆ omid:br/062102010936 ┆ omid:br/061901873468 │\n",
       "│ oci:061302445980-0620582911   ┆ omid:br/061302445980 ┆ omid:br/0620582911   │\n",
       "│ oci:062103078814-061903865447 ┆ omid:br/062103078814 ┆ omid:br/061903865447 │\n",
       "│ oci:06403471424-06703722896   ┆ omid:br/06403471424  ┆ omid:br/06703722896  │\n",
       "└───────────────────────────────┴──────────────────────┴──────────────────────┘"
      ]
     },
     "execution_count": 25,
     "metadata": {},
     "output_type": "execute_result"
    }
   ],
   "source": [
    "lf_iii = pl.scan_parquet(iii_glob)\n",
    "print(lf_iii.select(pl.len()).collect())\n",
    "lf_iii.head().collect()"
   ]
  },
  {
   "cell_type": "code",
   "execution_count": 23,
   "metadata": {},
   "outputs": [
    {
     "data": {
      "text/plain": [
       "110931"
      ]
     },
     "execution_count": 23,
     "metadata": {},
     "output_type": "execute_result"
    }
   ],
   "source": [
    "oc_omids_list = (\n",
    "    lf_iim\n",
    "    .select('omid')\n",
    "    .collect()\n",
    ")['omid'].to_list()\n",
    "\n",
    "len(oc_omids_list)"
   ]
  },
  {
   "cell_type": "code",
   "execution_count": 46,
   "metadata": {},
   "outputs": [
    {
     "data": {
      "text/html": [
       "<div><style>\n",
       ".dataframe > thead > tr,\n",
       ".dataframe > tbody > tr {\n",
       "  text-align: right;\n",
       "  white-space: pre-wrap;\n",
       "}\n",
       "</style>\n",
       "<small>shape: (1, 1)</small><table border=\"1\" class=\"dataframe\"><thead><tr><th>len</th></tr><tr><td>u32</td></tr></thead><tbody><tr><td>107704</td></tr></tbody></table></div>"
      ],
      "text/plain": [
       "shape: (1, 1)\n",
       "┌────────┐\n",
       "│ len    │\n",
       "│ ---    │\n",
       "│ u32    │\n",
       "╞════════╡\n",
       "│ 107704 │\n",
       "└────────┘"
      ]
     },
     "execution_count": 46,
     "metadata": {},
     "output_type": "execute_result"
    }
   ],
   "source": [
    "rq3a = (\n",
    "    lf_iii\n",
    "    .select('citing')\n",
    "    .unique()\n",
    "    .filter(\n",
    "        pl.col('citing').is_in(oc_omids_list)\n",
    "    )\n",
    ")\n",
    "\n",
    "citing_list = rq3a.collect()['citing'].to_list()\n",
    "\n",
    "rq3a.head().collect()\n",
    "rq3a.select(pl.len()).collect()"
   ]
  },
  {
   "cell_type": "code",
   "execution_count": 47,
   "metadata": {},
   "outputs": [
    {
     "data": {
      "text/html": [
       "<div><style>\n",
       ".dataframe > thead > tr,\n",
       ".dataframe > tbody > tr {\n",
       "  text-align: right;\n",
       "  white-space: pre-wrap;\n",
       "}\n",
       "</style>\n",
       "<small>shape: (1, 1)</small><table border=\"1\" class=\"dataframe\"><thead><tr><th>len</th></tr><tr><td>u32</td></tr></thead><tbody><tr><td>105135</td></tr></tbody></table></div>"
      ],
      "text/plain": [
       "shape: (1, 1)\n",
       "┌────────┐\n",
       "│ len    │\n",
       "│ ---    │\n",
       "│ u32    │\n",
       "╞════════╡\n",
       "│ 105135 │\n",
       "└────────┘"
      ]
     },
     "execution_count": 47,
     "metadata": {},
     "output_type": "execute_result"
    }
   ],
   "source": [
    "rq3b = (\n",
    "    lf_iii\n",
    "    .select('cited')\n",
    "    .unique()\n",
    "    .filter(\n",
    "        pl.col('cited').is_in(oc_omids_list)\n",
    "    )\n",
    ")\n",
    "\n",
    "cited_list = rq3b.collect()['cited'].to_list()\n",
    "\n",
    "rq3b.head().collect()\n",
    "rq3b.select(pl.len()).collect()"
   ]
  },
  {
   "cell_type": "code",
   "execution_count": 79,
   "metadata": {},
   "outputs": [
    {
     "name": "stdout",
     "output_type": "stream",
     "text": [
      "shape: (1, 1)\n",
      "┌─────────┐\n",
      "│ len     │\n",
      "│ ---     │\n",
      "│ u32     │\n",
      "╞═════════╡\n",
      "│ 4295973 │\n",
      "└─────────┘\n"
     ]
    }
   ],
   "source": [
    "cit_coming_from_iris = (\n",
    "    lf_iii\n",
    "    .filter(\n",
    "        pl.col('citing').is_in(oc_omids_list)\n",
    "    )\n",
    ")\n",
    "\n",
    "print(cit_coming_from_iris.select(pl.len()).collect())"
   ]
  },
  {
   "cell_type": "markdown",
   "metadata": {},
   "source": [
    "### RQ 4. How many of these citations come from and go to publications that are not included in IRIS?"
   ]
  },
  {
   "cell_type": "code",
   "execution_count": 52,
   "metadata": {},
   "outputs": [
    {
     "data": {
      "text/plain": [
       "116007"
      ]
     },
     "execution_count": 52,
     "metadata": {},
     "output_type": "execute_result"
    }
   ],
   "source": [
    "len(oc_omids_list)"
   ]
  },
  {
   "cell_type": "code",
   "execution_count": 26,
   "metadata": {},
   "outputs": [],
   "source": [
    "rq4a = (\n",
    "    lf_iii\n",
    "    .select('citing')\n",
    "    #.unique('cited') ???\n",
    "    .filter(\n",
    "        ~pl.col('citing').is_in(oc_omids_list)\n",
    "    )\n",
    ")"
   ]
  },
  {
   "cell_type": "code",
   "execution_count": 27,
   "metadata": {},
   "outputs": [
    {
     "name": "stdout",
     "output_type": "stream",
     "text": [
      "shape: (1, 1)\n",
      "┌─────────┐\n",
      "│ len     │\n",
      "│ ---     │\n",
      "│ u32     │\n",
      "╞═════════╡\n",
      "│ 3830647 │\n",
      "└─────────┘\n"
     ]
    },
    {
     "data": {
      "text/html": [
       "<div><style>\n",
       ".dataframe > thead > tr,\n",
       ".dataframe > tbody > tr {\n",
       "  text-align: right;\n",
       "  white-space: pre-wrap;\n",
       "}\n",
       "</style>\n",
       "<small>shape: (5, 1)</small><table border=\"1\" class=\"dataframe\"><thead><tr><th>citing</th></tr><tr><td>str</td></tr></thead><tbody><tr><td>&quot;omid:br/062102010944&quot;</td></tr><tr><td>&quot;omid:br/062102010936&quot;</td></tr><tr><td>&quot;omid:br/061302445980&quot;</td></tr><tr><td>&quot;omid:br/062103078814&quot;</td></tr><tr><td>&quot;omid:br/0660213594&quot;</td></tr></tbody></table></div>"
      ],
      "text/plain": [
       "shape: (5, 1)\n",
       "┌──────────────────────┐\n",
       "│ citing               │\n",
       "│ ---                  │\n",
       "│ str                  │\n",
       "╞══════════════════════╡\n",
       "│ omid:br/062102010944 │\n",
       "│ omid:br/062102010936 │\n",
       "│ omid:br/061302445980 │\n",
       "│ omid:br/062103078814 │\n",
       "│ omid:br/0660213594   │\n",
       "└──────────────────────┘"
      ]
     },
     "execution_count": 27,
     "metadata": {},
     "output_type": "execute_result"
    }
   ],
   "source": [
    "print(rq4a.select(pl.len()).collect())\n",
    "rq4a.head().collect()"
   ]
  },
  {
   "cell_type": "code",
   "execution_count": null,
   "metadata": {},
   "outputs": [],
   "source": [
    "rq4b = (\n",
    "    lf_iii\n",
    "    .select('cited')\n",
    "    .filter(\n",
    "        ~pl.col('cited').is_in(oc_omids_list)\n",
    "    )\n",
    ")"
   ]
  },
  {
   "cell_type": "code",
   "execution_count": 116,
   "metadata": {},
   "outputs": [
    {
     "name": "stdout",
     "output_type": "stream",
     "text": [
      "shape: (1, 1)\n",
      "┌─────────┐\n",
      "│ len     │\n",
      "│ ---     │\n",
      "│ u32     │\n",
      "╞═════════╡\n",
      "│ 3939554 │\n",
      "└─────────┘\n"
     ]
    },
    {
     "data": {
      "text/html": [
       "<div><style>\n",
       ".dataframe > thead > tr,\n",
       ".dataframe > tbody > tr {\n",
       "  text-align: right;\n",
       "  white-space: pre-wrap;\n",
       "}\n",
       "</style>\n",
       "<small>shape: (5, 1)</small><table border=\"1\" class=\"dataframe\"><thead><tr><th>cited</th></tr><tr><td>str</td></tr></thead><tbody><tr><td>&quot;omid:br/06703722896&quot;</td></tr><tr><td>&quot;omid:br/06703722887&quot;</td></tr><tr><td>&quot;omid:br/06703722545&quot;</td></tr><tr><td>&quot;omid:br/06703723039&quot;</td></tr><tr><td>&quot;omid:br/06803732245&quot;</td></tr></tbody></table></div>"
      ],
      "text/plain": [
       "shape: (5, 1)\n",
       "┌─────────────────────┐\n",
       "│ cited               │\n",
       "│ ---                 │\n",
       "│ str                 │\n",
       "╞═════════════════════╡\n",
       "│ omid:br/06703722896 │\n",
       "│ omid:br/06703722887 │\n",
       "│ omid:br/06703722545 │\n",
       "│ omid:br/06703723039 │\n",
       "│ omid:br/06803732245 │\n",
       "└─────────────────────┘"
      ]
     },
     "execution_count": 116,
     "metadata": {},
     "output_type": "execute_result"
    }
   ],
   "source": [
    "print(rq4b.select(pl.len()).collect())\n",
    "rq4b.head().collect()"
   ]
  },
  {
   "cell_type": "code",
   "execution_count": 162,
   "metadata": {},
   "outputs": [],
   "source": [
    "rq4 = (\n",
    "    lf_iii\n",
    "    .select('cited', 'citing')\n",
    "    .filter(\n",
    "        ~pl.col('cited').is_in(oc_omids_list),\n",
    "        ~pl.col('citing').is_in(oc_omids_list)\n",
    "    )\n",
    ")"
   ]
  },
  {
   "cell_type": "code",
   "execution_count": 164,
   "metadata": {},
   "outputs": [
    {
     "name": "stdout",
     "output_type": "stream",
     "text": [
      "shape: (1, 1)\n",
      "┌─────┐\n",
      "│ len │\n",
      "│ --- │\n",
      "│ u32 │\n",
      "╞═════╡\n",
      "│ 0   │\n",
      "└─────┘\n"
     ]
    }
   ],
   "source": [
    "print(rq4.select(pl.len()).collect())"
   ]
  },
  {
   "cell_type": "markdown",
   "metadata": {},
   "source": [
    "### RQ 5. How many of these citations involve publications in IRIS as both citing and cited entities?"
   ]
  },
  {
   "cell_type": "code",
   "execution_count": 129,
   "metadata": {},
   "outputs": [],
   "source": [
    "rq5a = (\n",
    "    lf_iii\n",
    "    .select('citing')\n",
    "    .filter(\n",
    "        pl.col('citing').is_in(oc_omids_list)\n",
    "    )\n",
    ")"
   ]
  },
  {
   "cell_type": "code",
   "execution_count": 130,
   "metadata": {},
   "outputs": [
    {
     "name": "stdout",
     "output_type": "stream",
     "text": [
      "shape: (1, 1)\n",
      "┌─────────┐\n",
      "│ len     │\n",
      "│ ---     │\n",
      "│ u32     │\n",
      "╞═════════╡\n",
      "│ 4295973 │\n",
      "└─────────┘\n"
     ]
    },
    {
     "data": {
      "text/html": [
       "<div><style>\n",
       ".dataframe > thead > tr,\n",
       ".dataframe > tbody > tr {\n",
       "  text-align: right;\n",
       "  white-space: pre-wrap;\n",
       "}\n",
       "</style>\n",
       "<small>shape: (5, 1)</small><table border=\"1\" class=\"dataframe\"><thead><tr><th>citing</th></tr><tr><td>str</td></tr></thead><tbody><tr><td>&quot;omid:br/06403471424&quot;</td></tr><tr><td>&quot;omid:br/06403471424&quot;</td></tr><tr><td>&quot;omid:br/06403471424&quot;</td></tr><tr><td>&quot;omid:br/06403471424&quot;</td></tr><tr><td>&quot;omid:br/06403471424&quot;</td></tr></tbody></table></div>"
      ],
      "text/plain": [
       "shape: (5, 1)\n",
       "┌─────────────────────┐\n",
       "│ citing              │\n",
       "│ ---                 │\n",
       "│ str                 │\n",
       "╞═════════════════════╡\n",
       "│ omid:br/06403471424 │\n",
       "│ omid:br/06403471424 │\n",
       "│ omid:br/06403471424 │\n",
       "│ omid:br/06403471424 │\n",
       "│ omid:br/06403471424 │\n",
       "└─────────────────────┘"
      ]
     },
     "execution_count": 130,
     "metadata": {},
     "output_type": "execute_result"
    }
   ],
   "source": [
    "print(rq5a.select(pl.len()).collect())\n",
    "rq5a.head().collect()"
   ]
  },
  {
   "cell_type": "code",
   "execution_count": 121,
   "metadata": {},
   "outputs": [],
   "source": [
    "rq5b = (\n",
    "    lf_iii\n",
    "    .select('cited')\n",
    "    .filter(\n",
    "        pl.col('cited').is_in(oc_omids_list)\n",
    "    )\n",
    ")"
   ]
  },
  {
   "cell_type": "code",
   "execution_count": 122,
   "metadata": {},
   "outputs": [
    {
     "name": "stdout",
     "output_type": "stream",
     "text": [
      "shape: (1, 1)\n",
      "┌─────────┐\n",
      "│ len     │\n",
      "│ ---     │\n",
      "│ u32     │\n",
      "╞═════════╡\n",
      "│ 3919672 │\n",
      "└─────────┘\n"
     ]
    },
    {
     "data": {
      "text/html": [
       "<div><style>\n",
       ".dataframe > thead > tr,\n",
       ".dataframe > tbody > tr {\n",
       "  text-align: right;\n",
       "  white-space: pre-wrap;\n",
       "}\n",
       "</style>\n",
       "<small>shape: (5, 1)</small><table border=\"1\" class=\"dataframe\"><thead><tr><th>cited</th></tr><tr><td>str</td></tr></thead><tbody><tr><td>&quot;omid:br/06403538172&quot;</td></tr><tr><td>&quot;omid:br/061901873468&quot;</td></tr><tr><td>&quot;omid:br/0620582911&quot;</td></tr><tr><td>&quot;omid:br/061903865447&quot;</td></tr><tr><td>&quot;omid:br/06502545532&quot;</td></tr></tbody></table></div>"
      ],
      "text/plain": [
       "shape: (5, 1)\n",
       "┌──────────────────────┐\n",
       "│ cited                │\n",
       "│ ---                  │\n",
       "│ str                  │\n",
       "╞══════════════════════╡\n",
       "│ omid:br/06403538172  │\n",
       "│ omid:br/061901873468 │\n",
       "│ omid:br/0620582911   │\n",
       "│ omid:br/061903865447 │\n",
       "│ omid:br/06502545532  │\n",
       "└──────────────────────┘"
      ]
     },
     "execution_count": 122,
     "metadata": {},
     "output_type": "execute_result"
    }
   ],
   "source": [
    "print(rq5b.select(pl.len()).collect())\n",
    "rq5b.head().collect()"
   ]
  },
  {
   "cell_type": "code",
   "execution_count": 133,
   "metadata": {},
   "outputs": [],
   "source": [
    "rq5 = (\n",
    "    lf_iii\n",
    "    .select('citing', 'cited')\n",
    "    .filter(\n",
    "        pl.col('citing').is_in(oc_omids_list) & pl.col('cited').is_in(oc_omids_list)\n",
    "    )\n",
    ")"
   ]
  },
  {
   "cell_type": "code",
   "execution_count": 134,
   "metadata": {},
   "outputs": [
    {
     "name": "stdout",
     "output_type": "stream",
     "text": [
      "shape: (1, 1)\n",
      "┌────────┐\n",
      "│ len    │\n",
      "│ ---    │\n",
      "│ u32    │\n",
      "╞════════╡\n",
      "│ 356419 │\n",
      "└────────┘\n"
     ]
    },
    {
     "data": {
      "text/html": [
       "<div><style>\n",
       ".dataframe > thead > tr,\n",
       ".dataframe > tbody > tr {\n",
       "  text-align: right;\n",
       "  white-space: pre-wrap;\n",
       "}\n",
       "</style>\n",
       "<small>shape: (5, 2)</small><table border=\"1\" class=\"dataframe\"><thead><tr><th>citing</th><th>cited</th></tr><tr><td>str</td><td>str</td></tr></thead><tbody><tr><td>&quot;omid:br/06801833332&quot;</td><td>&quot;omid:br/06301833698&quot;</td></tr><tr><td>&quot;omid:br/06801833332&quot;</td><td>&quot;omid:br/06201835146&quot;</td></tr><tr><td>&quot;omid:br/06801833332&quot;</td><td>&quot;omid:br/06101850825&quot;</td></tr><tr><td>&quot;omid:br/06140651081&quot;</td><td>&quot;omid:br/061301899117&quot;</td></tr><tr><td>&quot;omid:br/061902028230&quot;</td><td>&quot;omid:br/06230928593&quot;</td></tr></tbody></table></div>"
      ],
      "text/plain": [
       "shape: (5, 2)\n",
       "┌──────────────────────┬──────────────────────┐\n",
       "│ citing               ┆ cited                │\n",
       "│ ---                  ┆ ---                  │\n",
       "│ str                  ┆ str                  │\n",
       "╞══════════════════════╪══════════════════════╡\n",
       "│ omid:br/06801833332  ┆ omid:br/06301833698  │\n",
       "│ omid:br/06801833332  ┆ omid:br/06201835146  │\n",
       "│ omid:br/06801833332  ┆ omid:br/06101850825  │\n",
       "│ omid:br/06140651081  ┆ omid:br/061301899117 │\n",
       "│ omid:br/061902028230 ┆ omid:br/06230928593  │\n",
       "└──────────────────────┴──────────────────────┘"
      ]
     },
     "execution_count": 134,
     "metadata": {},
     "output_type": "execute_result"
    }
   ],
   "source": [
    "print(rq5.select(pl.len()).collect())\n",
    "rq5.head().collect()"
   ]
  },
  {
   "cell_type": "markdown",
   "metadata": {},
   "source": [
    "---\n",
    "\n",
    "### Further usage"
   ]
  },
  {
   "cell_type": "code",
   "execution_count": 30,
   "metadata": {},
   "outputs": [
    {
     "data": {
      "text/html": [
       "<div><style>\n",
       ".dataframe > thead > tr,\n",
       ".dataframe > tbody > tr {\n",
       "  text-align: right;\n",
       "  white-space: pre-wrap;\n",
       "}\n",
       "</style>\n",
       "<small>shape: (117_764, 5)</small><table border=\"1\" class=\"dataframe\"><thead><tr><th>id</th><th>title</th><th>type</th><th>omid</th><th>iris_id</th></tr><tr><td>str</td><td>str</td><td>str</td><td>str</td><td>i32</td></tr></thead><tbody><tr><td>&quot;doi:10.1002/widm.1511&quot;</td><td>&quot;A White Paper On Good Research Practices In Benchmarking: The Case Of Cluster Analysis&quot;</td><td>&quot;journal article&quot;</td><td>&quot;omid:br/06510108547&quot;</td><td>776472</td></tr><tr><td>&quot;doi:10.1093/annonc/mdx033&quot;</td><td>&quot;European Cancer Mortality Predictions For The Year 2017, With Focus On Lung Cancer&quot;</td><td>&quot;journal article&quot;</td><td>&quot;omid:br/062503328173&quot;</td><td>388298</td></tr><tr><td>&quot;doi:10.1016/j.jmatprotec.2017.10.019&quot;</td><td>&quot;High Throughput Hybrid Laser Assisted Machining Of Sintered Reaction Bonded Silicon Nitride&quot;</td><td>&quot;journal article&quot;</td><td>&quot;omid:br/062503328812&quot;</td><td>320811</td></tr><tr><td>&quot;doi:10.1093/annonc/mdw306&quot;</td><td>&quot;Global Trends And Predictions In Ovarian Cancer Mortality&quot;</td><td>&quot;journal article&quot;</td><td>&quot;omid:br/062503328364&quot;</td><td>632727</td></tr><tr><td>&quot;doi:10.1093/annonc/mdw430&quot;</td><td>&quot;Short, Full-Dose Adjuvant Chemotherapy (CT) In High-Risk Adult Soft Tissue Sarcomas (STS): Long-Ter…</td><td>&quot;journal article&quot;</td><td>&quot;omid:br/062503328314&quot;</td><td>301915</td></tr><tr><td>&hellip;</td><td>&hellip;</td><td>&hellip;</td><td>&hellip;</td><td>&hellip;</td></tr><tr><td>&quot;doi:10.1002/sim.7247&quot;</td><td>&quot;Relational Event Models For Longitudinal Network Data With An Application To Interhospital Patient …</td><td>&quot;journal article&quot;</td><td>&quot;omid:br/0690743876&quot;</td><td>311099</td></tr><tr><td>&quot;doi:10.1016/j.bmc.2004.08.012&quot;</td><td>&quot;Effects Of New Ubiquinone-Imidazo[2,1-B]Thiazoles On Mitochondrial Complex I (NADH-ubiquinone Reduc…</td><td>&quot;journal article&quot;</td><td>&quot;omid:br/0690748197&quot;</td><td>54217</td></tr><tr><td>&quot;doi:10.1016/j.nonrwa.2010.10.003&quot;</td><td>&quot;Nonhypoellipticity And Comparison Principle For Partial Differential Equations Of Black–Scholes Typ…</td><td>&quot;journal article&quot;</td><td>&quot;omid:br/0690748601&quot;</td><td>130283</td></tr><tr><td>&quot;doi:10.1109/41.993270&quot;</td><td>&quot;Matrix Converter Modulation Strategies: A New General Approach Based On Space-Vector Representation…</td><td>&quot;journal article&quot;</td><td>&quot;omid:br/0690746780&quot;</td><td>643741</td></tr><tr><td>&quot;doi:10.1016/j.bmc.2004.11.043&quot;</td><td>&quot;Diphenylcyclohexylamine Derivatives As New Potent Multidrug Resistance (MDR) Modulators&quot;</td><td>&quot;journal article&quot;</td><td>&quot;omid:br/0690748006&quot;</td><td>57612</td></tr></tbody></table></div>"
      ],
      "text/plain": [
       "shape: (117_764, 5)\n",
       "┌───────────────────────┬───────────────────────┬─────────────────┬──────────────────────┬─────────┐\n",
       "│ id                    ┆ title                 ┆ type            ┆ omid                 ┆ iris_id │\n",
       "│ ---                   ┆ ---                   ┆ ---             ┆ ---                  ┆ ---     │\n",
       "│ str                   ┆ str                   ┆ str             ┆ str                  ┆ i32     │\n",
       "╞═══════════════════════╪═══════════════════════╪═════════════════╪══════════════════════╪═════════╡\n",
       "│ doi:10.1002/widm.1511 ┆ A White Paper On Good ┆ journal article ┆ omid:br/06510108547  ┆ 776472  │\n",
       "│                       ┆ Research Practices In ┆                 ┆                      ┆         │\n",
       "│                       ┆ Benchmarking: The     ┆                 ┆                      ┆         │\n",
       "│                       ┆ Case Of Cluster       ┆                 ┆                      ┆         │\n",
       "│                       ┆ Analysis              ┆                 ┆                      ┆         │\n",
       "│ doi:10.1093/annonc/md ┆ European Cancer       ┆ journal article ┆ omid:br/062503328173 ┆ 388298  │\n",
       "│ x033                  ┆ Mortality Predictions ┆                 ┆                      ┆         │\n",
       "│                       ┆ For The Year 2017,    ┆                 ┆                      ┆         │\n",
       "│                       ┆ With Focus On Lung    ┆                 ┆                      ┆         │\n",
       "│                       ┆ Cancer                ┆                 ┆                      ┆         │\n",
       "│ doi:10.1016/j.jmatpro ┆ High Throughput       ┆ journal article ┆ omid:br/062503328812 ┆ 320811  │\n",
       "│ tec.2017.10.019       ┆ Hybrid Laser Assisted ┆                 ┆                      ┆         │\n",
       "│                       ┆ Machining Of Sintered ┆                 ┆                      ┆         │\n",
       "│                       ┆ Reaction Bonded       ┆                 ┆                      ┆         │\n",
       "│                       ┆ Silicon Nitride       ┆                 ┆                      ┆         │\n",
       "│ doi:10.1093/annonc/md ┆ Global Trends And     ┆ journal article ┆ omid:br/062503328364 ┆ 632727  │\n",
       "│ w306                  ┆ Predictions In        ┆                 ┆                      ┆         │\n",
       "│                       ┆ Ovarian Cancer        ┆                 ┆                      ┆         │\n",
       "│                       ┆ Mortality             ┆                 ┆                      ┆         │\n",
       "│ doi:10.1093/annonc/md ┆ Short, Full-Dose      ┆ journal article ┆ omid:br/062503328314 ┆ 301915  │\n",
       "│ w430                  ┆ Adjuvant Chemotherapy ┆                 ┆                      ┆         │\n",
       "│                       ┆ (CT) In High-Risk     ┆                 ┆                      ┆         │\n",
       "│                       ┆ Adult Soft Tissue     ┆                 ┆                      ┆         │\n",
       "│                       ┆ Sarcomas (STS):       ┆                 ┆                      ┆         │\n",
       "│                       ┆ Long-Term…            ┆                 ┆                      ┆         │\n",
       "│ …                     ┆ …                     ┆ …               ┆ …                    ┆ …       │\n",
       "│ doi:10.1002/sim.7247  ┆ Relational Event      ┆ journal article ┆ omid:br/0690743876   ┆ 311099  │\n",
       "│                       ┆ Models For            ┆                 ┆                      ┆         │\n",
       "│                       ┆ Longitudinal Network  ┆                 ┆                      ┆         │\n",
       "│                       ┆ Data With An          ┆                 ┆                      ┆         │\n",
       "│                       ┆ Application To        ┆                 ┆                      ┆         │\n",
       "│                       ┆ Interhospital Patient ┆                 ┆                      ┆         │\n",
       "│                       ┆ T…                    ┆                 ┆                      ┆         │\n",
       "│ doi:10.1016/j.bmc.200 ┆ Effects Of New Ubiqui ┆ journal article ┆ omid:br/0690748197   ┆ 54217   │\n",
       "│ 4.08.012              ┆ none-Imidazo[2,1-B]Th ┆                 ┆                      ┆         │\n",
       "│                       ┆ iazoles On            ┆                 ┆                      ┆         │\n",
       "│                       ┆ Mitochondrial Complex ┆                 ┆                      ┆         │\n",
       "│                       ┆ I (NADH-ubiquinone    ┆                 ┆                      ┆         │\n",
       "│                       ┆ Reduct…               ┆                 ┆                      ┆         │\n",
       "│ doi:10.1016/j.nonrwa. ┆ Nonhypoellipticity    ┆ journal article ┆ omid:br/0690748601   ┆ 130283  │\n",
       "│ 2010.10.003           ┆ And Comparison        ┆                 ┆                      ┆         │\n",
       "│                       ┆ Principle For Partial ┆                 ┆                      ┆         │\n",
       "│                       ┆ Differential          ┆                 ┆                      ┆         │\n",
       "│                       ┆ Equations Of          ┆                 ┆                      ┆         │\n",
       "│                       ┆ Black–Scholes Type    ┆                 ┆                      ┆         │\n",
       "│ doi:10.1109/41.993270 ┆ Matrix Converter      ┆ journal article ┆ omid:br/0690746780   ┆ 643741  │\n",
       "│                       ┆ Modulation            ┆                 ┆                      ┆         │\n",
       "│                       ┆ Strategies: A New     ┆                 ┆                      ┆         │\n",
       "│                       ┆ General Approach      ┆                 ┆                      ┆         │\n",
       "│                       ┆ Based On Space-Vector ┆                 ┆                      ┆         │\n",
       "│                       ┆ Representation …      ┆                 ┆                      ┆         │\n",
       "│ doi:10.1016/j.bmc.200 ┆ Diphenylcyclohexylami ┆ journal article ┆ omid:br/0690748006   ┆ 57612   │\n",
       "│ 4.11.043              ┆ ne Derivatives As New ┆                 ┆                      ┆         │\n",
       "│                       ┆ Potent Multidrug      ┆                 ┆                      ┆         │\n",
       "│                       ┆ Resistance (MDR)      ┆                 ┆                      ┆         │\n",
       "│                       ┆ Modulators            ┆                 ┆                      ┆         │\n",
       "└───────────────────────┴───────────────────────┴─────────────────┴──────────────────────┴─────────┘"
      ]
     },
     "execution_count": 30,
     "metadata": {},
     "output_type": "execute_result"
    }
   ],
   "source": [
    "from src.read_iris_in_meta import read_iris_in_meta\n",
    "\n",
    "iim_df = read_iris_in_meta()\n",
    "iim_df.collect()"
   ]
  },
  {
   "cell_type": "code",
   "execution_count": 8,
   "metadata": {},
   "outputs": [
    {
     "data": {
      "text/html": [
       "<div><style>\n",
       ".dataframe > thead > tr,\n",
       ".dataframe > tbody > tr {\n",
       "  text-align: right;\n",
       "  white-space: pre-wrap;\n",
       "}\n",
       "</style>\n",
       "<small>shape: (201_471, 4)</small><table border=\"1\" class=\"dataframe\"><thead><tr><th>ITEM_ID</th><th>IDE_DOI</th><th>IDE_ISBN</th><th>IDE_PMID</th></tr><tr><td>i32</td><td>str</td><td>str</td><td>str</td></tr></thead><tbody><tr><td>2766</td><td>&quot;10.14411/fp.20…</td><td>null</td><td>&quot;18666414&quot;</td></tr><tr><td>3349</td><td>&quot;10.1016/j.econ…</td><td>null</td><td>null</td></tr><tr><td>3867</td><td>null</td><td>&quot;9788876655746&quot;</td><td>null</td></tr><tr><td>4342</td><td>null</td><td>&quot;8821724038&quot;</td><td>null</td></tr><tr><td>4585</td><td>null</td><td>&quot;9788861328112&quot;</td><td>null</td></tr><tr><td>&hellip;</td><td>&hellip;</td><td>&hellip;</td><td>&hellip;</td></tr><tr><td>724609</td><td>&quot;10.1007/s11244…</td><td>null</td><td>&quot;36405974&quot;</td></tr><tr><td>724546</td><td>null</td><td>&quot;9788859622994&quot;</td><td>null</td></tr><tr><td>724623</td><td>&quot;10.3390/vetsci…</td><td>null</td><td>&quot;36669046&quot;</td></tr><tr><td>724249</td><td>null</td><td>&quot;9788898392117&quot;</td><td>null</td></tr><tr><td>724483</td><td>null</td><td>&quot;9788813309626&quot;</td><td>null</td></tr></tbody></table></div>"
      ],
      "text/plain": [
       "shape: (201_471, 4)\n",
       "┌─────────┬───────────────────────────────┬───────────────┬──────────┐\n",
       "│ ITEM_ID ┆ IDE_DOI                       ┆ IDE_ISBN      ┆ IDE_PMID │\n",
       "│ ---     ┆ ---                           ┆ ---           ┆ ---      │\n",
       "│ i32     ┆ str                           ┆ str           ┆ str      │\n",
       "╞═════════╪═══════════════════════════════╪═══════════════╪══════════╡\n",
       "│ 2766    ┆ 10.14411/fp.2008.015          ┆ null          ┆ 18666414 │\n",
       "│ 3349    ┆ 10.1016/j.econlet.2011.12.096 ┆ null          ┆ null     │\n",
       "│ 3867    ┆ null                          ┆ 9788876655746 ┆ null     │\n",
       "│ 4342    ┆ null                          ┆ 8821724038    ┆ null     │\n",
       "│ 4585    ┆ null                          ┆ 9788861328112 ┆ null     │\n",
       "│ …       ┆ …                             ┆ …             ┆ …        │\n",
       "│ 724609  ┆ 10.1007/s11244-022-01651-0    ┆ null          ┆ 36405974 │\n",
       "│ 724546  ┆ null                          ┆ 9788859622994 ┆ null     │\n",
       "│ 724623  ┆ 10.3390/vetsci10010045        ┆ null          ┆ 36669046 │\n",
       "│ 724249  ┆ null                          ┆ 9788898392117 ┆ null     │\n",
       "│ 724483  ┆ null                          ┆ 9788813309626 ┆ null     │\n",
       "└─────────┴───────────────────────────────┴───────────────┴──────────┘"
      ]
     },
     "execution_count": 8,
     "metadata": {},
     "output_type": "execute_result"
    }
   ],
   "source": [
    "iris_df"
   ]
  }
 ],
 "metadata": {
  "kernelspec": {
   "display_name": "Python 3",
   "language": "python",
   "name": "python3"
  },
  "language_info": {
   "codemirror_mode": {
    "name": "ipython",
    "version": 3
   },
   "file_extension": ".py",
   "mimetype": "text/x-python",
   "name": "python",
   "nbconvert_exporter": "python",
   "pygments_lexer": "ipython3",
   "version": "3.11.8"
  }
 },
 "nbformat": 4,
 "nbformat_minor": 2
}
