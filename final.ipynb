{
 "cells": [
  {
   "cell_type": "code",
   "execution_count": 98,
   "metadata": {},
   "outputs": [],
   "source": [
    "import os\n",
    "import re\n",
    "import glob\n",
    "import tempfile\n",
    "from zipfile import ZipFile\n",
    "\n",
    "import polars as pl\n",
    "from rapidfuzz import process, fuzz\n",
    "from pathlib import Path\n",
    "from tqdm import tqdm\n",
    "import multiprocessing\n",
    "\n",
    "from functools import lru_cache\n",
    "import dask.dataframe as dd\n",
    "from dask.diagnostics import ProgressBar\n",
    "ProgressBar().register()\n",
    "\n",
    "\n",
    "pl.Config.set_fmt_str_lengths(100);"
   ]
  },
  {
   "cell_type": "markdown",
   "metadata": {},
   "source": [
    "### IRIS DFs"
   ]
  },
  {
   "cell_type": "code",
   "execution_count": 99,
   "metadata": {},
   "outputs": [
    {
     "data": {
      "text/html": [
       "<div><style>\n",
       ".dataframe > thead > tr,\n",
       ".dataframe > tbody > tr {\n",
       "  text-align: right;\n",
       "  white-space: pre-wrap;\n",
       "}\n",
       "</style>\n",
       "<small>shape: (5, 3)</small><table border=\"1\" class=\"dataframe\"><thead><tr><th>ITEM_ID</th><th>IDE_DOI</th><th>IDE_ISBN</th></tr><tr><td>i32</td><td>str</td><td>str</td></tr></thead><tbody><tr><td>2766</td><td>&quot;10.14411/fp.2008.015&quot;</td><td>null</td></tr><tr><td>3349</td><td>&quot;10.1016/j.econlet.2011.12.096&quot;</td><td>null</td></tr><tr><td>3867</td><td>null</td><td>&quot;9788876655746&quot;</td></tr><tr><td>4342</td><td>null</td><td>&quot;8821724038&quot;</td></tr><tr><td>4585</td><td>null</td><td>&quot;9788861328112&quot;</td></tr></tbody></table></div>"
      ],
      "text/plain": [
       "shape: (5, 3)\n",
       "┌─────────┬───────────────────────────────┬───────────────┐\n",
       "│ ITEM_ID ┆ IDE_DOI                       ┆ IDE_ISBN      │\n",
       "│ ---     ┆ ---                           ┆ ---           │\n",
       "│ i32     ┆ str                           ┆ str           │\n",
       "╞═════════╪═══════════════════════════════╪═══════════════╡\n",
       "│ 2766    ┆ 10.14411/fp.2008.015          ┆ null          │\n",
       "│ 3349    ┆ 10.1016/j.econlet.2011.12.096 ┆ null          │\n",
       "│ 3867    ┆ null                          ┆ 9788876655746 │\n",
       "│ 4342    ┆ null                          ┆ 8821724038    │\n",
       "│ 4585    ┆ null                          ┆ 9788861328112 │\n",
       "└─────────┴───────────────────────────────┴───────────────┘"
      ]
     },
     "execution_count": 99,
     "metadata": {},
     "output_type": "execute_result"
    }
   ],
   "source": [
    "df_iris_master = pl.read_csv('./data/iris-data-2024-03-14/ODS_L1_IR_ITEM_MASTER_ALL.csv', columns=['ITEM_ID', 'YEAR_PUBLISHED', 'TITLE'] ,dtypes={'ITEM_ID': pl.Int32, 'YEAR_PUBLISHED': pl.Utf8, 'TITLE': pl.Utf8})\n",
    "df_iris_identifier = pl.read_csv('./data/iris-data-2024-03-14/ODS_L1_IR_ITEM_IDENTIFIER.csv', columns=['ITEM_ID', 'IDE_DOI', 'IDE_ISBN'] ,dtypes={'ITEM_ID': pl.Int32, 'IDE_DOI': pl.Utf8, 'IDE_ISBN': pl.Utf8})\n",
    "\n",
    "df = df_iris_identifier.join(df_iris_master, on='ITEM_ID', how='inner')\n",
    "\n",
    "\n",
    "df_filtered = df.filter(pl.col('IDE_DOI').is_not_null() | pl.col('IDE_ISBN').is_not_null())[\n",
    "    ['ITEM_ID', 'IDE_DOI', 'IDE_ISBN']\n",
    "]\n",
    "\n",
    "df_filtered.head()"
   ]
  },
  {
   "cell_type": "markdown",
   "metadata": {},
   "source": [
    "---\n",
    "### Sanitize IRIS DOIs and ISBNs"
   ]
  },
  {
   "cell_type": "code",
   "execution_count": 100,
   "metadata": {},
   "outputs": [
    {
     "name": "stdout",
     "output_type": "stream",
     "text": [
      "130077 unique dois\n",
      "129954 unique dois after filtering.  123 not dois discarded\n",
      "------------------------------\n",
      "49982 unique isbns\n",
      "49405 unique isbns after filtering.  577 not isbns discarded\n",
      "==============================\n",
      "179359 total identifiers\n"
     ]
    }
   ],
   "source": [
    "dois = df_filtered.select('IDE_DOI').drop_nulls().unique()['IDE_DOI'].to_list()\n",
    "print(len(dois), 'unique dois')\n",
    "\n",
    "#filter and normalize the dois\n",
    "doi_rule = re.compile(r'10\\.\\d{4,}\\/[^,\\s;]*')\n",
    "not_doi = []\n",
    "filtered_dois = []\n",
    "\n",
    "for doi in dois:\n",
    "    match = doi_rule.search(doi)\n",
    "    if match:\n",
    "        filtered_dois.append('doi:' + match.group())\n",
    "    else:\n",
    "        not_doi.append(doi)\n",
    "\n",
    "print(len(filtered_dois), 'unique dois after filtering. ', len(not_doi), 'not dois discarded')\n",
    "\n",
    "print('---'*10)\n",
    "\n",
    "isbns = df_filtered.select('IDE_ISBN').drop_nulls().unique()['IDE_ISBN'].to_list()\n",
    "print(len(isbns), 'unique isbns')\n",
    "\n",
    "#filter and normalize the isbns\n",
    "isbn_rule = re.compile(r'(ISBN[-]*(1[03])*[ ]*(: ){0,1})*(([0-9Xx][- ]*){13}|([0-9Xx][- ]*){10})') # ??? results to check\n",
    "not_isbn = []\n",
    "filtered_isbns = []\n",
    "\n",
    "for isbn in isbns:\n",
    "    if isbn_rule.search(isbn) is not None:\n",
    "        filtered_isbns.append('isbn:' + isbn.replace('-', '').replace(' ', ''))\n",
    "    else:\n",
    "        not_isbn.append(isbn)\n",
    "\n",
    "print(len(filtered_isbns), 'unique isbns after filtering. ', len(not_isbn), 'not isbns discarded')\n",
    "\n",
    "dois_isbns = filtered_dois + filtered_isbns\n",
    "dois_isbns = [id.lower() for id in dois_isbns]\n",
    "\n",
    "print('==='*10)\n",
    "print(len(dois_isbns), 'total identifiers')"
   ]
  },
  {
   "cell_type": "markdown",
   "metadata": {},
   "source": [
    "---\n",
    "### Meta to Parquet"
   ]
  },
  {
   "cell_type": "code",
   "execution_count": 4,
   "metadata": {},
   "outputs": [],
   "source": [
    "meta_path = Path('data/csv_openalex.zip')"
   ]
  },
  {
   "cell_type": "code",
   "execution_count": 38,
   "metadata": {},
   "outputs": [
    {
     "name": "stderr",
     "output_type": "stream",
     "text": [
      "100%|██████████| 28248/28248 [34:05<00:00, 13.81it/s]\n"
     ]
    }
   ],
   "source": [
    "def process_meta_zip(zip_path):\n",
    "    zip_file = ZipFile(zip_path)\n",
    "    files_list = [zipfile for zipfile in zip_file.namelist() if zipfile.endswith('.csv')]\n",
    "    output_dir = \"data/iris_in_meta\"\n",
    "    output_dir2 = \"data/iris_in_meta_no_id\"\n",
    "\n",
    "    for csv_file in tqdm(files_list):\n",
    "        with zip_file.open(csv_file, 'r') as file:\n",
    "            with tempfile.NamedTemporaryFile() as tf:\n",
    "                tf.write(file.read()) # Write the csv file to the temporary file\n",
    "                tf.seek(0)          # Start at the beginning of the temporary file\n",
    "                os.makedirs(output_dir, exist_ok=True)\n",
    "                os.makedirs(output_dir2, exist_ok=True)\n",
    "                df = (\n",
    "                    pl.scan_csv(tf.name)\n",
    "                    .select(['id', 'title', 'type'])\n",
    "                    .with_columns(\n",
    "                        #(pl.col('id').str.extract(r\"((?:doi):[^\\s]+)\")).alias('doi'),\n",
    "                        #(pl.col('id').str.extract(r\"((?:isbn):[^\\s]+)\")).alias('isbn'),\n",
    "                        (pl.col('id').str.extract(r\"(omid:[^\\s]+)\")).alias('omid'),\n",
    "                        # if it has a doi we get the doi, otherwise we get the isbn - the right approach?\n",
    "                        (pl.col('id').str.extract(r\"((?:doi|isbn):[^\\s]+)\"))\n",
    "                    )\n",
    "                )\n",
    "\n",
    "                lf_im = (\n",
    "                    df\n",
    "                    #.drop('id')\n",
    "                    .drop_nulls('id')\n",
    "                    .filter(\n",
    "                        #~pl.all_horizontal(pl.all('doi', 'isbn').is_null()),\n",
    "                        #pl.col(\"doi\").is_not_null() | pl.col(\"isbn\").is_not_null(),\n",
    "                        pl.col(\"id\").is_in(dois_isbns)\n",
    "                    )\n",
    "                    .collect(streaming=True)\n",
    "                )\n",
    "\n",
    "                lf_im_null = (\n",
    "                    df\n",
    "                    .filter(\n",
    "                        pl.col(\"id\").is_null()\n",
    "                    )\n",
    "                    .collect(streaming=True)\n",
    "                )\n",
    "\n",
    "                if not lf_im.is_empty():\n",
    "                    lf_im.write_parquet(os.path.join(output_dir, os.path.basename(csv_file).replace('.csv', '.parquet')))\n",
    "\n",
    "                if not lf_im_null.is_empty():\n",
    "                    lf_im_null.write_parquet(os.path.join(output_dir2, os.path.basename(csv_file).replace('.csv', '.parquet')))\n",
    "\n",
    "\n",
    "process_meta_zip(meta_path) # 25mins"
   ]
  },
  {
   "cell_type": "code",
   "execution_count": null,
   "metadata": {},
   "outputs": [],
   "source": []
  },
  {
   "cell_type": "markdown",
   "metadata": {},
   "source": [
    "### Title similarity"
   ]
  },
  {
   "cell_type": "markdown",
   "metadata": {},
   "source": [
    "#### sparql"
   ]
  },
  {
   "cell_type": "code",
   "execution_count": 89,
   "metadata": {},
   "outputs": [],
   "source": [
    "from string import Template\n",
    "from SPARQLWrapper import SPARQLWrapper, CSV, JSON\n",
    "\n",
    "query_template = Template(\"\"\"\n",
    "    PREFIX datacite: <http://purl.org/spar/datacite/>\n",
    "    PREFIX dcterms: <http://purl.org/dc/terms/>\n",
    "    PREFIX literal: <http://www.essepuntato.it/2010/06/literalreification/>\n",
    "    PREFIX prism: <http://prismstandard.org/namespaces/basic/2.0/>\n",
    "    PREFIX fabio: <http://purl.org/spar/fabio/>\n",
    "\n",
    "    SELECT ?id ?title {\n",
    "            ?identifier literal:hasLiteralValue ?id.\n",
    "            ?br datacite:hasIdentifier ?identifier;\n",
    "        dcterms:title \"{title}\"\n",
    "    }\n",
    "    \"\"\")"
   ]
  },
  {
   "cell_type": "code",
   "execution_count": null,
   "metadata": {},
   "outputs": [],
   "source": [
    "sparql = SPARQLWrapper(\"https://test.opencitations.net/meta/sparql\")\n",
    "\n",
    "for el in tqdm(iris_noid_titles[63387:]):\n",
    "    query = query_template.substitute(title=el)\n",
    "    sparql.setReturnFormat(JSON)\n",
    "    sparql.setQuery(query)\n",
    "    ret = sparql.queryAndConvert()\n",
    "\n",
    "    if ret['results']['bindings']:\n",
    "        print(el, ret['results']['bindings'])"
   ]
  },
  {
   "cell_type": "markdown",
   "metadata": {},
   "source": [
    "#### dask"
   ]
  },
  {
   "cell_type": "code",
   "execution_count": 91,
   "metadata": {},
   "outputs": [],
   "source": [
    "iris_noid_titles = (\n",
    "    df[['IDE_DOI', 'IDE_ISBN', 'TITLE']]\n",
    "    .filter(\n",
    "        pl.col('IDE_DOI').is_null() & pl.col('IDE_ISBN').is_null()\n",
    "    )\n",
    ")['TITLE'].to_list()"
   ]
  },
  {
   "cell_type": "code",
   "execution_count": 45,
   "metadata": {},
   "outputs": [
    {
     "data": {
      "text/plain": [
       "105327"
      ]
     },
     "execution_count": 45,
     "metadata": {},
     "output_type": "execute_result"
    }
   ],
   "source": [
    "len(iris_noid_titles)"
   ]
  },
  {
   "cell_type": "code",
   "execution_count": 9,
   "metadata": {},
   "outputs": [],
   "source": [
    "zip_file = ZipFile('data/csv_openalex.zip')\n",
    "csvs = ['zip://'+n for n in zip_file.namelist() if n.endswith('.csv')]"
   ]
  },
  {
   "cell_type": "code",
   "execution_count": 13,
   "metadata": {},
   "outputs": [],
   "source": [
    "ddf = dd.read_csv(csvs, storage_options={'fo': zip_file.filename}, usecols=['title'])"
   ]
  },
  {
   "cell_type": "code",
   "execution_count": 30,
   "metadata": {},
   "outputs": [
    {
     "name": "stdout",
     "output_type": "stream",
     "text": [
      "[########################################] | 100% Completed | 101.88 ms\n"
     ]
    },
    {
     "data": {
      "text/html": [
       "<div>\n",
       "<style scoped>\n",
       "    .dataframe tbody tr th:only-of-type {\n",
       "        vertical-align: middle;\n",
       "    }\n",
       "\n",
       "    .dataframe tbody tr th {\n",
       "        vertical-align: top;\n",
       "    }\n",
       "\n",
       "    .dataframe thead th {\n",
       "        text-align: right;\n",
       "    }\n",
       "</style>\n",
       "<table border=\"1\" class=\"dataframe\">\n",
       "  <thead>\n",
       "    <tr style=\"text-align: right;\">\n",
       "      <th></th>\n",
       "      <th>title</th>\n",
       "    </tr>\n",
       "  </thead>\n",
       "  <tbody>\n",
       "    <tr>\n",
       "      <th>0</th>\n",
       "      <td>Expression Of Cyclin-Dependent Kinases Inhibit...</td>\n",
       "    </tr>\n",
       "    <tr>\n",
       "      <th>1</th>\n",
       "      <td>Effects Of Treatment Of Rats With Indole-3-Car...</td>\n",
       "    </tr>\n",
       "    <tr>\n",
       "      <th>2</th>\n",
       "      <td>Parathyroid Hormone-Related Peptide And Cardio...</td>\n",
       "    </tr>\n",
       "    <tr>\n",
       "      <th>3</th>\n",
       "      <td>Oral Immunisation Of Chickens Using Cholera To...</td>\n",
       "    </tr>\n",
       "    <tr>\n",
       "      <th>4</th>\n",
       "      <td>Influence Of Stage Classification, Tumor Diffe...</td>\n",
       "    </tr>\n",
       "  </tbody>\n",
       "</table>\n",
       "</div>"
      ],
      "text/plain": [
       "                                               title\n",
       "0  Expression Of Cyclin-Dependent Kinases Inhibit...\n",
       "1  Effects Of Treatment Of Rats With Indole-3-Car...\n",
       "2  Parathyroid Hormone-Related Peptide And Cardio...\n",
       "3  Oral Immunisation Of Chickens Using Cholera To...\n",
       "4  Influence Of Stage Classification, Tumor Diffe..."
      ]
     },
     "execution_count": 30,
     "metadata": {},
     "output_type": "execute_result"
    }
   ],
   "source": [
    "ddf.partitions[0].head()"
   ]
  },
  {
   "cell_type": "code",
   "execution_count": null,
   "metadata": {},
   "outputs": [],
   "source": [
    "import numpy as np\n",
    "\n",
    "\n",
    "def compare_title_similarity(title, list_):\n",
    "    res = process.extractOne(title, list_, scorer=fuzz.token_sort_ratio, score_cutoff=70)\n",
    "    return title, res\n",
    "\n",
    "\n",
    "def find_fuzzy(list_from_user, list_from_DB, score_cutoff: int):\n",
    "    score_matrix = process.cdist(\n",
    "        list_from_user,\n",
    "        list_from_DB,\n",
    "        processor=str.lower,\n",
    "        scorer=fuzz.ratio,\n",
    "        dtype=np.uint8,  # Output the score as uint8, which is faster.\n",
    "        workers=-1,  # Use multithreading. -1 means use all cores.\n",
    "        score_cutoff=score_cutoff,\n",
    "    )\n",
    "\n",
    "    results = []\n",
    "    user_indices, db_indices = np.nonzero(score_matrix)\n",
    "    for user_index_of_match, db_index_of_match in zip(user_indices, db_indices):\n",
    "        results.append(\n",
    "            {\n",
    "                \"user_index_of_match\": user_index_of_match,\n",
    "                \"db_index_of_match\": db_index_of_match,\n",
    "                \"user_item_of_match\": list_from_user[user_index_of_match],\n",
    "                \"db_item_of_match\": list_from_DB[db_index_of_match],\n",
    "                \"score_of_match\": score_matrix[user_index_of_match, db_index_of_match],\n",
    "            }\n",
    "        )\n",
    "    return results\n"
   ]
  },
  {
   "cell_type": "code",
   "execution_count": 48,
   "metadata": {},
   "outputs": [
    {
     "ename": "AttributeError",
     "evalue": "'Series' object has no attribute 'query'",
     "output_type": "error",
     "traceback": [
      "\u001b[0;31m---------------------------------------------------------------------------\u001b[0m",
      "\u001b[0;31mAttributeError\u001b[0m                            Traceback (most recent call last)",
      "File \u001b[0;32m~/.local/lib/python3.11/site-packages/dask_expr/_core.py:459\u001b[0m, in \u001b[0;36mExpr.__getattr__\u001b[0;34m(self, key)\u001b[0m\n\u001b[1;32m    458\u001b[0m \u001b[38;5;28;01mtry\u001b[39;00m:\n\u001b[0;32m--> 459\u001b[0m     \u001b[38;5;28;01mreturn\u001b[39;00m \u001b[38;5;28;43mobject\u001b[39;49m\u001b[38;5;241;43m.\u001b[39;49m\u001b[38;5;21;43m__getattribute__\u001b[39;49m\u001b[43m(\u001b[49m\u001b[38;5;28;43mself\u001b[39;49m\u001b[43m,\u001b[49m\u001b[43m \u001b[49m\u001b[43mkey\u001b[49m\u001b[43m)\u001b[49m\n\u001b[1;32m    460\u001b[0m \u001b[38;5;28;01mexcept\u001b[39;00m \u001b[38;5;167;01mAttributeError\u001b[39;00m \u001b[38;5;28;01mas\u001b[39;00m err:\n",
      "\u001b[0;31mAttributeError\u001b[0m: 'FunctionMap' object has no attribute 'query'",
      "\nDuring handling of the above exception, another exception occurred:\n",
      "\u001b[0;31mAttributeError\u001b[0m                            Traceback (most recent call last)",
      "File \u001b[0;32m~/.local/lib/python3.11/site-packages/dask_expr/_collection.py:619\u001b[0m, in \u001b[0;36mFrameBase.__getattr__\u001b[0;34m(self, key)\u001b[0m\n\u001b[1;32m    616\u001b[0m \u001b[38;5;28;01mtry\u001b[39;00m:\n\u001b[1;32m    617\u001b[0m     \u001b[38;5;66;03m# Fall back to `expr` API\u001b[39;00m\n\u001b[1;32m    618\u001b[0m     \u001b[38;5;66;03m# (Making sure to convert to/from Expr)\u001b[39;00m\n\u001b[0;32m--> 619\u001b[0m     val \u001b[38;5;241m=\u001b[39m \u001b[38;5;28mgetattr\u001b[39m(\u001b[38;5;28mself\u001b[39m\u001b[38;5;241m.\u001b[39mexpr, key)\n\u001b[1;32m    620\u001b[0m     \u001b[38;5;28;01mif\u001b[39;00m callable(val):\n",
      "File \u001b[0;32m~/.local/lib/python3.11/site-packages/dask_expr/_core.py:480\u001b[0m, in \u001b[0;36mExpr.__getattr__\u001b[0;34m(self, key)\u001b[0m\n\u001b[1;32m    479\u001b[0m link \u001b[38;5;241m=\u001b[39m \u001b[38;5;124m\"\u001b[39m\u001b[38;5;124mhttps://github.com/dask-contrib/dask-expr/blob/main/README.md#api-coverage\u001b[39m\u001b[38;5;124m\"\u001b[39m\n\u001b[0;32m--> 480\u001b[0m \u001b[38;5;28;01mraise\u001b[39;00m \u001b[38;5;167;01mAttributeError\u001b[39;00m(\n\u001b[1;32m    481\u001b[0m     \u001b[38;5;124mf\u001b[39m\u001b[38;5;124m\"\u001b[39m\u001b[38;5;132;01m{\u001b[39;00merr\u001b[38;5;132;01m}\u001b[39;00m\u001b[38;5;130;01m\\n\u001b[39;00m\u001b[38;5;130;01m\\n\u001b[39;00m\u001b[38;5;124m\"\u001b[39m\n\u001b[1;32m    482\u001b[0m     \u001b[38;5;124m\"\u001b[39m\u001b[38;5;124mThis often means that you are attempting to use an unsupported \u001b[39m\u001b[38;5;124m\"\u001b[39m\n\u001b[1;32m    483\u001b[0m     \u001b[38;5;124mf\u001b[39m\u001b[38;5;124m\"\u001b[39m\u001b[38;5;124mAPI function. Current API coverage is documented here: \u001b[39m\u001b[38;5;132;01m{\u001b[39;00mlink\u001b[38;5;132;01m}\u001b[39;00m\u001b[38;5;124m.\u001b[39m\u001b[38;5;124m\"\u001b[39m\n\u001b[1;32m    484\u001b[0m )\n",
      "\u001b[0;31mAttributeError\u001b[0m: 'FunctionMap' object has no attribute 'query'\n\nThis often means that you are attempting to use an unsupported API function. Current API coverage is documented here: https://github.com/dask-contrib/dask-expr/blob/main/README.md#api-coverage.",
      "\nDuring handling of the above exception, another exception occurred:\n",
      "\u001b[0;31mAttributeError\u001b[0m                            Traceback (most recent call last)",
      "Cell \u001b[0;32mIn[48], line 4\u001b[0m\n\u001b[1;32m      1\u001b[0m \u001b[38;5;66;03m#def starts_with(df):\u001b[39;00m\n\u001b[0;32m----> 4\u001b[0m title_ddf \u001b[38;5;241m=\u001b[39m \u001b[43mddf\u001b[49m\u001b[38;5;241;43m.\u001b[39;49m\u001b[43mpartitions\u001b[49m\u001b[43m[\u001b[49m\u001b[38;5;241;43m0\u001b[39;49m\u001b[43m]\u001b[49m\u001b[38;5;241;43m.\u001b[39;49m\u001b[43mtitle\u001b[49m\u001b[38;5;241;43m.\u001b[39;49m\u001b[43mstr\u001b[49m\u001b[38;5;241;43m.\u001b[39;49m\u001b[43mstartswith\u001b[49m\u001b[43m(\u001b[49m\u001b[38;5;124;43m'\u001b[39;49m\u001b[38;5;124;43mExpression\u001b[39;49m\u001b[38;5;124;43m'\u001b[39;49m\u001b[43m)\u001b[49m\u001b[38;5;241;43m.\u001b[39;49m\u001b[43mquery\u001b[49m(\u001b[38;5;124m'\u001b[39m\u001b[38;5;124mtitle\u001b[39m\u001b[38;5;124m'\u001b[39m)\u001b[38;5;241m.\u001b[39mcompute()\n\u001b[1;32m      5\u001b[0m title_ddf\n",
      "File \u001b[0;32m~/.local/lib/python3.11/site-packages/dask_expr/_collection.py:625\u001b[0m, in \u001b[0;36mFrameBase.__getattr__\u001b[0;34m(self, key)\u001b[0m\n\u001b[1;32m    622\u001b[0m     \u001b[38;5;28;01mreturn\u001b[39;00m val\n\u001b[1;32m    623\u001b[0m \u001b[38;5;28;01mexcept\u001b[39;00m \u001b[38;5;167;01mAttributeError\u001b[39;00m:\n\u001b[1;32m    624\u001b[0m     \u001b[38;5;66;03m# Raise original error\u001b[39;00m\n\u001b[0;32m--> 625\u001b[0m     \u001b[38;5;28;01mraise\u001b[39;00m err\n",
      "File \u001b[0;32m~/.local/lib/python3.11/site-packages/dask_expr/_collection.py:614\u001b[0m, in \u001b[0;36mFrameBase.__getattr__\u001b[0;34m(self, key)\u001b[0m\n\u001b[1;32m    611\u001b[0m \u001b[38;5;28;01mdef\u001b[39;00m \u001b[38;5;21m__getattr__\u001b[39m(\u001b[38;5;28mself\u001b[39m, key):\n\u001b[1;32m    612\u001b[0m     \u001b[38;5;28;01mtry\u001b[39;00m:\n\u001b[1;32m    613\u001b[0m         \u001b[38;5;66;03m# Prioritize `FrameBase` attributes\u001b[39;00m\n\u001b[0;32m--> 614\u001b[0m         \u001b[38;5;28;01mreturn\u001b[39;00m \u001b[38;5;28;43mobject\u001b[39;49m\u001b[38;5;241;43m.\u001b[39;49m\u001b[38;5;21;43m__getattribute__\u001b[39;49m\u001b[43m(\u001b[49m\u001b[38;5;28;43mself\u001b[39;49m\u001b[43m,\u001b[49m\u001b[43m \u001b[49m\u001b[43mkey\u001b[49m\u001b[43m)\u001b[49m\n\u001b[1;32m    615\u001b[0m     \u001b[38;5;28;01mexcept\u001b[39;00m \u001b[38;5;167;01mAttributeError\u001b[39;00m \u001b[38;5;28;01mas\u001b[39;00m err:\n\u001b[1;32m    616\u001b[0m         \u001b[38;5;28;01mtry\u001b[39;00m:\n\u001b[1;32m    617\u001b[0m             \u001b[38;5;66;03m# Fall back to `expr` API\u001b[39;00m\n\u001b[1;32m    618\u001b[0m             \u001b[38;5;66;03m# (Making sure to convert to/from Expr)\u001b[39;00m\n",
      "\u001b[0;31mAttributeError\u001b[0m: 'Series' object has no attribute 'query'"
     ]
    }
   ],
   "source": [
    "#def starts_with(df):\n",
    "\n",
    "\n",
    "title_ddf = ddf.partitions[0].title.str.startswith('Expression').compute()\n",
    "title_ddf"
   ]
  },
  {
   "cell_type": "code",
   "execution_count": 158,
   "metadata": {},
   "outputs": [
    {
     "data": {
      "text/html": [
       "<div><style>\n",
       ".dataframe > thead > tr,\n",
       ".dataframe > tbody > tr {\n",
       "  text-align: right;\n",
       "  white-space: pre-wrap;\n",
       "}\n",
       "</style>\n",
       "<small>shape: (1, 1)</small><table border=\"1\" class=\"dataframe\"><thead><tr><th>len</th></tr><tr><td>u32</td></tr></thead><tbody><tr><td>12352039</td></tr></tbody></table></div>"
      ],
      "text/plain": [
       "shape: (1, 1)\n",
       "┌──────────┐\n",
       "│ len      │\n",
       "│ ---      │\n",
       "│ u32      │\n",
       "╞══════════╡\n",
       "│ 12352039 │\n",
       "└──────────┘"
      ]
     },
     "execution_count": 158,
     "metadata": {},
     "output_type": "execute_result"
    }
   ],
   "source": [
    "lf_iim_null = pl.scan_parquet('data/iris_in_meta_no_id/*.parquet')\n",
    "\n",
    "#lf_iim_null.select(pl.len()).collect().head()\n",
    "#lf_iim_null.collect().head(20)\n",
    "\n",
    "lf_iim_null = (\n",
    "    lf_iim_null\n",
    "    .select('title')\n",
    "    .filter(\n",
    "        (pl.col('title') == \"\").not_()\n",
    "    )\n",
    ")\n",
    "\n",
    "lf_iim_null.select(pl.len()).collect()"
   ]
  },
  {
   "cell_type": "code",
   "execution_count": 177,
   "metadata": {},
   "outputs": [
    {
     "data": {
      "text/plain": [
       "12468046"
      ]
     },
     "execution_count": 177,
     "metadata": {},
     "output_type": "execute_result"
    }
   ],
   "source": [
    "116007 + 12352039"
   ]
  },
  {
   "cell_type": "code",
   "execution_count": 159,
   "metadata": {},
   "outputs": [
    {
     "ename": "TypeError",
     "evalue": "'LazyFrame' object is not subscriptable (aside from slicing)\n\nUse `select()` or `filter()` instead.",
     "output_type": "error",
     "traceback": [
      "\u001b[0;31m---------------------------------------------------------------------------\u001b[0m",
      "\u001b[0;31mTypeError\u001b[0m                                 Traceback (most recent call last)",
      "Cell \u001b[0;32mIn[159], line 2\u001b[0m\n\u001b[1;32m      1\u001b[0m \u001b[38;5;28;01mfor\u001b[39;00m title \u001b[38;5;129;01min\u001b[39;00m iris_noid_titles:\n\u001b[0;32m----> 2\u001b[0m     matches \u001b[38;5;241m=\u001b[39m process\u001b[38;5;241m.\u001b[39mextract(title, \u001b[43mlf_iim_null\u001b[49m\u001b[43m[\u001b[49m\u001b[38;5;124;43m'\u001b[39;49m\u001b[38;5;124;43mtitle\u001b[39;49m\u001b[38;5;124;43m'\u001b[39;49m\u001b[43m]\u001b[49m\u001b[38;5;241m.\u001b[39mto_list(), scorer\u001b[38;5;241m=\u001b[39mfuzz\u001b[38;5;241m.\u001b[39mtoken_sort_ratio, limit\u001b[38;5;241m=\u001b[39m\u001b[38;5;241m1\u001b[39m)\n\u001b[1;32m      3\u001b[0m     \u001b[38;5;28;01mif\u001b[39;00m matches:\n\u001b[1;32m      4\u001b[0m         \u001b[38;5;28mprint\u001b[39m(title, matches[\u001b[38;5;241m0\u001b[39m])\n",
      "File \u001b[0;32m~/.local/lib/python3.11/site-packages/polars/lazyframe/frame.py:517\u001b[0m, in \u001b[0;36mLazyFrame.__getitem__\u001b[0;34m(self, item)\u001b[0m\n\u001b[1;32m    512\u001b[0m \u001b[38;5;28;01mif\u001b[39;00m \u001b[38;5;129;01mnot\u001b[39;00m \u001b[38;5;28misinstance\u001b[39m(item, \u001b[38;5;28mslice\u001b[39m):\n\u001b[1;32m    513\u001b[0m     msg \u001b[38;5;241m=\u001b[39m (\n\u001b[1;32m    514\u001b[0m         \u001b[38;5;124m\"\u001b[39m\u001b[38;5;124m'\u001b[39m\u001b[38;5;124mLazyFrame\u001b[39m\u001b[38;5;124m'\u001b[39m\u001b[38;5;124m object is not subscriptable (aside from slicing)\u001b[39m\u001b[38;5;124m\"\u001b[39m\n\u001b[1;32m    515\u001b[0m         \u001b[38;5;124m\"\u001b[39m\u001b[38;5;130;01m\\n\u001b[39;00m\u001b[38;5;130;01m\\n\u001b[39;00m\u001b[38;5;124mUse `select()` or `filter()` instead.\u001b[39m\u001b[38;5;124m\"\u001b[39m\n\u001b[1;32m    516\u001b[0m     )\n\u001b[0;32m--> 517\u001b[0m     \u001b[38;5;28;01mraise\u001b[39;00m \u001b[38;5;167;01mTypeError\u001b[39;00m(msg)\n\u001b[1;32m    518\u001b[0m \u001b[38;5;28;01mreturn\u001b[39;00m LazyPolarsSlice(\u001b[38;5;28mself\u001b[39m)\u001b[38;5;241m.\u001b[39mapply(item)\n",
      "\u001b[0;31mTypeError\u001b[0m: 'LazyFrame' object is not subscriptable (aside from slicing)\n\nUse `select()` or `filter()` instead."
     ]
    }
   ],
   "source": [
    "for title in iris_noid_titles:\n",
    "    matches = process.extract(title, lf_iim_null['title'].to_list(), scorer=fuzz.token_sort_ratio, limit=1)\n",
    "    if matches:\n",
    "        print(title, matches[0])"
   ]
  },
  {
   "cell_type": "code",
   "execution_count": 27,
   "metadata": {},
   "outputs": [],
   "source": [
    "def compare_title_similarity(title):\n",
    "    res = process.extractOne(title, l, scorer=fuzz.token_sort_ratio, score_cutoff=70)\n",
    "    return title, res"
   ]
  },
  {
   "cell_type": "code",
   "execution_count": 5,
   "metadata": {},
   "outputs": [
    {
     "ename": "NameError",
     "evalue": "name 'lf_im_null' is not defined",
     "output_type": "error",
     "traceback": [
      "\u001b[0;31m---------------------------------------------------------------------------\u001b[0m",
      "\u001b[0;31mNameError\u001b[0m                                 Traceback (most recent call last)",
      "Cell \u001b[0;32mIn[5], line 7\u001b[0m\n\u001b[1;32m      2\u001b[0m     res \u001b[38;5;241m=\u001b[39m process\u001b[38;5;241m.\u001b[39mextractOne(title, noid_titles_list, scorer\u001b[38;5;241m=\u001b[39mfuzz\u001b[38;5;241m.\u001b[39mtoken_sort_ratio, score_cutoff\u001b[38;5;241m=\u001b[39m\u001b[38;5;241m50\u001b[39m)\n\u001b[1;32m      3\u001b[0m     \u001b[38;5;28;01mreturn\u001b[39;00m res[\u001b[38;5;241m1\u001b[39m] \u001b[38;5;28;01mif\u001b[39;00m res \u001b[38;5;28;01melse\u001b[39;00m \u001b[38;5;28;01mNone\u001b[39;00m\n\u001b[1;32m      6\u001b[0m lf_im_null_res \u001b[38;5;241m=\u001b[39m (\n\u001b[0;32m----> 7\u001b[0m     \u001b[43mlf_im_null\u001b[49m\n\u001b[1;32m      8\u001b[0m     \u001b[38;5;241m.\u001b[39mselect([\u001b[38;5;124m'\u001b[39m\u001b[38;5;124mtitle\u001b[39m\u001b[38;5;124m'\u001b[39m])\n\u001b[1;32m      9\u001b[0m     \u001b[38;5;241m.\u001b[39mwith_columns(\n\u001b[1;32m     10\u001b[0m         (pl\u001b[38;5;241m.\u001b[39mcol(\u001b[38;5;124m'\u001b[39m\u001b[38;5;124mtitle\u001b[39m\u001b[38;5;124m'\u001b[39m)\u001b[38;5;241m.\u001b[39mmap_elements(compare_title_similarity, return_dtype\u001b[38;5;241m=\u001b[39mpl\u001b[38;5;241m.\u001b[39mInt64))\u001b[38;5;241m.\u001b[39malias(\u001b[38;5;124m'\u001b[39m\u001b[38;5;124mtitle_similarity\u001b[39m\u001b[38;5;124m'\u001b[39m)\n\u001b[1;32m     11\u001b[0m     )\n\u001b[1;32m     12\u001b[0m     \u001b[38;5;241m.\u001b[39mdrop_nulls(\u001b[38;5;124m'\u001b[39m\u001b[38;5;124mtitle_similarity\u001b[39m\u001b[38;5;124m'\u001b[39m)\n\u001b[1;32m     13\u001b[0m )\n",
      "\u001b[0;31mNameError\u001b[0m: name 'lf_im_null' is not defined"
     ]
    }
   ],
   "source": [
    "\n",
    "\n",
    "lf_im_null_res = (\n",
    "    lf_im_null\n",
    "    .select(['title'])\n",
    "    .with_columns(\n",
    "        (pl.col('title').map_elements(compare_title_similarity, return_dtype=pl.Int64)).alias('title_similarity')\n",
    "    )\n",
    "    .drop_nulls('title_similarity')\n",
    ")"
   ]
  },
  {
   "cell_type": "code",
   "execution_count": 11,
   "metadata": {},
   "outputs": [],
   "source": [
    "lf_im_null_res = (\n",
    "    lf_im_null\n",
    "    .select(['title'])\n",
    "    .filter(\n",
    "        pl.col('title') != \"\"\n",
    "    )\n",
    ")\n",
    "\n",
    "#lf_im_null.select(pl.len()).collect().head()\n",
    "l = lf_im_null_res.collect()['title']"
   ]
  },
  {
   "cell_type": "code",
   "execution_count": 12,
   "metadata": {},
   "outputs": [
    {
     "data": {
      "text/plain": [
       "polars.series.series.Series"
      ]
     },
     "execution_count": 12,
     "metadata": {},
     "output_type": "execute_result"
    }
   ],
   "source": [
    "type(l)"
   ]
  },
  {
   "cell_type": "code",
   "execution_count": 17,
   "metadata": {},
   "outputs": [
    {
     "data": {
      "text/plain": [
       "105327"
      ]
     },
     "execution_count": 17,
     "metadata": {},
     "output_type": "execute_result"
    }
   ],
   "source": [
    "len(noid_titles_list)"
   ]
  },
  {
   "cell_type": "code",
   "execution_count": 22,
   "metadata": {},
   "outputs": [
    {
     "data": {
      "application/vnd.jupyter.widget-view+json": {
       "model_id": "be776960fb5a45f599dcc6ebaaafaaaa",
       "version_major": 2,
       "version_minor": 0
      },
      "text/plain": [
       "  0%|          | 0/10 [00:00<?, ?it/s]"
      ]
     },
     "metadata": {},
     "output_type": "display_data"
    },
    {
     "name": "stdout",
     "output_type": "stream",
     "text": [
      "[('Applications of CeCl3.7H2O-NaI System Towards the Formation of Heterocyclic Structures', ('[The Interferon System: Structure, Biology, Applications].', 58.33333333333333, 4574416)), ('Radioattività naturale delle materie prime ceramiche e relative condizioni di esposizione occupazionale nell’industria', None), ('Gli istituti generali di semplificazione: la conferenza di servizi e le sue trasformazioni', ('Transformation Consistent Self-ensembling Model For Semi-supervised Medical Image Segmentation', 51.08695652173913, 5867090)), (\"Commento all’art.8 d.lgs. 154/2004 - Procedimenti ai sensi dell'articolo 88 del Trattato istitutivo della Comunitaà europea\", None), ('2005: agricoltura centro o fine del mondo?', ('Agricultural Policy Monitoring And Evaluation 2020', 54.347826086956516, 5804189)), ('Aspetti emotivi e comportamentali dell’improvvisazione jazzistica: il punto di vista del musicista', None), ('Phaseguide Structures for Pipette Actuated Laminar Flow Based Selective Sample Recovery', ('A Blind Adaptive CDMA Receiver Based On State Space Structures', 56.3758389261745, 10078822)), ('Studio del ciclo biologico di Myxobolus lentisuturalis (Myxozoa, Myxobolidae), parassita di Carassius auratus auratus.', None), ('The Other Side of the Timing Equation: a Result of Clock Faults', ('Verifying Search Results Over Web Collections', 55.55555555555556, 7185721)), ('Ritratto di Augusto capite velato', ('Augusto Pinochet', 53.06122448979591, 11738565))]\n"
     ]
    }
   ],
   "source": [
    "from tqdm.contrib.concurrent import process_map\n",
    "\n",
    "\n",
    "core_num = multiprocessing.cpu_count()\n",
    "\n",
    "r = process_map(compare_title_similarity, noid_titles_list[:10], max_workers=core_num, chunksize=1)\n",
    "\n",
    "print(r)\n"
   ]
  },
  {
   "cell_type": "code",
   "execution_count": 23,
   "metadata": {},
   "outputs": [
    {
     "data": {
      "text/plain": [
       "[('Applications of CeCl3.7H2O-NaI System Towards the Formation of Heterocyclic Structures',\n",
       "  ('[The Interferon System: Structure, Biology, Applications].',\n",
       "   58.33333333333333,\n",
       "   4574416)),\n",
       " ('Radioattività naturale delle materie prime ceramiche e relative condizioni di esposizione occupazionale nell’industria',\n",
       "  None),\n",
       " ('Gli istituti generali di semplificazione: la conferenza di servizi e le sue trasformazioni',\n",
       "  ('Transformation Consistent Self-ensembling Model For Semi-supervised Medical Image Segmentation',\n",
       "   51.08695652173913,\n",
       "   5867090)),\n",
       " (\"Commento all’art.8 d.lgs. 154/2004 - Procedimenti ai sensi dell'articolo 88 del Trattato istitutivo della Comunitaà europea\",\n",
       "  None),\n",
       " ('2005: agricoltura centro o fine del mondo?',\n",
       "  ('Agricultural Policy Monitoring And Evaluation 2020',\n",
       "   54.347826086956516,\n",
       "   5804189)),\n",
       " ('Aspetti emotivi e comportamentali dell’improvvisazione jazzistica: il punto di vista del musicista',\n",
       "  None),\n",
       " ('Phaseguide Structures for Pipette Actuated Laminar Flow Based Selective Sample Recovery',\n",
       "  ('A Blind Adaptive CDMA Receiver Based On State Space Structures',\n",
       "   56.3758389261745,\n",
       "   10078822)),\n",
       " ('Studio del ciclo biologico di Myxobolus lentisuturalis (Myxozoa, Myxobolidae), parassita di Carassius auratus auratus.',\n",
       "  None),\n",
       " ('The Other Side of the Timing Equation: a Result of Clock Faults',\n",
       "  ('Verifying Search Results Over Web Collections',\n",
       "   55.55555555555556,\n",
       "   7185721)),\n",
       " ('Ritratto di Augusto capite velato',\n",
       "  ('Augusto Pinochet', 53.06122448979591, 11738565))]"
      ]
     },
     "execution_count": 23,
     "metadata": {},
     "output_type": "execute_result"
    }
   ],
   "source": [
    "r"
   ]
  },
  {
   "cell_type": "code",
   "execution_count": 20,
   "metadata": {},
   "outputs": [
    {
     "data": {
      "text/plain": [
       "['Applications of CeCl3.7H2O-NaI System Towards the Formation of Heterocyclic Structures',\n",
       " 'Radioattività naturale delle materie prime ceramiche e relative condizioni di esposizione occupazionale nell’industria',\n",
       " 'Gli istituti generali di semplificazione: la conferenza di servizi e le sue trasformazioni',\n",
       " \"Commento all’art.8 d.lgs. 154/2004 - Procedimenti ai sensi dell'articolo 88 del Trattato istitutivo della Comunitaà europea\",\n",
       " '2005: agricoltura centro o fine del mondo?',\n",
       " 'Aspetti emotivi e comportamentali dell’improvvisazione jazzistica: il punto di vista del musicista',\n",
       " 'Phaseguide Structures for Pipette Actuated Laminar Flow Based Selective Sample Recovery',\n",
       " 'Studio del ciclo biologico di Myxobolus lentisuturalis (Myxozoa, Myxobolidae), parassita di Carassius auratus auratus.',\n",
       " 'The Other Side of the Timing Equation: a Result of Clock Faults',\n",
       " 'Ritratto di Augusto capite velato']"
      ]
     },
     "execution_count": 20,
     "metadata": {},
     "output_type": "execute_result"
    }
   ],
   "source": [
    "noid_titles_list[:10]"
   ]
  },
  {
   "cell_type": "code",
   "execution_count": 19,
   "metadata": {},
   "outputs": [
    {
     "data": {
      "text/plain": [
       "'[The Interferon System: Structure, Biology, Applications].'"
      ]
     },
     "execution_count": 19,
     "metadata": {},
     "output_type": "execute_result"
    }
   ],
   "source": [
    "l[4574416]"
   ]
  },
  {
   "cell_type": "markdown",
   "metadata": {},
   "source": [
    "### RQ1. What is the coverage of the publications available in IRIS (strictly concerning research conducted within the University of Bologna) in OpenCitations Meta?"
   ]
  },
  {
   "cell_type": "code",
   "execution_count": 101,
   "metadata": {},
   "outputs": [
    {
     "data": {
      "text/html": [
       "<div><style>\n",
       ".dataframe > thead > tr,\n",
       ".dataframe > tbody > tr {\n",
       "  text-align: right;\n",
       "  white-space: pre-wrap;\n",
       "}\n",
       "</style>\n",
       "<small>shape: (1, 1)</small><table border=\"1\" class=\"dataframe\"><thead><tr><th>len</th></tr><tr><td>u32</td></tr></thead><tbody><tr><td>116007</td></tr></tbody></table></div>"
      ],
      "text/plain": [
       "shape: (1, 1)\n",
       "┌────────┐\n",
       "│ len    │\n",
       "│ ---    │\n",
       "│ u32    │\n",
       "╞════════╡\n",
       "│ 116007 │\n",
       "└────────┘"
      ]
     },
     "execution_count": 101,
     "metadata": {},
     "output_type": "execute_result"
    }
   ],
   "source": [
    "lf_iim = pl.scan_parquet('data/iris_in_meta/*.parquet')\n",
    "#lf_iim.head().collect()\n",
    "lf_iim.select(pl.len()).collect()"
   ]
  },
  {
   "cell_type": "code",
   "execution_count": 102,
   "metadata": {},
   "outputs": [
    {
     "name": "stdout",
     "output_type": "stream",
     "text": [
      "116007 articoli provenienti da IRIS su 179359 sono presenti in OM\n",
      "64.7%\n"
     ]
    }
   ],
   "source": [
    "rq1 = lf_iim.select(pl.len()).collect()\n",
    "\n",
    "print(rq1.item(), 'articoli provenienti da IRIS su', len(dois_isbns), 'sono presenti in OM')\n",
    "print(\"{:.1f}%\".format(rq1.item() / len(dois_isbns) * 100))"
   ]
  },
  {
   "cell_type": "code",
   "execution_count": 103,
   "metadata": {},
   "outputs": [
    {
     "data": {
      "text/html": [
       "<div><style>\n",
       ".dataframe > thead > tr,\n",
       ".dataframe > tbody > tr {\n",
       "  text-align: right;\n",
       "  white-space: pre-wrap;\n",
       "}\n",
       "</style>\n",
       "<small>shape: (5, 1)</small><table border=\"1\" class=\"dataframe\"><thead><tr><th>id</th></tr><tr><td>str</td></tr></thead><tbody><tr><td>&quot;doi:10.1002/widm.1511&quot;</td></tr><tr><td>&quot;doi:10.1016/j.jmatprotec.2017.10.019&quot;</td></tr><tr><td>&quot;doi:10.1093/annonc/mdw618&quot;</td></tr><tr><td>&quot;doi:10.1093/annonc/mdw430&quot;</td></tr><tr><td>&quot;doi:10.1093/annonc/mdw649&quot;</td></tr></tbody></table></div>"
      ],
      "text/plain": [
       "shape: (5, 1)\n",
       "┌──────────────────────────────────────┐\n",
       "│ id                                   │\n",
       "│ ---                                  │\n",
       "│ str                                  │\n",
       "╞══════════════════════════════════════╡\n",
       "│ doi:10.1002/widm.1511                │\n",
       "│ doi:10.1016/j.jmatprotec.2017.10.019 │\n",
       "│ doi:10.1093/annonc/mdw618            │\n",
       "│ doi:10.1093/annonc/mdw430            │\n",
       "│ doi:10.1093/annonc/mdw649            │\n",
       "└──────────────────────────────────────┘"
      ]
     },
     "execution_count": 103,
     "metadata": {},
     "output_type": "execute_result"
    }
   ],
   "source": [
    "ids_list = (\n",
    "    lf_iim\n",
    "    .select('id')\n",
    ")\n",
    "\n",
    "ids_list.head().collect()"
   ]
  },
  {
   "cell_type": "markdown",
   "metadata": {},
   "source": [
    "### RQ2. Which are the types of publications that are better covered in OpenCitations Meta?"
   ]
  },
  {
   "cell_type": "code",
   "execution_count": 7,
   "metadata": {},
   "outputs": [
    {
     "data": {
      "text/html": [
       "<div><style>\n",
       ".dataframe > thead > tr,\n",
       ".dataframe > tbody > tr {\n",
       "  text-align: right;\n",
       "  white-space: pre-wrap;\n",
       "}\n",
       "</style>\n",
       "<small>shape: (16, 2)</small><table border=\"1\" class=\"dataframe\"><thead><tr><th>type</th><th>len</th></tr><tr><td>str</td><td>u32</td></tr></thead><tbody><tr><td>&quot;journal article&quot;</td><td>102828</td></tr><tr><td>&quot;proceedings article&quot;</td><td>5584</td></tr><tr><td>&quot;book chapter&quot;</td><td>4473</td></tr><tr><td>&quot;book&quot;</td><td>1487</td></tr><tr><td>&quot;&quot;</td><td>1420</td></tr><tr><td>&hellip;</td><td>&hellip;</td></tr><tr><td>&quot;dataset&quot;</td><td>6</td></tr><tr><td>&quot;dissertation&quot;</td><td>2</td></tr><tr><td>&quot;computer program&quot;</td><td>1</td></tr><tr><td>&quot;book series&quot;</td><td>1</td></tr><tr><td>&quot;series&quot;</td><td>1</td></tr></tbody></table></div>"
      ],
      "text/plain": [
       "shape: (16, 2)\n",
       "┌─────────────────────┬────────┐\n",
       "│ type                ┆ len    │\n",
       "│ ---                 ┆ ---    │\n",
       "│ str                 ┆ u32    │\n",
       "╞═════════════════════╪════════╡\n",
       "│ journal article     ┆ 102828 │\n",
       "│ proceedings article ┆ 5584   │\n",
       "│ book chapter        ┆ 4473   │\n",
       "│ book                ┆ 1487   │\n",
       "│                     ┆ 1420   │\n",
       "│ …                   ┆ …      │\n",
       "│ dataset             ┆ 6      │\n",
       "│ dissertation        ┆ 2      │\n",
       "│ computer program    ┆ 1      │\n",
       "│ book series         ┆ 1      │\n",
       "│ series              ┆ 1      │\n",
       "└─────────────────────┴────────┘"
      ]
     },
     "execution_count": 7,
     "metadata": {},
     "output_type": "execute_result"
    }
   ],
   "source": [
    "rq2 = lf_iim.group_by('type').len().sort('len', descending=True).collect()\n",
    "\n",
    "rq2"
   ]
  },
  {
   "cell_type": "markdown",
   "metadata": {},
   "source": [
    "### Index to Parquet"
   ]
  },
  {
   "cell_type": "code",
   "execution_count": 15,
   "metadata": {},
   "outputs": [
    {
     "data": {
      "text/plain": [
       "116007"
      ]
     },
     "execution_count": 15,
     "metadata": {},
     "output_type": "execute_result"
    }
   ],
   "source": [
    "omids_list = (\n",
    "    lf_iim\n",
    "    .select('omid')\n",
    "    .collect()\n",
    ")['omid'].to_list()\n",
    "\n",
    "len(omids_list)"
   ]
  },
  {
   "cell_type": "code",
   "execution_count": 16,
   "metadata": {},
   "outputs": [],
   "source": [
    "index_path = Path('data/oc_index')\n",
    "file_names = [Path(index_path / archive) for archive in os.listdir(index_path)]"
   ]
  },
  {
   "cell_type": "code",
   "execution_count": 27,
   "metadata": {},
   "outputs": [
    {
     "name": "stderr",
     "output_type": "stream",
     "text": [
      "  0%|          | 0/25 [00:00<?, ?it/s]"
     ]
    },
    {
     "name": "stdout",
     "output_type": "stream",
     "text": [
      "data/oc_index/2023_08_03-05T_0_1.zip\n",
      "[########################################] | 100% Completed | 10m 6ss\n"
     ]
    },
    {
     "name": "stderr",
     "output_type": "stream",
     "text": [
      "  4%|▍         | 1/25 [10:06<4:02:40, 606.67s/it]"
     ]
    },
    {
     "name": "stdout",
     "output_type": "stream",
     "text": [
      "data/oc_index/2023_11_25T_0_1.zip\n",
      "[########################################] | 100% Completed | 38.91 s\n"
     ]
    },
    {
     "name": "stderr",
     "output_type": "stream",
     "text": [
      "  8%|▊         | 2/25 [10:46<1:44:40, 273.07s/it]"
     ]
    },
    {
     "name": "stdout",
     "output_type": "stream",
     "text": [
      "data/oc_index/2023_08_20-23T_0_1.zip\n",
      "[########################################] | 100% Completed | 236.61 s\n"
     ]
    },
    {
     "name": "stderr",
     "output_type": "stream",
     "text": [
      " 12%|█▏        | 3/25 [14:43<1:34:04, 256.56s/it]"
     ]
    },
    {
     "name": "stdout",
     "output_type": "stream",
     "text": [
      "data/oc_index/2023_06_05-07T_0_1.zip\n",
      "[########################################] | 100% Completed | 162.50 s\n"
     ]
    },
    {
     "name": "stderr",
     "output_type": "stream",
     "text": [
      " 16%|█▌        | 4/25 [17:26<1:16:51, 219.57s/it]"
     ]
    },
    {
     "name": "stdout",
     "output_type": "stream",
     "text": [
      "data/oc_index/2023_07_13T_0_1.zip\n",
      "[########################################] | 100% Completed | 80.52 s\n"
     ]
    },
    {
     "name": "stderr",
     "output_type": "stream",
     "text": [
      " 20%|██        | 5/25 [18:46<56:31, 169.55s/it]  "
     ]
    },
    {
     "name": "stdout",
     "output_type": "stream",
     "text": [
      "data/oc_index/2023_05_09-14T_0_1.zip\n",
      "[########################################] | 100% Completed | 10m 43s\n"
     ]
    },
    {
     "name": "stderr",
     "output_type": "stream",
     "text": [
      " 24%|██▍       | 6/25 [29:30<1:44:47, 330.90s/it]"
     ]
    },
    {
     "name": "stdout",
     "output_type": "stream",
     "text": [
      "data/oc_index/2023_08_14-16T_0_1.zip\n",
      "[########################################] | 100% Completed | 461.42 s\n"
     ]
    },
    {
     "name": "stderr",
     "output_type": "stream",
     "text": [
      " 28%|██▊       | 7/25 [37:12<1:52:06, 373.69s/it]"
     ]
    },
    {
     "name": "stdout",
     "output_type": "stream",
     "text": [
      "data/oc_index/2023_06_15-18T_0_1.zip\n",
      "[########################################] | 100% Completed | 485.30 s\n"
     ]
    },
    {
     "name": "stderr",
     "output_type": "stream",
     "text": [
      " 32%|███▏      | 8/25 [45:18<1:55:58, 409.32s/it]"
     ]
    },
    {
     "name": "stdout",
     "output_type": "stream",
     "text": [
      "data/oc_index/2023_07-08_31-02T_0_1.zip\n",
      "[########################################] | 100% Completed | 549.97 s\n"
     ]
    },
    {
     "name": "stderr",
     "output_type": "stream",
     "text": [
      " 36%|███▌      | 9/25 [54:28<2:00:54, 453.38s/it]"
     ]
    },
    {
     "name": "stdout",
     "output_type": "stream",
     "text": [
      "data/oc_index/2023_07_17-20T_0_1.zip\n",
      "[########################################] | 100% Completed | 10m 11s\n"
     ]
    },
    {
     "name": "stderr",
     "output_type": "stream",
     "text": [
      " 40%|████      | 10/25 [1:04:40<2:05:33, 502.26s/it]"
     ]
    },
    {
     "name": "stdout",
     "output_type": "stream",
     "text": [
      "data/oc_index/2023_06_04-07T_0_1.zip\n",
      "[########################################] | 100% Completed | 70.17 s\n"
     ]
    },
    {
     "name": "stderr",
     "output_type": "stream",
     "text": [
      " 44%|████▍     | 11/25 [1:05:50<1:26:21, 370.12s/it]"
     ]
    },
    {
     "name": "stdout",
     "output_type": "stream",
     "text": [
      "data/oc_index/2023_09_27T_0_1.zip\n",
      "[########################################] | 100% Completed | 103.17 ms\n"
     ]
    },
    {
     "name": "stderr",
     "output_type": "stream",
     "text": [
      " 48%|████▊     | 12/25 [1:05:51<55:49, 257.63s/it]  "
     ]
    },
    {
     "name": "stdout",
     "output_type": "stream",
     "text": [
      "data/oc_index/2023_05_18-20T_0_1.zip\n",
      "[########################################] | 100% Completed | 237.38 s\n"
     ]
    },
    {
     "name": "stderr",
     "output_type": "stream",
     "text": [
      " 52%|█████▏    | 13/25 [1:09:48<50:18, 251.58s/it]"
     ]
    },
    {
     "name": "stdout",
     "output_type": "stream",
     "text": [
      "data/oc_index/2023_08_08-11T_0_1.zip\n",
      "[########################################] | 100% Completed | 10m 5ss\n"
     ]
    },
    {
     "name": "stderr",
     "output_type": "stream",
     "text": [
      " 56%|█████▌    | 14/25 [1:19:54<1:05:44, 358.55s/it]"
     ]
    },
    {
     "name": "stdout",
     "output_type": "stream",
     "text": [
      "data/oc_index/2023_07_26-29T_0_1.zip\n",
      "[########################################] | 100% Completed | 10m 55s\n"
     ]
    },
    {
     "name": "stderr",
     "output_type": "stream",
     "text": [
      " 60%|██████    | 15/25 [1:30:50<1:14:42, 448.29s/it]"
     ]
    },
    {
     "name": "stdout",
     "output_type": "stream",
     "text": [
      "data/oc_index/2023_05_20-21T_0_1.zip\n",
      "[########################################] | 100% Completed | 57.86 s\n"
     ]
    },
    {
     "name": "stderr",
     "output_type": "stream",
     "text": [
      " 64%|██████▍   | 16/25 [1:31:49<49:37, 330.86s/it]  "
     ]
    },
    {
     "name": "stdout",
     "output_type": "stream",
     "text": [
      "data/oc_index/2023_07_05-08T_0_1.zip\n",
      "[########################################] | 100% Completed | 472.23 s\n"
     ]
    },
    {
     "name": "stderr",
     "output_type": "stream",
     "text": [
      " 68%|██████▊   | 17/25 [1:39:41<49:47, 373.47s/it]"
     ]
    },
    {
     "name": "stdout",
     "output_type": "stream",
     "text": [
      "data/oc_index/2023_08_06-08T_0_1.zip\n",
      "[########################################] | 100% Completed | 540.19 s\n"
     ]
    },
    {
     "name": "stderr",
     "output_type": "stream",
     "text": [
      " 72%|███████▏  | 18/25 [1:48:42<49:25, 423.65s/it]"
     ]
    },
    {
     "name": "stdout",
     "output_type": "stream",
     "text": [
      "data/oc_index/2023_07_24-26T_0_1.zip\n",
      "[########################################] | 100% Completed | 496.67 s\n"
     ]
    },
    {
     "name": "stderr",
     "output_type": "stream",
     "text": [
      " 76%|███████▌  | 19/25 [1:56:59<44:34, 445.69s/it]"
     ]
    },
    {
     "name": "stdout",
     "output_type": "stream",
     "text": [
      "data/oc_index/2023_10_24-28T_0_1.zip\n",
      "[########################################] | 100% Completed | 491.88 s\n"
     ]
    },
    {
     "name": "stderr",
     "output_type": "stream",
     "text": [
      " 80%|████████  | 20/25 [2:05:11<38:19, 459.86s/it]"
     ]
    },
    {
     "name": "stdout",
     "output_type": "stream",
     "text": [
      "data/oc_index/2023_05_22-31T_0_1.zip\n",
      "[########################################] | 100% Completed | 118.35 s\n"
     ]
    },
    {
     "name": "stderr",
     "output_type": "stream",
     "text": [
      " 84%|████████▍ | 21/25 [2:07:10<23:49, 357.44s/it]"
     ]
    },
    {
     "name": "stdout",
     "output_type": "stream",
     "text": [
      "data/oc_index/2023_06_19-27T_0_1.zip\n",
      "[########################################] | 100% Completed | 19m 2ss\n"
     ]
    },
    {
     "name": "stderr",
     "output_type": "stream",
     "text": [
      " 88%|████████▊ | 22/25 [2:26:12<29:39, 593.01s/it]"
     ]
    },
    {
     "name": "stdout",
     "output_type": "stream",
     "text": [
      "data/oc_index/2023_08_17-19T_0_1.zip\n",
      "[########################################] | 100% Completed | 196.92 s\n"
     ]
    },
    {
     "name": "stderr",
     "output_type": "stream",
     "text": [
      " 92%|█████████▏| 23/25 [2:29:30<15:48, 474.25s/it]"
     ]
    },
    {
     "name": "stdout",
     "output_type": "stream",
     "text": [
      "data/oc_index/2023_08_24-27T_0_1.zip\n",
      "[########################################] | 100% Completed | 37.13 s\n"
     ]
    },
    {
     "name": "stderr",
     "output_type": "stream",
     "text": [
      " 96%|█████████▌| 24/25 [2:30:07<05:43, 343.18s/it]"
     ]
    },
    {
     "name": "stdout",
     "output_type": "stream",
     "text": [
      "data/oc_index/2023_06_13-14T_0_1-10.zip\n",
      "[########################################] | 100% Completed | 248.34 s\n"
     ]
    },
    {
     "name": "stderr",
     "output_type": "stream",
     "text": [
      "100%|██████████| 25/25 [2:34:16<00:00, 370.25s/it]\n"
     ]
    }
   ],
   "source": [
    "c = 0\n",
    "for archive in tqdm(file_names):\n",
    "    print(archive)\n",
    "    zip_file = ZipFile(archive)\n",
    "\n",
    "    csvs = ['zip://'+n for n in zip_file.namelist() if n.endswith('.csv')]\n",
    "\n",
    "    c += len(csvs)\n",
    "    ddf = dd.read_csv(csvs, storage_options={'fo': zip_file.filename}, usecols=['id', 'citing', 'cited'])\n",
    "    ddf = ddf[ddf['cited'].isin(omids_list) | ddf['citing'].isin(omids_list)]\n",
    "    ddf.to_parquet('data/index_in_iris/' + zip_file.filename + '.parquet', write_index=False) # 154 mins"
   ]
  },
  {
   "cell_type": "markdown",
   "metadata": {},
   "source": [
    "### RQ 3. What is the amount of citations (according to OpenCitations Index) included in the IRIS publications that are involved in OpenCitations Meta (as citing entity and as cited entity)?"
   ]
  },
  {
   "cell_type": "code",
   "execution_count": 104,
   "metadata": {},
   "outputs": [],
   "source": [
    "iii_path = Path('data/index_in_iris/')\n",
    "\n",
    "iii_glob = glob.glob(str(iii_path / '*' / '*.parquet'))"
   ]
  },
  {
   "cell_type": "code",
   "execution_count": 105,
   "metadata": {},
   "outputs": [
    {
     "name": "stdout",
     "output_type": "stream",
     "text": [
      "shape: (1, 1)\n",
      "┌─────────┐\n",
      "│ len     │\n",
      "│ ---     │\n",
      "│ u32     │\n",
      "╞═════════╡\n",
      "│ 7859226 │\n",
      "└─────────┘\n"
     ]
    },
    {
     "data": {
      "text/html": [
       "<div><style>\n",
       ".dataframe > thead > tr,\n",
       ".dataframe > tbody > tr {\n",
       "  text-align: right;\n",
       "  white-space: pre-wrap;\n",
       "}\n",
       "</style>\n",
       "<small>shape: (5, 3)</small><table border=\"1\" class=\"dataframe\"><thead><tr><th>id</th><th>citing</th><th>cited</th></tr><tr><td>str</td><td>str</td><td>str</td></tr></thead><tbody><tr><td>&quot;oci:062102010944-06403538172&quot;</td><td>&quot;omid:br/062102010944&quot;</td><td>&quot;omid:br/06403538172&quot;</td></tr><tr><td>&quot;oci:062102010936-061901873468&quot;</td><td>&quot;omid:br/062102010936&quot;</td><td>&quot;omid:br/061901873468&quot;</td></tr><tr><td>&quot;oci:061302445980-0620582911&quot;</td><td>&quot;omid:br/061302445980&quot;</td><td>&quot;omid:br/0620582911&quot;</td></tr><tr><td>&quot;oci:062103078814-061903865447&quot;</td><td>&quot;omid:br/062103078814&quot;</td><td>&quot;omid:br/061903865447&quot;</td></tr><tr><td>&quot;oci:06403471424-06703722896&quot;</td><td>&quot;omid:br/06403471424&quot;</td><td>&quot;omid:br/06703722896&quot;</td></tr></tbody></table></div>"
      ],
      "text/plain": [
       "shape: (5, 3)\n",
       "┌───────────────────────────────┬──────────────────────┬──────────────────────┐\n",
       "│ id                            ┆ citing               ┆ cited                │\n",
       "│ ---                           ┆ ---                  ┆ ---                  │\n",
       "│ str                           ┆ str                  ┆ str                  │\n",
       "╞═══════════════════════════════╪══════════════════════╪══════════════════════╡\n",
       "│ oci:062102010944-06403538172  ┆ omid:br/062102010944 ┆ omid:br/06403538172  │\n",
       "│ oci:062102010936-061901873468 ┆ omid:br/062102010936 ┆ omid:br/061901873468 │\n",
       "│ oci:061302445980-0620582911   ┆ omid:br/061302445980 ┆ omid:br/0620582911   │\n",
       "│ oci:062103078814-061903865447 ┆ omid:br/062103078814 ┆ omid:br/061903865447 │\n",
       "│ oci:06403471424-06703722896   ┆ omid:br/06403471424  ┆ omid:br/06703722896  │\n",
       "└───────────────────────────────┴──────────────────────┴──────────────────────┘"
      ]
     },
     "execution_count": 105,
     "metadata": {},
     "output_type": "execute_result"
    }
   ],
   "source": [
    "lf_iii = pl.scan_parquet(iii_glob)\n",
    "print(lf_iii.select(pl.len()).collect())\n",
    "lf_iii.head().collect()"
   ]
  },
  {
   "cell_type": "code",
   "execution_count": 107,
   "metadata": {},
   "outputs": [
    {
     "data": {
      "text/plain": [
       "116007"
      ]
     },
     "execution_count": 107,
     "metadata": {},
     "output_type": "execute_result"
    }
   ],
   "source": [
    "oc_omids_list = (\n",
    "    lf_iim\n",
    "    .select('omid')\n",
    "    .collect()\n",
    ")['omid'].to_list()\n",
    "\n",
    "len(oc_omids_list)"
   ]
  },
  {
   "cell_type": "code",
   "execution_count": 46,
   "metadata": {},
   "outputs": [
    {
     "data": {
      "text/html": [
       "<div><style>\n",
       ".dataframe > thead > tr,\n",
       ".dataframe > tbody > tr {\n",
       "  text-align: right;\n",
       "  white-space: pre-wrap;\n",
       "}\n",
       "</style>\n",
       "<small>shape: (1, 1)</small><table border=\"1\" class=\"dataframe\"><thead><tr><th>len</th></tr><tr><td>u32</td></tr></thead><tbody><tr><td>107704</td></tr></tbody></table></div>"
      ],
      "text/plain": [
       "shape: (1, 1)\n",
       "┌────────┐\n",
       "│ len    │\n",
       "│ ---    │\n",
       "│ u32    │\n",
       "╞════════╡\n",
       "│ 107704 │\n",
       "└────────┘"
      ]
     },
     "execution_count": 46,
     "metadata": {},
     "output_type": "execute_result"
    }
   ],
   "source": [
    "rq3a = (\n",
    "    lf_iii\n",
    "    .select('citing')\n",
    "    .unique()\n",
    "    .filter(\n",
    "        pl.col('citing').is_in(oc_omids_list)\n",
    "    )\n",
    ")\n",
    "\n",
    "citing_list = rq3a.collect()['citing'].to_list()\n",
    "\n",
    "rq3a.head().collect()\n",
    "rq3a.select(pl.len()).collect()"
   ]
  },
  {
   "cell_type": "code",
   "execution_count": 47,
   "metadata": {},
   "outputs": [
    {
     "data": {
      "text/html": [
       "<div><style>\n",
       ".dataframe > thead > tr,\n",
       ".dataframe > tbody > tr {\n",
       "  text-align: right;\n",
       "  white-space: pre-wrap;\n",
       "}\n",
       "</style>\n",
       "<small>shape: (1, 1)</small><table border=\"1\" class=\"dataframe\"><thead><tr><th>len</th></tr><tr><td>u32</td></tr></thead><tbody><tr><td>105135</td></tr></tbody></table></div>"
      ],
      "text/plain": [
       "shape: (1, 1)\n",
       "┌────────┐\n",
       "│ len    │\n",
       "│ ---    │\n",
       "│ u32    │\n",
       "╞════════╡\n",
       "│ 105135 │\n",
       "└────────┘"
      ]
     },
     "execution_count": 47,
     "metadata": {},
     "output_type": "execute_result"
    }
   ],
   "source": [
    "rq3b = (\n",
    "    lf_iii\n",
    "    .select('cited')\n",
    "    .unique()\n",
    "    .filter(\n",
    "        pl.col('cited').is_in(oc_omids_list)\n",
    "    )\n",
    ")\n",
    "\n",
    "cited_list = rq3b.collect()['cited'].to_list()\n",
    "\n",
    "rq3b.head().collect()\n",
    "rq3b.select(pl.len()).collect()"
   ]
  },
  {
   "cell_type": "code",
   "execution_count": 79,
   "metadata": {},
   "outputs": [
    {
     "name": "stdout",
     "output_type": "stream",
     "text": [
      "shape: (1, 1)\n",
      "┌─────────┐\n",
      "│ len     │\n",
      "│ ---     │\n",
      "│ u32     │\n",
      "╞═════════╡\n",
      "│ 4295973 │\n",
      "└─────────┘\n"
     ]
    }
   ],
   "source": [
    "cit_coming_from_iris = (\n",
    "    lf_iii\n",
    "    .filter(\n",
    "        pl.col('citing').is_in(oc_omids_list)\n",
    "    )\n",
    ")\n",
    "\n",
    "print(cit_coming_from_iris.select(pl.len()).collect())"
   ]
  },
  {
   "cell_type": "code",
   "execution_count": null,
   "metadata": {},
   "outputs": [],
   "source": [
    "rq3 = (\n",
    "\n",
    ")"
   ]
  },
  {
   "cell_type": "code",
   "execution_count": 54,
   "metadata": {},
   "outputs": [
    {
     "data": {
      "text/html": [
       "<div><style>\n",
       ".dataframe > thead > tr,\n",
       ".dataframe > tbody > tr {\n",
       "  text-align: right;\n",
       "  white-space: pre-wrap;\n",
       "}\n",
       "</style>\n",
       "<small>shape: (1, 1)</small><table border=\"1\" class=\"dataframe\"><thead><tr><th>len</th></tr><tr><td>u32</td></tr></thead><tbody><tr><td>356419</td></tr></tbody></table></div>"
      ],
      "text/plain": [
       "shape: (1, 1)\n",
       "┌────────┐\n",
       "│ len    │\n",
       "│ ---    │\n",
       "│ u32    │\n",
       "╞════════╡\n",
       "│ 356419 │\n",
       "└────────┘"
      ]
     },
     "execution_count": 54,
     "metadata": {},
     "output_type": "execute_result"
    }
   ],
   "source": [
    "rq3.select(pl.len()).collect()"
   ]
  },
  {
   "cell_type": "markdown",
   "metadata": {},
   "source": [
    "### RQ 4. How many of these citations come from and go to publications that are not included in IRIS?"
   ]
  },
  {
   "cell_type": "code",
   "execution_count": 52,
   "metadata": {},
   "outputs": [
    {
     "data": {
      "text/plain": [
       "116007"
      ]
     },
     "execution_count": 52,
     "metadata": {},
     "output_type": "execute_result"
    }
   ],
   "source": [
    "len(oc_omids_list)"
   ]
  },
  {
   "cell_type": "code",
   "execution_count": 117,
   "metadata": {},
   "outputs": [],
   "source": [
    "rq4a = (\n",
    "    lf_iii\n",
    "    .select('citing')\n",
    "    #.unique('cited') ???\n",
    "    .filter(\n",
    "        ~pl.col('citing').is_in(oc_omids_list)\n",
    "    )\n",
    ")"
   ]
  },
  {
   "cell_type": "code",
   "execution_count": 118,
   "metadata": {},
   "outputs": [
    {
     "name": "stdout",
     "output_type": "stream",
     "text": [
      "shape: (1, 1)\n",
      "┌─────────┐\n",
      "│ len     │\n",
      "│ ---     │\n",
      "│ u32     │\n",
      "╞═════════╡\n",
      "│ 3563253 │\n",
      "└─────────┘\n"
     ]
    },
    {
     "data": {
      "text/html": [
       "<div><style>\n",
       ".dataframe > thead > tr,\n",
       ".dataframe > tbody > tr {\n",
       "  text-align: right;\n",
       "  white-space: pre-wrap;\n",
       "}\n",
       "</style>\n",
       "<small>shape: (5, 1)</small><table border=\"1\" class=\"dataframe\"><thead><tr><th>citing</th></tr><tr><td>str</td></tr></thead><tbody><tr><td>&quot;omid:br/062102010944&quot;</td></tr><tr><td>&quot;omid:br/062102010936&quot;</td></tr><tr><td>&quot;omid:br/061302445980&quot;</td></tr><tr><td>&quot;omid:br/062103078814&quot;</td></tr><tr><td>&quot;omid:br/0660213594&quot;</td></tr></tbody></table></div>"
      ],
      "text/plain": [
       "shape: (5, 1)\n",
       "┌──────────────────────┐\n",
       "│ citing               │\n",
       "│ ---                  │\n",
       "│ str                  │\n",
       "╞══════════════════════╡\n",
       "│ omid:br/062102010944 │\n",
       "│ omid:br/062102010936 │\n",
       "│ omid:br/061302445980 │\n",
       "│ omid:br/062103078814 │\n",
       "│ omid:br/0660213594   │\n",
       "└──────────────────────┘"
      ]
     },
     "execution_count": 118,
     "metadata": {},
     "output_type": "execute_result"
    }
   ],
   "source": [
    "print(rq4a.select(pl.len()).collect())\n",
    "rq4a.head().collect()"
   ]
  },
  {
   "cell_type": "code",
   "execution_count": null,
   "metadata": {},
   "outputs": [],
   "source": [
    "rq4b = (\n",
    "    lf_iii\n",
    "    .select('cited')\n",
    "    .filter(\n",
    "        ~pl.col('cited').is_in(oc_omids_list)\n",
    "    )\n",
    ")"
   ]
  },
  {
   "cell_type": "code",
   "execution_count": 116,
   "metadata": {},
   "outputs": [
    {
     "name": "stdout",
     "output_type": "stream",
     "text": [
      "shape: (1, 1)\n",
      "┌─────────┐\n",
      "│ len     │\n",
      "│ ---     │\n",
      "│ u32     │\n",
      "╞═════════╡\n",
      "│ 3939554 │\n",
      "└─────────┘\n"
     ]
    },
    {
     "data": {
      "text/html": [
       "<div><style>\n",
       ".dataframe > thead > tr,\n",
       ".dataframe > tbody > tr {\n",
       "  text-align: right;\n",
       "  white-space: pre-wrap;\n",
       "}\n",
       "</style>\n",
       "<small>shape: (5, 1)</small><table border=\"1\" class=\"dataframe\"><thead><tr><th>cited</th></tr><tr><td>str</td></tr></thead><tbody><tr><td>&quot;omid:br/06703722896&quot;</td></tr><tr><td>&quot;omid:br/06703722887&quot;</td></tr><tr><td>&quot;omid:br/06703722545&quot;</td></tr><tr><td>&quot;omid:br/06703723039&quot;</td></tr><tr><td>&quot;omid:br/06803732245&quot;</td></tr></tbody></table></div>"
      ],
      "text/plain": [
       "shape: (5, 1)\n",
       "┌─────────────────────┐\n",
       "│ cited               │\n",
       "│ ---                 │\n",
       "│ str                 │\n",
       "╞═════════════════════╡\n",
       "│ omid:br/06703722896 │\n",
       "│ omid:br/06703722887 │\n",
       "│ omid:br/06703722545 │\n",
       "│ omid:br/06703723039 │\n",
       "│ omid:br/06803732245 │\n",
       "└─────────────────────┘"
      ]
     },
     "execution_count": 116,
     "metadata": {},
     "output_type": "execute_result"
    }
   ],
   "source": [
    "print(rq4b.select(pl.len()).collect())\n",
    "rq4b.head().collect()"
   ]
  },
  {
   "cell_type": "markdown",
   "metadata": {},
   "source": [
    "### RQ 5. How many of these citations involve publications in IRIS as both citing and cited entities?"
   ]
  },
  {
   "cell_type": "code",
   "execution_count": 129,
   "metadata": {},
   "outputs": [],
   "source": [
    "rq5a = (\n",
    "    lf_iii\n",
    "    .select('citing')\n",
    "    .filter(\n",
    "        pl.col('citing').is_in(oc_omids_list)\n",
    "    )\n",
    ")"
   ]
  },
  {
   "cell_type": "code",
   "execution_count": 130,
   "metadata": {},
   "outputs": [
    {
     "name": "stdout",
     "output_type": "stream",
     "text": [
      "shape: (1, 1)\n",
      "┌─────────┐\n",
      "│ len     │\n",
      "│ ---     │\n",
      "│ u32     │\n",
      "╞═════════╡\n",
      "│ 4295973 │\n",
      "└─────────┘\n"
     ]
    },
    {
     "data": {
      "text/html": [
       "<div><style>\n",
       ".dataframe > thead > tr,\n",
       ".dataframe > tbody > tr {\n",
       "  text-align: right;\n",
       "  white-space: pre-wrap;\n",
       "}\n",
       "</style>\n",
       "<small>shape: (5, 1)</small><table border=\"1\" class=\"dataframe\"><thead><tr><th>citing</th></tr><tr><td>str</td></tr></thead><tbody><tr><td>&quot;omid:br/06403471424&quot;</td></tr><tr><td>&quot;omid:br/06403471424&quot;</td></tr><tr><td>&quot;omid:br/06403471424&quot;</td></tr><tr><td>&quot;omid:br/06403471424&quot;</td></tr><tr><td>&quot;omid:br/06403471424&quot;</td></tr></tbody></table></div>"
      ],
      "text/plain": [
       "shape: (5, 1)\n",
       "┌─────────────────────┐\n",
       "│ citing              │\n",
       "│ ---                 │\n",
       "│ str                 │\n",
       "╞═════════════════════╡\n",
       "│ omid:br/06403471424 │\n",
       "│ omid:br/06403471424 │\n",
       "│ omid:br/06403471424 │\n",
       "│ omid:br/06403471424 │\n",
       "│ omid:br/06403471424 │\n",
       "└─────────────────────┘"
      ]
     },
     "execution_count": 130,
     "metadata": {},
     "output_type": "execute_result"
    }
   ],
   "source": [
    "print(rq5a.select(pl.len()).collect())\n",
    "rq5a.head().collect()"
   ]
  },
  {
   "cell_type": "code",
   "execution_count": 121,
   "metadata": {},
   "outputs": [],
   "source": [
    "rq5b = (\n",
    "    lf_iii\n",
    "    .select('cited')\n",
    "    .filter(\n",
    "        pl.col('cited').is_in(oc_omids_list)\n",
    "    )\n",
    ")"
   ]
  },
  {
   "cell_type": "code",
   "execution_count": 122,
   "metadata": {},
   "outputs": [
    {
     "name": "stdout",
     "output_type": "stream",
     "text": [
      "shape: (1, 1)\n",
      "┌─────────┐\n",
      "│ len     │\n",
      "│ ---     │\n",
      "│ u32     │\n",
      "╞═════════╡\n",
      "│ 3919672 │\n",
      "└─────────┘\n"
     ]
    },
    {
     "data": {
      "text/html": [
       "<div><style>\n",
       ".dataframe > thead > tr,\n",
       ".dataframe > tbody > tr {\n",
       "  text-align: right;\n",
       "  white-space: pre-wrap;\n",
       "}\n",
       "</style>\n",
       "<small>shape: (5, 1)</small><table border=\"1\" class=\"dataframe\"><thead><tr><th>cited</th></tr><tr><td>str</td></tr></thead><tbody><tr><td>&quot;omid:br/06403538172&quot;</td></tr><tr><td>&quot;omid:br/061901873468&quot;</td></tr><tr><td>&quot;omid:br/0620582911&quot;</td></tr><tr><td>&quot;omid:br/061903865447&quot;</td></tr><tr><td>&quot;omid:br/06502545532&quot;</td></tr></tbody></table></div>"
      ],
      "text/plain": [
       "shape: (5, 1)\n",
       "┌──────────────────────┐\n",
       "│ cited                │\n",
       "│ ---                  │\n",
       "│ str                  │\n",
       "╞══════════════════════╡\n",
       "│ omid:br/06403538172  │\n",
       "│ omid:br/061901873468 │\n",
       "│ omid:br/0620582911   │\n",
       "│ omid:br/061903865447 │\n",
       "│ omid:br/06502545532  │\n",
       "└──────────────────────┘"
      ]
     },
     "execution_count": 122,
     "metadata": {},
     "output_type": "execute_result"
    }
   ],
   "source": [
    "print(rq5b.select(pl.len()).collect())\n",
    "rq5b.head().collect()"
   ]
  },
  {
   "cell_type": "code",
   "execution_count": 133,
   "metadata": {},
   "outputs": [],
   "source": [
    "rq5 = (\n",
    "    lf_iii\n",
    "    .select('citing', 'cited')\n",
    "    .filter(\n",
    "        pl.col('citing').is_in(oc_omids_list) & pl.col('cited').is_in(oc_omids_list)\n",
    "    )\n",
    ")"
   ]
  },
  {
   "cell_type": "code",
   "execution_count": 134,
   "metadata": {},
   "outputs": [
    {
     "name": "stdout",
     "output_type": "stream",
     "text": [
      "shape: (1, 1)\n",
      "┌────────┐\n",
      "│ len    │\n",
      "│ ---    │\n",
      "│ u32    │\n",
      "╞════════╡\n",
      "│ 356419 │\n",
      "└────────┘\n"
     ]
    },
    {
     "data": {
      "text/html": [
       "<div><style>\n",
       ".dataframe > thead > tr,\n",
       ".dataframe > tbody > tr {\n",
       "  text-align: right;\n",
       "  white-space: pre-wrap;\n",
       "}\n",
       "</style>\n",
       "<small>shape: (5, 2)</small><table border=\"1\" class=\"dataframe\"><thead><tr><th>citing</th><th>cited</th></tr><tr><td>str</td><td>str</td></tr></thead><tbody><tr><td>&quot;omid:br/06801833332&quot;</td><td>&quot;omid:br/06301833698&quot;</td></tr><tr><td>&quot;omid:br/06801833332&quot;</td><td>&quot;omid:br/06201835146&quot;</td></tr><tr><td>&quot;omid:br/06801833332&quot;</td><td>&quot;omid:br/06101850825&quot;</td></tr><tr><td>&quot;omid:br/06140651081&quot;</td><td>&quot;omid:br/061301899117&quot;</td></tr><tr><td>&quot;omid:br/061902028230&quot;</td><td>&quot;omid:br/06230928593&quot;</td></tr></tbody></table></div>"
      ],
      "text/plain": [
       "shape: (5, 2)\n",
       "┌──────────────────────┬──────────────────────┐\n",
       "│ citing               ┆ cited                │\n",
       "│ ---                  ┆ ---                  │\n",
       "│ str                  ┆ str                  │\n",
       "╞══════════════════════╪══════════════════════╡\n",
       "│ omid:br/06801833332  ┆ omid:br/06301833698  │\n",
       "│ omid:br/06801833332  ┆ omid:br/06201835146  │\n",
       "│ omid:br/06801833332  ┆ omid:br/06101850825  │\n",
       "│ omid:br/06140651081  ┆ omid:br/061301899117 │\n",
       "│ omid:br/061902028230 ┆ omid:br/06230928593  │\n",
       "└──────────────────────┴──────────────────────┘"
      ]
     },
     "execution_count": 134,
     "metadata": {},
     "output_type": "execute_result"
    }
   ],
   "source": [
    "print(rq5.select(pl.len()).collect())\n",
    "rq5.head().collect()"
   ]
  }
 ],
 "metadata": {
  "kernelspec": {
   "display_name": "Python 3",
   "language": "python",
   "name": "python3"
  },
  "language_info": {
   "codemirror_mode": {
    "name": "ipython",
    "version": 3
   },
   "file_extension": ".py",
   "mimetype": "text/x-python",
   "name": "python",
   "nbconvert_exporter": "python",
   "pygments_lexer": "ipython3",
   "version": "3.11.8"
  }
 },
 "nbformat": 4,
 "nbformat_minor": 2
}
