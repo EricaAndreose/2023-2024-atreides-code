{
 "cells": [
  {
   "cell_type": "code",
   "execution_count": 2,
   "metadata": {},
   "outputs": [
    {
     "name": "stderr",
     "output_type": "stream",
     "text": [
      "/home/leo/.local/lib/python3.11/site-packages/dask/dataframe/_pyarrow_compat.py:17: FutureWarning: Minimal version of pyarrow will soon be increased to 14.0.1. You are using 12.0.1. Please consider upgrading.\n",
      "  warnings.warn(\n"
     ]
    }
   ],
   "source": [
    "import os\n",
    "import re\n",
    "import glob\n",
    "import tempfile\n",
    "from zipfile import ZipFile\n",
    "\n",
    "import polars as pl\n",
    "from rapidfuzz import process, fuzz\n",
    "from pathlib import Path\n",
    "from tqdm import tqdm\n",
    "import multiprocessing\n",
    "\n",
    "from functools import lru_cache\n",
    "import dask.dataframe as dd\n",
    "from dask.diagnostics import ProgressBar\n",
    "ProgressBar().register()\n",
    "\n",
    "\n",
    "pl.Config.set_fmt_str_lengths(100);"
   ]
  },
  {
   "cell_type": "markdown",
   "metadata": {},
   "source": [
    "### IRIS DFs"
   ]
  },
  {
   "cell_type": "code",
   "execution_count": 4,
   "metadata": {},
   "outputs": [
    {
     "data": {
      "text/html": [
       "<div><style>\n",
       ".dataframe > thead > tr,\n",
       ".dataframe > tbody > tr {\n",
       "  text-align: right;\n",
       "  white-space: pre-wrap;\n",
       "}\n",
       "</style>\n",
       "<small>shape: (5, 4)</small><table border=\"1\" class=\"dataframe\"><thead><tr><th>ITEM_ID</th><th>IDE_DOI</th><th>IDE_ISBN</th><th>IDE_PMID</th></tr><tr><td>i32</td><td>str</td><td>str</td><td>str</td></tr></thead><tbody><tr><td>2766</td><td>&quot;10.14411/fp.2008.015&quot;</td><td>null</td><td>&quot;18666414&quot;</td></tr><tr><td>3349</td><td>&quot;10.1016/j.econlet.2011.12.096&quot;</td><td>null</td><td>null</td></tr><tr><td>3867</td><td>null</td><td>&quot;9788876655746&quot;</td><td>null</td></tr><tr><td>4342</td><td>null</td><td>&quot;8821724038&quot;</td><td>null</td></tr><tr><td>4585</td><td>null</td><td>&quot;9788861328112&quot;</td><td>null</td></tr></tbody></table></div>"
      ],
      "text/plain": [
       "shape: (5, 4)\n",
       "┌─────────┬───────────────────────────────┬───────────────┬──────────┐\n",
       "│ ITEM_ID ┆ IDE_DOI                       ┆ IDE_ISBN      ┆ IDE_PMID │\n",
       "│ ---     ┆ ---                           ┆ ---           ┆ ---      │\n",
       "│ i32     ┆ str                           ┆ str           ┆ str      │\n",
       "╞═════════╪═══════════════════════════════╪═══════════════╪══════════╡\n",
       "│ 2766    ┆ 10.14411/fp.2008.015          ┆ null          ┆ 18666414 │\n",
       "│ 3349    ┆ 10.1016/j.econlet.2011.12.096 ┆ null          ┆ null     │\n",
       "│ 3867    ┆ null                          ┆ 9788876655746 ┆ null     │\n",
       "│ 4342    ┆ null                          ┆ 8821724038    ┆ null     │\n",
       "│ 4585    ┆ null                          ┆ 9788861328112 ┆ null     │\n",
       "└─────────┴───────────────────────────────┴───────────────┴──────────┘"
      ]
     },
     "execution_count": 4,
     "metadata": {},
     "output_type": "execute_result"
    }
   ],
   "source": [
    "df_iris_master = pl.read_csv('./data/iris-data-2024-03-14/ODS_L1_IR_ITEM_MASTER_ALL.csv', columns=['ITEM_ID', 'YEAR_PUBLISHED', 'TITLE'] ,dtypes={'ITEM_ID': pl.Int32, 'YEAR_PUBLISHED': pl.Utf8, 'TITLE': pl.Utf8})\n",
    "df_iris_identifier = pl.read_csv('./data/iris-data-2024-03-14/ODS_L1_IR_ITEM_IDENTIFIER.csv', columns=['ITEM_ID', 'IDE_DOI', 'IDE_ISBN', 'IDE_PMID'] ,dtypes={'ITEM_ID': pl.Int32, 'IDE_DOI': pl.Utf8, 'IDE_ISBN': pl.Utf8, 'IDE_PMID': pl.Utf8})\n",
    "\n",
    "df = df_iris_identifier.join(df_iris_master, on='ITEM_ID', how='inner')\n",
    "\n",
    "\n",
    "df_filtered = df.filter(pl.col('IDE_DOI').is_not_null() | pl.col('IDE_ISBN').is_not_null() | pl.col('IDE_PMID').is_not_null())[\n",
    "    ['ITEM_ID', 'IDE_DOI', 'IDE_ISBN', 'IDE_PMID']\n",
    "]\n",
    "\n",
    "df_filtered.head()"
   ]
  },
  {
   "cell_type": "markdown",
   "metadata": {},
   "source": [
    "---\n",
    "### Sanitize IRIS DOIs and ISBNs"
   ]
  },
  {
   "cell_type": "code",
   "execution_count": 99,
   "metadata": {},
   "outputs": [
    {
     "data": {
      "text/html": [
       "<div><style>\n",
       ".dataframe > thead > tr,\n",
       ".dataframe > tbody > tr {\n",
       "  text-align: right;\n",
       "  white-space: pre-wrap;\n",
       "}\n",
       "</style>\n",
       "<small>shape: (130_925, 2)</small><table border=\"1\" class=\"dataframe\"><thead><tr><th>iris_id</th><th>id</th></tr><tr><td>i32</td><td>str</td></tr></thead><tbody><tr><td>62195</td><td>&quot;doi:10.1111/j.1743-3150.2004.00491.x&quot;</td></tr><tr><td>210842</td><td>&quot;doi:10.1177/0363546514538958&quot;</td></tr><tr><td>359878</td><td>&quot;doi:10.1093/aob/mcy043&quot;</td></tr><tr><td>173788</td><td>&quot;doi:10.1039/c3cp50891a&quot;</td></tr><tr><td>70450</td><td>&quot;doi:10.1379/csc-98r1.1&quot;</td></tr><tr><td>&hellip;</td><td>&hellip;</td></tr><tr><td>190048</td><td>&quot;doi:10.1189/jlb.3hi0713-406rr&quot;</td></tr><tr><td>326688</td><td>&quot;doi:10.1016/j.sleep.2017.08.021&quot;</td></tr><tr><td>689691</td><td>&quot;doi:10.1016/s0027-5107(03)00057-5&quot;</td></tr><tr><td>418216</td><td>&quot;doi:10.1080/15548627.2018.1507438&quot;</td></tr><tr><td>632149</td><td>&quot;doi:10.1191/0269216304pm890oa&quot;</td></tr></tbody></table></div>"
      ],
      "text/plain": [
       "shape: (130_925, 2)\n",
       "┌─────────┬──────────────────────────────────────┐\n",
       "│ iris_id ┆ id                                   │\n",
       "│ ---     ┆ ---                                  │\n",
       "│ i32     ┆ str                                  │\n",
       "╞═════════╪══════════════════════════════════════╡\n",
       "│ 62195   ┆ doi:10.1111/j.1743-3150.2004.00491.x │\n",
       "│ 210842  ┆ doi:10.1177/0363546514538958         │\n",
       "│ 359878  ┆ doi:10.1093/aob/mcy043               │\n",
       "│ 173788  ┆ doi:10.1039/c3cp50891a               │\n",
       "│ 70450   ┆ doi:10.1379/csc-98r1.1               │\n",
       "│ …       ┆ …                                    │\n",
       "│ 190048  ┆ doi:10.1189/jlb.3hi0713-406rr        │\n",
       "│ 326688  ┆ doi:10.1016/j.sleep.2017.08.021      │\n",
       "│ 689691  ┆ doi:10.1016/s0027-5107(03)00057-5    │\n",
       "│ 418216  ┆ doi:10.1080/15548627.2018.1507438    │\n",
       "│ 632149  ┆ doi:10.1191/0269216304pm890oa        │\n",
       "└─────────┴──────────────────────────────────────┘"
      ]
     },
     "execution_count": 99,
     "metadata": {},
     "output_type": "execute_result"
    }
   ],
   "source": [
    "dois = df_filtered.select('ITEM_ID', 'IDE_DOI').drop_nulls('IDE_DOI').unique()\n",
    "\n",
    "filtered_dois = (\n",
    "    dois\n",
    "    .with_columns(('doi:'+pl.col('IDE_DOI').str.extract(r'(10\\.\\d{4,}\\/[^,\\s;]*)').str.to_lowercase()).alias('id'))\n",
    "    .drop_nulls('id')\n",
    "    .drop('IDE_DOI')\n",
    "    .rename({'ITEM_ID': 'iris_id'})\n",
    ")\n",
    "\n",
    "filtered_dois"
   ]
  },
  {
   "cell_type": "code",
   "execution_count": 100,
   "metadata": {},
   "outputs": [
    {
     "data": {
      "text/html": [
       "<div><style>\n",
       ".dataframe > thead > tr,\n",
       ".dataframe > tbody > tr {\n",
       "  text-align: right;\n",
       "  white-space: pre-wrap;\n",
       "}\n",
       "</style>\n",
       "<small>shape: (80_695, 2)</small><table border=\"1\" class=\"dataframe\"><thead><tr><th>iris_id</th><th>id</th></tr><tr><td>i32</td><td>str</td></tr></thead><tbody><tr><td>121474</td><td>&quot;isbn:9788878472525&quot;</td></tr><tr><td>136016</td><td>&quot;isbn:9788890389528&quot;</td></tr><tr><td>122246</td><td>&quot;isbn:1579583903&quot;</td></tr><tr><td>92488</td><td>&quot;isbn:9788890296505&quot;</td></tr><tr><td>270570</td><td>&quot;isbn:9781450337397&quot;</td></tr><tr><td>&hellip;</td><td>&hellip;</td></tr><tr><td>154792</td><td>&quot;isbn:9789066051393&quot;</td></tr><tr><td>638939</td><td>&quot;isbn:9788815294227&quot;</td></tr><tr><td>167708</td><td>&quot;isbn:9788860450937&quot;</td></tr><tr><td>767135</td><td>&quot;isbn:9783110781168&quot;</td></tr><tr><td>98633</td><td>&quot;isbn:9788838664830&quot;</td></tr></tbody></table></div>"
      ],
      "text/plain": [
       "shape: (80_695, 2)\n",
       "┌─────────┬────────────────────┐\n",
       "│ iris_id ┆ id                 │\n",
       "│ ---     ┆ ---                │\n",
       "│ i32     ┆ str                │\n",
       "╞═════════╪════════════════════╡\n",
       "│ 121474  ┆ isbn:9788878472525 │\n",
       "│ 136016  ┆ isbn:9788890389528 │\n",
       "│ 122246  ┆ isbn:1579583903    │\n",
       "│ 92488   ┆ isbn:9788890296505 │\n",
       "│ 270570  ┆ isbn:9781450337397 │\n",
       "│ …       ┆ …                  │\n",
       "│ 154792  ┆ isbn:9789066051393 │\n",
       "│ 638939  ┆ isbn:9788815294227 │\n",
       "│ 167708  ┆ isbn:9788860450937 │\n",
       "│ 767135  ┆ isbn:9783110781168 │\n",
       "│ 98633   ┆ isbn:9788838664830 │\n",
       "└─────────┴────────────────────┘"
      ]
     },
     "execution_count": 100,
     "metadata": {},
     "output_type": "execute_result"
    }
   ],
   "source": [
    "isbns = df_filtered.select('ITEM_ID', 'IDE_ISBN').drop_nulls('IDE_ISBN').unique()\n",
    "\n",
    "filtered_isbns = (\n",
    "    isbns\n",
    "    .with_columns(\n",
    "        ('isbn:'+pl.col('IDE_ISBN').str.extract_all(r'(ISBN[-]*(1[03])*[ ]*(: ){0,1})*(([0-9Xx][- ]*){13}|([0-9Xx][- ]*){10})').list.first().str.replace_all(r'[- ]', '').str.to_lowercase()).alias('id')\n",
    "        #('doi:'+pl.col('IDE_DOI')).alias('id')\n",
    "    )\n",
    "    .drop_nulls('id')\n",
    "    .drop('IDE_ISBN')\n",
    "    .rename({'ITEM_ID': 'iris_id'})\n",
    ")\n",
    "\n",
    "filtered_isbns"
   ]
  },
  {
   "cell_type": "code",
   "execution_count": 101,
   "metadata": {},
   "outputs": [
    {
     "data": {
      "text/html": [
       "<div><style>\n",
       ".dataframe > thead > tr,\n",
       ".dataframe > tbody > tr {\n",
       "  text-align: right;\n",
       "  white-space: pre-wrap;\n",
       "}\n",
       "</style>\n",
       "<small>shape: (45_851, 2)</small><table border=\"1\" class=\"dataframe\"><thead><tr><th>iris_id</th><th>id</th></tr><tr><td>i32</td><td>str</td></tr></thead><tbody><tr><td>614586</td><td>&quot;pmid:23271369&quot;</td></tr><tr><td>331414</td><td>&quot;pmid:29249005&quot;</td></tr><tr><td>242031</td><td>&quot;pmid:27072626&quot;</td></tr><tr><td>725023</td><td>&quot;pmid:34818229&quot;</td></tr><tr><td>236215</td><td>&quot;pmid:25693761&quot;</td></tr><tr><td>&hellip;</td><td>&hellip;</td></tr><tr><td>117299</td><td>&quot;pmid:19523975&quot;</td></tr><tr><td>324350</td><td>&quot;pmid:29285324&quot;</td></tr><tr><td>734503</td><td>&quot;pmid:8779139&quot;</td></tr><tr><td>142552</td><td>&quot;pmid:20724077&quot;</td></tr><tr><td>756654</td><td>&quot;pmid:30511808&quot;</td></tr></tbody></table></div>"
      ],
      "text/plain": [
       "shape: (45_851, 2)\n",
       "┌─────────┬───────────────┐\n",
       "│ iris_id ┆ id            │\n",
       "│ ---     ┆ ---           │\n",
       "│ i32     ┆ str           │\n",
       "╞═════════╪═══════════════╡\n",
       "│ 614586  ┆ pmid:23271369 │\n",
       "│ 331414  ┆ pmid:29249005 │\n",
       "│ 242031  ┆ pmid:27072626 │\n",
       "│ 725023  ┆ pmid:34818229 │\n",
       "│ 236215  ┆ pmid:25693761 │\n",
       "│ …       ┆ …             │\n",
       "│ 117299  ┆ pmid:19523975 │\n",
       "│ 324350  ┆ pmid:29285324 │\n",
       "│ 734503  ┆ pmid:8779139  │\n",
       "│ 142552  ┆ pmid:20724077 │\n",
       "│ 756654  ┆ pmid:30511808 │\n",
       "└─────────┴───────────────┘"
      ]
     },
     "execution_count": 101,
     "metadata": {},
     "output_type": "execute_result"
    }
   ],
   "source": [
    "pmids = df_filtered.select('ITEM_ID', 'IDE_PMID').drop_nulls('IDE_PMID').unique()\n",
    "\n",
    "filtered_pmids = (\n",
    "    pmids\n",
    "    .filter(\n",
    "        ~pl.col('IDE_PMID').str.contains('PMC')\n",
    "        )\n",
    "    .with_columns(('pmid:'+pl.col('IDE_PMID').str.extract(r'0*([1-9][0-9]{1,8})', 1).str.to_lowercase()).alias('id'))\n",
    "    .drop('IDE_PMID')\n",
    "    .rename({'ITEM_ID': 'iris_id'})\n",
    ")\n",
    "\n",
    "filtered_pmids"
   ]
  },
  {
   "cell_type": "markdown",
   "metadata": {},
   "source": [
    "##### old"
   ]
  },
  {
   "cell_type": "code",
   "execution_count": 13,
   "metadata": {},
   "outputs": [
    {
     "name": "stdout",
     "output_type": "stream",
     "text": [
      "130077 unique dois\n",
      "129954 unique dois after filtering.  123 not dois discarded\n",
      "------------------------------\n",
      "49982 unique isbns\n",
      "49405 unique isbns after filtering.  577 not isbns discarded\n",
      "------------------------------\n",
      "45687 unique pmids\n",
      "45683 unique pmids after filtering.  4 not pmids discarded\n",
      "==============================\n",
      "225042 total identifiers\n"
     ]
    }
   ],
   "source": [
    "dois = df_filtered.select('IDE_DOI').drop_nulls().unique()['IDE_DOI'].to_list()\n",
    "print(len(dois), 'unique dois')\n",
    "dois_q = df_filtered.select('ITEM_ID', 'IDE_DOI').drop_nulls('IDE_DOI').filter(pl.col('IDE_DOI').str.starts_with('10.1007/jhep02(2013)043'))\n",
    "\n",
    "#filter and normalize the dois\n",
    "doi_rule = re.compile(r'10\\.\\d{4,}\\/[^,\\s;]*')\n",
    "not_doi = []\n",
    "filtered_dois = []\n",
    "\n",
    "for doi in dois:\n",
    "    match = doi_rule.search(doi)\n",
    "    if match:\n",
    "        filtered_dois.append('doi:' + match.group())\n",
    "    else:\n",
    "        not_doi.append(doi)\n",
    "\n",
    "print(len(filtered_dois), 'unique dois after filtering. ', len(not_doi), 'not dois discarded')\n",
    "\n",
    "print('---'*10)\n",
    "\n",
    "isbns = df_filtered.select('IDE_ISBN').drop_nulls().unique()['IDE_ISBN'].to_list()\n",
    "print(len(isbns), 'unique isbns')\n",
    "\n",
    "#filter and normalize the isbns\n",
    "isbn_rule = re.compile(r'(ISBN[-]*(1[03])*[ ]*(: ){0,1})*(([0-9Xx][- ]*){13}|([0-9Xx][- ]*){10})') # ??? results to check\n",
    "not_isbn = []\n",
    "filtered_isbns = []\n",
    "\n",
    "for isbn in isbns:\n",
    "    if isbn_rule.search(isbn) is not None:\n",
    "        filtered_isbns.append('isbn:' + isbn.replace('-', '').replace(' ', ''))\n",
    "    else:\n",
    "        not_isbn.append(isbn)\n",
    "\n",
    "print(len(filtered_isbns), 'unique isbns after filtering. ', len(not_isbn), 'not isbns discarded')\n",
    "\n",
    "print('---'*10)\n",
    "\n",
    "#filter and normalize the pmids\n",
    "pmids = df_filtered.select('IDE_PMID').drop_nulls().unique()['IDE_PMID'].to_list()\n",
    "pmid_rule = re.compile(r'(?!0\\d{0,7})\\d{1,8}')\n",
    "not_pmids = []\n",
    "filtered_pmids = []\n",
    "\n",
    "for pmid in pmids:\n",
    "    match = pmid_rule.search(pmid)\n",
    "    if pmid_rule.search(pmid) is not None and 'PMC' not in pmid: # questo da sottolineare in documentazione\n",
    "        filtered_pmids.append('pmid:' + match.group())\n",
    "    else:\n",
    "        not_pmids.append(pmid)\n",
    "\n",
    "print(len(pmids), 'unique pmids')\n",
    "print(len(filtered_pmids), 'unique pmids after filtering. ', len(not_pmids), 'not pmids discarded')\n",
    "\n",
    "dois_isbns_pmids = filtered_dois + filtered_isbns + filtered_pmids\n",
    "dois_isbns_pmids = [id.lower() for id in dois_isbns_pmids]\n",
    "\n",
    "print('==='*10)\n",
    "print(len(dois_isbns_pmids), 'total identifiers')"
   ]
  },
  {
   "cell_type": "code",
   "execution_count": 54,
   "metadata": {},
   "outputs": [
    {
     "data": {
      "text/plain": [
       "True"
      ]
     },
     "execution_count": 54,
     "metadata": {},
     "output_type": "execute_result"
    }
   ],
   "source": [
    "'doi:10.1002/widm.1511' in s\n",
    "jhep02(2013)043"
   ]
  },
  {
   "cell_type": "markdown",
   "metadata": {},
   "source": [
    "---\n",
    "### Meta to Parquet"
   ]
  },
  {
   "cell_type": "code",
   "execution_count": 94,
   "metadata": {},
   "outputs": [],
   "source": [
    "meta_path = Path('data/csv_openalex.zip')"
   ]
  },
  {
   "cell_type": "code",
   "execution_count": 104,
   "metadata": {},
   "outputs": [
    {
     "name": "stderr",
     "output_type": "stream",
     "text": [
      "100%|██████████| 28248/28248 [13:14<00:00, 35.55it/s]\n"
     ]
    }
   ],
   "source": [
    "def process_meta_zip(zip_path):\n",
    "    zip_file = ZipFile(zip_path)\n",
    "    files_list = [zipfile for zipfile in zip_file.namelist() if zipfile.endswith('.csv')]\n",
    "    output_dir = \"data/iris_in_meta_join\"\n",
    "\n",
    "    dois_isbns_pmids_lf = dois_isbns_pmids_df.lazy()\n",
    "\n",
    "    for csv_file in tqdm(files_list):\n",
    "        with zip_file.open(csv_file, 'r') as file:\n",
    "            with tempfile.NamedTemporaryFile() as tf:\n",
    "                tf.write(file.read()) # Write the csv file to the temporary file\n",
    "                tf.seek(0)          # Start at the beginning of the temporary file\n",
    "                os.makedirs(output_dir, exist_ok=True)\n",
    "                df = (\n",
    "                    pl.scan_csv(tf.name)\n",
    "                    .select(['id', 'title', 'type'])\n",
    "                    .with_columns(\n",
    "                        #(pl.col('id').str.extract(r\"((?:isbn):[^\\s]+)\")).alias('isbn'),\n",
    "                        (pl.col('id').str.extract(r\"(omid:[^\\s]+)\")).alias('omid'),\n",
    "                        # if it has a doi we get the doi, otherwise we get the isbn - the right approach?\n",
    "                        (pl.col('id').str.extract(r\"((?:doi):[^\\s\\\"]+)\")).alias('doi'),\n",
    "                        (pl.col('id').str.extract(r\"((?:pmid):[^\\s\\\"]+)\")).alias('pmid'),\n",
    "                        (pl.col('id').str.extract(r\"((?:isbn):[^\\s\\\"]+)\")).alias('isbn'),\n",
    "                    )\n",
    "                    .with_columns(\n",
    "                        pl.coalesce([pl.col('doi'), pl.col('isbn'), pl.col('pmid')]).alias('id')\n",
    "                    )\n",
    "                    .drop(['doi', 'pmid', 'isbn'])\n",
    "                    .drop_nulls('id')\n",
    "                    .join(dois_isbns_pmids_lf, on='id', how='inner')\n",
    "                    .collect(streaming=True)\n",
    "                )\n",
    "\n",
    "                if not df.is_empty():\n",
    "                    df.write_parquet(os.path.join(output_dir, os.path.basename(csv_file).replace('.csv', '.parquet')))\n",
    "\n",
    "\n",
    "process_meta_zip(meta_path) # 35mins"
   ]
  },
  {
   "cell_type": "markdown",
   "metadata": {},
   "source": [
    "### Title similarity"
   ]
  },
  {
   "cell_type": "markdown",
   "metadata": {},
   "source": [
    "#### sparql"
   ]
  },
  {
   "cell_type": "code",
   "execution_count": 5,
   "metadata": {},
   "outputs": [
    {
     "data": {
      "text/html": [
       "<div><style>\n",
       ".dataframe > thead > tr,\n",
       ".dataframe > tbody > tr {\n",
       "  text-align: right;\n",
       "  white-space: pre-wrap;\n",
       "}\n",
       "</style>\n",
       "<small>shape: (103_481, 2)</small><table border=\"1\" class=\"dataframe\"><thead><tr><th>ITEM_ID</th><th>TITLE</th></tr><tr><td>i32</td><td>str</td></tr></thead><tbody><tr><td>4837</td><td>&quot;Mutational spectrum of SHOX gene in 25 Italian pediatric patients with Lèri-Weill dyschondrosteosis…</td></tr><tr><td>5279</td><td>&quot;Operational Fiscal and Monetary Policy with Staggered Wage and Price Dynamics&quot;</td></tr><tr><td>6196</td><td>&quot;Olivier Agard – Kracauer: le chiffonier mélancolique&quot;</td></tr><tr><td>5444</td><td>&quot;At the time of diagnosis, Ph cells from both chronic phase chronic myeloid leukemia and acute lymph…</td></tr><tr><td>6457</td><td>&quot;A strategy to reduce the count of moment conditions in panel data GMM&quot;</td></tr><tr><td>&hellip;</td><td>&hellip;</td></tr><tr><td>724333</td><td>&quot;Dal pater familias alla multigenitorialità: cinquanta anni del diritto di famiglia italiano&quot;</td></tr><tr><td>724369</td><td>&quot;Capitolo quarantaduesimo \r\n",
       "Gli enti pubblici&quot;</td></tr><tr><td>724125</td><td>&quot;The Accelerated Access Initiative to Quality Formal Education for Syrian Refugee Children (AAI). Le…</td></tr><tr><td>724571</td><td>&quot;La Costituzione di Dobbs v. Jackson Women’s Health Organization. Un’analisi critica&quot;</td></tr><tr><td>724229</td><td>&quot;Georg W. Bertram, L’arte come prassi umana. Un’estetica, a cura di F. Vercellone, tr. it. di A. Ber…</td></tr></tbody></table></div>"
      ],
      "text/plain": [
       "shape: (103_481, 2)\n",
       "┌─────────┬────────────────────────────────────────────────────────────────────────────────────────┐\n",
       "│ ITEM_ID ┆ TITLE                                                                                  │\n",
       "│ ---     ┆ ---                                                                                    │\n",
       "│ i32     ┆ str                                                                                    │\n",
       "╞═════════╪════════════════════════════════════════════════════════════════════════════════════════╡\n",
       "│ 4837    ┆ Mutational spectrum of SHOX gene in 25 Italian pediatric patients with Lèri-Weill      │\n",
       "│         ┆ dyschondrosteosis …                                                                    │\n",
       "│ 5279    ┆ Operational Fiscal and Monetary Policy with Staggered Wage and Price Dynamics          │\n",
       "│ 6196    ┆ Olivier Agard – Kracauer: le chiffonier mélancolique                                   │\n",
       "│ 5444    ┆ At the time of diagnosis, Ph cells from both chronic phase chronic myeloid leukemia    │\n",
       "│         ┆ and acute lympho…                                                                      │\n",
       "│ 6457    ┆ A strategy to reduce the count of moment conditions in panel data GMM                  │\n",
       "│ …       ┆ …                                                                                      │\n",
       "│ 724333  ┆ Dal pater familias alla multigenitorialità: cinquanta anni del diritto di famiglia     │\n",
       "│         ┆ italiano                                                                               │\n",
       "│ 724369  ┆ Capitolo quarantaduesimo \n",
       "                                                              │\n",
       "│         ┆ Gli enti pubblici                                                                      │\n",
       "│ 724125  ┆ The Accelerated Access Initiative to Quality Formal Education for Syrian Refugee       │\n",
       "│         ┆ Children (AAI). Les…                                                                   │\n",
       "│ 724571  ┆ La Costituzione di Dobbs v. Jackson Women’s Health Organization. Un’analisi critica    │\n",
       "│ 724229  ┆ Georg W. Bertram, L’arte come prassi umana. Un’estetica, a cura di F. Vercellone, tr.  │\n",
       "│         ┆ it. di A. Bert…                                                                        │\n",
       "└─────────┴────────────────────────────────────────────────────────────────────────────────────────┘"
      ]
     },
     "execution_count": 5,
     "metadata": {},
     "output_type": "execute_result"
    }
   ],
   "source": [
    "iris_noid_titles = (\n",
    "    df\n",
    "    .select('ITEM_ID', 'IDE_DOI', 'IDE_ISBN', 'IDE_PMID', 'TITLE')\n",
    "    .filter(\n",
    "        (pl.col('IDE_DOI').is_null() & pl.col('IDE_ISBN').is_null() & pl.col('IDE_PMID').is_null()),\n",
    "    )\n",
    "    .drop('IDE_DOI', 'IDE_ISBN', 'IDE_PMID')\n",
    ")#['TITLE'].to_list()\n",
    "\n",
    "len(iris_noid_titles)\n",
    "#iris_noid_titles_clean = [tile.replace('\"', \"'\") for title in iris_noid_titles if title is not None and len(title.split()) > 3]\n",
    "#len(iris_noid_titles_clean)\n",
    "iris_noid_titles"
   ]
  },
  {
   "cell_type": "code",
   "execution_count": 11,
   "metadata": {},
   "outputs": [
    {
     "name": "stderr",
     "output_type": "stream",
     "text": [
      "  0%|          | 0/103341 [00:00<?, ?it/s]"
     ]
    },
    {
     "name": "stderr",
     "output_type": "stream",
     "text": [
      "  0%|          | 8/103341 [00:01<4:01:26,  7.13it/s]"
     ]
    },
    {
     "name": "stdout",
     "output_type": "stream",
     "text": [
      "Hybrid Modelling Of A Car Driveline For Servo-Actuated Gear Shift [{'entity': {'type': 'uri', 'value': 'https://w3id.org/oc/meta/br/061403332327'}, 'doi': {'type': 'literal', 'value': '10.1109/isie.2005.1528916'}, 'type': {'type': 'uri', 'value': 'http://purl.org/spar/fabio/ProceedingsPaper'}}]\n"
     ]
    },
    {
     "name": "stderr",
     "output_type": "stream",
     "text": [
      "  0%|          | 51/103341 [00:08<4:34:13,  6.28it/s] \n"
     ]
    },
    {
     "ename": "KeyboardInterrupt",
     "evalue": "",
     "output_type": "error",
     "traceback": [
      "\u001b[0;31m---------------------------------------------------------------------------\u001b[0m",
      "\u001b[0;31mKeyboardInterrupt\u001b[0m                         Traceback (most recent call last)",
      "Cell \u001b[0;32mIn[11], line 43\u001b[0m\n\u001b[1;32m     28\u001b[0m sparql\u001b[38;5;241m.\u001b[39msetQuery(\u001b[38;5;124mf\u001b[39m\u001b[38;5;124m\"\"\"\u001b[39m\n\u001b[1;32m     29\u001b[0m \u001b[38;5;124m                PREFIX datacite: <http://purl.org/spar/datacite/>\u001b[39m\n\u001b[1;32m     30\u001b[0m \u001b[38;5;124m                PREFIX dcterms: <http://purl.org/dc/terms/>\u001b[39m\n\u001b[0;32m   (...)\u001b[0m\n\u001b[1;32m     40\u001b[0m \u001b[38;5;124m                FILTER (?type != fabio:Expression)\u001b[39m\n\u001b[1;32m     41\u001b[0m \u001b[38;5;124m                \u001b[39m\u001b[38;5;130;01m}}\u001b[39;00m\u001b[38;5;124m\"\"\"\u001b[39m)\n\u001b[1;32m     42\u001b[0m sparql\u001b[38;5;241m.\u001b[39msetReturnFormat(JSON)\n\u001b[0;32m---> 43\u001b[0m results \u001b[38;5;241m=\u001b[39m \u001b[43msparql\u001b[49m\u001b[38;5;241;43m.\u001b[39;49m\u001b[43mquery\u001b[49m\u001b[43m(\u001b[49m\u001b[43m)\u001b[49m\u001b[38;5;241m.\u001b[39mconvert()\n\u001b[1;32m     45\u001b[0m \u001b[38;5;28;01mif\u001b[39;00m results[\u001b[38;5;124m\"\u001b[39m\u001b[38;5;124mresults\u001b[39m\u001b[38;5;124m\"\u001b[39m][\u001b[38;5;124m\"\u001b[39m\u001b[38;5;124mbindings\u001b[39m\u001b[38;5;124m\"\u001b[39m]:\n\u001b[1;32m     46\u001b[0m     \u001b[38;5;28mprint\u001b[39m(title, results[\u001b[38;5;124m\"\u001b[39m\u001b[38;5;124mresults\u001b[39m\u001b[38;5;124m\"\u001b[39m][\u001b[38;5;124m\"\u001b[39m\u001b[38;5;124mbindings\u001b[39m\u001b[38;5;124m\"\u001b[39m])\n",
      "File \u001b[0;32m~/.local/lib/python3.11/site-packages/SPARQLWrapper/Wrapper.py:960\u001b[0m, in \u001b[0;36mSPARQLWrapper.query\u001b[0;34m(self)\u001b[0m\n\u001b[1;32m    942\u001b[0m \u001b[38;5;28;01mdef\u001b[39;00m \u001b[38;5;21mquery\u001b[39m(\u001b[38;5;28mself\u001b[39m) \u001b[38;5;241m-\u001b[39m\u001b[38;5;241m>\u001b[39m \u001b[38;5;124m\"\u001b[39m\u001b[38;5;124mQueryResult\u001b[39m\u001b[38;5;124m\"\u001b[39m:\n\u001b[1;32m    943\u001b[0m \u001b[38;5;250m    \u001b[39m\u001b[38;5;124;03m\"\"\"\u001b[39;00m\n\u001b[1;32m    944\u001b[0m \u001b[38;5;124;03m    Execute the query.\u001b[39;00m\n\u001b[1;32m    945\u001b[0m \u001b[38;5;124;03m    Exceptions can be raised if either the URI is wrong or the HTTP sends back an error (this is also the\u001b[39;00m\n\u001b[0;32m   (...)\u001b[0m\n\u001b[1;32m    958\u001b[0m \u001b[38;5;124;03m    :rtype: :class:`QueryResult` instance\u001b[39;00m\n\u001b[1;32m    959\u001b[0m \u001b[38;5;124;03m    \"\"\"\u001b[39;00m\n\u001b[0;32m--> 960\u001b[0m     \u001b[38;5;28;01mreturn\u001b[39;00m QueryResult(\u001b[38;5;28;43mself\u001b[39;49m\u001b[38;5;241;43m.\u001b[39;49m\u001b[43m_query\u001b[49m\u001b[43m(\u001b[49m\u001b[43m)\u001b[49m)\n",
      "File \u001b[0;32m~/.local/lib/python3.11/site-packages/SPARQLWrapper/Wrapper.py:926\u001b[0m, in \u001b[0;36mSPARQLWrapper._query\u001b[0;34m(self)\u001b[0m\n\u001b[1;32m    924\u001b[0m         response \u001b[38;5;241m=\u001b[39m urlopener(request, timeout\u001b[38;5;241m=\u001b[39m\u001b[38;5;28mself\u001b[39m\u001b[38;5;241m.\u001b[39mtimeout)\n\u001b[1;32m    925\u001b[0m     \u001b[38;5;28;01melse\u001b[39;00m:\n\u001b[0;32m--> 926\u001b[0m         response \u001b[38;5;241m=\u001b[39m \u001b[43murlopener\u001b[49m\u001b[43m(\u001b[49m\u001b[43mrequest\u001b[49m\u001b[43m)\u001b[49m\n\u001b[1;32m    927\u001b[0m     \u001b[38;5;28;01mreturn\u001b[39;00m response, \u001b[38;5;28mself\u001b[39m\u001b[38;5;241m.\u001b[39mreturnFormat\n\u001b[1;32m    928\u001b[0m \u001b[38;5;28;01mexcept\u001b[39;00m urllib\u001b[38;5;241m.\u001b[39merror\u001b[38;5;241m.\u001b[39mHTTPError \u001b[38;5;28;01mas\u001b[39;00m e:\n",
      "File \u001b[0;32m/usr/lib64/python3.11/urllib/request.py:216\u001b[0m, in \u001b[0;36murlopen\u001b[0;34m(url, data, timeout, cafile, capath, cadefault, context)\u001b[0m\n\u001b[1;32m    214\u001b[0m \u001b[38;5;28;01melse\u001b[39;00m:\n\u001b[1;32m    215\u001b[0m     opener \u001b[38;5;241m=\u001b[39m _opener\n\u001b[0;32m--> 216\u001b[0m \u001b[38;5;28;01mreturn\u001b[39;00m \u001b[43mopener\u001b[49m\u001b[38;5;241;43m.\u001b[39;49m\u001b[43mopen\u001b[49m\u001b[43m(\u001b[49m\u001b[43murl\u001b[49m\u001b[43m,\u001b[49m\u001b[43m \u001b[49m\u001b[43mdata\u001b[49m\u001b[43m,\u001b[49m\u001b[43m \u001b[49m\u001b[43mtimeout\u001b[49m\u001b[43m)\u001b[49m\n",
      "File \u001b[0;32m/usr/lib64/python3.11/urllib/request.py:519\u001b[0m, in \u001b[0;36mOpenerDirector.open\u001b[0;34m(self, fullurl, data, timeout)\u001b[0m\n\u001b[1;32m    516\u001b[0m     req \u001b[38;5;241m=\u001b[39m meth(req)\n\u001b[1;32m    518\u001b[0m sys\u001b[38;5;241m.\u001b[39maudit(\u001b[38;5;124m'\u001b[39m\u001b[38;5;124murllib.Request\u001b[39m\u001b[38;5;124m'\u001b[39m, req\u001b[38;5;241m.\u001b[39mfull_url, req\u001b[38;5;241m.\u001b[39mdata, req\u001b[38;5;241m.\u001b[39mheaders, req\u001b[38;5;241m.\u001b[39mget_method())\n\u001b[0;32m--> 519\u001b[0m response \u001b[38;5;241m=\u001b[39m \u001b[38;5;28;43mself\u001b[39;49m\u001b[38;5;241;43m.\u001b[39;49m\u001b[43m_open\u001b[49m\u001b[43m(\u001b[49m\u001b[43mreq\u001b[49m\u001b[43m,\u001b[49m\u001b[43m \u001b[49m\u001b[43mdata\u001b[49m\u001b[43m)\u001b[49m\n\u001b[1;32m    521\u001b[0m \u001b[38;5;66;03m# post-process response\u001b[39;00m\n\u001b[1;32m    522\u001b[0m meth_name \u001b[38;5;241m=\u001b[39m protocol\u001b[38;5;241m+\u001b[39m\u001b[38;5;124m\"\u001b[39m\u001b[38;5;124m_response\u001b[39m\u001b[38;5;124m\"\u001b[39m\n",
      "File \u001b[0;32m/usr/lib64/python3.11/urllib/request.py:536\u001b[0m, in \u001b[0;36mOpenerDirector._open\u001b[0;34m(self, req, data)\u001b[0m\n\u001b[1;32m    533\u001b[0m     \u001b[38;5;28;01mreturn\u001b[39;00m result\n\u001b[1;32m    535\u001b[0m protocol \u001b[38;5;241m=\u001b[39m req\u001b[38;5;241m.\u001b[39mtype\n\u001b[0;32m--> 536\u001b[0m result \u001b[38;5;241m=\u001b[39m \u001b[38;5;28;43mself\u001b[39;49m\u001b[38;5;241;43m.\u001b[39;49m\u001b[43m_call_chain\u001b[49m\u001b[43m(\u001b[49m\u001b[38;5;28;43mself\u001b[39;49m\u001b[38;5;241;43m.\u001b[39;49m\u001b[43mhandle_open\u001b[49m\u001b[43m,\u001b[49m\u001b[43m \u001b[49m\u001b[43mprotocol\u001b[49m\u001b[43m,\u001b[49m\u001b[43m \u001b[49m\u001b[43mprotocol\u001b[49m\u001b[43m \u001b[49m\u001b[38;5;241;43m+\u001b[39;49m\n\u001b[1;32m    537\u001b[0m \u001b[43m                          \u001b[49m\u001b[38;5;124;43m'\u001b[39;49m\u001b[38;5;124;43m_open\u001b[39;49m\u001b[38;5;124;43m'\u001b[39;49m\u001b[43m,\u001b[49m\u001b[43m \u001b[49m\u001b[43mreq\u001b[49m\u001b[43m)\u001b[49m\n\u001b[1;32m    538\u001b[0m \u001b[38;5;28;01mif\u001b[39;00m result:\n\u001b[1;32m    539\u001b[0m     \u001b[38;5;28;01mreturn\u001b[39;00m result\n",
      "File \u001b[0;32m/usr/lib64/python3.11/urllib/request.py:496\u001b[0m, in \u001b[0;36mOpenerDirector._call_chain\u001b[0;34m(self, chain, kind, meth_name, *args)\u001b[0m\n\u001b[1;32m    494\u001b[0m \u001b[38;5;28;01mfor\u001b[39;00m handler \u001b[38;5;129;01min\u001b[39;00m handlers:\n\u001b[1;32m    495\u001b[0m     func \u001b[38;5;241m=\u001b[39m \u001b[38;5;28mgetattr\u001b[39m(handler, meth_name)\n\u001b[0;32m--> 496\u001b[0m     result \u001b[38;5;241m=\u001b[39m \u001b[43mfunc\u001b[49m\u001b[43m(\u001b[49m\u001b[38;5;241;43m*\u001b[39;49m\u001b[43margs\u001b[49m\u001b[43m)\u001b[49m\n\u001b[1;32m    497\u001b[0m     \u001b[38;5;28;01mif\u001b[39;00m result \u001b[38;5;129;01mis\u001b[39;00m \u001b[38;5;129;01mnot\u001b[39;00m \u001b[38;5;28;01mNone\u001b[39;00m:\n\u001b[1;32m    498\u001b[0m         \u001b[38;5;28;01mreturn\u001b[39;00m result\n",
      "File \u001b[0;32m/usr/lib64/python3.11/urllib/request.py:1391\u001b[0m, in \u001b[0;36mHTTPSHandler.https_open\u001b[0;34m(self, req)\u001b[0m\n\u001b[1;32m   1390\u001b[0m \u001b[38;5;28;01mdef\u001b[39;00m \u001b[38;5;21mhttps_open\u001b[39m(\u001b[38;5;28mself\u001b[39m, req):\n\u001b[0;32m-> 1391\u001b[0m     \u001b[38;5;28;01mreturn\u001b[39;00m \u001b[38;5;28;43mself\u001b[39;49m\u001b[38;5;241;43m.\u001b[39;49m\u001b[43mdo_open\u001b[49m\u001b[43m(\u001b[49m\u001b[43mhttp\u001b[49m\u001b[38;5;241;43m.\u001b[39;49m\u001b[43mclient\u001b[49m\u001b[38;5;241;43m.\u001b[39;49m\u001b[43mHTTPSConnection\u001b[49m\u001b[43m,\u001b[49m\u001b[43m \u001b[49m\u001b[43mreq\u001b[49m\u001b[43m,\u001b[49m\n\u001b[1;32m   1392\u001b[0m \u001b[43m        \u001b[49m\u001b[43mcontext\u001b[49m\u001b[38;5;241;43m=\u001b[39;49m\u001b[38;5;28;43mself\u001b[39;49m\u001b[38;5;241;43m.\u001b[39;49m\u001b[43m_context\u001b[49m\u001b[43m,\u001b[49m\u001b[43m \u001b[49m\u001b[43mcheck_hostname\u001b[49m\u001b[38;5;241;43m=\u001b[39;49m\u001b[38;5;28;43mself\u001b[39;49m\u001b[38;5;241;43m.\u001b[39;49m\u001b[43m_check_hostname\u001b[49m\u001b[43m)\u001b[49m\n",
      "File \u001b[0;32m/usr/lib64/python3.11/urllib/request.py:1317\u001b[0m, in \u001b[0;36mAbstractHTTPHandler.do_open\u001b[0;34m(self, http_class, req, **http_conn_args)\u001b[0m\n\u001b[1;32m   1314\u001b[0m     \u001b[38;5;28;01mraise\u001b[39;00m URLError(\u001b[38;5;124m'\u001b[39m\u001b[38;5;124mno host given\u001b[39m\u001b[38;5;124m'\u001b[39m)\n\u001b[1;32m   1316\u001b[0m \u001b[38;5;66;03m# will parse host:port\u001b[39;00m\n\u001b[0;32m-> 1317\u001b[0m h \u001b[38;5;241m=\u001b[39m \u001b[43mhttp_class\u001b[49m\u001b[43m(\u001b[49m\u001b[43mhost\u001b[49m\u001b[43m,\u001b[49m\u001b[43m \u001b[49m\u001b[43mtimeout\u001b[49m\u001b[38;5;241;43m=\u001b[39;49m\u001b[43mreq\u001b[49m\u001b[38;5;241;43m.\u001b[39;49m\u001b[43mtimeout\u001b[49m\u001b[43m,\u001b[49m\u001b[43m \u001b[49m\u001b[38;5;241;43m*\u001b[39;49m\u001b[38;5;241;43m*\u001b[39;49m\u001b[43mhttp_conn_args\u001b[49m\u001b[43m)\u001b[49m\n\u001b[1;32m   1318\u001b[0m h\u001b[38;5;241m.\u001b[39mset_debuglevel(\u001b[38;5;28mself\u001b[39m\u001b[38;5;241m.\u001b[39m_debuglevel)\n\u001b[1;32m   1320\u001b[0m headers \u001b[38;5;241m=\u001b[39m \u001b[38;5;28mdict\u001b[39m(req\u001b[38;5;241m.\u001b[39munredirected_hdrs)\n",
      "File \u001b[0;32m/usr/lib64/python3.11/http/client.py:1437\u001b[0m, in \u001b[0;36mHTTPSConnection.__init__\u001b[0;34m(self, host, port, key_file, cert_file, timeout, source_address, context, check_hostname, blocksize)\u001b[0m\n\u001b[1;32m   1435\u001b[0m \u001b[38;5;28mself\u001b[39m\u001b[38;5;241m.\u001b[39mcert_file \u001b[38;5;241m=\u001b[39m cert_file\n\u001b[1;32m   1436\u001b[0m \u001b[38;5;28;01mif\u001b[39;00m context \u001b[38;5;129;01mis\u001b[39;00m \u001b[38;5;28;01mNone\u001b[39;00m:\n\u001b[0;32m-> 1437\u001b[0m     context \u001b[38;5;241m=\u001b[39m \u001b[43mssl\u001b[49m\u001b[38;5;241;43m.\u001b[39;49m\u001b[43m_create_default_https_context\u001b[49m\u001b[43m(\u001b[49m\u001b[43m)\u001b[49m\n\u001b[1;32m   1438\u001b[0m     \u001b[38;5;66;03m# send ALPN extension to indicate HTTP/1.1 protocol\u001b[39;00m\n\u001b[1;32m   1439\u001b[0m     \u001b[38;5;28;01mif\u001b[39;00m \u001b[38;5;28mself\u001b[39m\u001b[38;5;241m.\u001b[39m_http_vsn \u001b[38;5;241m==\u001b[39m \u001b[38;5;241m11\u001b[39m:\n",
      "File \u001b[0;32m/usr/lib64/python3.11/ssl.py:775\u001b[0m, in \u001b[0;36mcreate_default_context\u001b[0;34m(purpose, cafile, capath, cadata)\u001b[0m\n\u001b[1;32m    770\u001b[0m     context\u001b[38;5;241m.\u001b[39mload_verify_locations(cafile, capath, cadata)\n\u001b[1;32m    771\u001b[0m \u001b[38;5;28;01melif\u001b[39;00m context\u001b[38;5;241m.\u001b[39mverify_mode \u001b[38;5;241m!=\u001b[39m CERT_NONE:\n\u001b[1;32m    772\u001b[0m     \u001b[38;5;66;03m# no explicit cafile, capath or cadata but the verify mode is\u001b[39;00m\n\u001b[1;32m    773\u001b[0m     \u001b[38;5;66;03m# CERT_OPTIONAL or CERT_REQUIRED. Let's try to load default system\u001b[39;00m\n\u001b[1;32m    774\u001b[0m     \u001b[38;5;66;03m# root CA certificates for the given purpose. This may fail silently.\u001b[39;00m\n\u001b[0;32m--> 775\u001b[0m     \u001b[43mcontext\u001b[49m\u001b[38;5;241;43m.\u001b[39;49m\u001b[43mload_default_certs\u001b[49m\u001b[43m(\u001b[49m\u001b[43mpurpose\u001b[49m\u001b[43m)\u001b[49m\n\u001b[1;32m    776\u001b[0m \u001b[38;5;66;03m# OpenSSL 1.1.1 keylog file\u001b[39;00m\n\u001b[1;32m    777\u001b[0m \u001b[38;5;28;01mif\u001b[39;00m \u001b[38;5;28mhasattr\u001b[39m(context, \u001b[38;5;124m'\u001b[39m\u001b[38;5;124mkeylog_filename\u001b[39m\u001b[38;5;124m'\u001b[39m):\n",
      "File \u001b[0;32m/usr/lib64/python3.11/ssl.py:597\u001b[0m, in \u001b[0;36mSSLContext.load_default_certs\u001b[0;34m(self, purpose)\u001b[0m\n\u001b[1;32m    595\u001b[0m     \u001b[38;5;28;01mfor\u001b[39;00m storename \u001b[38;5;129;01min\u001b[39;00m \u001b[38;5;28mself\u001b[39m\u001b[38;5;241m.\u001b[39m_windows_cert_stores:\n\u001b[1;32m    596\u001b[0m         \u001b[38;5;28mself\u001b[39m\u001b[38;5;241m.\u001b[39m_load_windows_store_certs(storename, purpose)\n\u001b[0;32m--> 597\u001b[0m \u001b[38;5;28;43mself\u001b[39;49m\u001b[38;5;241;43m.\u001b[39;49m\u001b[43mset_default_verify_paths\u001b[49m\u001b[43m(\u001b[49m\u001b[43m)\u001b[49m\n",
      "\u001b[0;31mKeyboardInterrupt\u001b[0m: "
     ]
    }
   ],
   "source": [
    "from string import Template\n",
    "from SPARQLWrapper import SPARQLWrapper, CSV, JSON\n",
    "from SPARQLWrapper.SPARQLExceptions import QueryBadFormed\n",
    "from urllib.error import HTTPError\n",
    "from requests import get\n",
    "\n",
    "\n",
    "sparql = SPARQLWrapper(\"https://test.opencitations.net/meta/sparql\")\n",
    "\n",
    "findings = []\n",
    "\n",
    "def get_type(doi):\n",
    "    HTTP_HEADERS = {\"authorization\": \"8c0f10ec-f033-4e81-a4ec-818a0232c1f8\"}\n",
    "    API_CALL = \"https://w3id.org/oc/meta/api/v1/metadata/{}\"\n",
    "\n",
    "    response = get(API_CALL.format('doi:'+doi), headers=HTTP_HEADERS)\n",
    "\n",
    "    return response.json()[0]['type']\n",
    "\n",
    "titles_df = pl.DataFrame()\n",
    "\n",
    "\n",
    "for iris_id, title in tqdm(iris_noid_titles[140:].iter_rows(), total=len(iris_noid_titles[140:])):\n",
    "    title = title.replace('\\r', ' ').replace('\\n', '').replace('\"', \"'\")\n",
    "    if len(title.split()) < 3:\n",
    "        continue\n",
    "    try:\n",
    "        sparql.setQuery(f\"\"\"\n",
    "                        PREFIX datacite: <http://purl.org/spar/datacite/>\n",
    "                        PREFIX dcterms: <http://purl.org/dc/terms/>\n",
    "                        PREFIX literal: <http://www.essepuntato.it/2010/06/literalreification/>\n",
    "                        PREFIX fabio: <http://purl.org/spar/fabio/>\n",
    "                        SELECT ?entity ?doi ?type\n",
    "                        WHERE {{\n",
    "                            ?entity dcterms:title \"{title}\" ;\n",
    "                                a ?type.\n",
    "                            ?entity datacite:hasIdentifier ?identifier.\n",
    "                            ?identifier datacite:usesIdentifierScheme datacite:doi.\n",
    "                            ?identifier literal:hasLiteralValue ?doi.\n",
    "                        FILTER (?type != fabio:Expression)\n",
    "                        }}\"\"\")\n",
    "        sparql.setReturnFormat(JSON)\n",
    "        results = sparql.query().convert()\n",
    "\n",
    "        if results[\"results\"][\"bindings\"]:\n",
    "            print(title, results[\"results\"][\"bindings\"])\n",
    "            for result in results[\"results\"][\"bindings\"]:\n",
    "                entity = result[\"entity\"][\"value\"]\n",
    "                doi = result[\"doi\"][\"value\"]\n",
    "                type = result[\"type\"][\"value\"]\n",
    "                findings.append({'title': title, 'omid': entity.replace(\"https://w3id.org/oc/meta/\", 'omid:'), 'id': \"doi:\"+doi, 'type': get_type(doi), 'iris_id': iris_id})\n",
    "\n",
    "    except (QueryBadFormed, HTTPError) as e:\n",
    "        continue"
   ]
  },
  {
   "cell_type": "code",
   "execution_count": 7,
   "metadata": {},
   "outputs": [
    {
     "data": {
      "text/plain": [
       "[{'title': 'Hybrid Modelling Of A Car Driveline For Servo-Actuated Gear Shift',\n",
       "  'omid': 'omid:br/061403332327',\n",
       "  'id': 'doi:10.1109/isie.2005.1528916',\n",
       "  'type': 'proceedings article',\n",
       "  'iris_id': 55620}]"
      ]
     },
     "execution_count": 7,
     "metadata": {},
     "output_type": "execute_result"
    }
   ],
   "source": [
    "findings"
   ]
  },
  {
   "cell_type": "code",
   "execution_count": 8,
   "metadata": {},
   "outputs": [
    {
     "data": {
      "text/html": [
       "<div><style>\n",
       ".dataframe > thead > tr,\n",
       ".dataframe > tbody > tr {\n",
       "  text-align: right;\n",
       "  white-space: pre-wrap;\n",
       "}\n",
       "</style>\n",
       "<small>shape: (1, 5)</small><table border=\"1\" class=\"dataframe\"><thead><tr><th>title</th><th>omid</th><th>id</th><th>type</th><th>iris_id</th></tr><tr><td>str</td><td>str</td><td>str</td><td>str</td><td>i64</td></tr></thead><tbody><tr><td>&quot;Hybrid Modelling Of A Car Driveline For Servo-Actuated Gear Shift&quot;</td><td>&quot;omid:br/061403332327&quot;</td><td>&quot;doi:10.1109/isie.2005.1528916&quot;</td><td>&quot;proceedings article&quot;</td><td>55620</td></tr></tbody></table></div>"
      ],
      "text/plain": [
       "shape: (1, 5)\n",
       "┌──────────────────────┬─────────────────────┬─────────────────────┬─────────────────────┬─────────┐\n",
       "│ title                ┆ omid                ┆ id                  ┆ type                ┆ iris_id │\n",
       "│ ---                  ┆ ---                 ┆ ---                 ┆ ---                 ┆ ---     │\n",
       "│ str                  ┆ str                 ┆ str                 ┆ str                 ┆ i64     │\n",
       "╞══════════════════════╪═════════════════════╪═════════════════════╪═════════════════════╪═════════╡\n",
       "│ Hybrid Modelling Of  ┆ omid:br/06140333232 ┆ doi:10.1109/isie.20 ┆ proceedings article ┆ 55620   │\n",
       "│ A Car Driveline For  ┆ 7                   ┆ 05.1528916          ┆                     ┆         │\n",
       "│ Servo-Actuated Gear  ┆                     ┆                     ┆                     ┆         │\n",
       "│ Shift                ┆                     ┆                     ┆                     ┆         │\n",
       "└──────────────────────┴─────────────────────┴─────────────────────┴─────────────────────┴─────────┘"
      ]
     },
     "execution_count": 8,
     "metadata": {},
     "output_type": "execute_result"
    }
   ],
   "source": [
    "findings_df = pl.DataFrame(findings)\n",
    "findings_df"
   ]
  },
  {
   "cell_type": "code",
   "execution_count": 10,
   "metadata": {},
   "outputs": [
    {
     "data": {
      "text/html": [
       "<div><style>\n",
       ".dataframe > thead > tr,\n",
       ".dataframe > tbody > tr {\n",
       "  text-align: right;\n",
       "  white-space: pre-wrap;\n",
       "}\n",
       "</style>\n",
       "<small>shape: (5, 5)</small><table border=\"1\" class=\"dataframe\"><thead><tr><th>id</th><th>title</th><th>type</th><th>omid</th><th>iris_id</th></tr><tr><td>str</td><td>str</td><td>str</td><td>str</td><td>i32</td></tr></thead><tbody><tr><td>&quot;doi:10.1002/widm.1511&quot;</td><td>&quot;A White Paper On Good Research Practices In Benchmarking: The Case Of Cluster Analysis&quot;</td><td>&quot;journal article&quot;</td><td>&quot;omid:br/06510108547&quot;</td><td>776472</td></tr><tr><td>&quot;doi:10.1093/annonc/mdx033&quot;</td><td>&quot;European Cancer Mortality Predictions For The Year 2017, With Focus On Lung Cancer&quot;</td><td>&quot;journal article&quot;</td><td>&quot;omid:br/062503328173&quot;</td><td>388298</td></tr><tr><td>&quot;doi:10.1016/j.jmatprotec.2017.10.019&quot;</td><td>&quot;High Throughput Hybrid Laser Assisted Machining Of Sintered Reaction Bonded Silicon Nitride&quot;</td><td>&quot;journal article&quot;</td><td>&quot;omid:br/062503328812&quot;</td><td>320811</td></tr><tr><td>&quot;doi:10.1093/annonc/mdw306&quot;</td><td>&quot;Global Trends And Predictions In Ovarian Cancer Mortality&quot;</td><td>&quot;journal article&quot;</td><td>&quot;omid:br/062503328364&quot;</td><td>632727</td></tr><tr><td>&quot;doi:10.1093/annonc/mdw430&quot;</td><td>&quot;Short, Full-Dose Adjuvant Chemotherapy (CT) In High-Risk Adult Soft Tissue Sarcomas (STS): Long-Ter…</td><td>&quot;journal article&quot;</td><td>&quot;omid:br/062503328314&quot;</td><td>301915</td></tr></tbody></table></div>"
      ],
      "text/plain": [
       "shape: (5, 5)\n",
       "┌───────────────────────┬───────────────────────┬─────────────────┬──────────────────────┬─────────┐\n",
       "│ id                    ┆ title                 ┆ type            ┆ omid                 ┆ iris_id │\n",
       "│ ---                   ┆ ---                   ┆ ---             ┆ ---                  ┆ ---     │\n",
       "│ str                   ┆ str                   ┆ str             ┆ str                  ┆ i32     │\n",
       "╞═══════════════════════╪═══════════════════════╪═════════════════╪══════════════════════╪═════════╡\n",
       "│ doi:10.1002/widm.1511 ┆ A White Paper On Good ┆ journal article ┆ omid:br/06510108547  ┆ 776472  │\n",
       "│                       ┆ Research Practices In ┆                 ┆                      ┆         │\n",
       "│                       ┆ Benchmarking: The     ┆                 ┆                      ┆         │\n",
       "│                       ┆ Case Of Cluster       ┆                 ┆                      ┆         │\n",
       "│                       ┆ Analysis              ┆                 ┆                      ┆         │\n",
       "│ doi:10.1093/annonc/md ┆ European Cancer       ┆ journal article ┆ omid:br/062503328173 ┆ 388298  │\n",
       "│ x033                  ┆ Mortality Predictions ┆                 ┆                      ┆         │\n",
       "│                       ┆ For The Year 2017,    ┆                 ┆                      ┆         │\n",
       "│                       ┆ With Focus On Lung    ┆                 ┆                      ┆         │\n",
       "│                       ┆ Cancer                ┆                 ┆                      ┆         │\n",
       "│ doi:10.1016/j.jmatpro ┆ High Throughput       ┆ journal article ┆ omid:br/062503328812 ┆ 320811  │\n",
       "│ tec.2017.10.019       ┆ Hybrid Laser Assisted ┆                 ┆                      ┆         │\n",
       "│                       ┆ Machining Of Sintered ┆                 ┆                      ┆         │\n",
       "│                       ┆ Reaction Bonded       ┆                 ┆                      ┆         │\n",
       "│                       ┆ Silicon Nitride       ┆                 ┆                      ┆         │\n",
       "│ doi:10.1093/annonc/md ┆ Global Trends And     ┆ journal article ┆ omid:br/062503328364 ┆ 632727  │\n",
       "│ w306                  ┆ Predictions In        ┆                 ┆                      ┆         │\n",
       "│                       ┆ Ovarian Cancer        ┆                 ┆                      ┆         │\n",
       "│                       ┆ Mortality             ┆                 ┆                      ┆         │\n",
       "│ doi:10.1093/annonc/md ┆ Short, Full-Dose      ┆ journal article ┆ omid:br/062503328314 ┆ 301915  │\n",
       "│ w430                  ┆ Adjuvant Chemotherapy ┆                 ┆                      ┆         │\n",
       "│                       ┆ (CT) In High-Risk     ┆                 ┆                      ┆         │\n",
       "│                       ┆ Adult Soft Tissue     ┆                 ┆                      ┆         │\n",
       "│                       ┆ Sarcomas (STS):       ┆                 ┆                      ┆         │\n",
       "│                       ┆ Long-Term…            ┆                 ┆                      ┆         │\n",
       "└───────────────────────┴───────────────────────┴─────────────────┴──────────────────────┴─────────┘"
      ]
     },
     "execution_count": 10,
     "metadata": {},
     "output_type": "execute_result"
    }
   ],
   "source": [
    "lf_iim = pl.scan_parquet('data/iris_in_meta/*.parquet')\n",
    "lf_iim.head().collect()"
   ]
  },
  {
   "cell_type": "markdown",
   "metadata": {},
   "source": [
    "#### dask"
   ]
  },
  {
   "cell_type": "code",
   "execution_count": 91,
   "metadata": {},
   "outputs": [],
   "source": [
    "iris_noid_titles = (\n",
    "    df[['IDE_DOI', 'IDE_ISBN', 'TITLE']]\n",
    "    .filter(\n",
    "        pl.col('IDE_DOI').is_null() & pl.col('IDE_ISBN').is_null()\n",
    "    )\n",
    ")['TITLE'].to_list()"
   ]
  },
  {
   "cell_type": "code",
   "execution_count": 45,
   "metadata": {},
   "outputs": [
    {
     "data": {
      "text/plain": [
       "105327"
      ]
     },
     "execution_count": 45,
     "metadata": {},
     "output_type": "execute_result"
    }
   ],
   "source": [
    "len(iris_noid_titles)"
   ]
  },
  {
   "cell_type": "code",
   "execution_count": 9,
   "metadata": {},
   "outputs": [],
   "source": [
    "zip_file = ZipFile('data/csv_openalex.zip')\n",
    "csvs = ['zip://'+n for n in zip_file.namelist() if n.endswith('.csv')]"
   ]
  },
  {
   "cell_type": "code",
   "execution_count": 13,
   "metadata": {},
   "outputs": [],
   "source": [
    "ddf = dd.read_csv(csvs, storage_options={'fo': zip_file.filename}, usecols=['title'])"
   ]
  },
  {
   "cell_type": "code",
   "execution_count": 30,
   "metadata": {},
   "outputs": [
    {
     "name": "stdout",
     "output_type": "stream",
     "text": [
      "[########################################] | 100% Completed | 101.88 ms\n"
     ]
    },
    {
     "data": {
      "text/html": [
       "<div>\n",
       "<style scoped>\n",
       "    .dataframe tbody tr th:only-of-type {\n",
       "        vertical-align: middle;\n",
       "    }\n",
       "\n",
       "    .dataframe tbody tr th {\n",
       "        vertical-align: top;\n",
       "    }\n",
       "\n",
       "    .dataframe thead th {\n",
       "        text-align: right;\n",
       "    }\n",
       "</style>\n",
       "<table border=\"1\" class=\"dataframe\">\n",
       "  <thead>\n",
       "    <tr style=\"text-align: right;\">\n",
       "      <th></th>\n",
       "      <th>title</th>\n",
       "    </tr>\n",
       "  </thead>\n",
       "  <tbody>\n",
       "    <tr>\n",
       "      <th>0</th>\n",
       "      <td>Expression Of Cyclin-Dependent Kinases Inhibit...</td>\n",
       "    </tr>\n",
       "    <tr>\n",
       "      <th>1</th>\n",
       "      <td>Effects Of Treatment Of Rats With Indole-3-Car...</td>\n",
       "    </tr>\n",
       "    <tr>\n",
       "      <th>2</th>\n",
       "      <td>Parathyroid Hormone-Related Peptide And Cardio...</td>\n",
       "    </tr>\n",
       "    <tr>\n",
       "      <th>3</th>\n",
       "      <td>Oral Immunisation Of Chickens Using Cholera To...</td>\n",
       "    </tr>\n",
       "    <tr>\n",
       "      <th>4</th>\n",
       "      <td>Influence Of Stage Classification, Tumor Diffe...</td>\n",
       "    </tr>\n",
       "  </tbody>\n",
       "</table>\n",
       "</div>"
      ],
      "text/plain": [
       "                                               title\n",
       "0  Expression Of Cyclin-Dependent Kinases Inhibit...\n",
       "1  Effects Of Treatment Of Rats With Indole-3-Car...\n",
       "2  Parathyroid Hormone-Related Peptide And Cardio...\n",
       "3  Oral Immunisation Of Chickens Using Cholera To...\n",
       "4  Influence Of Stage Classification, Tumor Diffe..."
      ]
     },
     "execution_count": 30,
     "metadata": {},
     "output_type": "execute_result"
    }
   ],
   "source": [
    "ddf.partitions[0].head()"
   ]
  },
  {
   "cell_type": "code",
   "execution_count": null,
   "metadata": {},
   "outputs": [],
   "source": [
    "import numpy as np\n",
    "\n",
    "\n",
    "def compare_title_similarity(title, list_):\n",
    "    res = process.extractOne(title, list_, scorer=fuzz.token_sort_ratio, score_cutoff=70)\n",
    "    return title, res\n",
    "\n",
    "\n",
    "def find_fuzzy(list_from_user, list_from_DB, score_cutoff: int):\n",
    "    score_matrix = process.cdist(\n",
    "        list_from_user,\n",
    "        list_from_DB,\n",
    "        processor=str.lower,\n",
    "        scorer=fuzz.ratio,\n",
    "        dtype=np.uint8,  # Output the score as uint8, which is faster.\n",
    "        workers=-1,  # Use multithreading. -1 means use all cores.\n",
    "        score_cutoff=score_cutoff,\n",
    "    )\n",
    "\n",
    "    results = []\n",
    "    user_indices, db_indices = np.nonzero(score_matrix)\n",
    "    for user_index_of_match, db_index_of_match in zip(user_indices, db_indices):\n",
    "        results.append(\n",
    "            {\n",
    "                \"user_index_of_match\": user_index_of_match,\n",
    "                \"db_index_of_match\": db_index_of_match,\n",
    "                \"user_item_of_match\": list_from_user[user_index_of_match],\n",
    "                \"db_item_of_match\": list_from_DB[db_index_of_match],\n",
    "                \"score_of_match\": score_matrix[user_index_of_match, db_index_of_match],\n",
    "            }\n",
    "        )\n",
    "    return results\n"
   ]
  },
  {
   "cell_type": "code",
   "execution_count": 48,
   "metadata": {},
   "outputs": [
    {
     "ename": "AttributeError",
     "evalue": "'Series' object has no attribute 'query'",
     "output_type": "error",
     "traceback": [
      "\u001b[0;31m---------------------------------------------------------------------------\u001b[0m",
      "\u001b[0;31mAttributeError\u001b[0m                            Traceback (most recent call last)",
      "File \u001b[0;32m~/.local/lib/python3.11/site-packages/dask_expr/_core.py:459\u001b[0m, in \u001b[0;36mExpr.__getattr__\u001b[0;34m(self, key)\u001b[0m\n\u001b[1;32m    458\u001b[0m \u001b[38;5;28;01mtry\u001b[39;00m:\n\u001b[0;32m--> 459\u001b[0m     \u001b[38;5;28;01mreturn\u001b[39;00m \u001b[38;5;28;43mobject\u001b[39;49m\u001b[38;5;241;43m.\u001b[39;49m\u001b[38;5;21;43m__getattribute__\u001b[39;49m\u001b[43m(\u001b[49m\u001b[38;5;28;43mself\u001b[39;49m\u001b[43m,\u001b[49m\u001b[43m \u001b[49m\u001b[43mkey\u001b[49m\u001b[43m)\u001b[49m\n\u001b[1;32m    460\u001b[0m \u001b[38;5;28;01mexcept\u001b[39;00m \u001b[38;5;167;01mAttributeError\u001b[39;00m \u001b[38;5;28;01mas\u001b[39;00m err:\n",
      "\u001b[0;31mAttributeError\u001b[0m: 'FunctionMap' object has no attribute 'query'",
      "\nDuring handling of the above exception, another exception occurred:\n",
      "\u001b[0;31mAttributeError\u001b[0m                            Traceback (most recent call last)",
      "File \u001b[0;32m~/.local/lib/python3.11/site-packages/dask_expr/_collection.py:619\u001b[0m, in \u001b[0;36mFrameBase.__getattr__\u001b[0;34m(self, key)\u001b[0m\n\u001b[1;32m    616\u001b[0m \u001b[38;5;28;01mtry\u001b[39;00m:\n\u001b[1;32m    617\u001b[0m     \u001b[38;5;66;03m# Fall back to `expr` API\u001b[39;00m\n\u001b[1;32m    618\u001b[0m     \u001b[38;5;66;03m# (Making sure to convert to/from Expr)\u001b[39;00m\n\u001b[0;32m--> 619\u001b[0m     val \u001b[38;5;241m=\u001b[39m \u001b[38;5;28mgetattr\u001b[39m(\u001b[38;5;28mself\u001b[39m\u001b[38;5;241m.\u001b[39mexpr, key)\n\u001b[1;32m    620\u001b[0m     \u001b[38;5;28;01mif\u001b[39;00m callable(val):\n",
      "File \u001b[0;32m~/.local/lib/python3.11/site-packages/dask_expr/_core.py:480\u001b[0m, in \u001b[0;36mExpr.__getattr__\u001b[0;34m(self, key)\u001b[0m\n\u001b[1;32m    479\u001b[0m link \u001b[38;5;241m=\u001b[39m \u001b[38;5;124m\"\u001b[39m\u001b[38;5;124mhttps://github.com/dask-contrib/dask-expr/blob/main/README.md#api-coverage\u001b[39m\u001b[38;5;124m\"\u001b[39m\n\u001b[0;32m--> 480\u001b[0m \u001b[38;5;28;01mraise\u001b[39;00m \u001b[38;5;167;01mAttributeError\u001b[39;00m(\n\u001b[1;32m    481\u001b[0m     \u001b[38;5;124mf\u001b[39m\u001b[38;5;124m\"\u001b[39m\u001b[38;5;132;01m{\u001b[39;00merr\u001b[38;5;132;01m}\u001b[39;00m\u001b[38;5;130;01m\\n\u001b[39;00m\u001b[38;5;130;01m\\n\u001b[39;00m\u001b[38;5;124m\"\u001b[39m\n\u001b[1;32m    482\u001b[0m     \u001b[38;5;124m\"\u001b[39m\u001b[38;5;124mThis often means that you are attempting to use an unsupported \u001b[39m\u001b[38;5;124m\"\u001b[39m\n\u001b[1;32m    483\u001b[0m     \u001b[38;5;124mf\u001b[39m\u001b[38;5;124m\"\u001b[39m\u001b[38;5;124mAPI function. Current API coverage is documented here: \u001b[39m\u001b[38;5;132;01m{\u001b[39;00mlink\u001b[38;5;132;01m}\u001b[39;00m\u001b[38;5;124m.\u001b[39m\u001b[38;5;124m\"\u001b[39m\n\u001b[1;32m    484\u001b[0m )\n",
      "\u001b[0;31mAttributeError\u001b[0m: 'FunctionMap' object has no attribute 'query'\n\nThis often means that you are attempting to use an unsupported API function. Current API coverage is documented here: https://github.com/dask-contrib/dask-expr/blob/main/README.md#api-coverage.",
      "\nDuring handling of the above exception, another exception occurred:\n",
      "\u001b[0;31mAttributeError\u001b[0m                            Traceback (most recent call last)",
      "Cell \u001b[0;32mIn[48], line 4\u001b[0m\n\u001b[1;32m      1\u001b[0m \u001b[38;5;66;03m#def starts_with(df):\u001b[39;00m\n\u001b[0;32m----> 4\u001b[0m title_ddf \u001b[38;5;241m=\u001b[39m \u001b[43mddf\u001b[49m\u001b[38;5;241;43m.\u001b[39;49m\u001b[43mpartitions\u001b[49m\u001b[43m[\u001b[49m\u001b[38;5;241;43m0\u001b[39;49m\u001b[43m]\u001b[49m\u001b[38;5;241;43m.\u001b[39;49m\u001b[43mtitle\u001b[49m\u001b[38;5;241;43m.\u001b[39;49m\u001b[43mstr\u001b[49m\u001b[38;5;241;43m.\u001b[39;49m\u001b[43mstartswith\u001b[49m\u001b[43m(\u001b[49m\u001b[38;5;124;43m'\u001b[39;49m\u001b[38;5;124;43mExpression\u001b[39;49m\u001b[38;5;124;43m'\u001b[39;49m\u001b[43m)\u001b[49m\u001b[38;5;241;43m.\u001b[39;49m\u001b[43mquery\u001b[49m(\u001b[38;5;124m'\u001b[39m\u001b[38;5;124mtitle\u001b[39m\u001b[38;5;124m'\u001b[39m)\u001b[38;5;241m.\u001b[39mcompute()\n\u001b[1;32m      5\u001b[0m title_ddf\n",
      "File \u001b[0;32m~/.local/lib/python3.11/site-packages/dask_expr/_collection.py:625\u001b[0m, in \u001b[0;36mFrameBase.__getattr__\u001b[0;34m(self, key)\u001b[0m\n\u001b[1;32m    622\u001b[0m     \u001b[38;5;28;01mreturn\u001b[39;00m val\n\u001b[1;32m    623\u001b[0m \u001b[38;5;28;01mexcept\u001b[39;00m \u001b[38;5;167;01mAttributeError\u001b[39;00m:\n\u001b[1;32m    624\u001b[0m     \u001b[38;5;66;03m# Raise original error\u001b[39;00m\n\u001b[0;32m--> 625\u001b[0m     \u001b[38;5;28;01mraise\u001b[39;00m err\n",
      "File \u001b[0;32m~/.local/lib/python3.11/site-packages/dask_expr/_collection.py:614\u001b[0m, in \u001b[0;36mFrameBase.__getattr__\u001b[0;34m(self, key)\u001b[0m\n\u001b[1;32m    611\u001b[0m \u001b[38;5;28;01mdef\u001b[39;00m \u001b[38;5;21m__getattr__\u001b[39m(\u001b[38;5;28mself\u001b[39m, key):\n\u001b[1;32m    612\u001b[0m     \u001b[38;5;28;01mtry\u001b[39;00m:\n\u001b[1;32m    613\u001b[0m         \u001b[38;5;66;03m# Prioritize `FrameBase` attributes\u001b[39;00m\n\u001b[0;32m--> 614\u001b[0m         \u001b[38;5;28;01mreturn\u001b[39;00m \u001b[38;5;28;43mobject\u001b[39;49m\u001b[38;5;241;43m.\u001b[39;49m\u001b[38;5;21;43m__getattribute__\u001b[39;49m\u001b[43m(\u001b[49m\u001b[38;5;28;43mself\u001b[39;49m\u001b[43m,\u001b[49m\u001b[43m \u001b[49m\u001b[43mkey\u001b[49m\u001b[43m)\u001b[49m\n\u001b[1;32m    615\u001b[0m     \u001b[38;5;28;01mexcept\u001b[39;00m \u001b[38;5;167;01mAttributeError\u001b[39;00m \u001b[38;5;28;01mas\u001b[39;00m err:\n\u001b[1;32m    616\u001b[0m         \u001b[38;5;28;01mtry\u001b[39;00m:\n\u001b[1;32m    617\u001b[0m             \u001b[38;5;66;03m# Fall back to `expr` API\u001b[39;00m\n\u001b[1;32m    618\u001b[0m             \u001b[38;5;66;03m# (Making sure to convert to/from Expr)\u001b[39;00m\n",
      "\u001b[0;31mAttributeError\u001b[0m: 'Series' object has no attribute 'query'"
     ]
    }
   ],
   "source": [
    "#def starts_with(df):\n",
    "\n",
    "\n",
    "title_ddf = ddf.partitions[0].title.str.startswith('Expression').compute()\n",
    "title_ddf"
   ]
  },
  {
   "cell_type": "code",
   "execution_count": 158,
   "metadata": {},
   "outputs": [
    {
     "data": {
      "text/html": [
       "<div><style>\n",
       ".dataframe > thead > tr,\n",
       ".dataframe > tbody > tr {\n",
       "  text-align: right;\n",
       "  white-space: pre-wrap;\n",
       "}\n",
       "</style>\n",
       "<small>shape: (1, 1)</small><table border=\"1\" class=\"dataframe\"><thead><tr><th>len</th></tr><tr><td>u32</td></tr></thead><tbody><tr><td>12352039</td></tr></tbody></table></div>"
      ],
      "text/plain": [
       "shape: (1, 1)\n",
       "┌──────────┐\n",
       "│ len      │\n",
       "│ ---      │\n",
       "│ u32      │\n",
       "╞══════════╡\n",
       "│ 12352039 │\n",
       "└──────────┘"
      ]
     },
     "execution_count": 158,
     "metadata": {},
     "output_type": "execute_result"
    }
   ],
   "source": [
    "lf_iim_null = pl.scan_parquet('data/iris_in_meta_no_id/*.parquet')\n",
    "\n",
    "#lf_iim_null.select(pl.len()).collect().head()\n",
    "#lf_iim_null.collect().head(20)\n",
    "\n",
    "lf_iim_null = (\n",
    "    lf_iim_null\n",
    "    .select('title')\n",
    "    .filter(\n",
    "        (pl.col('title') == \"\").not_()\n",
    "    )\n",
    ")\n",
    "\n",
    "lf_iim_null.select(pl.len()).collect()"
   ]
  },
  {
   "cell_type": "code",
   "execution_count": 177,
   "metadata": {},
   "outputs": [
    {
     "data": {
      "text/plain": [
       "12468046"
      ]
     },
     "execution_count": 177,
     "metadata": {},
     "output_type": "execute_result"
    }
   ],
   "source": [
    "116007 + 12352039"
   ]
  },
  {
   "cell_type": "code",
   "execution_count": 159,
   "metadata": {},
   "outputs": [
    {
     "ename": "TypeError",
     "evalue": "'LazyFrame' object is not subscriptable (aside from slicing)\n\nUse `select()` or `filter()` instead.",
     "output_type": "error",
     "traceback": [
      "\u001b[0;31m---------------------------------------------------------------------------\u001b[0m",
      "\u001b[0;31mTypeError\u001b[0m                                 Traceback (most recent call last)",
      "Cell \u001b[0;32mIn[159], line 2\u001b[0m\n\u001b[1;32m      1\u001b[0m \u001b[38;5;28;01mfor\u001b[39;00m title \u001b[38;5;129;01min\u001b[39;00m iris_noid_titles:\n\u001b[0;32m----> 2\u001b[0m     matches \u001b[38;5;241m=\u001b[39m process\u001b[38;5;241m.\u001b[39mextract(title, \u001b[43mlf_iim_null\u001b[49m\u001b[43m[\u001b[49m\u001b[38;5;124;43m'\u001b[39;49m\u001b[38;5;124;43mtitle\u001b[39;49m\u001b[38;5;124;43m'\u001b[39;49m\u001b[43m]\u001b[49m\u001b[38;5;241m.\u001b[39mto_list(), scorer\u001b[38;5;241m=\u001b[39mfuzz\u001b[38;5;241m.\u001b[39mtoken_sort_ratio, limit\u001b[38;5;241m=\u001b[39m\u001b[38;5;241m1\u001b[39m)\n\u001b[1;32m      3\u001b[0m     \u001b[38;5;28;01mif\u001b[39;00m matches:\n\u001b[1;32m      4\u001b[0m         \u001b[38;5;28mprint\u001b[39m(title, matches[\u001b[38;5;241m0\u001b[39m])\n",
      "File \u001b[0;32m~/.local/lib/python3.11/site-packages/polars/lazyframe/frame.py:517\u001b[0m, in \u001b[0;36mLazyFrame.__getitem__\u001b[0;34m(self, item)\u001b[0m\n\u001b[1;32m    512\u001b[0m \u001b[38;5;28;01mif\u001b[39;00m \u001b[38;5;129;01mnot\u001b[39;00m \u001b[38;5;28misinstance\u001b[39m(item, \u001b[38;5;28mslice\u001b[39m):\n\u001b[1;32m    513\u001b[0m     msg \u001b[38;5;241m=\u001b[39m (\n\u001b[1;32m    514\u001b[0m         \u001b[38;5;124m\"\u001b[39m\u001b[38;5;124m'\u001b[39m\u001b[38;5;124mLazyFrame\u001b[39m\u001b[38;5;124m'\u001b[39m\u001b[38;5;124m object is not subscriptable (aside from slicing)\u001b[39m\u001b[38;5;124m\"\u001b[39m\n\u001b[1;32m    515\u001b[0m         \u001b[38;5;124m\"\u001b[39m\u001b[38;5;130;01m\\n\u001b[39;00m\u001b[38;5;130;01m\\n\u001b[39;00m\u001b[38;5;124mUse `select()` or `filter()` instead.\u001b[39m\u001b[38;5;124m\"\u001b[39m\n\u001b[1;32m    516\u001b[0m     )\n\u001b[0;32m--> 517\u001b[0m     \u001b[38;5;28;01mraise\u001b[39;00m \u001b[38;5;167;01mTypeError\u001b[39;00m(msg)\n\u001b[1;32m    518\u001b[0m \u001b[38;5;28;01mreturn\u001b[39;00m LazyPolarsSlice(\u001b[38;5;28mself\u001b[39m)\u001b[38;5;241m.\u001b[39mapply(item)\n",
      "\u001b[0;31mTypeError\u001b[0m: 'LazyFrame' object is not subscriptable (aside from slicing)\n\nUse `select()` or `filter()` instead."
     ]
    }
   ],
   "source": [
    "for title in iris_noid_titles:\n",
    "    matches = process.extract(title, lf_iim_null['title'].to_list(), scorer=fuzz.token_sort_ratio, limit=1)\n",
    "    if matches:\n",
    "        print(title, matches[0])"
   ]
  },
  {
   "cell_type": "code",
   "execution_count": 27,
   "metadata": {},
   "outputs": [],
   "source": [
    "def compare_title_similarity(title):\n",
    "    res = process.extractOne(title, l, scorer=fuzz.token_sort_ratio, score_cutoff=70)\n",
    "    return title, res"
   ]
  },
  {
   "cell_type": "code",
   "execution_count": 5,
   "metadata": {},
   "outputs": [
    {
     "ename": "NameError",
     "evalue": "name 'lf_im_null' is not defined",
     "output_type": "error",
     "traceback": [
      "\u001b[0;31m---------------------------------------------------------------------------\u001b[0m",
      "\u001b[0;31mNameError\u001b[0m                                 Traceback (most recent call last)",
      "Cell \u001b[0;32mIn[5], line 7\u001b[0m\n\u001b[1;32m      2\u001b[0m     res \u001b[38;5;241m=\u001b[39m process\u001b[38;5;241m.\u001b[39mextractOne(title, noid_titles_list, scorer\u001b[38;5;241m=\u001b[39mfuzz\u001b[38;5;241m.\u001b[39mtoken_sort_ratio, score_cutoff\u001b[38;5;241m=\u001b[39m\u001b[38;5;241m50\u001b[39m)\n\u001b[1;32m      3\u001b[0m     \u001b[38;5;28;01mreturn\u001b[39;00m res[\u001b[38;5;241m1\u001b[39m] \u001b[38;5;28;01mif\u001b[39;00m res \u001b[38;5;28;01melse\u001b[39;00m \u001b[38;5;28;01mNone\u001b[39;00m\n\u001b[1;32m      6\u001b[0m lf_im_null_res \u001b[38;5;241m=\u001b[39m (\n\u001b[0;32m----> 7\u001b[0m     \u001b[43mlf_im_null\u001b[49m\n\u001b[1;32m      8\u001b[0m     \u001b[38;5;241m.\u001b[39mselect([\u001b[38;5;124m'\u001b[39m\u001b[38;5;124mtitle\u001b[39m\u001b[38;5;124m'\u001b[39m])\n\u001b[1;32m      9\u001b[0m     \u001b[38;5;241m.\u001b[39mwith_columns(\n\u001b[1;32m     10\u001b[0m         (pl\u001b[38;5;241m.\u001b[39mcol(\u001b[38;5;124m'\u001b[39m\u001b[38;5;124mtitle\u001b[39m\u001b[38;5;124m'\u001b[39m)\u001b[38;5;241m.\u001b[39mmap_elements(compare_title_similarity, return_dtype\u001b[38;5;241m=\u001b[39mpl\u001b[38;5;241m.\u001b[39mInt64))\u001b[38;5;241m.\u001b[39malias(\u001b[38;5;124m'\u001b[39m\u001b[38;5;124mtitle_similarity\u001b[39m\u001b[38;5;124m'\u001b[39m)\n\u001b[1;32m     11\u001b[0m     )\n\u001b[1;32m     12\u001b[0m     \u001b[38;5;241m.\u001b[39mdrop_nulls(\u001b[38;5;124m'\u001b[39m\u001b[38;5;124mtitle_similarity\u001b[39m\u001b[38;5;124m'\u001b[39m)\n\u001b[1;32m     13\u001b[0m )\n",
      "\u001b[0;31mNameError\u001b[0m: name 'lf_im_null' is not defined"
     ]
    }
   ],
   "source": [
    "\n",
    "\n",
    "lf_im_null_res = (\n",
    "    lf_im_null\n",
    "    .select(['title'])\n",
    "    .with_columns(\n",
    "        (pl.col('title').map_elements(compare_title_similarity, return_dtype=pl.Int64)).alias('title_similarity')\n",
    "    )\n",
    "    .drop_nulls('title_similarity')\n",
    ")"
   ]
  },
  {
   "cell_type": "code",
   "execution_count": 11,
   "metadata": {},
   "outputs": [],
   "source": [
    "lf_im_null_res = (\n",
    "    lf_im_null\n",
    "    .select(['title'])\n",
    "    .filter(\n",
    "        pl.col('title') != \"\"\n",
    "    )\n",
    ")\n",
    "\n",
    "#lf_im_null.select(pl.len()).collect().head()\n",
    "l = lf_im_null_res.collect()['title']"
   ]
  },
  {
   "cell_type": "code",
   "execution_count": 12,
   "metadata": {},
   "outputs": [
    {
     "data": {
      "text/plain": [
       "polars.series.series.Series"
      ]
     },
     "execution_count": 12,
     "metadata": {},
     "output_type": "execute_result"
    }
   ],
   "source": [
    "type(l)"
   ]
  },
  {
   "cell_type": "code",
   "execution_count": 17,
   "metadata": {},
   "outputs": [
    {
     "data": {
      "text/plain": [
       "105327"
      ]
     },
     "execution_count": 17,
     "metadata": {},
     "output_type": "execute_result"
    }
   ],
   "source": [
    "len(noid_titles_list)"
   ]
  },
  {
   "cell_type": "code",
   "execution_count": 22,
   "metadata": {},
   "outputs": [
    {
     "data": {
      "application/vnd.jupyter.widget-view+json": {
       "model_id": "be776960fb5a45f599dcc6ebaaafaaaa",
       "version_major": 2,
       "version_minor": 0
      },
      "text/plain": [
       "  0%|          | 0/10 [00:00<?, ?it/s]"
      ]
     },
     "metadata": {},
     "output_type": "display_data"
    },
    {
     "name": "stdout",
     "output_type": "stream",
     "text": [
      "[('Applications of CeCl3.7H2O-NaI System Towards the Formation of Heterocyclic Structures', ('[The Interferon System: Structure, Biology, Applications].', 58.33333333333333, 4574416)), ('Radioattività naturale delle materie prime ceramiche e relative condizioni di esposizione occupazionale nell’industria', None), ('Gli istituti generali di semplificazione: la conferenza di servizi e le sue trasformazioni', ('Transformation Consistent Self-ensembling Model For Semi-supervised Medical Image Segmentation', 51.08695652173913, 5867090)), (\"Commento all’art.8 d.lgs. 154/2004 - Procedimenti ai sensi dell'articolo 88 del Trattato istitutivo della Comunitaà europea\", None), ('2005: agricoltura centro o fine del mondo?', ('Agricultural Policy Monitoring And Evaluation 2020', 54.347826086956516, 5804189)), ('Aspetti emotivi e comportamentali dell’improvvisazione jazzistica: il punto di vista del musicista', None), ('Phaseguide Structures for Pipette Actuated Laminar Flow Based Selective Sample Recovery', ('A Blind Adaptive CDMA Receiver Based On State Space Structures', 56.3758389261745, 10078822)), ('Studio del ciclo biologico di Myxobolus lentisuturalis (Myxozoa, Myxobolidae), parassita di Carassius auratus auratus.', None), ('The Other Side of the Timing Equation: a Result of Clock Faults', ('Verifying Search Results Over Web Collections', 55.55555555555556, 7185721)), ('Ritratto di Augusto capite velato', ('Augusto Pinochet', 53.06122448979591, 11738565))]\n"
     ]
    }
   ],
   "source": [
    "from tqdm.contrib.concurrent import process_map\n",
    "\n",
    "\n",
    "core_num = multiprocessing.cpu_count()\n",
    "\n",
    "r = process_map(compare_title_similarity, noid_titles_list[:10], max_workers=core_num, chunksize=1)\n",
    "\n",
    "print(r)\n"
   ]
  },
  {
   "cell_type": "code",
   "execution_count": 23,
   "metadata": {},
   "outputs": [
    {
     "data": {
      "text/plain": [
       "[('Applications of CeCl3.7H2O-NaI System Towards the Formation of Heterocyclic Structures',\n",
       "  ('[The Interferon System: Structure, Biology, Applications].',\n",
       "   58.33333333333333,\n",
       "   4574416)),\n",
       " ('Radioattività naturale delle materie prime ceramiche e relative condizioni di esposizione occupazionale nell’industria',\n",
       "  None),\n",
       " ('Gli istituti generali di semplificazione: la conferenza di servizi e le sue trasformazioni',\n",
       "  ('Transformation Consistent Self-ensembling Model For Semi-supervised Medical Image Segmentation',\n",
       "   51.08695652173913,\n",
       "   5867090)),\n",
       " (\"Commento all’art.8 d.lgs. 154/2004 - Procedimenti ai sensi dell'articolo 88 del Trattato istitutivo della Comunitaà europea\",\n",
       "  None),\n",
       " ('2005: agricoltura centro o fine del mondo?',\n",
       "  ('Agricultural Policy Monitoring And Evaluation 2020',\n",
       "   54.347826086956516,\n",
       "   5804189)),\n",
       " ('Aspetti emotivi e comportamentali dell’improvvisazione jazzistica: il punto di vista del musicista',\n",
       "  None),\n",
       " ('Phaseguide Structures for Pipette Actuated Laminar Flow Based Selective Sample Recovery',\n",
       "  ('A Blind Adaptive CDMA Receiver Based On State Space Structures',\n",
       "   56.3758389261745,\n",
       "   10078822)),\n",
       " ('Studio del ciclo biologico di Myxobolus lentisuturalis (Myxozoa, Myxobolidae), parassita di Carassius auratus auratus.',\n",
       "  None),\n",
       " ('The Other Side of the Timing Equation: a Result of Clock Faults',\n",
       "  ('Verifying Search Results Over Web Collections',\n",
       "   55.55555555555556,\n",
       "   7185721)),\n",
       " ('Ritratto di Augusto capite velato',\n",
       "  ('Augusto Pinochet', 53.06122448979591, 11738565))]"
      ]
     },
     "execution_count": 23,
     "metadata": {},
     "output_type": "execute_result"
    }
   ],
   "source": [
    "r"
   ]
  },
  {
   "cell_type": "code",
   "execution_count": 20,
   "metadata": {},
   "outputs": [
    {
     "data": {
      "text/plain": [
       "['Applications of CeCl3.7H2O-NaI System Towards the Formation of Heterocyclic Structures',\n",
       " 'Radioattività naturale delle materie prime ceramiche e relative condizioni di esposizione occupazionale nell’industria',\n",
       " 'Gli istituti generali di semplificazione: la conferenza di servizi e le sue trasformazioni',\n",
       " \"Commento all’art.8 d.lgs. 154/2004 - Procedimenti ai sensi dell'articolo 88 del Trattato istitutivo della Comunitaà europea\",\n",
       " '2005: agricoltura centro o fine del mondo?',\n",
       " 'Aspetti emotivi e comportamentali dell’improvvisazione jazzistica: il punto di vista del musicista',\n",
       " 'Phaseguide Structures for Pipette Actuated Laminar Flow Based Selective Sample Recovery',\n",
       " 'Studio del ciclo biologico di Myxobolus lentisuturalis (Myxozoa, Myxobolidae), parassita di Carassius auratus auratus.',\n",
       " 'The Other Side of the Timing Equation: a Result of Clock Faults',\n",
       " 'Ritratto di Augusto capite velato']"
      ]
     },
     "execution_count": 20,
     "metadata": {},
     "output_type": "execute_result"
    }
   ],
   "source": [
    "noid_titles_list[:10]"
   ]
  },
  {
   "cell_type": "code",
   "execution_count": 19,
   "metadata": {},
   "outputs": [
    {
     "data": {
      "text/plain": [
       "'[The Interferon System: Structure, Biology, Applications].'"
      ]
     },
     "execution_count": 19,
     "metadata": {},
     "output_type": "execute_result"
    }
   ],
   "source": [
    "l[4574416]"
   ]
  },
  {
   "cell_type": "markdown",
   "metadata": {},
   "source": [
    "### RQ1. What is the coverage of the publications available in IRIS (strictly concerning research conducted within the University of Bologna) in OpenCitations Meta?"
   ]
  },
  {
   "cell_type": "code",
   "execution_count": 16,
   "metadata": {},
   "outputs": [
    {
     "name": "stdout",
     "output_type": "stream",
     "text": [
      "shape: (1, 1)\n",
      "┌────────┐\n",
      "│ len    │\n",
      "│ ---    │\n",
      "│ u32    │\n",
      "╞════════╡\n",
      "│ 117764 │\n",
      "└────────┘\n",
      "115776\n",
      "1078\n",
      "910\n"
     ]
    }
   ],
   "source": [
    "lf_iim = pl.scan_parquet('data/iris_in_meta/*.parquet')\n",
    "#lf_iim.head().collect()\n",
    "print(lf_iim.select(pl.len()).collect())\n",
    "print(lf_iim.filter(pl.col('id').str.contains('doi')).select(pl.len()).collect().item())\n",
    "print(lf_iim.filter(pl.col('id').str.contains('pmid')).select(pl.len()).collect().item())\n",
    "print(lf_iim.filter(pl.col('id').str.contains('isbn')).select(pl.len()).collect().item())"
   ]
  },
  {
   "cell_type": "code",
   "execution_count": 17,
   "metadata": {},
   "outputs": [
    {
     "data": {
      "text/html": [
       "<div><style>\n",
       ".dataframe > thead > tr,\n",
       ".dataframe > tbody > tr {\n",
       "  text-align: right;\n",
       "  white-space: pre-wrap;\n",
       "}\n",
       "</style>\n",
       "<small>shape: (5, 5)</small><table border=\"1\" class=\"dataframe\"><thead><tr><th>id</th><th>title</th><th>type</th><th>omid</th><th>iris_id</th></tr><tr><td>str</td><td>str</td><td>str</td><td>str</td><td>i32</td></tr></thead><tbody><tr><td>&quot;doi:10.1002/widm.1511&quot;</td><td>&quot;A White Paper On Good Research Practices In Benchmarking: The Case Of Cluster Analysis&quot;</td><td>&quot;journal article&quot;</td><td>&quot;omid:br/06510108547&quot;</td><td>776472</td></tr><tr><td>&quot;doi:10.1093/annonc/mdx033&quot;</td><td>&quot;European Cancer Mortality Predictions For The Year 2017, With Focus On Lung Cancer&quot;</td><td>&quot;journal article&quot;</td><td>&quot;omid:br/062503328173&quot;</td><td>388298</td></tr><tr><td>&quot;doi:10.1016/j.jmatprotec.2017.10.019&quot;</td><td>&quot;High Throughput Hybrid Laser Assisted Machining Of Sintered Reaction Bonded Silicon Nitride&quot;</td><td>&quot;journal article&quot;</td><td>&quot;omid:br/062503328812&quot;</td><td>320811</td></tr><tr><td>&quot;doi:10.1093/annonc/mdw306&quot;</td><td>&quot;Global Trends And Predictions In Ovarian Cancer Mortality&quot;</td><td>&quot;journal article&quot;</td><td>&quot;omid:br/062503328364&quot;</td><td>632727</td></tr><tr><td>&quot;doi:10.1093/annonc/mdw430&quot;</td><td>&quot;Short, Full-Dose Adjuvant Chemotherapy (CT) In High-Risk Adult Soft Tissue Sarcomas (STS): Long-Ter…</td><td>&quot;journal article&quot;</td><td>&quot;omid:br/062503328314&quot;</td><td>301915</td></tr></tbody></table></div>"
      ],
      "text/plain": [
       "shape: (5, 5)\n",
       "┌───────────────────────┬───────────────────────┬─────────────────┬──────────────────────┬─────────┐\n",
       "│ id                    ┆ title                 ┆ type            ┆ omid                 ┆ iris_id │\n",
       "│ ---                   ┆ ---                   ┆ ---             ┆ ---                  ┆ ---     │\n",
       "│ str                   ┆ str                   ┆ str             ┆ str                  ┆ i32     │\n",
       "╞═══════════════════════╪═══════════════════════╪═════════════════╪══════════════════════╪═════════╡\n",
       "│ doi:10.1002/widm.1511 ┆ A White Paper On Good ┆ journal article ┆ omid:br/06510108547  ┆ 776472  │\n",
       "│                       ┆ Research Practices In ┆                 ┆                      ┆         │\n",
       "│                       ┆ Benchmarking: The     ┆                 ┆                      ┆         │\n",
       "│                       ┆ Case Of Cluster       ┆                 ┆                      ┆         │\n",
       "│                       ┆ Analysis              ┆                 ┆                      ┆         │\n",
       "│ doi:10.1093/annonc/md ┆ European Cancer       ┆ journal article ┆ omid:br/062503328173 ┆ 388298  │\n",
       "│ x033                  ┆ Mortality Predictions ┆                 ┆                      ┆         │\n",
       "│                       ┆ For The Year 2017,    ┆                 ┆                      ┆         │\n",
       "│                       ┆ With Focus On Lung    ┆                 ┆                      ┆         │\n",
       "│                       ┆ Cancer                ┆                 ┆                      ┆         │\n",
       "│ doi:10.1016/j.jmatpro ┆ High Throughput       ┆ journal article ┆ omid:br/062503328812 ┆ 320811  │\n",
       "│ tec.2017.10.019       ┆ Hybrid Laser Assisted ┆                 ┆                      ┆         │\n",
       "│                       ┆ Machining Of Sintered ┆                 ┆                      ┆         │\n",
       "│                       ┆ Reaction Bonded       ┆                 ┆                      ┆         │\n",
       "│                       ┆ Silicon Nitride       ┆                 ┆                      ┆         │\n",
       "│ doi:10.1093/annonc/md ┆ Global Trends And     ┆ journal article ┆ omid:br/062503328364 ┆ 632727  │\n",
       "│ w306                  ┆ Predictions In        ┆                 ┆                      ┆         │\n",
       "│                       ┆ Ovarian Cancer        ┆                 ┆                      ┆         │\n",
       "│                       ┆ Mortality             ┆                 ┆                      ┆         │\n",
       "│ doi:10.1093/annonc/md ┆ Short, Full-Dose      ┆ journal article ┆ omid:br/062503328314 ┆ 301915  │\n",
       "│ w430                  ┆ Adjuvant Chemotherapy ┆                 ┆                      ┆         │\n",
       "│                       ┆ (CT) In High-Risk     ┆                 ┆                      ┆         │\n",
       "│                       ┆ Adult Soft Tissue     ┆                 ┆                      ┆         │\n",
       "│                       ┆ Sarcomas (STS):       ┆                 ┆                      ┆         │\n",
       "│                       ┆ Long-Term…            ┆                 ┆                      ┆         │\n",
       "└───────────────────────┴───────────────────────┴─────────────────┴──────────────────────┴─────────┘"
      ]
     },
     "execution_count": 17,
     "metadata": {},
     "output_type": "execute_result"
    }
   ],
   "source": [
    "lf_iim.head().collect()"
   ]
  },
  {
   "cell_type": "code",
   "execution_count": 19,
   "metadata": {},
   "outputs": [],
   "source": [
    "doi_join = lf_iim.filter(pl.col('id').str.contains('doi')).select('id').collect()['id'].to_list()"
   ]
  },
  {
   "cell_type": "code",
   "execution_count": 35,
   "metadata": {},
   "outputs": [
    {
     "data": {
      "text/plain": [
       "False"
      ]
     },
     "execution_count": 35,
     "metadata": {},
     "output_type": "execute_result"
    }
   ],
   "source": [
    "'doi:10.1007/jhep02(2013)043' in s"
   ]
  },
  {
   "cell_type": "code",
   "execution_count": 56,
   "metadata": {},
   "outputs": [
    {
     "data": {
      "text/plain": [
       "{'doi:10.1007/jhep02(2013)043',\n",
       " 'doi:10.1109/jestie.2022.3165985',\n",
       " 'doi:10.1109/cseet.2017.37',\n",
       " 'doi:10.1103/physrevlett.122.132003',\n",
       " 'doi:10.1115/fedsm2014-21581',\n",
       " 'doi:10.1007/jhep08(2020)047',\n",
       " 'doi:10.1128/aac.01586-13',\n",
       " 'doi:10.1109/tns.2006.874546',\n",
       " 'doi:10.1007/jhep05(2021)093',\n",
       " 'doi:10.1109/tdei.2007.4339484',\n",
       " 'doi:10.1142/s0217751x15300227',\n",
       " 'doi:10.1016/s0140-6736(94)92859-2',\n",
       " 'doi:10.3280/fr2013-001006',\n",
       " 'doi:10.1007/jhep07(2021)167',\n",
       " 'doi:10.3167/cont.2020.080205',\n",
       " 'doi:10.1142/s0219519405001631',\n",
       " 'doi:10.1007/jhep09(2012)041',\n",
       " 'doi:10.1158/0008-5472.can-09-2548',\n",
       " 'doi:10.1016/b978-0-12-811865-8.00009-x',\n",
       " 'doi:10.1103/physrevb.100.174416',\n",
       " 'doi:10.1109/ursigass.2011.6050536',\n",
       " 'doi:10.1056/nejmoa1402551',\n",
       " 'doi:10.23736/s2784-8671.21.06928-5',\n",
       " 'doi:10.1128/aac.01291-12',\n",
       " 'doi:10.17660/actahortic.2009.831.16',\n",
       " 'doi:10.1109/ijcb48548.2020.9304903',\n",
       " 'doi:10.1109/cipls.2014.7007157',\n",
       " 'doi:10.4230/lipics.concur.2019.37',\n",
       " 'doi:10.1109/aicas.2019.8771527',\n",
       " 'doi:10.1103/physrevd.95.072001',\n",
       " 'doi:10.1002/14651858.cd006308.pub4',\n",
       " 'doi:10.1109/pimrc.2018.8580880',\n",
       " 'doi:10.1002/2017tc004763',\n",
       " 'doi:10.1007/jhep03(2020)111',\n",
       " 'doi:10.1103/physrevd.82.112004',\n",
       " 'doi:10.1109/tie.2007.900358',\n",
       " 'doi:10.4171/ggd/653',\n",
       " 'doi:10.1590/s1413-86702010000300019',\n",
       " 'doi:10.1103/physrevb.101.220502',\n",
       " 'doi:10.1103/physrevd.108.012020',\n",
       " 'doi:10.1109/eeeic.2019.8783275',\n",
       " 'doi:10.1109/tasc.2009.2039927',\n",
       " 'doi:10.1109/tkde.2012.71',\n",
       " 'doi:10.1109/ic2e.2018.00061',\n",
       " 'doi:10.1137/18m120141x',\n",
       " 'doi:10.1017/s1759078713000445',\n",
       " 'doi:10.1109/istc.2012.6325195',\n",
       " 'doi:10.17660/actahortic.2017.1177.7',\n",
       " 'doi:10.1109/tdei.2015.005613',\n",
       " 'doi:10.1103/physrevd.93.112015',\n",
       " 'doi:10.1007/jhep05(2017)058',\n",
       " 'doi:10.1109/cleoe-eqec.2019.8872452',\n",
       " 'doi:10.1109/glocom.2007.988',\n",
       " 'doi:10.1029/2022jb024265',\n",
       " 'doi:10.4204/eptcs.302.1',\n",
       " 'doi:10.1103/physrevlett.121.092003',\n",
       " 'doi:10.1017/s0022050716000565',\n",
       " 'doi:10.1023/a:1011180524985',\n",
       " 'doi:10.1109/distra.2017.8167672',\n",
       " 'doi:10.1029/2006jd007421',\n",
       " 'doi:10.1103/physrevd.93.122008',\n",
       " 'doi:10.1504/ijesb.2015.066153',\n",
       " 'doi:10.2119/2007-00095.alleva',\n",
       " 'doi:10.1097/aog.0000000000001086',\n",
       " 'doi:10.1142/s0219519423400249',\n",
       " 'doi:10.1109/pimrc.2018.8580866',\n",
       " 'doi:10.1109/tns.2007.913484',\n",
       " 'doi:10.1109/optim.2008.4602421',\n",
       " 'doi:10.1007/jhep12(2013)030',\n",
       " 'doi:10.23736/s0392-0488.18.05908-4',\n",
       " 'doi:10.1088/1748-0221/5/03/t03007',\n",
       " 'doi:10.1109/imtc.2010.5488033',\n",
       " 'doi:10.1109/icccn.2011.6006042',\n",
       " 'doi:10.1016/b978-0-323-91810-7.00011-x',\n",
       " 'doi:10.17660/actahortic.2018.1194.200',\n",
       " 'doi:10.1109/mobilecloud.2017.8',\n",
       " 'doi:10.46298/lmcs-17(3:25)2021',\n",
       " 'doi:10.1097/ftd.0000000000000683',\n",
       " 'doi:10.1016/s0045-7825(99)00302-3',\n",
       " 'doi:10.1097/iae.0000000000002707',\n",
       " 'doi:10.14311/app.2016.3.0019',\n",
       " 'doi:10.1103/physrevd.87.052012',\n",
       " 'doi:10.1142/s0219519419500490',\n",
       " 'doi:10.1530/eje-20-0725',\n",
       " 'doi:10.1103/physrevb.79.075302',\n",
       " 'doi:10.1142/s0129065712500037',\n",
       " 'doi:10.3280/ses2015-002015',\n",
       " 'doi:10.17660/actahortic.2023.1369.14',\n",
       " 'doi:10.1080/0020174x.2019.1667865',\n",
       " 'doi:10.1109/tuffc.2021.3106040',\n",
       " 'doi:10.1016/s0169-555x(02)00355-0',\n",
       " 'doi:10.1109/jiot.2016.2521170',\n",
       " 'doi:10.1109/tia.2016.2526969',\n",
       " 'doi:10.13128/bae-20086',\n",
       " 'doi:10.1109/isc2.2016.7580822',\n",
       " 'doi:10.1109/essderc.2013.6818824',\n",
       " 'doi:10.1007/jhep11(2015)082',\n",
       " 'doi:10.1109/tpwrd.2005.859273',\n",
       " 'doi:10.1039/c8cc03777a',\n",
       " 'doi:10.1029/2020wr028286',\n",
       " 'doi:10.1109/socc56010.2022.9908096',\n",
       " 'doi:10.1103/physrevlett.105.101801',\n",
       " 'doi:10.1017/s0022029907002646',\n",
       " 'doi:10.1007/jhep06(2012)011',\n",
       " 'doi:10.3233/jad-200632',\n",
       " 'doi:10.1007/jhep09(2016)001',\n",
       " 'doi:10.1109/eeeic.2019.8783843',\n",
       " 'doi:10.1007/bf02817077',\n",
       " 'doi:10.1142/s021812741102977x',\n",
       " 'doi:10.1097/wad.0b013e3181ad378c',\n",
       " 'doi:10.1016/0042-6822(89)90617-x',\n",
       " 'doi:10.1109/esscirc.2016.7598324',\n",
       " 'doi:10.1109/tgcn.2018.2885443',\n",
       " 'doi:10.1107/s2053230x15003878',\n",
       " 'doi:10.1023/a:1025676907942',\n",
       " 'doi:10.1109/percomw.2019.8730736',\n",
       " 'doi:10.1007/jhep10(2018)031',\n",
       " 'doi:10.1080/1472586x.2023.2239759',\n",
       " 'doi:10.5194/isprs-archives-xlii-2-w11-427-2019',\n",
       " 'doi:10.1016/s1474-4422(21)00176-9',\n",
       " 'doi:10.1007/jhep07(2022)099',\n",
       " 'doi:10.1109/ficloud.2017.58',\n",
       " 'doi:10.3280/sf2013-001008',\n",
       " 'doi:10.1108/rpj-10-2022-0361',\n",
       " 'doi:10.1922/ejprd_01550monaco08',\n",
       " 'doi:10.3182/20110828-6-it-1002.02133',\n",
       " 'doi:10.1109/mic.2013.127',\n",
       " 'doi:10.4315/0362-028x.jfp-12-028',\n",
       " 'doi:10.1017/s1743921320002434',\n",
       " 'doi:10.1504/ijaudit.2013.057729',\n",
       " 'doi:10.1109/icuwb.2011.6058891',\n",
       " 'doi:10.1002/14651858.cd008397.pub2',\n",
       " 'doi:10.1103/physrevlett.95.191801',\n",
       " 'doi:10.1109/rtsi.2016.7740616',\n",
       " 'doi:10.1109/tdei.2004.1349780',\n",
       " 'doi:10.1103/physrevlett.131.091802',\n",
       " 'doi:10.1264/jsme2.me15164',\n",
       " 'doi:10.1088/0004-637x/704/1/l34',\n",
       " 'doi:10.1109/tac.2017.2707536',\n",
       " 'doi:10.1175/jam2347.1',\n",
       " 'doi:10.1007/bf02443087',\n",
       " 'doi:10.1109/lcomm.2017.2787051',\n",
       " 'doi:10.1088/1748-0221/4/04/p04018',\n",
       " 'doi:10.1103/physrevlett.116.222302',\n",
       " 'doi:10.1103/physrevd.75.032003',\n",
       " 'doi:10.1109/twc.2022.3151918',\n",
       " 'doi:10.1097/qad.0000000000002663',\n",
       " 'doi:10.1109/mcom.2013.6553679',\n",
       " 'doi:10.4028/www.scientific.net/msf.457-460.1081',\n",
       " 'doi:10.1103/physrevd.64.082001',\n",
       " 'doi:10.1016/s1474-4422(20)30273-8',\n",
       " 'doi:10.34067/kid.0006612021',\n",
       " 'doi:10.1103/physrevmaterials.7.084409',\n",
       " 'doi:10.1186/1475-925x-11-61',\n",
       " 'doi:10.1016/s0969-8043(96)00180-7',\n",
       " 'doi:10.1109/tnet.2017.2729165',\n",
       " 'doi:10.1103/physrevd.78.112001',\n",
       " 'doi:10.1103/physrevd.83.071102',\n",
       " 'doi:10.1107/s0909049598015970',\n",
       " 'doi:10.1103/physrevc.97.024605',\n",
       " 'doi:10.1007/jhep03(2017)032',\n",
       " 'doi:10.1080/0092623x.2022.2098214',\n",
       " 'doi:10.1109/icnsc.2017.8000070',\n",
       " 'doi:10.1285/i1825229xv3n3p32',\n",
       " 'doi:10.1212/wnl.0b013e31826d5f72',\n",
       " 'doi:10.1109/icpadm49635.2021.9493957',\n",
       " 'doi:10.1109/ifipnetworking.2015.7145338',\n",
       " 'doi:10.1097/sla.0b013e3181b1e72a',\n",
       " 'doi:10.3233/jae-191103',\n",
       " 'doi:10.1007/jhep06(2018)100',\n",
       " 'doi:10.1103/physrevd.88.011101',\n",
       " 'doi:10.1109/ceidp55452.2022.9985293',\n",
       " 'doi:10.1029/2003wr002343',\n",
       " 'doi:10.1142/s1793525319500420',\n",
       " 'doi:10.1088/0004-637x/696/2/1195',\n",
       " 'doi:10.1128/aac.49.12.4843-4852.2005',\n",
       " 'doi:10.1108/jd-08-2020-0144',\n",
       " 'doi:10.1109/ccnc.2019.8651786',\n",
       " 'doi:10.1007/bf02083581',\n",
       " 'doi:10.1103/physrevd.73.092002',\n",
       " 'doi:10.1109/tasc.2014.2361270',\n",
       " 'doi:10.1115/ices2009-76108',\n",
       " 'doi:10.1007/jhep12(2014)079',\n",
       " 'doi:10.1103/physrevb.100.104528',\n",
       " 'doi:10.1090/s0002-9947-2011-05395-x',\n",
       " 'doi:10.1109/wcnc.2005.1424576',\n",
       " 'doi:10.1109/mmm.2021.3109554',\n",
       " 'doi:10.3816/clm.2007.n.042',\n",
       " 'doi:10.1111/j.1532-950x.2012.01079.x',\n",
       " 'doi:10.1007/jhep03(2021)011',\n",
       " 'doi:10.1109/iciw.2009.26',\n",
       " 'doi:10.1590/s0100-204x2013000700010',\n",
       " 'doi:10.1016/b978-0-12-802733-2.00026-8',\n",
       " 'doi:10.1109/tbme.2005.846728',\n",
       " 'doi:10.1108/ejim-11-2022-0609',\n",
       " 'doi:10.3847/0004-637x/819/1/44',\n",
       " 'doi:10.23919/eucap57121.2023.10133427',\n",
       " 'doi:10.1016/s0378-3782(13)70016-1',\n",
       " 'doi:10.1007/jhep04(2016)041',\n",
       " 'doi:10.1109/sbfoton-iopc.2019.8910201',\n",
       " 'doi:10.1109/tcst.2007.899714',\n",
       " 'doi:10.1088/0004-637x/779/1/7',\n",
       " 'doi:10.1097/hnp.0000000000000253',\n",
       " 'doi:10.1017/cbo9780511627033.008',\n",
       " 'doi:10.1109/wcnc.2009.4917853',\n",
       " 'doi:10.1007/jhep01(2019)016',\n",
       " 'doi:10.1109/ismsit.2019.8932924',\n",
       " 'doi:10.1093/mnras/sty344',\n",
       " 'doi:10.5194/isprs-archives-xlii-2-w9-623-2019',\n",
       " 'doi:10.1017/s0007485319000130',\n",
       " 'doi:10.1142/s0219519411004551',\n",
       " 'doi:10.2495/sdp-v8-n2-140-157',\n",
       " 'doi:10.1109/smartcomp52413.2021.00083',\n",
       " 'doi:10.1088/0004-637x/753/2/155',\n",
       " 'doi:10.1109/icps48405.2020.9274694',\n",
       " 'doi:10.1016/b978-0-08-096532-1.00311-3',\n",
       " 'doi:10.1103/physrevd.79.052011',\n",
       " 'doi:10.23919/date51398.2021.9474087',\n",
       " 'doi:10.1109/e-science.2007.59',\n",
       " 'doi:10.1056/nejmoa1516282',\n",
       " 'doi:10.1103/physrevd.93.032009',\n",
       " 'doi:10.1109/cvpr52688.2022.00885',\n",
       " 'doi:10.1109/rtsi.2016.7740575',\n",
       " 'doi:10.1007/jhep07(2020)115',\n",
       " 'doi:10.1200/jco.21.00217',\n",
       " 'doi:10.1109/whispers.2014.8077544',\n",
       " 'doi:10.1103/physrevd.99.012001',\n",
       " 'doi:10.1109/bigdatacongress.2015.85',\n",
       " 'doi:10.1103/physrevd.83.071103',\n",
       " 'doi:10.1108/bfj-05-2020-0420',\n",
       " 'doi:10.3303/cet1227035',\n",
       " 'doi:10.7338/pls2014512s1/07',\n",
       " 'doi:10.1109/access.2023.3276240',\n",
       " 'doi:10.1109/cvpr42600.2020.00471',\n",
       " 'doi:10.1128/iai.01216-08',\n",
       " 'doi:10.1097/olq.0000000000000482',\n",
       " 'doi:10.1109/access.2019.2938539',\n",
       " 'doi:10.5194/isprs-annals-iv-2-w2-221-2017',\n",
       " 'doi:10.21468/scipostphys.4.6.041',\n",
       " 'doi:10.1097/cej.0000000000000613',\n",
       " 'doi:10.1097/sla.0000000000005126',\n",
       " 'doi:10.1109/ias.2006.256770',\n",
       " 'doi:10.6035/monti.2016.ne3.1',\n",
       " 'doi:10.1103/physrevd.104.l091102',\n",
       " 'doi:10.1016/s0140-6736(03)12192-7',\n",
       " 'doi:10.1088/0004-637x/754/2/121',\n",
       " 'doi:10.1017/s0033291717002902',\n",
       " 'doi:10.1007/jhep01(2014)033',\n",
       " 'doi:10.1103/physrevlett.100.071801',\n",
       " 'doi:10.1163/187254611x566828',\n",
       " 'doi:10.2147/nss.s277647',\n",
       " 'doi:10.1103/physrevd.78.032005',\n",
       " 'doi:10.4230/lipics.icalp.2020.108',\n",
       " 'doi:10.1007/jhep12(2012)113',\n",
       " 'doi:10.1108/ijwbr-07-2017-0047',\n",
       " 'doi:10.1103/physrevd.99.032014',\n",
       " 'doi:10.3109/0167482x.2011.589017',\n",
       " 'doi:10.5665/sleep.1280',\n",
       " 'doi:10.1016/s2468-1253(21)00098-4',\n",
       " 'doi:10.3847/0004-637x/820/1/72',\n",
       " 'doi:10.1080/1360080x.2016.1182668',\n",
       " 'doi:10.1016/b978-0-12-378612-8.00431-5',\n",
       " 'doi:10.1158/0008-5472.can-20-0471',\n",
       " 'doi:10.1016/s2352-3026(15)00254-9',\n",
       " 'doi:10.1017/s0263574718000413',\n",
       " 'doi:10.1103/physreve.97.062152',\n",
       " 'doi:10.1109/tap.2019.2894271',\n",
       " 'doi:10.5301/jabfm.5000152',\n",
       " 'doi:10.1029/2005jc003174',\n",
       " 'doi:10.1016/s1470-2045(08)70284-5',\n",
       " 'doi:10.1007/jhep09(2011)018',\n",
       " 'doi:10.1212/wnl.57.1.62',\n",
       " 'doi:10.1088/0004-637x/707/1/612',\n",
       " 'doi:10.1016/s0079-1946(97)00056-6',\n",
       " 'doi:10.1081/pde-200037752',\n",
       " 'doi:10.1007/jhep04(2021)081',\n",
       " 'doi:10.1080/0907676x.2020.1860097',\n",
       " 'doi:10.1088/1748-0221/5/03/p03007',\n",
       " 'doi:10.1088/1748-0221/11/05/p05013',\n",
       " 'doi:10.1103/physrevd.69.011103',\n",
       " 'doi:10.1103/physrevd.87.114015',\n",
       " 'doi:10.1017/s0959774315000190',\n",
       " 'doi:10.1158/0008-5472.can-09-4100',\n",
       " 'doi:10.1109/ulis.2014.6813919',\n",
       " 'doi:10.1523/jneurosci.1223-04.2004',\n",
       " 'doi:10.1158/0008-5472.can-10-0701',\n",
       " 'doi:10.1109/estel.2012.6400191',\n",
       " 'doi:10.1160/th10-01-0002',\n",
       " 'doi:10.1108/jic-08-2018-0132',\n",
       " 'doi:10.1109/spacomm.2009.10',\n",
       " 'doi:10.1249/mss.0000000000000762',\n",
       " 'doi:10.1016/s0011-8524(13)70018-7',\n",
       " 'doi:10.1103/physrevlett.108.151801',\n",
       " 'doi:10.1108/ijchm-09-2020-1102',\n",
       " 'doi:10.1175/jcli-d-16-0292.1',\n",
       " 'doi:10.1039/c7ra10699h',\n",
       " 'doi:10.1109/icccn.2012.6289209',\n",
       " 'doi:10.1109/sefm.2007.13',\n",
       " 'doi:10.1097/yic.0000000000000317',\n",
       " 'doi:10.1142/s0219199719500780',\n",
       " 'doi:10.1016/s0014-827x(01)01021-7',\n",
       " 'doi:10.1109/date.2010.5456924',\n",
       " 'doi:10.1109/tpwrd.2009.2021038',\n",
       " 'doi:10.1103/physrevlett.107.201804',\n",
       " 'doi:10.1103/physrevlett.128.221801',\n",
       " 'doi:10.1103/physrevlett.130.260401',\n",
       " 'doi:10.1109/ulis.2009.4897538',\n",
       " 'doi:10.3280/maco2013-su3006',\n",
       " 'doi:10.1097/igc.0b013e31824d836c',\n",
       " 'doi:10.1109/jlt.2007.896790',\n",
       " 'doi:10.1016/0022-510x(95)00321-r',\n",
       " 'doi:10.1097/mat.0000000000000446',\n",
       " 'doi:10.1177/0961463x15596702',\n",
       " 'doi:10.1109/wd.2012.6402812',\n",
       " 'doi:10.1007/jhep05(2018)127',\n",
       " 'doi:10.3280/sf2015-001013',\n",
       " 'doi:10.1007/jhep05(2014)069',\n",
       " 'doi:10.1142/s0219887816500900',\n",
       " 'doi:10.1109/msp.2012.152',\n",
       " 'doi:10.1097/mog.0000000000000070',\n",
       " 'doi:10.1007/bf02050016',\n",
       " 'doi:10.1103/physrevd.96.112004',\n",
       " 'doi:10.1109/tns.2007.903814',\n",
       " 'doi:10.1108/prr-10-2016-0004',\n",
       " 'doi:10.1109/tnn.2008.2006326',\n",
       " 'doi:10.1097/mcg.0b013e3181c2c7a5',\n",
       " 'doi:10.3109/1040841x.2013.813900',\n",
       " 'doi:10.17660/actahortic.2016.1144.5',\n",
       " 'doi:10.3847/0004-637x/831/2/145',\n",
       " 'doi:10.17660/actahortic.2022.1352.49',\n",
       " 'doi:10.4171/jems/988',\n",
       " 'doi:10.1007/jhep03(2011)024',\n",
       " 'doi:10.3174/ajnr.a2550',\n",
       " 'doi:10.1109/eic.2016.7548634',\n",
       " 'doi:10.1109/wemdcd.2013.6525172',\n",
       " 'doi:10.1109/glocomw.2016.7848895',\n",
       " 'doi:10.1109/afrcon.2013.6757735',\n",
       " 'doi:10.1109/lcomm.2004.825734',\n",
       " 'doi:10.1088/0004-637x/787/1/15',\n",
       " 'doi:10.1097/cej.0b013e32835b6a43',\n",
       " 'doi:10.1088/2041-8205/783/1/l20',\n",
       " 'doi:10.1109/icem49940.2020.9270958',\n",
       " 'doi:10.1029/2021wr031549',\n",
       " 'doi:10.1017/s026646660809049x',\n",
       " 'doi:10.1016/s0140-6736(18)30207-1',\n",
       " 'doi:10.23736/s0026-4970.19.04259-6',\n",
       " 'doi:10.1088/0004-637x/697/1/115',\n",
       " 'doi:10.1103/physrevc.86.014907',\n",
       " 'doi:10.1097/cmr.0000000000000160',\n",
       " 'doi:10.1109/iedm.2016.7838557',\n",
       " 'doi:10.1109/tie.2007.905929',\n",
       " 'doi:10.1144/m37.10',\n",
       " 'doi:10.1029/2007gl032386',\n",
       " 'doi:10.23919/date.2017.7927008',\n",
       " 'doi:10.1103/physrevd.89.072003',\n",
       " 'doi:10.1109/iwssc.2007.4409411',\n",
       " 'doi:10.1080/1350293x.2014.912895',\n",
       " 'doi:10.1142/s0219887820502011',\n",
       " 'doi:10.1007/jhep02(2017)135',\n",
       " 'doi:10.1103/physrevc.92.034903',\n",
       " 'doi:10.1097/coc.0b013e3181d31f02',\n",
       " 'doi:10.1016/0169-023x(94)90040-x',\n",
       " 'doi:10.1109/ceidp.2014.6995878',\n",
       " 'doi:10.1137/20m136757x',\n",
       " 'doi:10.1016/s0963-9969(98)00050-7',\n",
       " 'doi:10.1017/s000711450999167x',\n",
       " 'doi:10.1016/s0370-2693(00)00840-6',\n",
       " 'doi:10.2147/nss.s275931',\n",
       " 'doi:10.1109/asms/spsc55670.2022.9914734',\n",
       " 'doi:10.1134/s1063776119100066',\n",
       " 'doi:10.1007/jhep08(2019)133',\n",
       " 'doi:10.2807/1560-7917.es.2020.25.18.2000600',\n",
       " 'doi:10.1214/18-ejs1458',\n",
       " 'doi:10.1515/jas-2015-0024',\n",
       " 'doi:10.1680/geot.14.p.091',\n",
       " 'doi:10.15274/inr-2014-10078',\n",
       " 'doi:10.1103/physreve.85.045302',\n",
       " 'doi:10.3280/ecag2019-001003',\n",
       " 'doi:10.23736/s0392-0488.18.05999-0',\n",
       " 'doi:10.1088/1748-0221/11/05/p05014',\n",
       " 'doi:10.17660/actahortic.2018.1193.9',\n",
       " 'doi:10.5414/cnp73403',\n",
       " 'doi:10.1017/s0007485307004920',\n",
       " 'doi:10.1128/aac.00603-11',\n",
       " 'doi:10.1212/wnl.0000000000001329',\n",
       " 'doi:10.1007/jhep05(2021)284',\n",
       " 'doi:10.1109/tcst.2017.2709268',\n",
       " 'doi:10.1039/c5ob00193e',\n",
       " 'doi:10.1016/s1474-4422(22)00174-0',\n",
       " 'doi:10.30557/qw000026',\n",
       " 'doi:10.1142/s021902571250018x',\n",
       " 'doi:10.2147/cia.s128937',\n",
       " 'doi:10.1109/access.2023.3297495',\n",
       " 'doi:10.4208/aamm.oa-2018-0053',\n",
       " 'doi:10.1103/physrevd.87.093007',\n",
       " 'doi:10.1109/jbhi.2018.2820179',\n",
       " 'doi:10.1109/icc.2019.8762053',\n",
       " 'doi:10.1109/icc.2005.1495040',\n",
       " 'doi:10.1134/s1810232817040051',\n",
       " 'doi:10.1097/tp.0b013e31817d4df5',\n",
       " 'doi:10.1109/ngmast.2014.59',\n",
       " 'doi:10.1108/ijwis-02-2017-0009',\n",
       " 'doi:10.1016/s0002-9440(10)61244-8',\n",
       " 'doi:10.1109/isscc42613.2021.9365804',\n",
       " 'doi:10.1016/b978-0-444-53159-9.00010-3',\n",
       " 'doi:10.1017/s002185961700003x',\n",
       " 'doi:10.1103/physrevd.86.012002',\n",
       " 'doi:10.1103/physrevb.103.155152',\n",
       " 'doi:10.1103/physrevd.58.064013',\n",
       " 'doi:10.1109/roman.2013.6628537',\n",
       " 'doi:10.1088/0004-637x/721/2/1383',\n",
       " 'doi:10.1109/led.2008.920267',\n",
       " 'doi:10.1109/wi-iat.2009.335',\n",
       " 'doi:10.1103/physrevlett.113.201801',\n",
       " 'doi:10.1103/physrevd.79.072005',\n",
       " 'doi:10.1109/tcomm.2008.050551',\n",
       " 'doi:10.4054/demres.2019.40.42',\n",
       " 'doi:10.1097/jto.0b013e3182209063',\n",
       " 'doi:10.1109/icc45855.2022.9839121',\n",
       " 'doi:10.1103/physrevlett.108.251802',\n",
       " 'doi:10.1088/0004-637x/807/2/169',\n",
       " 'doi:10.1109/les.2017.2707978',\n",
       " 'doi:10.1097/cej.0b013e328348fbfb',\n",
       " 'doi:10.1109/mitp.2021.3073757',\n",
       " 'doi:10.1007/jhep01(2021)200',\n",
       " 'doi:10.1016/s1472-6483(10)61133-9',\n",
       " 'doi:10.1109/metroagrifor52389.2021.9628816',\n",
       " 'doi:10.23919/date54114.2022.9774639',\n",
       " 'doi:10.1109/tse.2012.68',\n",
       " 'doi:10.1142/s0219024913500507',\n",
       " 'doi:10.1103/physrevd.88.072012',\n",
       " 'doi:10.1530/eor-23-0054',\n",
       " 'doi:10.1016/s1470-2045(21)00189-3',\n",
       " 'doi:10.1016/s1470-2045(12)70212-7',\n",
       " 'doi:10.1109/ceidp.2011.6232661',\n",
       " 'doi:10.1175/jcli-d-14-00065.1',\n",
       " 'doi:10.1109/isncc55209.2022.9851735',\n",
       " 'doi:10.1109/cas52836.2021.9604175',\n",
       " 'doi:10.1109/tasc.2008.920608',\n",
       " 'doi:10.1017/s0022215122000081',\n",
       " 'doi:10.1108/bij-08-2016-0125',\n",
       " 'doi:10.1007/bf02576702',\n",
       " 'doi:10.1109/tps.2008.924501',\n",
       " 'doi:10.1109/tmtt.2015.2512275',\n",
       " 'doi:10.1128/iai.00649-10',\n",
       " 'doi:10.1175/mwr-d-14-00398.1',\n",
       " 'doi:10.1109/icc.2008.407',\n",
       " 'doi:10.1103/physrevd.76.111103',\n",
       " 'doi:10.1007/jhep02(2019)107',\n",
       " 'doi:10.1109/ted.2013.2294113',\n",
       " 'doi:10.1109/ispa.2013.6703797',\n",
       " 'doi:10.1109/ted.2010.2078821',\n",
       " 'doi:10.1039/c7ja00023e',\n",
       " 'doi:10.3221/igf-esis.48.44',\n",
       " 'doi:10.1109/tdmr.2015.2482000',\n",
       " 'doi:10.1109/ceidp.2008.4772807',\n",
       " 'doi:10.7761/sp.12.263',\n",
       " 'doi:10.1109/icspcs47537.2019.9008633',\n",
       " 'doi:10.1097/cco.0000000000000097',\n",
       " 'doi:10.1109/tmtt.2016.2544317',\n",
       " 'doi:10.1007/bf02482394',\n",
       " 'doi:10.1088/2041-8205/713/2/l176',\n",
       " 'doi:10.3280/mc2018-001005',\n",
       " 'doi:10.1109/mwsym.2011.5972810',\n",
       " 'doi:10.1097/meg.0000000000001389',\n",
       " 'doi:10.2147/cia.s121905',\n",
       " 'doi:10.1109/iscas.2016.7539213',\n",
       " 'doi:10.1128/aem.02765-09',\n",
       " 'doi:10.1109/bibmw.2011.6112352',\n",
       " 'doi:10.1097/wno.0000000000001800',\n",
       " 'doi:10.1109/tbcas.2015.2446753',\n",
       " 'doi:10.1109/dsd.2013.74',\n",
       " 'doi:10.2459/jcm.0000000000001557',\n",
       " 'doi:10.1103/physrevc.93.044903',\n",
       " 'doi:10.1109/smart55236.2022.9990158',\n",
       " 'doi:10.1103/physrevb.82.035208',\n",
       " 'doi:10.1088/0004-637x/740/1/37',\n",
       " 'doi:10.1016/s1470-2045(19)30668-0',\n",
       " 'doi:10.1108/ijoem-03-2022-0418',\n",
       " 'doi:10.1017/rdc.2020.131',\n",
       " 'doi:10.1109/icnc57223.2023.10074289',\n",
       " 'doi:10.23750/abm.v91i12-s.10859',\n",
       " 'doi:10.1103/physrevlett.105.022002',\n",
       " 'doi:10.5194/isprs-archives-xlii-5-w1-639-2017',\n",
       " 'doi:10.1103/physrevlett.126.161802',\n",
       " 'doi:10.1109/tbme.2006.873692',\n",
       " 'doi:10.14198/jhse.2019.14.proc4.46',\n",
       " 'doi:10.1130/ges00994.1',\n",
       " 'doi:10.1108/medar-06-2017-0155',\n",
       " 'doi:10.1007/jhep09(2017)020',\n",
       " 'doi:10.4028/www.scientific.net/ssp.95-96.205',\n",
       " 'doi:10.1109/catcon.2013.6737496',\n",
       " 'doi:10.1109/iwasi58316.2023.10164476',\n",
       " 'doi:10.1103/physreve.100.043301',\n",
       " 'doi:10.1109/mttw51045.2020.9245055',\n",
       " 'doi:10.3233/wor-2012-0550-2966',\n",
       " 'doi:10.1029/2018wr022813',\n",
       " 'doi:10.1109/aeit.2013.6666817',\n",
       " 'doi:10.1109/eurbot.1999.827636',\n",
       " 'doi:10.1029/2005rg000175',\n",
       " 'doi:10.1029/2006gl028545',\n",
       " 'doi:10.1097/cej.0b013e32834c9be5',\n",
       " 'doi:10.1016/s2352-3026(20)30376-8',\n",
       " 'doi:10.1088/0004-637x/735/1/11',\n",
       " 'doi:10.3280/sc2015-050018',\n",
       " 'doi:10.1109/tmag.2017.2658955',\n",
       " 'doi:10.1007/jhep09(2023)004',\n",
       " 'doi:10.3280/sl2011-121004',\n",
       " 'doi:10.1103/physrevd.46.r881',\n",
       " 'doi:10.1103/physrevd.88.071102',\n",
       " 'doi:10.1109/tasc.2018.2801329',\n",
       " 'doi:10.1103/physrevb.68.233203',\n",
       " 'doi:10.3182/20110828-6-it-1002.02066',\n",
       " 'doi:10.1080/1828051x.2020.1761271',\n",
       " 'doi:10.2466/06.30.pms.120v19x9',\n",
       " 'doi:10.1109/maes.2010.5638803',\n",
       " 'doi:10.1103/physrevd.70.011101',\n",
       " 'doi:10.1093/mnras/sty469',\n",
       " 'doi:10.1109/isvlsi.2011.60',\n",
       " 'doi:10.1029/2012gl052987',\n",
       " 'doi:10.1109/wsc40007.2019.9004796',\n",
       " 'doi:10.1109/seams.2013.6595492',\n",
       " 'doi:10.1007/bf00747687',\n",
       " 'doi:10.1109/tpami.2010.52',\n",
       " 'doi:10.1109/tdei.2005.1511101',\n",
       " 'doi:10.4204/eptcs.96.12',\n",
       " 'doi:10.3182/20120829-3-mx-2028.00200',\n",
       " 'doi:10.1109/sasg.2014.7274283',\n",
       " 'doi:10.1103/physrevlett.119.181301',\n",
       " 'doi:10.1016/s0921-8734(96)90004-1',\n",
       " 'doi:10.1109/pimrc.2018.8580911',\n",
       " 'doi:10.1007/jhep07(2023)077',\n",
       " 'doi:10.1109/glocom.2018.8647240',\n",
       " 'doi:10.1109/eic.2013.6554299',\n",
       " 'doi:10.1109/lmwc.2002.803148',\n",
       " 'doi:10.1007/bf02108786',\n",
       " 'doi:10.1103/physrevd.91.112011',\n",
       " 'doi:10.1097/cco.0b013e3283622c47',\n",
       " 'doi:10.1109/eesms.2015.7175873',\n",
       " 'doi:10.1109/cdc51059.2022.9993066',\n",
       " 'doi:10.1103/physrevd.74.032009',\n",
       " 'doi:10.1016/b978-0-12-405883-5.00007-7',\n",
       " 'doi:10.1039/c5ra20684g',\n",
       " 'doi:10.1109/icassp.2015.7178652',\n",
       " 'doi:10.1103/physrevd.93.112010',\n",
       " 'doi:10.1109/smart55236.2022.9990379',\n",
       " 'doi:10.1017/s0022029908003828',\n",
       " 'doi:10.17660/actahortic.2006.718.61',\n",
       " 'doi:10.1016/b978-0-444-53099-8.00003-8',\n",
       " 'doi:10.1109/wons.2011.5720196',\n",
       " 'doi:10.1007/jhep09(2011)023',\n",
       " 'doi:10.1103/physreve.67.031106',\n",
       " 'doi:10.1108/bfj-04-2019-0252',\n",
       " 'doi:10.23919/eeta.2018.8493180',\n",
       " 'doi:10.1103/physrevlett.131.042303',\n",
       " 'doi:10.1007/jhep06(2013)033',\n",
       " 'doi:10.1109/med.2011.5983060',\n",
       " 'doi:10.1016/s1472-6483(10)61179-0',\n",
       " 'doi:10.1109/mcom.001.2100702',\n",
       " 'doi:10.1108/ec-02-2017-0067',\n",
       " 'doi:10.1103/physrevd.99.012010',\n",
       " 'doi:10.1103/physrevlett.112.182001',\n",
       " 'doi:10.1039/c4ra12630k',\n",
       " 'doi:10.23736/s2784-8671.21.06883-8',\n",
       " 'doi:10.1042/bsr20212654',\n",
       " 'doi:10.1142/s0219519415400394',\n",
       " 'doi:10.1109/embc.2014.6943762',\n",
       " 'doi:10.1097/ccm.0000000000002193',\n",
       " 'doi:10.1108/aaaj-03-2019-3912',\n",
       " 'doi:10.1142/s0219493721500015',\n",
       " 'doi:10.1029/2011wr010515',\n",
       " 'doi:10.1109/aim46487.2021.9517449',\n",
       " 'doi:10.1108/ijhg-06-2022-0054',\n",
       " 'doi:10.1109/nfv-sdn.2017.8169852',\n",
       " 'doi:10.1615/critreveukaryotgeneexpr.2020037120',\n",
       " 'doi:10.1029/97wr00299',\n",
       " 'doi:10.4230/lipics.concur.2017.11',\n",
       " 'doi:10.1088/1748-0221/11/11/c11005',\n",
       " 'doi:10.1097/hep.0000000000000027',\n",
       " 'doi:10.1109/eucnc/6gsummit54941.2022.9815631',\n",
       " 'doi:10.1109/ccnc.2012.6181002',\n",
       " 'doi:10.17660/actahortic.2019.1243.14',\n",
       " 'doi:10.1109/pdp.2011.81',\n",
       " 'doi:10.1111/j.1475-097x.2004.00600.x',\n",
       " 'doi:10.4018/ijdwm.2015070104',\n",
       " 'doi:10.1007/bf02798817',\n",
       " 'doi:10.1088/0004-637x/744/2/196',\n",
       " 'doi:10.1097/jom.0b013e318193fd0d',\n",
       " 'doi:10.1103/physrevd.103.105021',\n",
       " 'doi:10.1109/newcas50681.2021.9462787',\n",
       " 'doi:10.1158/1055-9965.epi-08-0558',\n",
       " 'doi:10.1109/icumt.2009.5345423',\n",
       " 'doi:10.1109/cleoe-iqec.2013.6801460',\n",
       " 'doi:10.17660/actahortic.2022.1356.55',\n",
       " 'doi:10.3280/pds2017-002007',\n",
       " 'doi:10.1200/po.22.00694',\n",
       " 'doi:10.1109/isscc.2009.4977451',\n",
       " 'doi:10.1088/0954-3899/37/7a/075021',\n",
       " 'doi:10.1164/rccm.201810-1947oc',\n",
       " 'doi:10.1103/physrevlett.127.272001',\n",
       " 'doi:10.1109/ichve.2014.7035481',\n",
       " 'doi:10.1007/jhep03(2016)159',\n",
       " 'doi:10.1023/b:plso.0000020949.61458.76',\n",
       " 'doi:10.1109/globecom46510.2021.9685653',\n",
       " 'doi:10.21437/interspeech.2016-148',\n",
       " 'doi:10.1007/jhep03(2018)172',\n",
       " 'doi:10.1109/ted.2013.2285446',\n",
       " 'doi:10.1103/physrevd.95.052005',\n",
       " 'doi:10.1109/iccw.2013.6649288',\n",
       " 'doi:10.3113/fai.2010.0038',\n",
       " 'doi:10.1103/physrevlett.91.136101',\n",
       " 'doi:10.1016/s0142-9612(01)00311-8',\n",
       " 'doi:10.1103/physrevd.76.092005',\n",
       " 'doi:10.1097/prs.0b013e318278d7ee',\n",
       " 'doi:10.2459/jcm.0000000000000586',\n",
       " 'doi:10.1103/physrevd.77.011107',\n",
       " 'doi:10.1088/1757-899x/949/1/012085',\n",
       " 'doi:10.1097/yic.0b013e328364590b',\n",
       " 'doi:10.1016/s0168-9002(96)00385-3',\n",
       " 'doi:10.1097/tp.0b013e318174db6f',\n",
       " 'doi:10.1109/mwc.2009.5300297',\n",
       " 'doi:10.3301/ijg.2016.11',\n",
       " 'doi:10.2341/19-161-l',\n",
       " 'doi:10.1016/s0379-6779(00)00314-3',\n",
       " 'doi:10.1097/pdm.0b013e318161f993',\n",
       " 'doi:10.4028/www.scientific.net/kem.367.1',\n",
       " 'doi:10.3750/aiep/02566',\n",
       " 'doi:10.1158/0008-5472.can-07-0274',\n",
       " 'doi:10.1016/b978-0-323-91896-1.00007-6',\n",
       " 'doi:10.1200/jco.2011.40.5217',\n",
       " 'doi:10.1017/rdc.2016.34',\n",
       " 'doi:10.1017/s0960129512000886',\n",
       " 'doi:10.4230/lipics.cp.2021.26',\n",
       " 'doi:10.3280/sf2015-002004',\n",
       " 'doi:10.1097/prs.0b013e3181dab346',\n",
       " 'doi:10.1111/j.1365-246x.2012.05663.x',\n",
       " 'doi:10.1158/1055-9965.epi-04-0262',\n",
       " 'doi:10.1137/17m1141291',\n",
       " 'doi:10.1103/physrevd.92.072008',\n",
       " 'doi:10.1109/nof47743.2019.9015069',\n",
       " 'doi:10.3280/ss2022-178001',\n",
       " 'doi:10.3847/2041-8205/820/2/l24',\n",
       " 'doi:10.1109/cdc.2006.377213',\n",
       " 'doi:10.1111/j.1746-692x.2011.00171.x',\n",
       " 'doi:10.3280/mesa2021-117003',\n",
       " 'doi:10.1200/jco.2009.25.0779',\n",
       " 'doi:10.1017/s144678871800040x',\n",
       " 'doi:10.1109/icelmach.2012.6349992',\n",
       " 'doi:10.1088/0004-637x/767/1/62',\n",
       " 'doi:10.1158/1078-0432.ccr-11-1227',\n",
       " 'doi:10.3280/sl2017-145001',\n",
       " 'doi:10.1109/tie.2007.905930',\n",
       " 'doi:10.1016/s2468-1253(17)30291-1',\n",
       " 'doi:10.1108/jic-06-2018-0095',\n",
       " 'doi:10.1109/dcoss54816.2022.00052',\n",
       " 'doi:10.1115/detc2008-49836',\n",
       " 'doi:10.1103/physrevd.83.107701',\n",
       " 'doi:10.1109/norchip.2019.8906959',\n",
       " 'doi:10.1097/hjh.0000000000000701',\n",
       " 'doi:10.1194/jlr.r089763',\n",
       " 'doi:10.1103/physreva.91.032320',\n",
       " 'doi:10.1002/jper.21-0606',\n",
       " 'doi:10.1109/globecom38437.2019.9013423',\n",
       " 'doi:10.4171/rlm/658',\n",
       " 'doi:10.1504/ijep.2010.036928',\n",
       " 'doi:10.1103/physreve.74.011706',\n",
       " 'doi:10.1109/tim.2018.2879146',\n",
       " 'doi:10.1109/tasc.2014.2361520',\n",
       " 'doi:10.1097/cej.0b013e32832e1c46',\n",
       " 'doi:10.1139/w06-142',\n",
       " 'doi:10.1016/s1472-6483(10)60765-1',\n",
       " 'doi:10.1007/jhep07(2023)118',\n",
       " 'doi:10.1039/c4cc08801h',\n",
       " 'doi:10.1103/physrevd.72.071104',\n",
       " 'doi:10.1103/physrevd.88.072003',\n",
       " 'doi:10.1016/s0885-3924(98)00146-8',\n",
       " 'doi:10.2168/lmcs-6(4:7)2010',\n",
       " 'doi:10.4171/ifb/387',\n",
       " 'doi:10.1017/s1431927614014615',\n",
       " 'doi:10.1097/pas.0b013e31819c79f7',\n",
       " 'doi:10.1097/sla.0000000000005577',\n",
       " 'doi:10.1097/mat.0000000000001176',\n",
       " 'doi:10.1007/jhep06(2016)153',\n",
       " 'doi:10.1016/0925-8388(94)90510-x',\n",
       " 'doi:10.1109/tns.2010.2051560',\n",
       " 'doi:10.1504/ijbidm.2008.022137',\n",
       " 'doi:10.1023/b:anor.0000039519.03572.08',\n",
       " 'doi:10.1007/jhep03(2019)126',\n",
       " 'doi:10.2459/jcm.0b013e32832e6430',\n",
       " 'doi:10.1017/s1471068414000179',\n",
       " 'doi:10.1103/physrevlett.110.182302',\n",
       " 'doi:10.1103/physrevlett.105.051602',\n",
       " 'doi:10.1142/s0219519415400138',\n",
       " 'doi:10.23736/s0375-9393.20.14455-9',\n",
       " 'doi:10.1097/mnm.0000000000001266',\n",
       " 'doi:10.1097/id.0000000000000603',\n",
       " 'doi:10.1109/iemdc55163.2023.10238954',\n",
       " 'doi:10.1109/metroautomotive54295.2022.9854871',\n",
       " 'doi:10.1007/jhep06(2017)106',\n",
       " 'doi:10.1306/d42678d9-2b26-11d7-8648000102c1865d',\n",
       " 'doi:10.1109/tdei.2007.302892',\n",
       " 'doi:10.1007/jhep02(2015)129',\n",
       " 'doi:10.1128/jvi.01133-08',\n",
       " 'doi:10.1097/cad.0000000000001157',\n",
       " 'doi:10.1161/circheartfailure.116.003703',\n",
       " 'doi:10.1080/1828051x.2016.1222242',\n",
       " 'doi:10.1369/jhc.6a7052.2007',\n",
       " 'doi:10.3233/fi-2011-501',\n",
       " 'doi:10.1515/bmt.2011.107',\n",
       " 'doi:10.1109/rtsi.2016.7740627',\n",
       " 'doi:10.1023/a:1009647225748',\n",
       " 'doi:10.1042/cs20160004',\n",
       " 'doi:10.1130/g36248.1',\n",
       " 'doi:10.1080/1755876x.2015.1115634',\n",
       " 'doi:10.1103/physrevlett.128.252003',\n",
       " 'doi:10.1109/tbcas.2021.3115178',\n",
       " 'doi:10.1103/physrevlett.92.121802',\n",
       " 'doi:10.1109/tcsi.2008.920986',\n",
       " 'doi:10.1144/sp529-2022-249',\n",
       " 'doi:10.1161/01.atv.0000109750.34073.f6',\n",
       " 'doi:10.1200/jco.2009.22.7389',\n",
       " 'doi:10.1109/tvlsi.2016.2572606',\n",
       " 'doi:10.1097/sla.0000000000005384',\n",
       " 'doi:10.1212/wnl.0000000000003459',\n",
       " 'doi:10.1103/physrevd.75.012003',\n",
       " 'doi:10.1103/physrevd.92.112007',\n",
       " 'doi:10.1175/2009jamc2151.1',\n",
       " 'doi:10.1016/s0162-0134(02)00471-3',\n",
       " 'doi:10.4028/www.scientific.net/msf.678.61',\n",
       " 'doi:10.1128/jcm.37.4.1197-1199.1999',\n",
       " 'doi:10.1103/physrevd.105.092013',\n",
       " 'doi:10.1532/hsf98.2005-1177',\n",
       " 'doi:10.1109/nfv-sdn.2018.8725645',\n",
       " 'doi:10.1142/s0129183198000078',\n",
       " 'doi:10.1016/s1381-1177(01)00061-3',\n",
       " 'doi:10.1103/physrevlett.96.211802',\n",
       " 'doi:10.1007/jhep03(2022)055',\n",
       " 'doi:10.13128/techne-20800',\n",
       " 'doi:10.1137/18m1229560',\n",
       " 'doi:10.3303/cet1649094',\n",
       " 'doi:10.4088/jcp.10r06444',\n",
       " 'doi:10.1158/1055-9965.epi-06-0382',\n",
       " 'doi:10.1103/physrevlett.112.222002',\n",
       " 'doi:10.1016/0140-6736(90)91888-h',\n",
       " 'doi:10.3415/vcot-08-09-0095',\n",
       " 'doi:10.1017/s003329172000495x',\n",
       " 'doi:10.1007/bf02333620',\n",
       " 'doi:10.1103/physrevlett.113.082003',\n",
       " 'doi:10.1094/mpmi-07-21-0173-a',\n",
       " 'doi:10.12659/aot.892032',\n",
       " 'doi:10.1007/jhep10(2014)079',\n",
       " 'doi:10.14694/edbook_am.2014.34.167',\n",
       " 'doi:10.1354/vp.08-vp-0097-t-fl',\n",
       " 'doi:10.1103/physrevlett.92.221803',\n",
       " 'doi:10.1200/jco.2016.69.4844',\n",
       " 'doi:10.1097/mpg.0000000000001308',\n",
       " 'doi:10.34067/kid.0002382022',\n",
       " 'doi:10.2147/gictt.s44243',\n",
       " 'doi:10.1016/s1388-2481(02)00518-0',\n",
       " 'doi:10.1109/tit.2004.828146',\n",
       " 'doi:10.1523/jneurosci.0534-10.2010',\n",
       " 'doi:10.3233/mgs-2010-0147',\n",
       " 'doi:10.12944/crnfsj.7.1.03',\n",
       " 'doi:10.1109/tc.2021.3066883',\n",
       " 'doi:10.1007/jhep09(2015)084',\n",
       " 'doi:10.1097/tp.0b013e3182252800',\n",
       " 'doi:10.1109/lwc.2021.3124506',\n",
       " 'doi:10.1017/s0263574714000368',\n",
       " 'doi:10.1556/comec.13.2012.1.5',\n",
       " 'doi:10.1017/s0033291711001619',\n",
       " 'doi:10.1103/physrevlett.128.021802',\n",
       " 'doi:10.1182/blood.v120.21.284.284',\n",
       " 'doi:10.1109/tdei.2006.1593413',\n",
       " 'doi:10.1142/s2010326320400043',\n",
       " 'doi:10.1007/jhep12(2019)060',\n",
       " 'doi:10.3390/foods9060720',\n",
       " 'doi:10.1109/fas-w.2019.00034',\n",
       " 'doi:10.1143/jjap.50.08jd03',\n",
       " 'doi:10.5303/jkas.2004.37.5.323',\n",
       " 'doi:10.1109/mvt.2020.2982244',\n",
       " 'doi:10.1306/d4267c4e-2b26-11d7-8648000102c1865d',\n",
       " 'doi:10.1007/jhep08(2018)011',\n",
       " 'doi:10.1016/c2009-0-61856-0',\n",
       " 'doi:10.1109/tciaig.2010.2048711',\n",
       " 'doi:10.1016/s1470-2045(21)00243-6',\n",
       " 'doi:10.1128/aac.00256-09',\n",
       " 'doi:10.33963/kp.a2021.0179',\n",
       " 'doi:10.1109/tns.2008.2008306',\n",
       " 'doi:10.1109/tc.2014.4',\n",
       " 'doi:10.4028/www.scientific.net/kem.747.594',\n",
       " 'doi:10.1109/qshine.2005.27',\n",
       " 'doi:10.1128/aac.02038-20',\n",
       " 'doi:10.1109/icd53806.2022.9863535',\n",
       " 'doi:10.23919/iseim.2017.8088695',\n",
       " 'doi:10.1097/tp.0000000000003065',\n",
       " 'doi:10.1142/s0219519421500603',\n",
       " 'doi:10.2341/16-090-l',\n",
       " 'doi:10.1103/physrevlett.120.092001',\n",
       " 'doi:10.1007/bf03324547',\n",
       " 'doi:10.1108/jkm-11-2014-0466',\n",
       " 'doi:10.1637/10174-041012-resnote.1',\n",
       " 'doi:10.1109/lamc.2016.7851266',\n",
       " 'doi:10.1103/physrevd.108.032019',\n",
       " 'doi:10.1017/s0265021504008099',\n",
       " 'doi:10.1109/smartcomp.2016.7501703',\n",
       " 'doi:10.1007/jhep07(2018)176',\n",
       " 'doi:10.1109/asms-spsc.2012.6333104',\n",
       " 'doi:10.1109/pimrc.2018.8581036',\n",
       " 'doi:10.1177/0193841x14540289',\n",
       " 'doi:10.1097/mpa.0000000000000032',\n",
       " 'doi:10.1007/jhep04(2020)171',\n",
       " 'doi:10.23736/s0026-4733.18.07841-0',\n",
       " 'doi:10.30687/annor/2385-3042/2019/01/014',\n",
       " 'doi:10.2341/17-017-l',\n",
       " 'doi:10.1016/s1470-2045(06)70577-0',\n",
       " 'doi:10.1109/tim.2007.899983',\n",
       " 'doi:10.23919/date.2018.8342066',\n",
       " 'doi:10.1109/icdcs.2018.00118',\n",
       " 'doi:10.3280/mc2013-004003',\n",
       " 'doi:10.1142/s0219199721500243',\n",
       " 'doi:10.1134/s1810232814020027',\n",
       " 'doi:10.3280/cad2017-002003',\n",
       " 'doi:10.1109/iccv.2011.6126503',\n",
       " 'doi:10.1109/cic.2008.4748990',\n",
       " 'doi:10.1109/tdei.2012.6180247',\n",
       " 'doi:10.1017/s003329172100502x',\n",
       " 'doi:10.1109/rtc.2010.5750337',\n",
       " 'doi:10.23919/aeit.2018.8577433',\n",
       " 'doi:10.1097/rti.0b013e31802bddca',\n",
       " 'doi:10.1109/eucap.2012.6206591',\n",
       " 'doi:10.1109/iscas51556.2021.9401176',\n",
       " 'doi:10.1007/jhep10(2015)144',\n",
       " 'doi:10.1007/jhep02(2020)077',\n",
       " 'doi:10.1103/physrevd.74.091102',\n",
       " 'doi:10.1103/physrevc.78.045804',\n",
       " 'doi:10.1029/2009gl041024',\n",
       " 'doi:10.1007/jhep12(2015)105',\n",
       " 'doi:10.3233/ia-221057',\n",
       " 'doi:10.1039/d1cs00519g',\n",
       " 'doi:10.1109/tits.2022.3160673',\n",
       " 'doi:10.1109/eic.2016.7548681',\n",
       " 'doi:10.1103/physrevd.102.032006',\n",
       " 'doi:10.1109/essderc.2009.5331475',\n",
       " 'doi:10.1212/wnl.0000000000002666',\n",
       " 'doi:10.1109/twc.2013.100113.121853',\n",
       " 'doi:10.3233/jad-180123',\n",
       " 'doi:10.23750/abm.v91i6-s.9589',\n",
       " 'doi:10.1212/wnl.0000000000000045',\n",
       " 'doi:10.1109/essderc.2013.6818881',\n",
       " 'doi:10.23750/abm.v89i7-s.7812',\n",
       " 'doi:10.1109/iseima.2006.345015',\n",
       " 'doi:10.21175/radj.2016.03.040',\n",
       " 'doi:10.1017/s1474747221000329',\n",
       " 'doi:10.1109/mprv.2015.44',\n",
       " 'doi:10.1016/0022-328x(95)05480-d',\n",
       " 'doi:10.1109/ipsn.2016.7460717',\n",
       " 'doi:10.1142/s0219024916500278',\n",
       " 'doi:10.1162/rest_a_00195',\n",
       " 'doi:10.1103/physrevd.98.092014',\n",
       " 'doi:10.1109/mei.2017.7956632',\n",
       " 'doi:10.1109/temc.2020.3015139',\n",
       " 'doi:10.1103/physrevd.100.052014',\n",
       " 'doi:10.1103/physrevlett.93.072001',\n",
       " 'doi:10.1103/physrevd.78.111101',\n",
       " 'doi:10.1097/bpb.0b013e3283453506',\n",
       " 'doi:10.1103/physrevd.84.031104',\n",
       " 'doi:10.1029/2004wr003554',\n",
       " 'doi:10.1109/ted.2007.911354',\n",
       " 'doi:10.1109/cdc.2015.7402437',\n",
       " 'doi:10.1088/0004-637x/766/1/40',\n",
       " 'doi:10.1109/iscas.2018.8351749',\n",
       " 'doi:10.1163/1573384x-20210303',\n",
       " 'doi:10.3280/sc2022-064007',\n",
       " 'doi:10.1214/15-aos1419',\n",
       " 'doi:10.1103/physrevd.96.032003',\n",
       " 'doi:10.1172/jci146301',\n",
       " 'doi:10.1111/2041-210x.13025',\n",
       " 'doi:10.1016/b978-0-12-820581-5.00016-x',\n",
       " 'doi:10.1039/c8ob01988f',\n",
       " 'doi:10.1175/jcli-d-16-0337.1',\n",
       " 'doi:10.1109/jiot.2018.2812727',\n",
       " 'doi:10.1007/jhep12(2016)083',\n",
       " 'doi:10.1109/metroagrifor52389.2021.9628839',\n",
       " 'doi:10.1109/igcc.2013.6604509',\n",
       " 'doi:10.1109/dexa.2005.163',\n",
       " 'doi:10.1109/icccn52240.2021.9522257',\n",
       " 'doi:10.1088/1748-0221/15/06/p06005',\n",
       " 'doi:10.1007/jhep05(2017)158',\n",
       " 'doi:10.2459/jcm.0000000000000236',\n",
       " 'doi:10.1103/physrevlett.93.141601',\n",
       " 'doi:10.1109/mis.2006.27',\n",
       " 'doi:10.1017/s0033291722002859',\n",
       " 'doi:10.1017/s1047951115001973',\n",
       " 'doi:10.1142/s1088424611004117',\n",
       " 'doi:10.3233/fi-2010-361',\n",
       " 'doi:10.1007/jhep01(2022)065',\n",
       " 'doi:10.1109/tie.2008.2007004',\n",
       " 'doi:10.1103/physrevc.95.034604',\n",
       " 'doi:10.1007/jhep04(2021)174',\n",
       " 'doi:10.1103/physrevd.74.111102',\n",
       " 'doi:10.1109/tac.2010.2042001',\n",
       " 'doi:10.3280/cad2021-001003',\n",
       " 'doi:10.25423/cmcc/medsea_analysis_forecast_phy_006_013_eas4',\n",
       " 'doi:10.1097/ijg.0000000000001696',\n",
       " 'doi:10.1074/jbc.m112.350355',\n",
       " 'doi:10.1097/hjh.0000000000002666',\n",
       " 'doi:10.1158/1078-0432.ccr-08-3266',\n",
       " 'doi:10.1158/1055-9965.epi-16-0237',\n",
       " 'doi:10.1103/physrevc.104.054905',\n",
       " 'doi:10.1109/cpem49742.2020.9191698',\n",
       " 'doi:10.1103/physrevd.71.071103',\n",
       " 'doi:10.1109/icpr.2016.7899766',\n",
       " 'doi:10.1016/0167-2738(92)90417-n',\n",
       " 'doi:10.4408/ijege.2013-06.b-56',\n",
       " 'doi:10.1039/c7nj04633b',\n",
       " 'doi:10.1094/pdis-10-13-1085-pdn',\n",
       " 'doi:10.1097/sap.0000000000001605',\n",
       " 'doi:10.1109/tvt.2018.2853657',\n",
       " 'doi:10.23919/fruct.2018.8588089',\n",
       " 'doi:10.1081/pde-200037706',\n",
       " 'doi:10.1109/tpwrd.2008.2002674',\n",
       " 'doi:10.1097/mcg.0b013e318247157c',\n",
       " 'doi:10.1111/j.1464-410x.2008.07451.x',\n",
       " 'doi:10.1103/physrevd.94.032008',\n",
       " 'doi:10.1007/jhep08(2015)137',\n",
       " 'doi:10.1364/cleo_at.2020.jtu2g.11',\n",
       " 'doi:10.4054/demres.2018.39.18',\n",
       " 'doi:10.1109/ispsd.2009.5158038',\n",
       " 'doi:10.2168/lmcs-12(1:4)2016',\n",
       " 'doi:10.1007/jhep11(2016)038',\n",
       " 'doi:10.1023/a:1004300716125',\n",
       " 'doi:10.23736/s2724-6051.22.05031-5',\n",
       " 'doi:10.1007/jhep07(2022)032',\n",
       " 'doi:10.1016/0013-4686(95)00167-d',\n",
       " 'doi:10.1109/icd.2016.7547643',\n",
       " 'doi:10.1103/physrevlett.108.082001',\n",
       " 'doi:10.1109/tits.2019.2960305',\n",
       " 'doi:10.1109/nemo.2014.6995686',\n",
       " 'doi:10.1523/jneurosci.2047-19.2020',\n",
       " 'doi:10.1109/euma.1995.337036',\n",
       " 'doi:10.1103/physrevlett.100.041801',\n",
       " 'doi:10.1097/mcc.0000000000000904',\n",
       " 'doi:10.1158/1055-9965.epi-14-0503',\n",
       " 'doi:10.1109/cvpr.2017.583',\n",
       " 'doi:10.23736/s0021-9509.23.12620-6',\n",
       " 'doi:10.1108/ijem-01-2021-0019',\n",
       " 'doi:10.1080/1828051x.2017.1298410',\n",
       " 'doi:10.1016/s1571-0661(04)80774-6',\n",
       " 'doi:10.1108/tqm-06-2021-0166',\n",
       " 'doi:10.1142/s0129167x21500543',\n",
       " 'doi:10.1109/icrera.2013.6749861',\n",
       " 'doi:10.23638/lmcs-13(2:1)2017',\n",
       " 'doi:10.1097/md.0000000000002552',\n",
       " 'doi:10.1109/tdei.2022.3168369',\n",
       " 'doi:10.1142/s0217751x04016453',\n",
       " 'doi:10.1017/s1471068422000102',\n",
       " 'doi:10.1081/fst-200039185',\n",
       " 'doi:10.1103/physrevd.88.052012',\n",
       " 'doi:10.1089/aid.2016.0134',\n",
       " 'doi:10.1109/tmtt.2011.2104976',\n",
       " 'doi:10.1109/sispad.2019.8870513',\n",
       " 'doi:10.1044/2023_jslhr-22-00739',\n",
       " 'doi:10.1097/jcp.0b013e31802f0e72',\n",
       " 'doi:10.3200/socp.144.2.181-190',\n",
       " 'doi:10.14340/spp.2013.12r0005',\n",
       " 'doi:10.1016/s0168-1605(02)00245-3',\n",
       " 'doi:10.1109/vetecs.2009.5073878',\n",
       " 'doi:10.1214/17-bjps367',\n",
       " 'doi:10.1007/jhep01(2016)096',\n",
       " 'doi:10.1103/physrevd.81.092002',\n",
       " 'doi:10.1103/physrevlett.104.201801',\n",
       " 'doi:10.1097/wco.0000000000000753',\n",
       " 'doi:10.1109/tpds.2021.3082802',\n",
       " 'doi:10.1097/meg.0000000000001237',\n",
       " 'doi:10.1109/jsen.2020.3004629',\n",
       " 'doi:10.1007/jhep04(2016)072',\n",
       " 'doi:10.1109/ted.2006.882042',\n",
       " 'doi:10.2147/ijn.s35245',\n",
       " 'doi:10.1109/tasc.2020.2968040',\n",
       " 'doi:10.1108/qmr-02-2016-0007',\n",
       " 'doi:10.1088/0004-637x/754/2/91',\n",
       " 'doi:10.1103/physrevc.98.044905',\n",
       " 'doi:10.1109/speedam.2014.6872010',\n",
       " 'doi:10.1109/tdei.2007.369540',\n",
       " 'doi:10.1111/j.1939-165x.2006.tb00116.x',\n",
       " 'doi:10.1088/0004-637x/706/1/644',\n",
       " 'doi:10.3171/2016.5.focus16141',\n",
       " 'doi:10.3280/pds2013-001005',\n",
       " 'doi:10.19191/ep20.5-6.s2.089',\n",
       " 'doi:10.1214/14-aap1043',\n",
       " 'doi:10.1212/wnl.0b013e31826ea887',\n",
       " 'doi:10.1182/bloodadvances.2020002305',\n",
       " 'doi:10.1103/physrevc.107.054909',\n",
       " 'doi:10.1016/s0021-9673(01)84246-1',\n",
       " 'doi:10.1016/s0167-2991(08)63401-1',\n",
       " 'doi:10.1109/aim46487.2021.9517655',\n",
       " 'doi:10.1103/physrevd.72.031101',\n",
       " 'doi:10.1017/s006824621900014x',\n",
       " 'doi:10.1016/b978-0-08-100763-1.00011-8',\n",
       " 'doi:10.1007/jhep03(2016)133',\n",
       " ...}"
      ]
     },
     "execution_count": 56,
     "metadata": {},
     "output_type": "execute_result"
    }
   ],
   "source": [
    "len(doi_join), len(doi_old)\n",
    "\n",
    "# difference\n",
    "dif = set(doi_old).difference(set(doi_join))\n",
    "dif"
   ]
  },
  {
   "cell_type": "code",
   "execution_count": 108,
   "metadata": {},
   "outputs": [
    {
     "data": {
      "text/html": [
       "<div><style>\n",
       ".dataframe > thead > tr,\n",
       ".dataframe > tbody > tr {\n",
       "  text-align: right;\n",
       "  white-space: pre-wrap;\n",
       "}\n",
       "</style>\n",
       "<small>shape: (10, 5)</small><table border=\"1\" class=\"dataframe\"><thead><tr><th>id</th><th>title</th><th>type</th><th>omid</th><th>iris_id</th></tr><tr><td>str</td><td>str</td><td>str</td><td>str</td><td>i32</td></tr></thead><tbody><tr><td>&quot;doi:10.1002/widm.1511&quot;</td><td>&quot;A White Paper On Good Research Practices In Benchmarking: The Case Of Cluster Analysis&quot;</td><td>&quot;journal article&quot;</td><td>&quot;omid:br/06510108547&quot;</td><td>776472</td></tr><tr><td>&quot;doi:10.1093/annonc/mdw430&quot;</td><td>&quot;Short, Full-Dose Adjuvant Chemotherapy (CT) In High-Risk Adult Soft Tissue Sarcomas (STS): Long-Ter…</td><td>&quot;journal article&quot;</td><td>&quot;omid:br/062503328314&quot;</td><td>301915</td></tr><tr><td>&quot;doi:10.1093/annonc/mdw618&quot;</td><td>&quot;Dietary Acrylamide And The Risk Of Pancreatic Cancer In The International Pancreatic Cancer Case–Co…</td><td>&quot;journal article&quot;</td><td>&quot;omid:br/062503328269&quot;</td><td>388290</td></tr><tr><td>&quot;doi:10.1093/annonc/mdx033&quot;</td><td>&quot;European Cancer Mortality Predictions For The Year 2017, With Focus On Lung Cancer&quot;</td><td>&quot;journal article&quot;</td><td>&quot;omid:br/062503328173&quot;</td><td>388298</td></tr><tr><td>&quot;doi:10.1016/j.jmatprotec.2017.10.019&quot;</td><td>&quot;High Throughput Hybrid Laser Assisted Machining Of Sintered Reaction Bonded Silicon Nitride&quot;</td><td>&quot;journal article&quot;</td><td>&quot;omid:br/062503328812&quot;</td><td>320811</td></tr><tr><td>&quot;doi:10.1093/annonc/mdw306&quot;</td><td>&quot;Global Trends And Predictions In Ovarian Cancer Mortality&quot;</td><td>&quot;journal article&quot;</td><td>&quot;omid:br/062503328364&quot;</td><td>632727</td></tr><tr><td>&quot;doi:10.1093/annonc/mdw649&quot;</td><td>&quot;Nivolumab-induced Cholangitic Liver Disease: A Novel Form Of Serious Liver Injury&quot;</td><td>&quot;journal article&quot;</td><td>&quot;omid:br/062503328245&quot;</td><td>295455</td></tr><tr><td>&quot;doi:10.1002/sim.6576&quot;</td><td>&quot;Exact Optimum Coin Bias In Efron&#x27;s Randomization Procedure&quot;</td><td>&quot;journal article&quot;</td><td>&quot;omid:br/0690744489&quot;</td><td>207606</td></tr><tr><td>&quot;doi:10.1057/s41310-020-00071-4&quot;</td><td>&quot;Is The Market Surprised By The Surprise?&quot;</td><td>&quot;journal article&quot;</td><td>&quot;omid:br/0690104274&quot;</td><td>450807</td></tr><tr><td>&quot;doi:10.1002/jmor.10182&quot;</td><td>&quot;Immunocytochemical And Autoradiographic Studies On The Process Of Keratinization In Avian Epidermis…</td><td>&quot;journal article&quot;</td><td>&quot;omid:br/0690102756&quot;</td><td>67863</td></tr></tbody></table></div>"
      ],
      "text/plain": [
       "shape: (10, 5)\n",
       "┌───────────────────────┬───────────────────────┬─────────────────┬──────────────────────┬─────────┐\n",
       "│ id                    ┆ title                 ┆ type            ┆ omid                 ┆ iris_id │\n",
       "│ ---                   ┆ ---                   ┆ ---             ┆ ---                  ┆ ---     │\n",
       "│ str                   ┆ str                   ┆ str             ┆ str                  ┆ i32     │\n",
       "╞═══════════════════════╪═══════════════════════╪═════════════════╪══════════════════════╪═════════╡\n",
       "│ doi:10.1002/widm.1511 ┆ A White Paper On Good ┆ journal article ┆ omid:br/06510108547  ┆ 776472  │\n",
       "│                       ┆ Research Practices In ┆                 ┆                      ┆         │\n",
       "│                       ┆ Benchmarking: The     ┆                 ┆                      ┆         │\n",
       "│                       ┆ Case Of Cluster       ┆                 ┆                      ┆         │\n",
       "│                       ┆ Analysis              ┆                 ┆                      ┆         │\n",
       "│ doi:10.1093/annonc/md ┆ Short, Full-Dose      ┆ journal article ┆ omid:br/062503328314 ┆ 301915  │\n",
       "│ w430                  ┆ Adjuvant Chemotherapy ┆                 ┆                      ┆         │\n",
       "│                       ┆ (CT) In High-Risk     ┆                 ┆                      ┆         │\n",
       "│                       ┆ Adult Soft Tissue     ┆                 ┆                      ┆         │\n",
       "│                       ┆ Sarcomas (STS):       ┆                 ┆                      ┆         │\n",
       "│                       ┆ Long-Term…            ┆                 ┆                      ┆         │\n",
       "│ doi:10.1093/annonc/md ┆ Dietary Acrylamide    ┆ journal article ┆ omid:br/062503328269 ┆ 388290  │\n",
       "│ w618                  ┆ And The Risk Of       ┆                 ┆                      ┆         │\n",
       "│                       ┆ Pancreatic Cancer In  ┆                 ┆                      ┆         │\n",
       "│                       ┆ The International     ┆                 ┆                      ┆         │\n",
       "│                       ┆ Pancreatic Cancer     ┆                 ┆                      ┆         │\n",
       "│                       ┆ Case–Con…             ┆                 ┆                      ┆         │\n",
       "│ doi:10.1093/annonc/md ┆ European Cancer       ┆ journal article ┆ omid:br/062503328173 ┆ 388298  │\n",
       "│ x033                  ┆ Mortality Predictions ┆                 ┆                      ┆         │\n",
       "│                       ┆ For The Year 2017,    ┆                 ┆                      ┆         │\n",
       "│                       ┆ With Focus On Lung    ┆                 ┆                      ┆         │\n",
       "│                       ┆ Cancer                ┆                 ┆                      ┆         │\n",
       "│ doi:10.1016/j.jmatpro ┆ High Throughput       ┆ journal article ┆ omid:br/062503328812 ┆ 320811  │\n",
       "│ tec.2017.10.019       ┆ Hybrid Laser Assisted ┆                 ┆                      ┆         │\n",
       "│                       ┆ Machining Of Sintered ┆                 ┆                      ┆         │\n",
       "│                       ┆ Reaction Bonded       ┆                 ┆                      ┆         │\n",
       "│                       ┆ Silicon Nitride       ┆                 ┆                      ┆         │\n",
       "│ doi:10.1093/annonc/md ┆ Global Trends And     ┆ journal article ┆ omid:br/062503328364 ┆ 632727  │\n",
       "│ w306                  ┆ Predictions In        ┆                 ┆                      ┆         │\n",
       "│                       ┆ Ovarian Cancer        ┆                 ┆                      ┆         │\n",
       "│                       ┆ Mortality             ┆                 ┆                      ┆         │\n",
       "│ doi:10.1093/annonc/md ┆ Nivolumab-induced     ┆ journal article ┆ omid:br/062503328245 ┆ 295455  │\n",
       "│ w649                  ┆ Cholangitic Liver     ┆                 ┆                      ┆         │\n",
       "│                       ┆ Disease: A Novel Form ┆                 ┆                      ┆         │\n",
       "│                       ┆ Of Serious Liver      ┆                 ┆                      ┆         │\n",
       "│                       ┆ Injury                ┆                 ┆                      ┆         │\n",
       "│ doi:10.1002/sim.6576  ┆ Exact Optimum Coin    ┆ journal article ┆ omid:br/0690744489   ┆ 207606  │\n",
       "│                       ┆ Bias In Efron's       ┆                 ┆                      ┆         │\n",
       "│                       ┆ Randomization         ┆                 ┆                      ┆         │\n",
       "│                       ┆ Procedure             ┆                 ┆                      ┆         │\n",
       "│ doi:10.1057/s41310-02 ┆ Is The Market         ┆ journal article ┆ omid:br/0690104274   ┆ 450807  │\n",
       "│ 0-00071-4             ┆ Surprised By The      ┆                 ┆                      ┆         │\n",
       "│                       ┆ Surprise?             ┆                 ┆                      ┆         │\n",
       "│ doi:10.1002/jmor.1018 ┆ Immunocytochemical    ┆ journal article ┆ omid:br/0690102756   ┆ 67863   │\n",
       "│ 2                     ┆ And Autoradiographic  ┆                 ┆                      ┆         │\n",
       "│                       ┆ Studies On The        ┆                 ┆                      ┆         │\n",
       "│                       ┆ Process Of            ┆                 ┆                      ┆         │\n",
       "│                       ┆ Keratinization In     ┆                 ┆                      ┆         │\n",
       "│                       ┆ Avian Epidermis …     ┆                 ┆                      ┆         │\n",
       "└───────────────────────┴───────────────────────┴─────────────────┴──────────────────────┴─────────┘"
      ]
     },
     "execution_count": 108,
     "metadata": {},
     "output_type": "execute_result"
    }
   ],
   "source": [
    "lf_iim.head(10).collect()"
   ]
  },
  {
   "cell_type": "code",
   "execution_count": 124,
   "metadata": {},
   "outputs": [
    {
     "name": "stdout",
     "output_type": "stream",
     "text": [
      "115065\n",
      "1076\n",
      "357\n"
     ]
    }
   ],
   "source": [
    "lf_iim = pl.scan_parquet('data/iris_in_meta_pmid/*.parquet')\n",
    "#lf_iim.head().collect()\n",
    "lf_iim.select(pl.len()).collect()\n",
    "print(lf_iim.filter(pl.col('id').str.contains('doi')).select(pl.len()).collect().item())\n",
    "print(lf_iim.filter(pl.col('id').str.contains('pmid')).select(pl.len()).collect().item())\n",
    "print(lf_iim.filter(pl.col('id').str.contains('isbn')).select(pl.len()).collect().item())"
   ]
  },
  {
   "cell_type": "code",
   "execution_count": 131,
   "metadata": {},
   "outputs": [
    {
     "data": {
      "text/html": [
       "<div><style>\n",
       ".dataframe > thead > tr,\n",
       ".dataframe > tbody > tr {\n",
       "  text-align: right;\n",
       "  white-space: pre-wrap;\n",
       "}\n",
       "</style>\n",
       "<small>shape: (5, 4)</small><table border=\"1\" class=\"dataframe\"><thead><tr><th>id</th><th>title</th><th>type</th><th>omid</th></tr><tr><td>str</td><td>str</td><td>str</td><td>str</td></tr></thead><tbody><tr><td>&quot;doi:10.1002/widm.1511&quot;</td><td>&quot;A White Paper On Good Research Practices In Benchmarking: The Case Of Cluster Analysis&quot;</td><td>&quot;journal article&quot;</td><td>&quot;omid:br/06510108547&quot;</td></tr><tr><td>&quot;doi:10.1016/j.jmatprotec.2017.10.019&quot;</td><td>&quot;High Throughput Hybrid Laser Assisted Machining Of Sintered Reaction Bonded Silicon Nitride&quot;</td><td>&quot;journal article&quot;</td><td>&quot;omid:br/062503328812&quot;</td></tr><tr><td>&quot;doi:10.1093/annonc/mdw618&quot;</td><td>&quot;Dietary Acrylamide And The Risk Of Pancreatic Cancer In The International Pancreatic Cancer Case–Co…</td><td>&quot;journal article&quot;</td><td>&quot;omid:br/062503328269&quot;</td></tr><tr><td>&quot;doi:10.1093/annonc/mdw430&quot;</td><td>&quot;Short, Full-Dose Adjuvant Chemotherapy (CT) In High-Risk Adult Soft Tissue Sarcomas (STS): Long-Ter…</td><td>&quot;journal article&quot;</td><td>&quot;omid:br/062503328314&quot;</td></tr><tr><td>&quot;doi:10.1093/annonc/mdw649&quot;</td><td>&quot;Nivolumab-induced Cholangitic Liver Disease: A Novel Form Of Serious Liver Injury&quot;</td><td>&quot;journal article&quot;</td><td>&quot;omid:br/062503328245&quot;</td></tr></tbody></table></div>"
      ],
      "text/plain": [
       "shape: (5, 4)\n",
       "┌────────────────────────────┬────────────────────────────┬─────────────────┬──────────────────────┐\n",
       "│ id                         ┆ title                      ┆ type            ┆ omid                 │\n",
       "│ ---                        ┆ ---                        ┆ ---             ┆ ---                  │\n",
       "│ str                        ┆ str                        ┆ str             ┆ str                  │\n",
       "╞════════════════════════════╪════════════════════════════╪═════════════════╪══════════════════════╡\n",
       "│ doi:10.1002/widm.1511      ┆ A White Paper On Good      ┆ journal article ┆ omid:br/06510108547  │\n",
       "│                            ┆ Research Practices In      ┆                 ┆                      │\n",
       "│                            ┆ Benchmarking: The Case Of  ┆                 ┆                      │\n",
       "│                            ┆ Cluster Analysis           ┆                 ┆                      │\n",
       "│ doi:10.1016/j.jmatprotec.2 ┆ High Throughput Hybrid     ┆ journal article ┆ omid:br/062503328812 │\n",
       "│ 017.10.019                 ┆ Laser Assisted Machining   ┆                 ┆                      │\n",
       "│                            ┆ Of Sintered Reaction       ┆                 ┆                      │\n",
       "│                            ┆ Bonded Silicon Nitride     ┆                 ┆                      │\n",
       "│ doi:10.1093/annonc/mdw618  ┆ Dietary Acrylamide And The ┆ journal article ┆ omid:br/062503328269 │\n",
       "│                            ┆ Risk Of Pancreatic Cancer  ┆                 ┆                      │\n",
       "│                            ┆ In The International       ┆                 ┆                      │\n",
       "│                            ┆ Pancreatic Cancer          ┆                 ┆                      │\n",
       "│                            ┆ Case–Con…                  ┆                 ┆                      │\n",
       "│ doi:10.1093/annonc/mdw430  ┆ Short, Full-Dose Adjuvant  ┆ journal article ┆ omid:br/062503328314 │\n",
       "│                            ┆ Chemotherapy (CT) In       ┆                 ┆                      │\n",
       "│                            ┆ High-Risk Adult Soft       ┆                 ┆                      │\n",
       "│                            ┆ Tissue Sarcomas (STS):     ┆                 ┆                      │\n",
       "│                            ┆ Long-Term…                 ┆                 ┆                      │\n",
       "│ doi:10.1093/annonc/mdw649  ┆ Nivolumab-induced          ┆ journal article ┆ omid:br/062503328245 │\n",
       "│                            ┆ Cholangitic Liver Disease: ┆                 ┆                      │\n",
       "│                            ┆ A Novel Form Of Serious    ┆                 ┆                      │\n",
       "│                            ┆ Liver Injury               ┆                 ┆                      │\n",
       "└────────────────────────────┴────────────────────────────┴─────────────────┴──────────────────────┘"
      ]
     },
     "execution_count": 131,
     "metadata": {},
     "output_type": "execute_result"
    }
   ],
   "source": [
    "lf_iim.head().collect()"
   ]
  },
  {
   "cell_type": "code",
   "execution_count": 51,
   "metadata": {},
   "outputs": [
    {
     "name": "stdout",
     "output_type": "stream",
     "text": [
      "115065\n",
      "1095\n",
      "418\n"
     ]
    }
   ],
   "source": [
    "lf_iim = pl.scan_parquet('data/iris_in_meta/*.parquet')\n",
    "lf_iim.head().collect()\n",
    "lf_iim.select(pl.len()).collect()\n",
    "print(lf_iim.filter(pl.col('id').str.contains('doi')).select(pl.len()).collect().item())\n",
    "print(lf_iim.filter(pl.col('id').str.contains('pmid')).select(pl.len()).collect().item())\n",
    "print(lf_iim.filter(pl.col('id').str.contains('isbn')).select(pl.len()).collect().item())\n",
    "doi_old = lf_iim.filter(pl.col('id').str.contains('doi')).select('id').collect()['id'].to_list()"
   ]
  },
  {
   "cell_type": "code",
   "execution_count": 53,
   "metadata": {},
   "outputs": [
    {
     "data": {
      "text/html": [
       "<div><style>\n",
       ".dataframe > thead > tr,\n",
       ".dataframe > tbody > tr {\n",
       "  text-align: right;\n",
       "  white-space: pre-wrap;\n",
       "}\n",
       "</style>\n",
       "<small>shape: (1, 4)</small><table border=\"1\" class=\"dataframe\"><thead><tr><th>id</th><th>title</th><th>type</th><th>omid</th></tr><tr><td>str</td><td>str</td><td>str</td><td>str</td></tr></thead><tbody><tr><td>&quot;doi:10.1007/jhep02(2013)043&quot;</td><td>&quot;First Evidence For The Annihilation Decay Mode $ {B^{+}}\\to D_s^{+}\\phi $&quot;</td><td>&quot;journal article&quot;</td><td>&quot;omid:br/06301833411&quot;</td></tr></tbody></table></div>"
      ],
      "text/plain": [
       "shape: (1, 4)\n",
       "┌─────────────────────────────┬────────────────────────────┬─────────────────┬─────────────────────┐\n",
       "│ id                          ┆ title                      ┆ type            ┆ omid                │\n",
       "│ ---                         ┆ ---                        ┆ ---             ┆ ---                 │\n",
       "│ str                         ┆ str                        ┆ str             ┆ str                 │\n",
       "╞═════════════════════════════╪════════════════════════════╪═════════════════╪═════════════════════╡\n",
       "│ doi:10.1007/jhep02(2013)043 ┆ First Evidence For The     ┆ journal article ┆ omid:br/06301833411 │\n",
       "│                             ┆ Annihilation Decay Mode $  ┆                 ┆                     │\n",
       "│                             ┆ {B^{+}}\\to D_s^{+}\\phi $   ┆                 ┆                     │\n",
       "└─────────────────────────────┴────────────────────────────┴─────────────────┴─────────────────────┘"
      ]
     },
     "execution_count": 53,
     "metadata": {},
     "output_type": "execute_result"
    }
   ],
   "source": [
    "lf_iim.filter(pl.col('id') == 'doi:10.1007/jhep02(2013)043').collect()"
   ]
  },
  {
   "cell_type": "code",
   "execution_count": 758,
   "metadata": {},
   "outputs": [
    {
     "data": {
      "text/html": [
       "<div><style>\n",
       ".dataframe > thead > tr,\n",
       ".dataframe > tbody > tr {\n",
       "  text-align: right;\n",
       "  white-space: pre-wrap;\n",
       "}\n",
       "</style>\n",
       "<small>shape: (1, 1)</small><table border=\"1\" class=\"dataframe\"><thead><tr><th>len</th></tr><tr><td>u32</td></tr></thead><tbody><tr><td>93159</td></tr></tbody></table></div>"
      ],
      "text/plain": [
       "shape: (1, 1)\n",
       "┌───────┐\n",
       "│ len   │\n",
       "│ ---   │\n",
       "│ u32   │\n",
       "╞═══════╡\n",
       "│ 93159 │\n",
       "└───────┘"
      ]
     },
     "execution_count": 758,
     "metadata": {},
     "output_type": "execute_result"
    }
   ],
   "source": [
    "join = lf_iim.join(dois_isbns_pmids_df.lazy(), on='id', how='inner')\n",
    "join.select(pl.len()).collect()"
   ]
  },
  {
   "cell_type": "code",
   "execution_count": 341,
   "metadata": {},
   "outputs": [
    {
     "data": {
      "text/html": [
       "<div><style>\n",
       ".dataframe > thead > tr,\n",
       ".dataframe > tbody > tr {\n",
       "  text-align: right;\n",
       "  white-space: pre-wrap;\n",
       "}\n",
       "</style>\n",
       "<small>shape: (10, 4)</small><table border=\"1\" class=\"dataframe\"><thead><tr><th>id</th><th>title</th><th>type</th><th>omid</th></tr><tr><td>str</td><td>str</td><td>str</td><td>str</td></tr></thead><tbody><tr><td>&quot;doi:10.1002/widm.1511&quot;</td><td>&quot;A White Paper On Good Research Practices In Benchmarking: The Case Of Cluster Analysis&quot;</td><td>&quot;journal article&quot;</td><td>&quot;omid:br/06510108547&quot;</td></tr><tr><td>&quot;doi:10.1016/j.jmatprotec.2017.10.019&quot;</td><td>&quot;High Throughput Hybrid Laser Assisted Machining Of Sintered Reaction Bonded Silicon Nitride&quot;</td><td>&quot;journal article&quot;</td><td>&quot;omid:br/062503328812&quot;</td></tr><tr><td>&quot;doi:10.1093/annonc/mdw618&quot;</td><td>&quot;Dietary Acrylamide And The Risk Of Pancreatic Cancer In The International Pancreatic Cancer Case–Co…</td><td>&quot;journal article&quot;</td><td>&quot;omid:br/062503328269&quot;</td></tr><tr><td>&quot;doi:10.1093/annonc/mdw430&quot;</td><td>&quot;Short, Full-Dose Adjuvant Chemotherapy (CT) In High-Risk Adult Soft Tissue Sarcomas (STS): Long-Ter…</td><td>&quot;journal article&quot;</td><td>&quot;omid:br/062503328314&quot;</td></tr><tr><td>&quot;doi:10.1093/annonc/mdw649&quot;</td><td>&quot;Nivolumab-induced Cholangitic Liver Disease: A Novel Form Of Serious Liver Injury&quot;</td><td>&quot;journal article&quot;</td><td>&quot;omid:br/062503328245&quot;</td></tr><tr><td>&quot;doi:10.1093/annonc/mdx033&quot;</td><td>&quot;European Cancer Mortality Predictions For The Year 2017, With Focus On Lung Cancer&quot;</td><td>&quot;journal article&quot;</td><td>&quot;omid:br/062503328173&quot;</td></tr><tr><td>&quot;doi:10.1093/annonc/mdw306&quot;</td><td>&quot;Global Trends And Predictions In Ovarian Cancer Mortality&quot;</td><td>&quot;journal article&quot;</td><td>&quot;omid:br/062503328364&quot;</td></tr><tr><td>&quot;doi:10.1002/sim.6576&quot;</td><td>&quot;Exact Optimum Coin Bias In Efron&#x27;s Randomization Procedure&quot;</td><td>&quot;journal article&quot;</td><td>&quot;omid:br/0690744489&quot;</td></tr><tr><td>&quot;doi:10.1057/s41310-020-00071-4&quot;</td><td>&quot;Is The Market Surprised By The Surprise?&quot;</td><td>&quot;journal article&quot;</td><td>&quot;omid:br/0690104274&quot;</td></tr><tr><td>&quot;doi:10.1002/anie.202008644&quot;</td><td>&quot;Tailoring Spectral And Photochemical Properties Of Bioinspired Retinal Mimics By In Silico Engineer…</td><td>&quot;journal article&quot;</td><td>&quot;omid:br/0690109790&quot;</td></tr></tbody></table></div>"
      ],
      "text/plain": [
       "shape: (10, 4)\n",
       "┌────────────────────────────┬────────────────────────────┬─────────────────┬──────────────────────┐\n",
       "│ id                         ┆ title                      ┆ type            ┆ omid                 │\n",
       "│ ---                        ┆ ---                        ┆ ---             ┆ ---                  │\n",
       "│ str                        ┆ str                        ┆ str             ┆ str                  │\n",
       "╞════════════════════════════╪════════════════════════════╪═════════════════╪══════════════════════╡\n",
       "│ doi:10.1002/widm.1511      ┆ A White Paper On Good      ┆ journal article ┆ omid:br/06510108547  │\n",
       "│                            ┆ Research Practices In      ┆                 ┆                      │\n",
       "│                            ┆ Benchmarking: The Case Of  ┆                 ┆                      │\n",
       "│                            ┆ Cluster Analysis           ┆                 ┆                      │\n",
       "│ doi:10.1016/j.jmatprotec.2 ┆ High Throughput Hybrid     ┆ journal article ┆ omid:br/062503328812 │\n",
       "│ 017.10.019                 ┆ Laser Assisted Machining   ┆                 ┆                      │\n",
       "│                            ┆ Of Sintered Reaction       ┆                 ┆                      │\n",
       "│                            ┆ Bonded Silicon Nitride     ┆                 ┆                      │\n",
       "│ doi:10.1093/annonc/mdw618  ┆ Dietary Acrylamide And The ┆ journal article ┆ omid:br/062503328269 │\n",
       "│                            ┆ Risk Of Pancreatic Cancer  ┆                 ┆                      │\n",
       "│                            ┆ In The International       ┆                 ┆                      │\n",
       "│                            ┆ Pancreatic Cancer          ┆                 ┆                      │\n",
       "│                            ┆ Case–Con…                  ┆                 ┆                      │\n",
       "│ doi:10.1093/annonc/mdw430  ┆ Short, Full-Dose Adjuvant  ┆ journal article ┆ omid:br/062503328314 │\n",
       "│                            ┆ Chemotherapy (CT) In       ┆                 ┆                      │\n",
       "│                            ┆ High-Risk Adult Soft       ┆                 ┆                      │\n",
       "│                            ┆ Tissue Sarcomas (STS):     ┆                 ┆                      │\n",
       "│                            ┆ Long-Term…                 ┆                 ┆                      │\n",
       "│ doi:10.1093/annonc/mdw649  ┆ Nivolumab-induced          ┆ journal article ┆ omid:br/062503328245 │\n",
       "│                            ┆ Cholangitic Liver Disease: ┆                 ┆                      │\n",
       "│                            ┆ A Novel Form Of Serious    ┆                 ┆                      │\n",
       "│                            ┆ Liver Injury               ┆                 ┆                      │\n",
       "│ doi:10.1093/annonc/mdx033  ┆ European Cancer Mortality  ┆ journal article ┆ omid:br/062503328173 │\n",
       "│                            ┆ Predictions For The Year   ┆                 ┆                      │\n",
       "│                            ┆ 2017, With Focus On Lung   ┆                 ┆                      │\n",
       "│                            ┆ Cancer                     ┆                 ┆                      │\n",
       "│ doi:10.1093/annonc/mdw306  ┆ Global Trends And          ┆ journal article ┆ omid:br/062503328364 │\n",
       "│                            ┆ Predictions In Ovarian     ┆                 ┆                      │\n",
       "│                            ┆ Cancer Mortality           ┆                 ┆                      │\n",
       "│ doi:10.1002/sim.6576       ┆ Exact Optimum Coin Bias In ┆ journal article ┆ omid:br/0690744489   │\n",
       "│                            ┆ Efron's Randomization      ┆                 ┆                      │\n",
       "│                            ┆ Procedure                  ┆                 ┆                      │\n",
       "│ doi:10.1057/s41310-020-000 ┆ Is The Market Surprised By ┆ journal article ┆ omid:br/0690104274   │\n",
       "│ 71-4                       ┆ The Surprise?              ┆                 ┆                      │\n",
       "│ doi:10.1002/anie.202008644 ┆ Tailoring Spectral And     ┆ journal article ┆ omid:br/0690109790   │\n",
       "│                            ┆ Photochemical Properties   ┆                 ┆                      │\n",
       "│                            ┆ Of Bioinspired Retinal     ┆                 ┆                      │\n",
       "│                            ┆ Mimics By In Silico        ┆                 ┆                      │\n",
       "│                            ┆ Engineeri…                 ┆                 ┆                      │\n",
       "└────────────────────────────┴────────────────────────────┴─────────────────┴──────────────────────┘"
      ]
     },
     "execution_count": 341,
     "metadata": {},
     "output_type": "execute_result"
    }
   ],
   "source": [
    "lf_iim.head(10).collect()"
   ]
  },
  {
   "cell_type": "code",
   "execution_count": 347,
   "metadata": {},
   "outputs": [
    {
     "data": {
      "text/html": [
       "<div><style>\n",
       ".dataframe > thead > tr,\n",
       ".dataframe > tbody > tr {\n",
       "  text-align: right;\n",
       "  white-space: pre-wrap;\n",
       "}\n",
       "</style>\n",
       "<small>shape: (5, 2)</small><table border=\"1\" class=\"dataframe\"><thead><tr><th>iris_id</th><th>id</th></tr><tr><td>i32</td><td>str</td></tr></thead><tbody><tr><td>60422</td><td>&quot;10.1127/0935-1221/2006/0018-0223&quot;</td></tr><tr><td>608164</td><td>&quot;10.1039/d1nr06053h&quot;</td></tr><tr><td>685347</td><td>&quot;10.1097/MEG.0000000000002208&quot;</td></tr><tr><td>177192</td><td>&quot;10.1002/anie.201308459&quot;</td></tr><tr><td>288610</td><td>&quot;10.1001/jama.2010.1910&quot;</td></tr></tbody></table></div>"
      ],
      "text/plain": [
       "shape: (5, 2)\n",
       "┌─────────┬──────────────────────────────────┐\n",
       "│ iris_id ┆ id                               │\n",
       "│ ---     ┆ ---                              │\n",
       "│ i32     ┆ str                              │\n",
       "╞═════════╪══════════════════════════════════╡\n",
       "│ 60422   ┆ 10.1127/0935-1221/2006/0018-0223 │\n",
       "│ 608164  ┆ 10.1039/d1nr06053h               │\n",
       "│ 685347  ┆ 10.1097/MEG.0000000000002208     │\n",
       "│ 177192  ┆ 10.1002/anie.201308459           │\n",
       "│ 288610  ┆ 10.1001/jama.2010.1910           │\n",
       "└─────────┴──────────────────────────────────┘"
      ]
     },
     "execution_count": 347,
     "metadata": {},
     "output_type": "execute_result"
    }
   ],
   "source": [
    "dois_isbns_pmids_df.head()"
   ]
  },
  {
   "cell_type": "code",
   "execution_count": 328,
   "metadata": {},
   "outputs": [
    {
     "data": {
      "text/html": [
       "<div><style>\n",
       ".dataframe > thead > tr,\n",
       ".dataframe > tbody > tr {\n",
       "  text-align: right;\n",
       "  white-space: pre-wrap;\n",
       "}\n",
       "</style>\n",
       "<small>shape: (5, 4)</small><table border=\"1\" class=\"dataframe\"><thead><tr><th>id</th><th>title</th><th>type</th><th>omid</th></tr><tr><td>str</td><td>str</td><td>str</td><td>str</td></tr></thead><tbody><tr><td>&quot;doi:10.1002/widm.1511&quot;</td><td>&quot;A White Paper On Good Research Practices In Benchmarking: The Case Of Cluster Analysis&quot;</td><td>&quot;journal article&quot;</td><td>&quot;omid:br/06510108547&quot;</td></tr><tr><td>&quot;doi:10.1016/j.jmatprotec.2017.10.019&quot;</td><td>&quot;High Throughput Hybrid Laser Assisted Machining Of Sintered Reaction Bonded Silicon Nitride&quot;</td><td>&quot;journal article&quot;</td><td>&quot;omid:br/062503328812&quot;</td></tr><tr><td>&quot;doi:10.1093/annonc/mdw618&quot;</td><td>&quot;Dietary Acrylamide And The Risk Of Pancreatic Cancer In The International Pancreatic Cancer Case–Co…</td><td>&quot;journal article&quot;</td><td>&quot;omid:br/062503328269&quot;</td></tr><tr><td>&quot;doi:10.1093/annonc/mdw430&quot;</td><td>&quot;Short, Full-Dose Adjuvant Chemotherapy (CT) In High-Risk Adult Soft Tissue Sarcomas (STS): Long-Ter…</td><td>&quot;journal article&quot;</td><td>&quot;omid:br/062503328314&quot;</td></tr><tr><td>&quot;doi:10.1093/annonc/mdw649&quot;</td><td>&quot;Nivolumab-induced Cholangitic Liver Disease: A Novel Form Of Serious Liver Injury&quot;</td><td>&quot;journal article&quot;</td><td>&quot;omid:br/062503328245&quot;</td></tr></tbody></table></div>"
      ],
      "text/plain": [
       "shape: (5, 4)\n",
       "┌────────────────────────────┬────────────────────────────┬─────────────────┬──────────────────────┐\n",
       "│ id                         ┆ title                      ┆ type            ┆ omid                 │\n",
       "│ ---                        ┆ ---                        ┆ ---             ┆ ---                  │\n",
       "│ str                        ┆ str                        ┆ str             ┆ str                  │\n",
       "╞════════════════════════════╪════════════════════════════╪═════════════════╪══════════════════════╡\n",
       "│ doi:10.1002/widm.1511      ┆ A White Paper On Good      ┆ journal article ┆ omid:br/06510108547  │\n",
       "│                            ┆ Research Practices In      ┆                 ┆                      │\n",
       "│                            ┆ Benchmarking: The Case Of  ┆                 ┆                      │\n",
       "│                            ┆ Cluster Analysis           ┆                 ┆                      │\n",
       "│ doi:10.1016/j.jmatprotec.2 ┆ High Throughput Hybrid     ┆ journal article ┆ omid:br/062503328812 │\n",
       "│ 017.10.019                 ┆ Laser Assisted Machining   ┆                 ┆                      │\n",
       "│                            ┆ Of Sintered Reaction       ┆                 ┆                      │\n",
       "│                            ┆ Bonded Silicon Nitride     ┆                 ┆                      │\n",
       "│ doi:10.1093/annonc/mdw618  ┆ Dietary Acrylamide And The ┆ journal article ┆ omid:br/062503328269 │\n",
       "│                            ┆ Risk Of Pancreatic Cancer  ┆                 ┆                      │\n",
       "│                            ┆ In The International       ┆                 ┆                      │\n",
       "│                            ┆ Pancreatic Cancer          ┆                 ┆                      │\n",
       "│                            ┆ Case–Con…                  ┆                 ┆                      │\n",
       "│ doi:10.1093/annonc/mdw430  ┆ Short, Full-Dose Adjuvant  ┆ journal article ┆ omid:br/062503328314 │\n",
       "│                            ┆ Chemotherapy (CT) In       ┆                 ┆                      │\n",
       "│                            ┆ High-Risk Adult Soft       ┆                 ┆                      │\n",
       "│                            ┆ Tissue Sarcomas (STS):     ┆                 ┆                      │\n",
       "│                            ┆ Long-Term…                 ┆                 ┆                      │\n",
       "│ doi:10.1093/annonc/mdw649  ┆ Nivolumab-induced          ┆ journal article ┆ omid:br/062503328245 │\n",
       "│                            ┆ Cholangitic Liver Disease: ┆                 ┆                      │\n",
       "│                            ┆ A Novel Form Of Serious    ┆                 ┆                      │\n",
       "│                            ┆ Liver Injury               ┆                 ┆                      │\n",
       "└────────────────────────────┴────────────────────────────┴─────────────────┴──────────────────────┘"
      ]
     },
     "execution_count": 328,
     "metadata": {},
     "output_type": "execute_result"
    }
   ],
   "source": [
    "lf_iim.head().collect()"
   ]
  },
  {
   "cell_type": "code",
   "execution_count": null,
   "metadata": {},
   "outputs": [],
   "source": [
    "#116578 "
   ]
  },
  {
   "cell_type": "code",
   "execution_count": 107,
   "metadata": {},
   "outputs": [
    {
     "name": "stdout",
     "output_type": "stream",
     "text": [
      "117764 articoli provenienti da IRIS su 225042 sono presenti in OM\n",
      "52.3%\n"
     ]
    }
   ],
   "source": [
    "rq1 = lf_iim.select(pl.len()).collect()\n",
    "\n",
    "print(rq1.item(), 'articoli provenienti da IRIS su', len(dois_isbns_pmids), 'sono presenti in OM')\n",
    "print(\"{:.1f}%\".format(rq1.item() / len(dois_isbns_pmids) * 100))"
   ]
  },
  {
   "cell_type": "code",
   "execution_count": 103,
   "metadata": {},
   "outputs": [
    {
     "data": {
      "text/html": [
       "<div><style>\n",
       ".dataframe > thead > tr,\n",
       ".dataframe > tbody > tr {\n",
       "  text-align: right;\n",
       "  white-space: pre-wrap;\n",
       "}\n",
       "</style>\n",
       "<small>shape: (5, 1)</small><table border=\"1\" class=\"dataframe\"><thead><tr><th>id</th></tr><tr><td>str</td></tr></thead><tbody><tr><td>&quot;doi:10.1002/widm.1511&quot;</td></tr><tr><td>&quot;doi:10.1016/j.jmatprotec.2017.10.019&quot;</td></tr><tr><td>&quot;doi:10.1093/annonc/mdw618&quot;</td></tr><tr><td>&quot;doi:10.1093/annonc/mdw430&quot;</td></tr><tr><td>&quot;doi:10.1093/annonc/mdw649&quot;</td></tr></tbody></table></div>"
      ],
      "text/plain": [
       "shape: (5, 1)\n",
       "┌──────────────────────────────────────┐\n",
       "│ id                                   │\n",
       "│ ---                                  │\n",
       "│ str                                  │\n",
       "╞══════════════════════════════════════╡\n",
       "│ doi:10.1002/widm.1511                │\n",
       "│ doi:10.1016/j.jmatprotec.2017.10.019 │\n",
       "│ doi:10.1093/annonc/mdw618            │\n",
       "│ doi:10.1093/annonc/mdw430            │\n",
       "│ doi:10.1093/annonc/mdw649            │\n",
       "└──────────────────────────────────────┘"
      ]
     },
     "execution_count": 103,
     "metadata": {},
     "output_type": "execute_result"
    }
   ],
   "source": [
    "ids_list = (\n",
    "    lf_iim\n",
    "    .select('id')\n",
    ")\n",
    "\n",
    "ids_list.head().collect()"
   ]
  },
  {
   "cell_type": "markdown",
   "metadata": {},
   "source": [
    "### RQ2. Which are the types of publications that are better covered in OpenCitations Meta?"
   ]
  },
  {
   "cell_type": "code",
   "execution_count": 150,
   "metadata": {},
   "outputs": [
    {
     "name": "stdout",
     "output_type": "stream",
     "text": [
      "shape: (16, 2)\n",
      "┌─────────────────────┬────────┐\n",
      "│ type                ┆ len    │\n",
      "│ ---                 ┆ ---    │\n",
      "│ str                 ┆ u32    │\n",
      "╞═════════════════════╪════════╡\n",
      "│ journal article     ┆ 103900 │\n",
      "│ proceedings article ┆ 5584   │\n",
      "│ book chapter        ┆ 4473   │\n",
      "│ no type             ┆ 1424   │\n",
      "│ book                ┆ 917    │\n",
      "│ …                   ┆ …      │\n",
      "│ dataset             ┆ 6      │\n",
      "│ dissertation        ┆ 2      │\n",
      "│ book series         ┆ 1      │\n",
      "│ series              ┆ 1      │\n",
      "│ computer program    ┆ 1      │\n",
      "└─────────────────────┴────────┘\n"
     ]
    }
   ],
   "source": [
    "rq2 = lf_iim.group_by('type').len().sort('len', descending=True).with_columns(pl.col('type').str.replace(r\"^$\", 'no type')).collect()\n",
    "\n",
    "print(rq2)"
   ]
  },
  {
   "cell_type": "markdown",
   "metadata": {},
   "source": [
    "### Index to Parquet"
   ]
  },
  {
   "cell_type": "code",
   "execution_count": 15,
   "metadata": {},
   "outputs": [
    {
     "data": {
      "text/plain": [
       "116007"
      ]
     },
     "execution_count": 15,
     "metadata": {},
     "output_type": "execute_result"
    }
   ],
   "source": [
    "omids_list = (\n",
    "    lf_iim\n",
    "    .select('omid')\n",
    "    .collect()\n",
    ")['omid'].to_list()\n",
    "\n",
    "len(omids_list)"
   ]
  },
  {
   "cell_type": "code",
   "execution_count": 16,
   "metadata": {},
   "outputs": [],
   "source": [
    "index_path = Path('data/oc_index')\n",
    "file_names = [Path(index_path / archive) for archive in os.listdir(index_path)]"
   ]
  },
  {
   "cell_type": "code",
   "execution_count": 27,
   "metadata": {},
   "outputs": [
    {
     "name": "stderr",
     "output_type": "stream",
     "text": [
      "  0%|          | 0/25 [00:00<?, ?it/s]"
     ]
    },
    {
     "name": "stdout",
     "output_type": "stream",
     "text": [
      "data/oc_index/2023_08_03-05T_0_1.zip\n",
      "[########################################] | 100% Completed | 10m 6ss\n"
     ]
    },
    {
     "name": "stderr",
     "output_type": "stream",
     "text": [
      "  4%|▍         | 1/25 [10:06<4:02:40, 606.67s/it]"
     ]
    },
    {
     "name": "stdout",
     "output_type": "stream",
     "text": [
      "data/oc_index/2023_11_25T_0_1.zip\n",
      "[########################################] | 100% Completed | 38.91 s\n"
     ]
    },
    {
     "name": "stderr",
     "output_type": "stream",
     "text": [
      "  8%|▊         | 2/25 [10:46<1:44:40, 273.07s/it]"
     ]
    },
    {
     "name": "stdout",
     "output_type": "stream",
     "text": [
      "data/oc_index/2023_08_20-23T_0_1.zip\n",
      "[########################################] | 100% Completed | 236.61 s\n"
     ]
    },
    {
     "name": "stderr",
     "output_type": "stream",
     "text": [
      " 12%|█▏        | 3/25 [14:43<1:34:04, 256.56s/it]"
     ]
    },
    {
     "name": "stdout",
     "output_type": "stream",
     "text": [
      "data/oc_index/2023_06_05-07T_0_1.zip\n",
      "[########################################] | 100% Completed | 162.50 s\n"
     ]
    },
    {
     "name": "stderr",
     "output_type": "stream",
     "text": [
      " 16%|█▌        | 4/25 [17:26<1:16:51, 219.57s/it]"
     ]
    },
    {
     "name": "stdout",
     "output_type": "stream",
     "text": [
      "data/oc_index/2023_07_13T_0_1.zip\n",
      "[########################################] | 100% Completed | 80.52 s\n"
     ]
    },
    {
     "name": "stderr",
     "output_type": "stream",
     "text": [
      " 20%|██        | 5/25 [18:46<56:31, 169.55s/it]  "
     ]
    },
    {
     "name": "stdout",
     "output_type": "stream",
     "text": [
      "data/oc_index/2023_05_09-14T_0_1.zip\n",
      "[########################################] | 100% Completed | 10m 43s\n"
     ]
    },
    {
     "name": "stderr",
     "output_type": "stream",
     "text": [
      " 24%|██▍       | 6/25 [29:30<1:44:47, 330.90s/it]"
     ]
    },
    {
     "name": "stdout",
     "output_type": "stream",
     "text": [
      "data/oc_index/2023_08_14-16T_0_1.zip\n",
      "[########################################] | 100% Completed | 461.42 s\n"
     ]
    },
    {
     "name": "stderr",
     "output_type": "stream",
     "text": [
      " 28%|██▊       | 7/25 [37:12<1:52:06, 373.69s/it]"
     ]
    },
    {
     "name": "stdout",
     "output_type": "stream",
     "text": [
      "data/oc_index/2023_06_15-18T_0_1.zip\n",
      "[########################################] | 100% Completed | 485.30 s\n"
     ]
    },
    {
     "name": "stderr",
     "output_type": "stream",
     "text": [
      " 32%|███▏      | 8/25 [45:18<1:55:58, 409.32s/it]"
     ]
    },
    {
     "name": "stdout",
     "output_type": "stream",
     "text": [
      "data/oc_index/2023_07-08_31-02T_0_1.zip\n",
      "[########################################] | 100% Completed | 549.97 s\n"
     ]
    },
    {
     "name": "stderr",
     "output_type": "stream",
     "text": [
      " 36%|███▌      | 9/25 [54:28<2:00:54, 453.38s/it]"
     ]
    },
    {
     "name": "stdout",
     "output_type": "stream",
     "text": [
      "data/oc_index/2023_07_17-20T_0_1.zip\n",
      "[########################################] | 100% Completed | 10m 11s\n"
     ]
    },
    {
     "name": "stderr",
     "output_type": "stream",
     "text": [
      " 40%|████      | 10/25 [1:04:40<2:05:33, 502.26s/it]"
     ]
    },
    {
     "name": "stdout",
     "output_type": "stream",
     "text": [
      "data/oc_index/2023_06_04-07T_0_1.zip\n",
      "[########################################] | 100% Completed | 70.17 s\n"
     ]
    },
    {
     "name": "stderr",
     "output_type": "stream",
     "text": [
      " 44%|████▍     | 11/25 [1:05:50<1:26:21, 370.12s/it]"
     ]
    },
    {
     "name": "stdout",
     "output_type": "stream",
     "text": [
      "data/oc_index/2023_09_27T_0_1.zip\n",
      "[########################################] | 100% Completed | 103.17 ms\n"
     ]
    },
    {
     "name": "stderr",
     "output_type": "stream",
     "text": [
      " 48%|████▊     | 12/25 [1:05:51<55:49, 257.63s/it]  "
     ]
    },
    {
     "name": "stdout",
     "output_type": "stream",
     "text": [
      "data/oc_index/2023_05_18-20T_0_1.zip\n",
      "[########################################] | 100% Completed | 237.38 s\n"
     ]
    },
    {
     "name": "stderr",
     "output_type": "stream",
     "text": [
      " 52%|█████▏    | 13/25 [1:09:48<50:18, 251.58s/it]"
     ]
    },
    {
     "name": "stdout",
     "output_type": "stream",
     "text": [
      "data/oc_index/2023_08_08-11T_0_1.zip\n",
      "[########################################] | 100% Completed | 10m 5ss\n"
     ]
    },
    {
     "name": "stderr",
     "output_type": "stream",
     "text": [
      " 56%|█████▌    | 14/25 [1:19:54<1:05:44, 358.55s/it]"
     ]
    },
    {
     "name": "stdout",
     "output_type": "stream",
     "text": [
      "data/oc_index/2023_07_26-29T_0_1.zip\n",
      "[########################################] | 100% Completed | 10m 55s\n"
     ]
    },
    {
     "name": "stderr",
     "output_type": "stream",
     "text": [
      " 60%|██████    | 15/25 [1:30:50<1:14:42, 448.29s/it]"
     ]
    },
    {
     "name": "stdout",
     "output_type": "stream",
     "text": [
      "data/oc_index/2023_05_20-21T_0_1.zip\n",
      "[########################################] | 100% Completed | 57.86 s\n"
     ]
    },
    {
     "name": "stderr",
     "output_type": "stream",
     "text": [
      " 64%|██████▍   | 16/25 [1:31:49<49:37, 330.86s/it]  "
     ]
    },
    {
     "name": "stdout",
     "output_type": "stream",
     "text": [
      "data/oc_index/2023_07_05-08T_0_1.zip\n",
      "[########################################] | 100% Completed | 472.23 s\n"
     ]
    },
    {
     "name": "stderr",
     "output_type": "stream",
     "text": [
      " 68%|██████▊   | 17/25 [1:39:41<49:47, 373.47s/it]"
     ]
    },
    {
     "name": "stdout",
     "output_type": "stream",
     "text": [
      "data/oc_index/2023_08_06-08T_0_1.zip\n",
      "[########################################] | 100% Completed | 540.19 s\n"
     ]
    },
    {
     "name": "stderr",
     "output_type": "stream",
     "text": [
      " 72%|███████▏  | 18/25 [1:48:42<49:25, 423.65s/it]"
     ]
    },
    {
     "name": "stdout",
     "output_type": "stream",
     "text": [
      "data/oc_index/2023_07_24-26T_0_1.zip\n",
      "[########################################] | 100% Completed | 496.67 s\n"
     ]
    },
    {
     "name": "stderr",
     "output_type": "stream",
     "text": [
      " 76%|███████▌  | 19/25 [1:56:59<44:34, 445.69s/it]"
     ]
    },
    {
     "name": "stdout",
     "output_type": "stream",
     "text": [
      "data/oc_index/2023_10_24-28T_0_1.zip\n",
      "[########################################] | 100% Completed | 491.88 s\n"
     ]
    },
    {
     "name": "stderr",
     "output_type": "stream",
     "text": [
      " 80%|████████  | 20/25 [2:05:11<38:19, 459.86s/it]"
     ]
    },
    {
     "name": "stdout",
     "output_type": "stream",
     "text": [
      "data/oc_index/2023_05_22-31T_0_1.zip\n",
      "[########################################] | 100% Completed | 118.35 s\n"
     ]
    },
    {
     "name": "stderr",
     "output_type": "stream",
     "text": [
      " 84%|████████▍ | 21/25 [2:07:10<23:49, 357.44s/it]"
     ]
    },
    {
     "name": "stdout",
     "output_type": "stream",
     "text": [
      "data/oc_index/2023_06_19-27T_0_1.zip\n",
      "[########################################] | 100% Completed | 19m 2ss\n"
     ]
    },
    {
     "name": "stderr",
     "output_type": "stream",
     "text": [
      " 88%|████████▊ | 22/25 [2:26:12<29:39, 593.01s/it]"
     ]
    },
    {
     "name": "stdout",
     "output_type": "stream",
     "text": [
      "data/oc_index/2023_08_17-19T_0_1.zip\n",
      "[########################################] | 100% Completed | 196.92 s\n"
     ]
    },
    {
     "name": "stderr",
     "output_type": "stream",
     "text": [
      " 92%|█████████▏| 23/25 [2:29:30<15:48, 474.25s/it]"
     ]
    },
    {
     "name": "stdout",
     "output_type": "stream",
     "text": [
      "data/oc_index/2023_08_24-27T_0_1.zip\n",
      "[########################################] | 100% Completed | 37.13 s\n"
     ]
    },
    {
     "name": "stderr",
     "output_type": "stream",
     "text": [
      " 96%|█████████▌| 24/25 [2:30:07<05:43, 343.18s/it]"
     ]
    },
    {
     "name": "stdout",
     "output_type": "stream",
     "text": [
      "data/oc_index/2023_06_13-14T_0_1-10.zip\n",
      "[########################################] | 100% Completed | 248.34 s\n"
     ]
    },
    {
     "name": "stderr",
     "output_type": "stream",
     "text": [
      "100%|██████████| 25/25 [2:34:16<00:00, 370.25s/it]\n"
     ]
    }
   ],
   "source": [
    "c = 0\n",
    "for archive in tqdm(file_names):\n",
    "    print(archive)\n",
    "    zip_file = ZipFile(archive)\n",
    "\n",
    "    csvs = ['zip://'+n for n in zip_file.namelist() if n.endswith('.csv')]\n",
    "\n",
    "    c += len(csvs)\n",
    "    ddf = dd.read_csv(csvs, storage_options={'fo': zip_file.filename}, usecols=['id', 'citing', 'cited'])\n",
    "    ddf = ddf[ddf['cited'].isin(omids_list) | ddf['citing'].isin(omids_list)]\n",
    "    ddf.to_parquet('data/index_in_iris/' + zip_file.filename + '.parquet', write_index=False) # 154 mins"
   ]
  },
  {
   "cell_type": "markdown",
   "metadata": {},
   "source": [
    "### RQ 3. What is the amount of citations (according to OpenCitations Index) included in the IRIS publications that are involved in OpenCitations Meta (as citing entity and as cited entity)?"
   ]
  },
  {
   "cell_type": "code",
   "execution_count": 24,
   "metadata": {},
   "outputs": [],
   "source": [
    "iii_path = Path('data/index_in_iris/')\n",
    "\n",
    "iii_glob = glob.glob(str(iii_path / '*' / '*.parquet'))"
   ]
  },
  {
   "cell_type": "code",
   "execution_count": 25,
   "metadata": {},
   "outputs": [
    {
     "name": "stdout",
     "output_type": "stream",
     "text": [
      "shape: (1, 1)\n",
      "┌─────────┐\n",
      "│ len     │\n",
      "│ ---     │\n",
      "│ u32     │\n",
      "╞═════════╡\n",
      "│ 7859226 │\n",
      "└─────────┘\n"
     ]
    },
    {
     "data": {
      "text/html": [
       "<div><style>\n",
       ".dataframe > thead > tr,\n",
       ".dataframe > tbody > tr {\n",
       "  text-align: right;\n",
       "  white-space: pre-wrap;\n",
       "}\n",
       "</style>\n",
       "<small>shape: (5, 3)</small><table border=\"1\" class=\"dataframe\"><thead><tr><th>id</th><th>citing</th><th>cited</th></tr><tr><td>str</td><td>str</td><td>str</td></tr></thead><tbody><tr><td>&quot;oci:062102010944-06403538172&quot;</td><td>&quot;omid:br/062102010944&quot;</td><td>&quot;omid:br/06403538172&quot;</td></tr><tr><td>&quot;oci:062102010936-061901873468&quot;</td><td>&quot;omid:br/062102010936&quot;</td><td>&quot;omid:br/061901873468&quot;</td></tr><tr><td>&quot;oci:061302445980-0620582911&quot;</td><td>&quot;omid:br/061302445980&quot;</td><td>&quot;omid:br/0620582911&quot;</td></tr><tr><td>&quot;oci:062103078814-061903865447&quot;</td><td>&quot;omid:br/062103078814&quot;</td><td>&quot;omid:br/061903865447&quot;</td></tr><tr><td>&quot;oci:06403471424-06703722896&quot;</td><td>&quot;omid:br/06403471424&quot;</td><td>&quot;omid:br/06703722896&quot;</td></tr></tbody></table></div>"
      ],
      "text/plain": [
       "shape: (5, 3)\n",
       "┌───────────────────────────────┬──────────────────────┬──────────────────────┐\n",
       "│ id                            ┆ citing               ┆ cited                │\n",
       "│ ---                           ┆ ---                  ┆ ---                  │\n",
       "│ str                           ┆ str                  ┆ str                  │\n",
       "╞═══════════════════════════════╪══════════════════════╪══════════════════════╡\n",
       "│ oci:062102010944-06403538172  ┆ omid:br/062102010944 ┆ omid:br/06403538172  │\n",
       "│ oci:062102010936-061901873468 ┆ omid:br/062102010936 ┆ omid:br/061901873468 │\n",
       "│ oci:061302445980-0620582911   ┆ omid:br/061302445980 ┆ omid:br/0620582911   │\n",
       "│ oci:062103078814-061903865447 ┆ omid:br/062103078814 ┆ omid:br/061903865447 │\n",
       "│ oci:06403471424-06703722896   ┆ omid:br/06403471424  ┆ omid:br/06703722896  │\n",
       "└───────────────────────────────┴──────────────────────┴──────────────────────┘"
      ]
     },
     "execution_count": 25,
     "metadata": {},
     "output_type": "execute_result"
    }
   ],
   "source": [
    "lf_iii = pl.scan_parquet(iii_glob)\n",
    "print(lf_iii.select(pl.len()).collect())\n",
    "lf_iii.head().collect()"
   ]
  },
  {
   "cell_type": "code",
   "execution_count": 23,
   "metadata": {},
   "outputs": [
    {
     "data": {
      "text/plain": [
       "110931"
      ]
     },
     "execution_count": 23,
     "metadata": {},
     "output_type": "execute_result"
    }
   ],
   "source": [
    "oc_omids_list = (\n",
    "    lf_iim\n",
    "    .select('omid')\n",
    "    .collect()\n",
    ")['omid'].to_list()\n",
    "\n",
    "len(oc_omids_list)"
   ]
  },
  {
   "cell_type": "code",
   "execution_count": 46,
   "metadata": {},
   "outputs": [
    {
     "data": {
      "text/html": [
       "<div><style>\n",
       ".dataframe > thead > tr,\n",
       ".dataframe > tbody > tr {\n",
       "  text-align: right;\n",
       "  white-space: pre-wrap;\n",
       "}\n",
       "</style>\n",
       "<small>shape: (1, 1)</small><table border=\"1\" class=\"dataframe\"><thead><tr><th>len</th></tr><tr><td>u32</td></tr></thead><tbody><tr><td>107704</td></tr></tbody></table></div>"
      ],
      "text/plain": [
       "shape: (1, 1)\n",
       "┌────────┐\n",
       "│ len    │\n",
       "│ ---    │\n",
       "│ u32    │\n",
       "╞════════╡\n",
       "│ 107704 │\n",
       "└────────┘"
      ]
     },
     "execution_count": 46,
     "metadata": {},
     "output_type": "execute_result"
    }
   ],
   "source": [
    "rq3a = (\n",
    "    lf_iii\n",
    "    .select('citing')\n",
    "    .unique()\n",
    "    .filter(\n",
    "        pl.col('citing').is_in(oc_omids_list)\n",
    "    )\n",
    ")\n",
    "\n",
    "citing_list = rq3a.collect()['citing'].to_list()\n",
    "\n",
    "rq3a.head().collect()\n",
    "rq3a.select(pl.len()).collect()"
   ]
  },
  {
   "cell_type": "code",
   "execution_count": 47,
   "metadata": {},
   "outputs": [
    {
     "data": {
      "text/html": [
       "<div><style>\n",
       ".dataframe > thead > tr,\n",
       ".dataframe > tbody > tr {\n",
       "  text-align: right;\n",
       "  white-space: pre-wrap;\n",
       "}\n",
       "</style>\n",
       "<small>shape: (1, 1)</small><table border=\"1\" class=\"dataframe\"><thead><tr><th>len</th></tr><tr><td>u32</td></tr></thead><tbody><tr><td>105135</td></tr></tbody></table></div>"
      ],
      "text/plain": [
       "shape: (1, 1)\n",
       "┌────────┐\n",
       "│ len    │\n",
       "│ ---    │\n",
       "│ u32    │\n",
       "╞════════╡\n",
       "│ 105135 │\n",
       "└────────┘"
      ]
     },
     "execution_count": 47,
     "metadata": {},
     "output_type": "execute_result"
    }
   ],
   "source": [
    "rq3b = (\n",
    "    lf_iii\n",
    "    .select('cited')\n",
    "    .unique()\n",
    "    .filter(\n",
    "        pl.col('cited').is_in(oc_omids_list)\n",
    "    )\n",
    ")\n",
    "\n",
    "cited_list = rq3b.collect()['cited'].to_list()\n",
    "\n",
    "rq3b.head().collect()\n",
    "rq3b.select(pl.len()).collect()"
   ]
  },
  {
   "cell_type": "code",
   "execution_count": 79,
   "metadata": {},
   "outputs": [
    {
     "name": "stdout",
     "output_type": "stream",
     "text": [
      "shape: (1, 1)\n",
      "┌─────────┐\n",
      "│ len     │\n",
      "│ ---     │\n",
      "│ u32     │\n",
      "╞═════════╡\n",
      "│ 4295973 │\n",
      "└─────────┘\n"
     ]
    }
   ],
   "source": [
    "cit_coming_from_iris = (\n",
    "    lf_iii\n",
    "    .filter(\n",
    "        pl.col('citing').is_in(oc_omids_list)\n",
    "    )\n",
    ")\n",
    "\n",
    "print(cit_coming_from_iris.select(pl.len()).collect())"
   ]
  },
  {
   "cell_type": "markdown",
   "metadata": {},
   "source": [
    "### RQ 4. How many of these citations come from and go to publications that are not included in IRIS?"
   ]
  },
  {
   "cell_type": "code",
   "execution_count": 52,
   "metadata": {},
   "outputs": [
    {
     "data": {
      "text/plain": [
       "116007"
      ]
     },
     "execution_count": 52,
     "metadata": {},
     "output_type": "execute_result"
    }
   ],
   "source": [
    "len(oc_omids_list)"
   ]
  },
  {
   "cell_type": "code",
   "execution_count": 26,
   "metadata": {},
   "outputs": [],
   "source": [
    "rq4a = (\n",
    "    lf_iii\n",
    "    .select('citing')\n",
    "    #.unique('cited') ???\n",
    "    .filter(\n",
    "        ~pl.col('citing').is_in(oc_omids_list)\n",
    "    )\n",
    ")"
   ]
  },
  {
   "cell_type": "code",
   "execution_count": 27,
   "metadata": {},
   "outputs": [
    {
     "name": "stdout",
     "output_type": "stream",
     "text": [
      "shape: (1, 1)\n",
      "┌─────────┐\n",
      "│ len     │\n",
      "│ ---     │\n",
      "│ u32     │\n",
      "╞═════════╡\n",
      "│ 3830647 │\n",
      "└─────────┘\n"
     ]
    },
    {
     "data": {
      "text/html": [
       "<div><style>\n",
       ".dataframe > thead > tr,\n",
       ".dataframe > tbody > tr {\n",
       "  text-align: right;\n",
       "  white-space: pre-wrap;\n",
       "}\n",
       "</style>\n",
       "<small>shape: (5, 1)</small><table border=\"1\" class=\"dataframe\"><thead><tr><th>citing</th></tr><tr><td>str</td></tr></thead><tbody><tr><td>&quot;omid:br/062102010944&quot;</td></tr><tr><td>&quot;omid:br/062102010936&quot;</td></tr><tr><td>&quot;omid:br/061302445980&quot;</td></tr><tr><td>&quot;omid:br/062103078814&quot;</td></tr><tr><td>&quot;omid:br/0660213594&quot;</td></tr></tbody></table></div>"
      ],
      "text/plain": [
       "shape: (5, 1)\n",
       "┌──────────────────────┐\n",
       "│ citing               │\n",
       "│ ---                  │\n",
       "│ str                  │\n",
       "╞══════════════════════╡\n",
       "│ omid:br/062102010944 │\n",
       "│ omid:br/062102010936 │\n",
       "│ omid:br/061302445980 │\n",
       "│ omid:br/062103078814 │\n",
       "│ omid:br/0660213594   │\n",
       "└──────────────────────┘"
      ]
     },
     "execution_count": 27,
     "metadata": {},
     "output_type": "execute_result"
    }
   ],
   "source": [
    "print(rq4a.select(pl.len()).collect())\n",
    "rq4a.head().collect()"
   ]
  },
  {
   "cell_type": "code",
   "execution_count": null,
   "metadata": {},
   "outputs": [],
   "source": [
    "rq4b = (\n",
    "    lf_iii\n",
    "    .select('cited')\n",
    "    .filter(\n",
    "        ~pl.col('cited').is_in(oc_omids_list)\n",
    "    )\n",
    ")"
   ]
  },
  {
   "cell_type": "code",
   "execution_count": 116,
   "metadata": {},
   "outputs": [
    {
     "name": "stdout",
     "output_type": "stream",
     "text": [
      "shape: (1, 1)\n",
      "┌─────────┐\n",
      "│ len     │\n",
      "│ ---     │\n",
      "│ u32     │\n",
      "╞═════════╡\n",
      "│ 3939554 │\n",
      "└─────────┘\n"
     ]
    },
    {
     "data": {
      "text/html": [
       "<div><style>\n",
       ".dataframe > thead > tr,\n",
       ".dataframe > tbody > tr {\n",
       "  text-align: right;\n",
       "  white-space: pre-wrap;\n",
       "}\n",
       "</style>\n",
       "<small>shape: (5, 1)</small><table border=\"1\" class=\"dataframe\"><thead><tr><th>cited</th></tr><tr><td>str</td></tr></thead><tbody><tr><td>&quot;omid:br/06703722896&quot;</td></tr><tr><td>&quot;omid:br/06703722887&quot;</td></tr><tr><td>&quot;omid:br/06703722545&quot;</td></tr><tr><td>&quot;omid:br/06703723039&quot;</td></tr><tr><td>&quot;omid:br/06803732245&quot;</td></tr></tbody></table></div>"
      ],
      "text/plain": [
       "shape: (5, 1)\n",
       "┌─────────────────────┐\n",
       "│ cited               │\n",
       "│ ---                 │\n",
       "│ str                 │\n",
       "╞═════════════════════╡\n",
       "│ omid:br/06703722896 │\n",
       "│ omid:br/06703722887 │\n",
       "│ omid:br/06703722545 │\n",
       "│ omid:br/06703723039 │\n",
       "│ omid:br/06803732245 │\n",
       "└─────────────────────┘"
      ]
     },
     "execution_count": 116,
     "metadata": {},
     "output_type": "execute_result"
    }
   ],
   "source": [
    "print(rq4b.select(pl.len()).collect())\n",
    "rq4b.head().collect()"
   ]
  },
  {
   "cell_type": "code",
   "execution_count": 162,
   "metadata": {},
   "outputs": [],
   "source": [
    "rq4 = (\n",
    "    lf_iii\n",
    "    .select('cited', 'citing')\n",
    "    .filter(\n",
    "        ~pl.col('cited').is_in(oc_omids_list),\n",
    "        ~pl.col('citing').is_in(oc_omids_list)\n",
    "    )\n",
    ")"
   ]
  },
  {
   "cell_type": "code",
   "execution_count": 164,
   "metadata": {},
   "outputs": [
    {
     "name": "stdout",
     "output_type": "stream",
     "text": [
      "shape: (1, 1)\n",
      "┌─────┐\n",
      "│ len │\n",
      "│ --- │\n",
      "│ u32 │\n",
      "╞═════╡\n",
      "│ 0   │\n",
      "└─────┘\n"
     ]
    }
   ],
   "source": [
    "print(rq4.select(pl.len()).collect())"
   ]
  },
  {
   "cell_type": "markdown",
   "metadata": {},
   "source": [
    "### RQ 5. How many of these citations involve publications in IRIS as both citing and cited entities?"
   ]
  },
  {
   "cell_type": "code",
   "execution_count": 129,
   "metadata": {},
   "outputs": [],
   "source": [
    "rq5a = (\n",
    "    lf_iii\n",
    "    .select('citing')\n",
    "    .filter(\n",
    "        pl.col('citing').is_in(oc_omids_list)\n",
    "    )\n",
    ")"
   ]
  },
  {
   "cell_type": "code",
   "execution_count": 130,
   "metadata": {},
   "outputs": [
    {
     "name": "stdout",
     "output_type": "stream",
     "text": [
      "shape: (1, 1)\n",
      "┌─────────┐\n",
      "│ len     │\n",
      "│ ---     │\n",
      "│ u32     │\n",
      "╞═════════╡\n",
      "│ 4295973 │\n",
      "└─────────┘\n"
     ]
    },
    {
     "data": {
      "text/html": [
       "<div><style>\n",
       ".dataframe > thead > tr,\n",
       ".dataframe > tbody > tr {\n",
       "  text-align: right;\n",
       "  white-space: pre-wrap;\n",
       "}\n",
       "</style>\n",
       "<small>shape: (5, 1)</small><table border=\"1\" class=\"dataframe\"><thead><tr><th>citing</th></tr><tr><td>str</td></tr></thead><tbody><tr><td>&quot;omid:br/06403471424&quot;</td></tr><tr><td>&quot;omid:br/06403471424&quot;</td></tr><tr><td>&quot;omid:br/06403471424&quot;</td></tr><tr><td>&quot;omid:br/06403471424&quot;</td></tr><tr><td>&quot;omid:br/06403471424&quot;</td></tr></tbody></table></div>"
      ],
      "text/plain": [
       "shape: (5, 1)\n",
       "┌─────────────────────┐\n",
       "│ citing              │\n",
       "│ ---                 │\n",
       "│ str                 │\n",
       "╞═════════════════════╡\n",
       "│ omid:br/06403471424 │\n",
       "│ omid:br/06403471424 │\n",
       "│ omid:br/06403471424 │\n",
       "│ omid:br/06403471424 │\n",
       "│ omid:br/06403471424 │\n",
       "└─────────────────────┘"
      ]
     },
     "execution_count": 130,
     "metadata": {},
     "output_type": "execute_result"
    }
   ],
   "source": [
    "print(rq5a.select(pl.len()).collect())\n",
    "rq5a.head().collect()"
   ]
  },
  {
   "cell_type": "code",
   "execution_count": 121,
   "metadata": {},
   "outputs": [],
   "source": [
    "rq5b = (\n",
    "    lf_iii\n",
    "    .select('cited')\n",
    "    .filter(\n",
    "        pl.col('cited').is_in(oc_omids_list)\n",
    "    )\n",
    ")"
   ]
  },
  {
   "cell_type": "code",
   "execution_count": 122,
   "metadata": {},
   "outputs": [
    {
     "name": "stdout",
     "output_type": "stream",
     "text": [
      "shape: (1, 1)\n",
      "┌─────────┐\n",
      "│ len     │\n",
      "│ ---     │\n",
      "│ u32     │\n",
      "╞═════════╡\n",
      "│ 3919672 │\n",
      "└─────────┘\n"
     ]
    },
    {
     "data": {
      "text/html": [
       "<div><style>\n",
       ".dataframe > thead > tr,\n",
       ".dataframe > tbody > tr {\n",
       "  text-align: right;\n",
       "  white-space: pre-wrap;\n",
       "}\n",
       "</style>\n",
       "<small>shape: (5, 1)</small><table border=\"1\" class=\"dataframe\"><thead><tr><th>cited</th></tr><tr><td>str</td></tr></thead><tbody><tr><td>&quot;omid:br/06403538172&quot;</td></tr><tr><td>&quot;omid:br/061901873468&quot;</td></tr><tr><td>&quot;omid:br/0620582911&quot;</td></tr><tr><td>&quot;omid:br/061903865447&quot;</td></tr><tr><td>&quot;omid:br/06502545532&quot;</td></tr></tbody></table></div>"
      ],
      "text/plain": [
       "shape: (5, 1)\n",
       "┌──────────────────────┐\n",
       "│ cited                │\n",
       "│ ---                  │\n",
       "│ str                  │\n",
       "╞══════════════════════╡\n",
       "│ omid:br/06403538172  │\n",
       "│ omid:br/061901873468 │\n",
       "│ omid:br/0620582911   │\n",
       "│ omid:br/061903865447 │\n",
       "│ omid:br/06502545532  │\n",
       "└──────────────────────┘"
      ]
     },
     "execution_count": 122,
     "metadata": {},
     "output_type": "execute_result"
    }
   ],
   "source": [
    "print(rq5b.select(pl.len()).collect())\n",
    "rq5b.head().collect()"
   ]
  },
  {
   "cell_type": "code",
   "execution_count": 133,
   "metadata": {},
   "outputs": [],
   "source": [
    "rq5 = (\n",
    "    lf_iii\n",
    "    .select('citing', 'cited')\n",
    "    .filter(\n",
    "        pl.col('citing').is_in(oc_omids_list) & pl.col('cited').is_in(oc_omids_list)\n",
    "    )\n",
    ")"
   ]
  },
  {
   "cell_type": "code",
   "execution_count": 134,
   "metadata": {},
   "outputs": [
    {
     "name": "stdout",
     "output_type": "stream",
     "text": [
      "shape: (1, 1)\n",
      "┌────────┐\n",
      "│ len    │\n",
      "│ ---    │\n",
      "│ u32    │\n",
      "╞════════╡\n",
      "│ 356419 │\n",
      "└────────┘\n"
     ]
    },
    {
     "data": {
      "text/html": [
       "<div><style>\n",
       ".dataframe > thead > tr,\n",
       ".dataframe > tbody > tr {\n",
       "  text-align: right;\n",
       "  white-space: pre-wrap;\n",
       "}\n",
       "</style>\n",
       "<small>shape: (5, 2)</small><table border=\"1\" class=\"dataframe\"><thead><tr><th>citing</th><th>cited</th></tr><tr><td>str</td><td>str</td></tr></thead><tbody><tr><td>&quot;omid:br/06801833332&quot;</td><td>&quot;omid:br/06301833698&quot;</td></tr><tr><td>&quot;omid:br/06801833332&quot;</td><td>&quot;omid:br/06201835146&quot;</td></tr><tr><td>&quot;omid:br/06801833332&quot;</td><td>&quot;omid:br/06101850825&quot;</td></tr><tr><td>&quot;omid:br/06140651081&quot;</td><td>&quot;omid:br/061301899117&quot;</td></tr><tr><td>&quot;omid:br/061902028230&quot;</td><td>&quot;omid:br/06230928593&quot;</td></tr></tbody></table></div>"
      ],
      "text/plain": [
       "shape: (5, 2)\n",
       "┌──────────────────────┬──────────────────────┐\n",
       "│ citing               ┆ cited                │\n",
       "│ ---                  ┆ ---                  │\n",
       "│ str                  ┆ str                  │\n",
       "╞══════════════════════╪══════════════════════╡\n",
       "│ omid:br/06801833332  ┆ omid:br/06301833698  │\n",
       "│ omid:br/06801833332  ┆ omid:br/06201835146  │\n",
       "│ omid:br/06801833332  ┆ omid:br/06101850825  │\n",
       "│ omid:br/06140651081  ┆ omid:br/061301899117 │\n",
       "│ omid:br/061902028230 ┆ omid:br/06230928593  │\n",
       "└──────────────────────┴──────────────────────┘"
      ]
     },
     "execution_count": 134,
     "metadata": {},
     "output_type": "execute_result"
    }
   ],
   "source": [
    "print(rq5.select(pl.len()).collect())\n",
    "rq5.head().collect()"
   ]
  },
  {
   "cell_type": "markdown",
   "metadata": {},
   "source": [
    "---\n",
    "\n",
    "### Further usage"
   ]
  },
  {
   "cell_type": "code",
   "execution_count": 10,
   "metadata": {},
   "outputs": [
    {
     "data": {
      "text/html": [
       "<div><style>\n",
       ".dataframe > thead > tr,\n",
       ".dataframe > tbody > tr {\n",
       "  text-align: right;\n",
       "  white-space: pre-wrap;\n",
       "}\n",
       "</style>\n",
       "<small>shape: (117_764, 5)</small><table border=\"1\" class=\"dataframe\"><thead><tr><th>id</th><th>title</th><th>type</th><th>omid</th><th>iris_id</th></tr><tr><td>str</td><td>str</td><td>str</td><td>str</td><td>i32</td></tr></thead><tbody><tr><td>&quot;doi:10.1002/wi…</td><td>&quot;A White Paper …</td><td>&quot;journal articl…</td><td>&quot;omid:br/065101…</td><td>776472</td></tr><tr><td>&quot;doi:10.1093/an…</td><td>&quot;European Cance…</td><td>&quot;journal articl…</td><td>&quot;omid:br/062503…</td><td>388298</td></tr><tr><td>&quot;doi:10.1016/j.…</td><td>&quot;High Throughpu…</td><td>&quot;journal articl…</td><td>&quot;omid:br/062503…</td><td>320811</td></tr><tr><td>&quot;doi:10.1093/an…</td><td>&quot;Global Trends …</td><td>&quot;journal articl…</td><td>&quot;omid:br/062503…</td><td>632727</td></tr><tr><td>&quot;doi:10.1093/an…</td><td>&quot;Short, Full-Do…</td><td>&quot;journal articl…</td><td>&quot;omid:br/062503…</td><td>301915</td></tr><tr><td>&hellip;</td><td>&hellip;</td><td>&hellip;</td><td>&hellip;</td><td>&hellip;</td></tr><tr><td>&quot;doi:10.1002/si…</td><td>&quot;Relational Eve…</td><td>&quot;journal articl…</td><td>&quot;omid:br/069074…</td><td>311099</td></tr><tr><td>&quot;doi:10.1016/j.…</td><td>&quot;Effects Of New…</td><td>&quot;journal articl…</td><td>&quot;omid:br/069074…</td><td>54217</td></tr><tr><td>&quot;doi:10.1016/j.…</td><td>&quot;Nonhypoellipti…</td><td>&quot;journal articl…</td><td>&quot;omid:br/069074…</td><td>130283</td></tr><tr><td>&quot;doi:10.1109/41…</td><td>&quot;Matrix Convert…</td><td>&quot;journal articl…</td><td>&quot;omid:br/069074…</td><td>643741</td></tr><tr><td>&quot;doi:10.1016/j.…</td><td>&quot;Diphenylcycloh…</td><td>&quot;journal articl…</td><td>&quot;omid:br/069074…</td><td>57612</td></tr></tbody></table></div>"
      ],
      "text/plain": [
       "shape: (117_764, 5)\n",
       "┌───────────────────────┬───────────────────────┬─────────────────┬──────────────────────┬─────────┐\n",
       "│ id                    ┆ title                 ┆ type            ┆ omid                 ┆ iris_id │\n",
       "│ ---                   ┆ ---                   ┆ ---             ┆ ---                  ┆ ---     │\n",
       "│ str                   ┆ str                   ┆ str             ┆ str                  ┆ i32     │\n",
       "╞═══════════════════════╪═══════════════════════╪═════════════════╪══════════════════════╪═════════╡\n",
       "│ doi:10.1002/widm.1511 ┆ A White Paper On Good ┆ journal article ┆ omid:br/06510108547  ┆ 776472  │\n",
       "│                       ┆ Research P…           ┆                 ┆                      ┆         │\n",
       "│ doi:10.1093/annonc/md ┆ European Cancer       ┆ journal article ┆ omid:br/062503328173 ┆ 388298  │\n",
       "│ x033                  ┆ Mortality Predic…     ┆                 ┆                      ┆         │\n",
       "│ doi:10.1016/j.jmatpro ┆ High Throughput       ┆ journal article ┆ omid:br/062503328812 ┆ 320811  │\n",
       "│ tec.2017.10…          ┆ Hybrid Laser Ass…     ┆                 ┆                      ┆         │\n",
       "│ doi:10.1093/annonc/md ┆ Global Trends And     ┆ journal article ┆ omid:br/062503328364 ┆ 632727  │\n",
       "│ w306                  ┆ Predictions In…       ┆                 ┆                      ┆         │\n",
       "│ doi:10.1093/annonc/md ┆ Short, Full-Dose      ┆ journal article ┆ omid:br/062503328314 ┆ 301915  │\n",
       "│ w430                  ┆ Adjuvant Chemot…      ┆                 ┆                      ┆         │\n",
       "│ …                     ┆ …                     ┆ …               ┆ …                    ┆ …       │\n",
       "│ doi:10.1002/sim.7247  ┆ Relational Event      ┆ journal article ┆ omid:br/0690743876   ┆ 311099  │\n",
       "│                       ┆ Models For Long…      ┆                 ┆                      ┆         │\n",
       "│ doi:10.1016/j.bmc.200 ┆ Effects Of New        ┆ journal article ┆ omid:br/0690748197   ┆ 54217   │\n",
       "│ 4.08.012              ┆ Ubiquinone-Imidaz…    ┆                 ┆                      ┆         │\n",
       "│ doi:10.1016/j.nonrwa. ┆ Nonhypoellipticity    ┆ journal article ┆ omid:br/0690748601   ┆ 130283  │\n",
       "│ 2010.10.003           ┆ And Compariso…        ┆                 ┆                      ┆         │\n",
       "│ doi:10.1109/41.993270 ┆ Matrix Converter      ┆ journal article ┆ omid:br/0690746780   ┆ 643741  │\n",
       "│                       ┆ Modulation Stra…      ┆                 ┆                      ┆         │\n",
       "│ doi:10.1016/j.bmc.200 ┆ Diphenylcyclohexylami ┆ journal article ┆ omid:br/0690748006   ┆ 57612   │\n",
       "│ 4.11.043              ┆ ne Derivati…          ┆                 ┆                      ┆         │\n",
       "└───────────────────────┴───────────────────────┴─────────────────┴──────────────────────┴─────────┘"
      ]
     },
     "execution_count": 10,
     "metadata": {},
     "output_type": "execute_result"
    }
   ],
   "source": [
    "from src.read_meta import read_meta\n",
    "from src.read_iris import read_iris\n",
    "\n",
    "iim_df = read_meta('data/iris_in_meta')\n",
    "iim_df.collect()"
   ]
  },
  {
   "cell_type": "code",
   "execution_count": 8,
   "metadata": {},
   "outputs": [
    {
     "data": {
      "text/html": [
       "<div><style>\n",
       ".dataframe > thead > tr,\n",
       ".dataframe > tbody > tr {\n",
       "  text-align: right;\n",
       "  white-space: pre-wrap;\n",
       "}\n",
       "</style>\n",
       "<small>shape: (201_471, 4)</small><table border=\"1\" class=\"dataframe\"><thead><tr><th>ITEM_ID</th><th>IDE_DOI</th><th>IDE_ISBN</th><th>IDE_PMID</th></tr><tr><td>i32</td><td>str</td><td>str</td><td>str</td></tr></thead><tbody><tr><td>2766</td><td>&quot;10.14411/fp.20…</td><td>null</td><td>&quot;18666414&quot;</td></tr><tr><td>3349</td><td>&quot;10.1016/j.econ…</td><td>null</td><td>null</td></tr><tr><td>3867</td><td>null</td><td>&quot;9788876655746&quot;</td><td>null</td></tr><tr><td>4342</td><td>null</td><td>&quot;8821724038&quot;</td><td>null</td></tr><tr><td>4585</td><td>null</td><td>&quot;9788861328112&quot;</td><td>null</td></tr><tr><td>&hellip;</td><td>&hellip;</td><td>&hellip;</td><td>&hellip;</td></tr><tr><td>724609</td><td>&quot;10.1007/s11244…</td><td>null</td><td>&quot;36405974&quot;</td></tr><tr><td>724546</td><td>null</td><td>&quot;9788859622994&quot;</td><td>null</td></tr><tr><td>724623</td><td>&quot;10.3390/vetsci…</td><td>null</td><td>&quot;36669046&quot;</td></tr><tr><td>724249</td><td>null</td><td>&quot;9788898392117&quot;</td><td>null</td></tr><tr><td>724483</td><td>null</td><td>&quot;9788813309626&quot;</td><td>null</td></tr></tbody></table></div>"
      ],
      "text/plain": [
       "shape: (201_471, 4)\n",
       "┌─────────┬───────────────────────────────┬───────────────┬──────────┐\n",
       "│ ITEM_ID ┆ IDE_DOI                       ┆ IDE_ISBN      ┆ IDE_PMID │\n",
       "│ ---     ┆ ---                           ┆ ---           ┆ ---      │\n",
       "│ i32     ┆ str                           ┆ str           ┆ str      │\n",
       "╞═════════╪═══════════════════════════════╪═══════════════╪══════════╡\n",
       "│ 2766    ┆ 10.14411/fp.2008.015          ┆ null          ┆ 18666414 │\n",
       "│ 3349    ┆ 10.1016/j.econlet.2011.12.096 ┆ null          ┆ null     │\n",
       "│ 3867    ┆ null                          ┆ 9788876655746 ┆ null     │\n",
       "│ 4342    ┆ null                          ┆ 8821724038    ┆ null     │\n",
       "│ 4585    ┆ null                          ┆ 9788861328112 ┆ null     │\n",
       "│ …       ┆ …                             ┆ …             ┆ …        │\n",
       "│ 724609  ┆ 10.1007/s11244-022-01651-0    ┆ null          ┆ 36405974 │\n",
       "│ 724546  ┆ null                          ┆ 9788859622994 ┆ null     │\n",
       "│ 724623  ┆ 10.3390/vetsci10010045        ┆ null          ┆ 36669046 │\n",
       "│ 724249  ┆ null                          ┆ 9788898392117 ┆ null     │\n",
       "│ 724483  ┆ null                          ┆ 9788813309626 ┆ null     │\n",
       "└─────────┴───────────────────────────────┴───────────────┴──────────┘"
      ]
     },
     "execution_count": 8,
     "metadata": {},
     "output_type": "execute_result"
    }
   ],
   "source": [
    "iris_df"
   ]
  }
 ],
 "metadata": {
  "kernelspec": {
   "display_name": "Python 3",
   "language": "python",
   "name": "python3"
  },
  "language_info": {
   "codemirror_mode": {
    "name": "ipython",
    "version": 3
   },
   "file_extension": ".py",
   "mimetype": "text/x-python",
   "name": "python",
   "nbconvert_exporter": "python",
   "pygments_lexer": "ipython3",
   "version": "3.11.8"
  }
 },
 "nbformat": 4,
 "nbformat_minor": 2
}
